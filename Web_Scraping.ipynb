{
  "nbformat": 4,
  "nbformat_minor": 0,
  "metadata": {
    "colab": {
      "name": "Web Scraping.ipynb",
      "provenance": []
    },
    "kernelspec": {
      "name": "python3",
      "display_name": "Python 3"
    },
    "language_info": {
      "name": "python"
    }
  },
  "cells": [
    {
      "cell_type": "markdown",
      "source": [
        "# BeautifulSoup\n",
        "### BeautifulSoup is a python library used to pull data from the HTML and XML files\n",
        "\n",
        "\n",
        "---Importing required libraries---"
      ],
      "metadata": {
        "id": "gpq3axx8BgTL"
      }
    },
    {
      "cell_type": "code",
      "execution_count": null,
      "metadata": {
        "id": "0KuOgMiEN3Ot"
      },
      "outputs": [],
      "source": [
        "from bs4 import BeautifulSoup"
      ]
    },
    {
      "cell_type": "code",
      "source": [
        "import csv"
      ],
      "metadata": {
        "id": "srQlOVYm5qW9"
      },
      "execution_count": 69,
      "outputs": []
    },
    {
      "cell_type": "code",
      "source": [
        "import requests"
      ],
      "metadata": {
        "id": "8-GSCCj71Gs7"
      },
      "execution_count": null,
      "outputs": []
    },
    {
      "cell_type": "markdown",
      "source": [
        "### To parse a document, we need to pass it to the `BeautifulSoup` constructor either in the form of a string or a file"
      ],
      "metadata": {
        "id": "iTf2cfXUC8N7"
      }
    },
    {
      "cell_type": "markdown",
      "source": [
        "#### BeautifulSoup supports various parsers like `html.parser`, `html5lib`, `xml`, `lxml`"
      ],
      "metadata": {
        "id": "19HrbJuWB90H"
      }
    },
    {
      "cell_type": "code",
      "source": [
        "with open('simple.html') as html_file:\n",
        "  soup=BeautifulSoup(html_file,'lxml')"
      ],
      "metadata": {
        "id": "zC9eD5lx1Gxj"
      },
      "execution_count": null,
      "outputs": []
    },
    {
      "cell_type": "code",
      "source": [
        "print(soup.prettify())"
      ],
      "metadata": {
        "id": "lLWZ2ZxX1G1w"
      },
      "execution_count": null,
      "outputs": []
    },
    {
      "cell_type": "code",
      "source": [
        "print(soup.title)"
      ],
      "metadata": {
        "colab": {
          "base_uri": "https://localhost:8080/"
        },
        "id": "lzH1BUIS1G5c",
        "outputId": "21ab049b-60f8-4926-be97-830d1dcc00f1"
      },
      "execution_count": null,
      "outputs": [
        {
          "output_type": "stream",
          "name": "stdout",
          "text": [
            "<title>Test - A Sample Website</title>\n"
          ]
        }
      ]
    },
    {
      "cell_type": "code",
      "source": [
        "print(soup.title.text)"
      ],
      "metadata": {
        "colab": {
          "base_uri": "https://localhost:8080/"
        },
        "id": "qPW4bZOP1G8K",
        "outputId": "b3579d7b-8bd5-45db-cca0-3ec9852bb9b4"
      },
      "execution_count": null,
      "outputs": [
        {
          "output_type": "stream",
          "name": "stdout",
          "text": [
            "Test - A Sample Website\n"
          ]
        }
      ]
    },
    {
      "cell_type": "code",
      "source": [
        "print(soup.div) #gets us the first div tag"
      ],
      "metadata": {
        "colab": {
          "base_uri": "https://localhost:8080/"
        },
        "id": "zXROLdYr1G_A",
        "outputId": "7aa9e0f8-175c-4edf-af7f-eae1ba37581e"
      },
      "execution_count": null,
      "outputs": [
        {
          "output_type": "stream",
          "name": "stdout",
          "text": [
            "<div class=\"article\">\n",
            "<h2><a href=\"article_1.html\">Article 1 Headline</a></h2>\n",
            "<p>This is a summary of article 1</p>\n",
            "</div>\n"
          ]
        }
      ]
    },
    {
      "cell_type": "markdown",
      "source": [
        "## with `find` method we can narrow down our search to the particular *tag* we are looking for"
      ],
      "metadata": {
        "id": "-AsR3gb6-TH-"
      }
    },
    {
      "cell_type": "code",
      "source": [
        "match=soup.find(\"div\",class_='footer') #gets us div with class footer, similarly if we wantwed to search by id, we could have given id\n",
        "print(match)"
      ],
      "metadata": {
        "colab": {
          "base_uri": "https://localhost:8080/"
        },
        "id": "rs0uKBSR1HC0",
        "outputId": "7199f8d3-fde1-415b-e45b-613b6fece9a5"
      },
      "execution_count": null,
      "outputs": [
        {
          "output_type": "stream",
          "name": "stdout",
          "text": [
            "<div class=\"footer\">\n",
            "<p>Footer Information</p>\n",
            "</div>\n"
          ]
        }
      ]
    },
    {
      "cell_type": "markdown",
      "source": [
        "## now, from our sample website we want to search for that `div` which has the *Article 1* info"
      ],
      "metadata": {
        "id": "5ZkNtd2o_m-W"
      }
    },
    {
      "cell_type": "code",
      "source": [
        "article=soup.find(\"div\",class_='article')\n",
        "print(article)"
      ],
      "metadata": {
        "colab": {
          "base_uri": "https://localhost:8080/"
        },
        "id": "Ipihe4SV1HGb",
        "outputId": "da22f8de-1caf-45a5-cc38-f72e6e0498fb"
      },
      "execution_count": null,
      "outputs": [
        {
          "output_type": "stream",
          "name": "stdout",
          "text": [
            "<div class=\"article\">\n",
            "<h2><a href=\"article_1.html\">Article 1 Headline</a></h2>\n",
            "<p>This is a summary of article 1</p>\n",
            "</div>\n"
          ]
        }
      ]
    },
    {
      "cell_type": "code",
      "source": [
        "print(article.h2.text)\n",
        "#or\n",
        "print(article.h2.a.text)"
      ],
      "metadata": {
        "colab": {
          "base_uri": "https://localhost:8080/"
        },
        "id": "8QEf30OxAKlz",
        "outputId": "9cb02bf1-f88d-4be4-b794-d8c219454d16"
      },
      "execution_count": null,
      "outputs": [
        {
          "output_type": "stream",
          "name": "stdout",
          "text": [
            "Article 1 Headline\n",
            "Article 1 Headline\n"
          ]
        }
      ]
    },
    {
      "cell_type": "code",
      "source": [
        "article.p.text"
      ],
      "metadata": {
        "colab": {
          "base_uri": "https://localhost:8080/",
          "height": 35
        },
        "id": "cCL_BJYU1HJh",
        "outputId": "9e859575-5697-424f-c6f8-75e8a23a283e"
      },
      "execution_count": null,
      "outputs": [
        {
          "output_type": "execute_result",
          "data": {
            "text/plain": [
              "'This is a summary of article 1'"
            ],
            "application/vnd.google.colaboratory.intrinsic+json": {
              "type": "string"
            }
          },
          "metadata": {},
          "execution_count": 12
        }
      ]
    },
    {
      "cell_type": "markdown",
      "source": [
        "## using `find_all()` to fetch the list of tags that matches our result\n"
      ],
      "metadata": {
        "id": "Pm5YQBbYDYRT"
      }
    },
    {
      "cell_type": "code",
      "source": [
        "article_all=soup.find_all(\"div\",class_='article')\n",
        "print(article_all)      #returns the list of tags, so we can use a for loop on this"
      ],
      "metadata": {
        "colab": {
          "base_uri": "https://localhost:8080/"
        },
        "id": "lkskMQom1HMR",
        "outputId": "3442849f-142b-4cd7-f7c9-9c0a0376981a"
      },
      "execution_count": null,
      "outputs": [
        {
          "output_type": "stream",
          "name": "stdout",
          "text": [
            "[<div class=\"article\">\n",
            "<h2><a href=\"article_1.html\">Article 1 Headline</a></h2>\n",
            "<p>This is a summary of article 1</p>\n",
            "</div>, <div class=\"article\">\n",
            "<h2><a href=\"article_2.html\">Article 2 Headline</a></h2>\n",
            "<p>This is a summary of article 2</p>\n",
            "</div>]\n"
          ]
        }
      ]
    },
    {
      "cell_type": "code",
      "source": [
        "for article in soup.find_all(\"div\",class_='article'):\n",
        "  print(article.h2.a.text)\n",
        "  print(article.p.text)\n",
        "  print('----------------------------')"
      ],
      "metadata": {
        "colab": {
          "base_uri": "https://localhost:8080/"
        },
        "id": "Jzw9kJMz1HO9",
        "outputId": "c41934d7-6649-44bd-9cea-29434d6d0901"
      },
      "execution_count": null,
      "outputs": [
        {
          "output_type": "stream",
          "name": "stdout",
          "text": [
            "Article 1 Headline\n",
            "This is a summary of article 1\n",
            "----------------------------\n",
            "Article 2 Headline\n",
            "This is a summary of article 2\n",
            "----------------------------\n"
          ]
        }
      ]
    },
    {
      "cell_type": "markdown",
      "source": [
        "## getting the source code from [this website](https://coreyms.com/) using `request` library\n",
        "> The `request` module in python is used to send the http requests, the http requests returns a response object"
      ],
      "metadata": {
        "id": "a83mT0UsGe6D"
      }
    },
    {
      "cell_type": "code",
      "source": [
        "source=requests.get('https://coreyms.com/').text"
      ],
      "metadata": {
        "id": "DOuKnf951HTa"
      },
      "execution_count": null,
      "outputs": []
    },
    {
      "cell_type": "markdown",
      "source": [
        "## The `request.get()` returns a *response object* and to get the *source code* from that response object we use `.text` attribute."
      ],
      "metadata": {
        "id": "G0Wo5-ZYGzCV"
      }
    },
    {
      "cell_type": "markdown",
      "source": [
        "### The website looks like this:\n",
        "![Screenshot (550).png](data:image/png;base64,iVBORw0KGgoAAAANSUhEUgAAA+AAAAI6CAYAAACn9SKAAAAAAXNSR0IArs4c6QAAAARnQU1BAACxjwv8YQUAAAAJcEhZcwAADsMAAA7DAcdvqGQAAAAhdEVYdENyZWF0aW9uIFRpbWUAMjAyMjowODoyMCAxNzoxNjoyNMSNi60AAP94SURBVHhe7J0LQFfl/f/flqKmlCldsIvfsrAWdMO2oDZtK3Cb2BLbBrUJrcnapFr465/ahmyprYnbxF10lbAl7KKuxC34VhNXQVvQRegilX3tApZgFpqCpv/n85xzvt/zvfLl9hXw/arH7znPee7Pcw7P+zyXM+SIAoQQQgghhBBCCOlTjjN/CSGEEEIIIYQQ0odQgBNCCCGEEEIIIRGAApwQQgghhBBCCIkAQ76Z/SOuASeEEEIIIYQQQvoYjoATQgghhBBCCCERgAKcEEIIIYQQQgiJABTghBBCCCGEEEJIBKAAJ4QQQgghhBBCIgAFOCGEEEIIIYQQEgEowAkhhBBCCCGEkAhAAU4IIYQQQgghhEQACnBCCCGEEEIIISQCUIATQgghhBBCCCERgAKcEEIIIYQQQgiJAEO+mf2jI+bxgONLyZ/HLTd/EyNHjDBtgN0f7cFvH/wTGl5rNG26zzdv+LoKeyRKytaZNsROTvZN+PIXk8wzg4ZXt+Hny4rMs/AovO9eNL71NlatWWvaDCx+Mi8X8Z+bZJ4Z/PvpGnd+pJwsTh031qt8pA1npM9A2fqN+E/1/0xbQgghhBDgtsUrMTXWPMGneKXsbvzsCXV4y73460QXvrXwEeMSwVfvfgBZF5ygj99/Zi7uelgfHuPcjOUPX4kzzLN9r6/DLQ9UmWe9CNtjlxjwI+DvvNuEb90y121eangNP7r1u4i/MM50MfCRFwGzM2aZZ/0LEZr28h8z5iQtSLtC3r33DVjxLbR3dGB9+ePuMvj5L1fg0vgLvYS3IHkUt1KfFtdOuZrimxBCCCE+TMVPV67E+W95+ljfuuVfwPUP4KfXqcsP30ex48XNuO6kre6yemPivbjNvBI5VJ3dfbN53A+47g48/LADb7jbz1z8HV/Dw3dPNR10ARXWT28xjwNha4+33X0HvqqPwqGflVmEGHRT0EXkiAi/6sorTJuBz8ljxmDEiOHmWf9GxPSwYcP0yO6xisy+kFkYZ8ae5vci6F9PbEbChZO0vQjxt1zvUHwTQgghxJtbrsaYF3xHcavws7nmCDjx5rpx2POW54XE7xfeh9+bx5HjTIw5yTzsB3z1MuD5W7zL4fEH7u7eCPhZ0RhjHvYu/avMIsWAn4IuI4g/XbrctDEQ+8sSLsJvVq3R05vPHH+6tpfp0TIC6Xr3PfztH//UdiKCHGedqe2u/2oKhg49HvsPHMDDj/wNp592insKun26tTXN/XMXnI9JE8/FBXHnaX/vNe3UAlRGqxMvjcdpp8TosGqefxFfSvq8dmNNTQ4UXuKlF+O8c85G3HnnantJ77a3tvulq78INmuE13f0WvK//8B+feybdsFaNmBNV78jJxsv1r+iy0FmL4w92XOLS3mdFD0aZ54Rq8vz0KHP8NjjTnf99Qfuvj3Hq01ZWPm6cNL5+twqJ2lz8lJFBPpf/7GpV5ZLEEIIIWTw8NW778UVL94XXGzLiORZv8HzMT7ulP3yy17GXS1X469XG/1ffPoGiuf+Bo/LsUwV1vY7UXXLMzhl8SV4fqHn2sMxz7gF2m2L7wVEyHr5ceH8xcBdttF3tzvz/Ghx2+IHcEqV/QXFVPzUnj/cjJ/e/R5+9gDU7yXA2efjIj1jXfKl0i9lqkSrQ/XvR4l183PmqK7MRphluvVMb5eR3lNOUmHEytTul+A6+1I/N0cP37z7Y1/e4J6afosqg5hoXHSB0Xa0/YuX4OEMs0zMsoJX3g030h5/psvlXpx/9uk4Q5eFuWzirHuxHPe5y+Sryr/jgZdxim+5vnuHX1y/16PknvoSd0/EWMsNLDcDi0G9CZsIREt8CyKU9326XwtuCzl+ddsbuObqJC0UBRGH138tRR8LIujPOP009/SNzc/U4OZv3qCvnXLKOCz91W+1/Z49H+s4ZbR6165WbScjnhepG1ncyNRkEV0Zs2Yg6Qp1h5uI4Lzh66na3wknnOCOR0aSd36wC/+p+Z8Wolk/nDdgRktPGTcuYJmeM+FsXSaSv0/a9nqNlMsLjedqX9LXpKzqXqrXovW0U0/BK6+/oe1XFa9F/AXe660HGiLUzzn7TNS/to3imxBCCCFhICJwJf768Eost00FfvyBZ4DLPFN4b1PdyyceOBPLLfEtnHA+bpRpxzIlWdbp6n6mC6fcDfzsLeAKmdKuuA0u/L3lTHP68M045eNntCj19vMe7nprnDENXlDXT3mrfwig3y+UKfpGGf11cSfTms8+A3jM6G9/q6wNV5juHWcDf9d5nYvijy/WZf3Vu6/2uFXmjYkPGPlXAnSMuUTglgcexM/mPof3RbSr836//vwWJZJtyxtkarrRrpT4Psmq77l4/qSrcdsTv8Etz+zUwvdbltj1yrvPiPpJJ2KPu7y2YszUYHUhMzrsZabauGqmVvlLezt/pTmd3VZf4u4KWMsNpE0qTwOMQSnAZcTxQEcHRkRF6ZFlo4Lm4qY5d+jzt995Tws/MXIsQvD1xrfc7sTISLaFjITLVGGLV5UYPHjwoBaZdS81uEWUjFYfONCujRwLIqDf2r5DuxHTtncfxo4Zg81PG43NMjISLP7+W/ei9ie07v7IPBpYTFRPrw5V/oHK9O0d7+Br112jH45nn3WG3wuFlGu+qK/N//GP9Kiy8MGHu/Dsc8/rYxkl37tvnz7uz8gU85hxJ+v0BqJ554e6bRBCCCGE+PJ4ixKDl9mFhYgV1Z8qewPePQtlr9wa652V0Gn5DR6X6dhaLHmMFklPvAzXSVcaAvXhK+EQLw+3KgEv8YhIegSPv6viFXGpxNiuoH5edov+r57Viuf7jdg0y0jybH9JEIh3tnpGyiWPHxuHrhc8I8aPv/i+LmsH2vC8bSbC79/6BGPOUgcfv4En+q3QrsIuJaZ1fQXgqzFteMOWdskrYqQdtOGVKs/sBtfHbeaRD6Hy/vH7tvJ6BG98PC7MNeFnKr8v20bsxa+ZB3t9qbw9j4vNNnkx8KLPC4ABwKAT4DICLRtgiWATET4l+QvmFQ8i6GSKuhg5FpEkYtA+GmtHhJKISgsZqZXR6V2t6qFlQ0bTranXodi9Zw8uvuiCQbVRnIVM+ZeXEzXPvxCwTEVwy0i+PBy3vvK614ZkUs6P/supr8nLkv40zbwrSL3KVPr3mj/gCDchhBBCus7Dz8B19iyv0e6gKCEko4BfvXucPsYTrRhzuf9GWN4juc/BpW0fUULtEnxV4tF+3wPOmqoFvYx0BvYjAmiccnMzroh5L+gU50giU/btgvu2iecrkewjQq8bF3gd83WXKHtj0MfOVy+LBt5VIlSFYc0SEG6beCL2KPv+zu+r2nCFNYJsITMaFt+Mx1uicb6tbX31sjOAlr4Qsjfj/JNa8fi7SshrgW/gOEmVrR+qDk5SbdE8M/y2mW3OG1nLbrTJf3nNABkoDPrPkNnXgNvXUFs7dVufhBIhaK1XFqz1152tAff1I+FZa6BFQEoarfXogqwXlinYskmc/RNeMsVcRsAtf4K1hlhG4CUeoT+tf7aXiYVVBkKgMhWsT3ZZa+atfAr2+rTKWUbMpcykTkXcyvkDK1ZpN/2BcD9DZl8rb+V5oCwpIIQQQkjk8f4MmcJazy3rlc01t4J8gutG/MszHdi9bttAr6+Ft5173a+IsqmtuMVc1y1hXddytzGN2iccz2esbsZPV47DLpWW/rH+1nudtmdNsy39n36K99/5F+6SNeA2t/Yy9aw/tufVO2xrfbesAXc9YF9j7XHn8XuU8cmTfT+AoGvA31XtyhxtNtZqqzp2h2Os6d51mU/ebe3Ru83a1nHb60el43nddnzKLMB6c2MN+Jn42QPWyLz902q2T/MNIAa0AD/aiMDkd8J7D9/NzO7P/394YWvDgB0JJ4QQQggZnCgR5LMZ28DBV9CZ2EQkIX3JoN6EjQwsrJ3ojTUdK7Fv36cU34QQQggh/YzbFjvwxoAU34QcfTgCTgghhBBCCCGERACOgBNCCCGEEEIIIRGAApwQQgghhBBCCIkAFOCEEEIIIYQQQkgEoAAnhBBCCCGEEEIiAAU4IYQQQgghhBASASjACSGEEEIIIYSQCEABTgghhBBCCCGERAAKcEIIIYQQQgghJAJQgBNCCCGEEEIIIRFgSE3d1iPmMSGEEEIIIYQQQvoIjoATQgghhBBCCCERgAKcEEIIIYQQQgiJABTghBBCCCGEEEJIBKAAJ4QQQgghhBBCIgAFOCGEEEIIIYQQEgEowAkhhBBCCCGEkAhAAU4IIYQQQgghhEQACnBCCCGEEEIIISQCUIATQgghhBBCCCERgAKcEEIIIYQQQgiJABTghBBCCCGEEEJIBKAAJ4QQQgghhBBCIgAFOCGEEEIIIYQQEgEowAkhhBBCCCGEkAhAAU4IIYQQQgghhEQACnBCCCGEEEIIISQCUIATQgghhBBCCCERgAKcEEIIIYQQQgiJABTghBBCCCGEEEJIBKAAJ4QQQgghhBBCIgAFOCGEEEIIIYQQEgEowAkhhBBCCCGEkAhAAU4IIYQQQgghhEQACnBCCCGEEEIIISQCUIATQgghhBBCCCERgAKcEEIIIYQQQgiJAENq6rYeMY8jzgnDhyJ6xDAMG8r3AIQQQgghA4GDhw6j7cBBfNp+yLTpe05o24OTPmzGsIPtpg0hhPSMg8OG4+NTY/Fp9BjTJjIcVeVL8U0IIYQQMrCQvpv04SIJxTchpLeRZ4o8WyLNUVW/FN+EEEIIIQOPSPfhKL4JIX3B0Xi2UAETQgghhBBCCCERgAKcEEIIIYQQQgiJABTghBBCCCGEEEJIBDiqu6BfeXmCeUQIIYQQQgYSz71Qbx71PewzEkL6ikg+ywSOgBNCCCGEEEIIIRGAApwQQgghhBBCCIkAFOCEEEIIIYQQQkgEoAAnhBBCCCGEEEIiAAU4IYQQQgghhBASASjACSGEEEIIIYSQCEABTgghhBBCCCGERAAKcEIIIYQQQgghJAJQgBNCCCGEEEIIIRGAApwQQgghhBBCCIkAFOCEEEIIIYQQQkgEoAAnhBBCCCGEEEIiAAU4IYQQQgghhBASASjACSGEEEIIIYSQCEABTgghhBBCCCGERAAKcEIIIYQQQgghJAJQgBNCCCGEEEIIIRGAApwQQgghhBBCCIkAFOCEEEIIIYQQQkgEoAAnhBBCCCGEEEIiAAU4IYQQQgghhBASASjACSGEEEIIIYSQCEABTgghhBBCCCGERAAKcEIIIYQQQgghJAJQgBNCCCGEEEIIIRGAApwQQgghhBBCCIkAFOCEEEIIIYQQQkgEoAAnhBBCCCGE+PGHP/wBL730knlGCOkNKMAJIYQQQggx2bt3L3Jzc7FgwQJ8+umnpq3BkSNHUFxcjG9+85t47733TNvAHDp0CMuWLcOWLVtMm/DZv3+/jic1NRWTJ0/Gt7/9bWzYsAEHDhwwXXQPSZPL5TLP/PFN88GDB/HZZ5/p467SWVyEHKtQgBNCCCGEEGIiwlFE+PPPP4833njDtDVoaWnB008/jY8//hgffPCBaRuYoUOH4s4778QXv/hF0yY8RPTff//9aG5uxsMPP4wnn3wSv/71r3WaOhP9oZCXB//617+wadMm08af7qbZl3DiIuRYhQKcEEIIIYQQGyeeeCK+/vWvo7a2VotJCxHk55xzDi677DLTBnjllVfwgx/8AFdeeaX2IwLd8vPggw9i69at+limc//73//GL37xC+32nnvuwe7du/U1O+J/+PDhyMvLwxlnnIExY8bg9NNPx3e/+12cd9552s1rr72m45TRcfmVc0FeDBQUFKC6uhq33norkpOTsXbtWv1SoaGhAb/61a/0yLr4++c//4kdO3bggQcewGOPPabT/vLLL3ulWXj33Xcxd+5cnWaZFbBr1y5t39TUhHvvvVfHaWFNWQ8Ul9BZujdv3oxvfOMbqKio0PaEDEYowAkhhBBCCPFBBKcIbhn1Fjo6OlBVVYVrr71WjxRbiED+v//7Py0af/7zn+PPf/4z3n//fX3NPoVbjlevXo3rrrtOjw6PHz8eTz31lL5mIW5k5F3iiIqKMm29kVFwGSGfNWuWHh2XX5k2vnPnTi38Zdq3hC+CtrS0FP/73//w9ttv44ILLtB2Mp1d4pXp7YcPH9bX9+zZo91efPHFftPOy8vL9ai4hCnXf/Ob3+ip8O3t7Whra/N6QWH5DRRXOOmuq6vDH//4R6SkpJghEjL4oAAnhBBCCCHEh1NPPRVnnnkmtm3bps8//PBDPQ3c4XDocwsZpZ44caIW4gkJCTj77LODTk+XUd/LL78cY8eOxVVXXaXDFtFqIeJVxO3xxx9v2vgjo9RXXHEFvvKVr+g4p06dqgWvjDoLMTExesRa0iVplVFzGekeNmwYRo0apUfXTzrpJPdLBBnNlzXtYjdkyBBtZ+eHP/yhDkPSnJaW5hbLoQgUV2fpjo2NxS233IJTTjkFxx1HiUIGL2zdhBBCCCGE+CBiVNZC/+c//9Gj3zU1NVqsini0I2JURohlundSUhIeffRR84o/0dHR5pGBiG37aLMI7xEjRnjZ+SKj62eddZZbLIu4jYuLw759+/S5iF4Jw451LRASZyDhHQjLbajwgtFZukV0U3iTYwG2ckIIIYQQQgJw/vnn6xHf7du3o7GxUQtsO7Jhmkwr/9rXvqanaMvUapl23V1k5FhGiSUcEf2BkJFtWZdtTf2W9d2SNhlx7mvkxYDEK3GJWLYLd0lHKGF+NNNNSH+CApwQQgghhJAAnHDCCXqU9re//a0WmzIt3Y4IUhHhMuosyOZlsk68J8iou6yvls3RZOq4rM+WddKyodnrr7+OSy65RK8Tl7XVck3iE/v4+HgzhNC0trZ26XNmsib7zTff1BvGyXpwKQeZ2i5T0gWZWi7X5DNp8hLCjj2unqabkMECBTghhBBCCCEmIjBlqvjo0aP1uYx6i5D88pe/rDdGk+syxXvkyJHa3c0336zF8g033KBHeGUDNWsNt4xoBzoW5FjWa9s3dBNE9MsO6bL+fM6cOTo8meIuO7OL8BV7ub5u3Tp9TX7nzZund0qXtEk88msh57KuWpC16iKIZf31X/7yFz2KLfH7urenWeKQzdJklF9eMNxxxx06/5L3rKwsvdt5RkaGLo8bb7zR7dc3rq6mm5DBypCauq2erQsjzJWXJ5hHpHdoQWXeLCysm4pl5Ysw1XuZESGd0l5fjOyc1cCcVViTlQDjfT7pfax7NRGL1xUiNca0JoT0LS2VyJu1EHWJi7GuMBW89XrGcy/Um0d9D/uMhJC+IpLPMoECPAwMUbISjYGX4mhGT4hDYmI60jNTkOw4Wsq3HoWTs1GmjjLW1CJv0Pyt2obSzGwsD1UBwRg9ZXAKnPZ6FGXnoMTlwNxVa5CV0DtSuaU8F9MKaoCkfFQUpfWwc9qO+uJs5KxsRFdqLipuNlatyYU7S32U1/AwhfKWveZ5Z4zG9GXlWGS+/WqqzEPmwi3AFN/O/mC9V3uHNlc1nKXrsb6hAa7GVrP9jMaEuEmYlDQdGekpSBg/OF8PtdcXqb83JXA55qr7IMtzH5Deob4Qk7P1nYc1tXngrdczKMAJIYOBSAtwTkEPgzZXXUjxLezd0YgtG5bi9lmpyFxUhSbTnvQCbc1odHVDfAt7XWgNVzsNJFpdaJAy6XChxtVqWvY3OlQyXV0S30JHYwlWVxnfXNUc1bw2oyFs8S3shau1zTxuR3NDnbJRtnUN2NFu2JIQtFSjMGsqrpl1O5Zu2IJGt/gW9mJHYx2cJQXInnEVpmYtQblr8BVqq6sBRnOvUW3JtCSEEELIoIEj4GHgHhVMnI+1y1Iw3rR309akBGIjqkoKUVZndNajUpahcslU9OpYeLsLdY2jkZgQbFxyEI+qtbehLYCSqy+6BrdvUAfB6gZRiI7uxSGklnrU7Y1DoqMfDEvpMund/PXuCLjQjrZAFedHG+oKszFvkyiOCZi7dj2yJhlXNH2Q1/Dw3FMzV2xGbqf3lG8ajfxHRUf7TOfnCLgv1siv8bIzCuOSpmPO9FTEJ8RhvDxI21vh2rENjZWbsHpTDVrFXdRsrKnOHVijmGE8Q9rb2tARFY2IN/djAY6A9yocASeEDAY4At6fiVKdQtWRlk0nvMz4SUhMTkPeqipszE9SXUegw1mI9dsMb72CEt/r52UiZ3UNbGODxw7DA5S7GKuDGqxuerMH21KNJTnZyFnfaFocZXSZ9Pce+nCf+ghs2qqWYoEW31FK+xd5i2+hH+R1eIB0+xvfNBr57++1dNRpKsc8S3xPmI78tZWoLFqA9NRETFLqW5dtjAMJialIX1CEyuoKrMm/C/OLMgaY+A7vGaLbGhsNIYQQMiihAO9lxqflYW6cHDVjtbOX3qa0b0NxTiaW1oQzkkj6hKYqLMq5HRt2mOek91Dia+nSGj3VeELGKixL85/HQAYzLShfWgD9eJuQgTWli5A2qbO5QzFISMtEeuIA2tyBzxBCCCGEKCjAex0ZpTGOOhpdxmi1Ehi5ycnILK5H6BWLsmlVJpKTc1FuLSLX4jsbKxtM8V1TgGmTJ2OyadKLQofZtq0ShXmZSE023E9Nz0Nh5TZYq1SD0uZCdekC5GSmItmMKzk1E3mF5agPMQQvG9ZlqrxmrXeZNi2ok3DSpxppTk5F1oJS1EV0GF820lLxT81DZah4ZbOvzGQk55Z7r+GXjnPuPGyyOs5l2e7ynzw5GbkBA22Dq7oUC3I8ZS95z8wrRHmoApQdeqeqelpUZdRR2zZUFuYhXdlNTs5Ecb1V253kSepvfaF3/JOnIj1nAUqrXZ3Xvx8tqFqk2qbKb2Ynba5LqDIvzLXE11wsyQu083qIvPqWV0s9ylV5ZaYmG3memo4c1d6qXV3PcW9g3Q+d3/uBaEF9eSHybPfg1PQcLCiqxLZQ2ZE2U2S755SRezczbwnWq3s/1C1wVNi2Catr5CAWGQvm9mDTMaudLEKVcfNgW6UqP10Ogeqgm+WrQmmqL0fpEtXOfMo46POxK88Qq03nVfrVVe89X63nUzqmmmlIzbT9bWhT6Q2Shk7p1rPH+tuXBU/W6lC6IMd49qkwklOzsKC0Loz0BMlbeX3X80IIIYT0ARTgEaCtsUYJjA40riw2O4ZBUJ2eYtkxukO5bxSHLpRm28R3AHY02zcpstMO1/o8pN20EGVbGo31koq9O7agbOFNSFMdq2AbxbVUFyoBMwu3L3eizrYJUkdrI7aUFSB72lTkqV5SIEFhbFjXgYaqejTJhkqZM5Aj4ewwN7LqaEWDczlyZmSiyC0m+xpzI629W9DQbFoFotGJksYOdNSo9Fo9tbZqLMq0dZz96IBL1YEXOt+pmHX7cjjrPGUveW/cUoaC7GmqY7seAfePam6ATuomVY5NqiOedhMWlm2BLr4OF1zuwILnqa1qEZKvUfW3tMw7ftnEqs6J5bfPCln/AWmpwfpNspu5asclqh33Sk+2CeXzclAmZRuVhPyiLPjOPDcIUX+28qpS+U6flo0CVV6NngaPOtXe9OaIRXVBOv99h3U/NNZ18aWHee9kF5Rhi+0e3LtDNiFbiJuUGCneFqABycu+VNVmSmz3nELu3cYtG7BU3fvZxb25Nqbn1G9arWpYEZeF9MSezLu22skm9dxqUmI8DTctVOVn3DxwuWzPyu6WrzyT06/CjOwCLJdN4nzKWD8ffZ9tXX2GWG16S4NRLjZ65fnaVoci9/Nph94kUNLQ2mj8bUjNLER1dR02BUlDKLr/7FGiWbnv6GhAVX2T8TdoRg6WO+uMZ5+io7UBzuU5mJFZhKB/OkLlrSAb09IXocoS+IQQQshRggK813Ghvs44iopz6E2sopPSMVMWhkN1ApzBZU+TU3UG5SBqJtKTZAqmA+mrKrF582asmCkXFLLZmDoXOzHPBtnorb4wB5lLt6Ajbjrmr1iLjcptxbpVmD89Tq9R37tlIQor/SVBe30hcm4vM9Zijk5ERv4KrN2o4qpYhzWL70JKnPaNLUszMc89TB8A13osyLkdZY1RSJy7GGvWVaj0bsTaxXOROFpd72hEyYIy9C8pEIDoZMwvl7Jei/nmzAbMXOEufzHr7AuWZURX51sXIBIz8rFi7UblrgLr1izGXSlW+S9F5jyfkXYvqrEkdyG2dMQh5a7FRh2ouKzPW4UiapwDjnETMGXmfCxetQbrKgy/G9euQH5GokqVUf+5XRnJjklCum47UYibnYWpvTDzd1txLgqMoW9krFqGns08L0PBvE3YEWWUl9HeVJmvykeG0eDQWJKDrN4cve8zZNaL2YbM/Pjdg0qorMye55kpo2nC+gXmbAJ9766y1f0qrMifjZQpKchKchjO+wVNcOl7BYhNiVdPvN6hekkuFm7pQFzKXVis7z9VDousZ2V3y1cYjXGOcRgXn4LZ6tm4ygrby696tuXM88zW6OozJBy6+3yV51NWjn7R6P188jwfohrLcPtC2aSs6/TGs8e1foHxNygqEXMXm2FsXIvFcw3/8pWEBWUB/nLIDCZ73tzlYnv27tiEeQXdyxshhBDSW1CA9zJN5YVYqffXicWcFHN7oOGJSJ8Tqw8bip1BROc2OIsb9FHsnHRYA0HujZ+sgSGfzcaCjRc1NDTCMXsVKksXIT15EsYrtzEOlY5Fa7DMeBuALWVOHwG4DWWLyqAHauLnYm3lKuSlJRubIMkGSKmZWFK6EStmTlAOOlBTUIgAGt6guQENrVOQv7EKq7JSkeCIUekdj0mpWVhVPB/x2s1qrK/r/3LIqINxUvSWhbv8fetgW9kiY0RX5XDu2kqsyktD8qTxyl0MHAmpyFxSio0rZirJqUqwpiDgSxCDHWgePhurKkuxJDPV3IgqvNHB4QlZKK1cj8IF6UhNTIAjxkjn+EnJSMtbheL5uvSxo6QMNWEPy8Zg6qJSVNdWozQ30DTxriEvehas1EPfetO1vF742HFU0nzVZo3yMtqbKvNE2RyxEuvmJ+kXHztKVP10861PWbY1nTaYmYq8gOsBukZL+UoYRZOE/HW2+nffg+uQnyRCrwYFhZWekfWWelTpR0gc7iqWezfRVveJSE7LxZLCJUif1POy7j1a0Wi+sHTEjjMOeoEdzcMxW9V76ZJMpOr7z3Ofdrt8NTFIVXaVxUuQq56NiWbYbr9rlhkvW5XflZs8Da0rz5Cw6Obz1f18ivJ9PnmeD5Xr5mOKKN1u0BvPnuaGBrROycfGqlXISjXDGD8JqVke/82r18P3T4fkrcSs1/nrVN7c5eJ59launQ+pWkIIIeRoQgHeFTo60NrWhjZf07QNddXlKMyZihkFxmZSUSl5qqNreBMmpWSFFJ3tdeuxWs/1i0dWShdHQwIgm1mtyU0MMDo+HIlTpxuHDS6v6YU6DdKBUWmYvygLgfvpMUjOy+t8RF86t6WFgUc1HYlI0xvVdWBH0yD60G17HdYbBYj4+YuQFUToxCTnIS/oSxAL1YlckYvEzge8u4wjKR3GQFwV6o/GdEy947XxokdE8/xe2XQtA0VF6Qi8d9dwONJVmesbcAdWb+qrT03IN8DN+bLdpglb1usF0YjPmx9kVsB4pM3PM54nWzbZlgMYI8kDFcf43ttQLWn+CuQGvHl6Ur5hMDwZqenGYXOduQdIX9Cd56v9+ZQX/Pk03JGOwsIM86x3CefZE5WUj9LCtACflJSspcHI2g54/+moxyZ33tTf3iCfeIuelK6eE32TN0IIISRcKMC7Qt1S3HTNNbjG18y4CTm3F5jfAI9C3PRlWOc7NXx8CjKmyEEHNqgOoPfL/zZUlW4wus9TMpDSC3okOSX4KOVw90iqC022HqKr3nh5gMR0hJylqjqZaemGgJS1iAE7mYkpSAqaj9GIMge7ZI35oMFVb0z/VV3M9NAFiOS0dD0iqwowyKZ2Djh6RY/Id6h9XxpZQk1WdEcYr03XMrBqWeCOdncIPbDlQKKhStBRVRdkFkpo5Dvg9mnDgUxpZg8nUbc1ok6PYo9DoiM6QN2ZJlrlR99DNahvNF/oxcQhUU+0acTyrBwUltfB1dLTGSaB2k/npjuxuuwPox7iCHbz9KR8AyHfp/fx2+523od3V3eer2E/nxShb6Yw6d6zJzElKfgzYXSUqjmhDl5/OrbVoSqieSOEEEK6DwV4LzF6Qpxe97ZiXSVKF00N0IGIVqJYK3DAWY5quwJvcqLMWPyNmZmB13RHgo5Wczw8bnynoig2zlzM2LrX3OiGyAZIRgnGYXznBWiOBLVibx8UoN79Pld2d77K/4XRTUtV9/Vo0I66lQtsm67l9WDH664TG2tMX0XQjQtDE853wHucHRF0+qAVJTk+9eZlclBiCpDmVuthMgkZy+YiXgTG3jqUFeRg1rSrzJ2xi1Be39RFYdyGqkWB4u7cZJaGO7ViHKxHid9mhn1Bj8rXwth5PEt2577K3+/tG0xn/Y2uPJ96wFF59kQob4QQQkhvQAHeFZLyUVFbi9oApmp9qV73luwILp+jp2YGnLq9zVkMPSgTO6eHuwATIjO8c5Equ9/XdE9o9hVN5fOQWybd5CjMXNbTTdeIJioOSXGe0d7hk7JQXLkOK+5KQfw4c6hP74xdgoLsGbgmswh1vnoyKFEY53B0Y8AwCuPHhbuIeDwcemNHJXSdDeh3G1T7lK+ewZE+Te883sA3j37012cPIYQQ0p+gAI8kgTZj0+vyjHf38VkpQT7DFBmixhlpQ52r047wjkZjHSVUR7ub+/UcHfqyVxg1DkYJ1sHVeQHCKMFxGN2bBdhWiUJzH4LRiXOxYl0FnvV9YVSRjyTDdcSQTddyzXTJ/gR5yZF/0dTcbGxyiNhx3RCVEUI259IHUchY41NvgUx1KTJ9HxrRDiRnLlFCvBq1z27E2hX5mJ0S795BOmeR78ZiwRiOhCzZeC9AvCFNNYpSw18/kTB9jnHfNBb3/aaMPSzfbWXWDI44TJ+/Bhs3P+vnZ01/XWLsfj41oinI1h094mg+e/o6b4QQQkgvQgEeYXw3Y2urKsUGLQqnIKM3Fn/3AEeCsVM0GstFgwenvRqV643D+KkJ+lNrA4VQ60ybOlXNneBIMHfYbUR56AJEtacAkdCLBdheX2d8yg4zsWRFFpIdMT2fFt1TWiptm67loyiv57uoByL0uxUX6sr15wkQNTXxqL7oComsPTY30Kpy9sIn04aPx6TkNOQuKUblqgxDpGzZhOreW27dcyZNxxytyppRtmRl8G889wY9Kl8XGpzmROe8JViUnoDxYX6ZoF/gfj7VYX1NJ8+60DdTQI7qs2dSIqb2Yd4IIYSQ3oQCPNJ4bca2HuVOo8sSNTMTIT/x7P5+Td8xPDEdc+T7WGjA0rzCIB3hJlQWLO03Lw3CQ3W6U4yjGmdNgF3H2+Fan4fMAnNUPwid1oCe4aALEA1L81AYREk0VRZgqVGAmJKR0mubkAkdHda82Fa49zvyogV1ZesjuAa8CeUFfbPpmjdlWLKoMkDdClK/hSjUA+ATMGe6+XnAfokDSenGWvXmskVYGXK+eLu/gPTsAObH8NHmzlz9jhikzc83xOGOMmRnLkL5ts7G6FtQX16K0uquDnf2pHxlUzHjqK0tcDm3u8qxvto8CUDfP8VDYH8+FS5C8bYgbaWpHHl5Xf9W9tF99iRgujtvhVjvCpa3Sixawu+AE0IIObpQgEecaEzNnGl0xJzLsVzr71jMSU8MOVrg3vSsxgnnthZjR9mmbah3hTeZNDwmIWNRhv5Gte4Ip8pOytXY1qTianGhvrIUCzJnYaEeBZLvN+ch9WjtGNclopE03SzzmgLkLlKdQJeUYQtcdfL5uFTMWroF4yYYHbjAxGC8uVYVVeWokjJRddDiqoeqDjeTMhYhwyhAlGWnIqewHNXbmoy46itRuiATsxY69YZBMhqc18sFGK3aiSEvtqAgt1CPxLeYbaW6vBA5U6chp6ShG4NALahalInkycnILAp35LAd9UW5KNDqexxm5mbA0WGUW2gTXui+7Ni0EDOm2tqsV/2a099nq/rpt8PfBuOn52G21YZU2jMXlKKy3qzHtiZsq6tGeWEuUpOvwlXppZ7lIko45VxzFZJTc7FkfSXqdLtTfvS9W4ycnJXGRlW9POuiVxifhmWrZkPfYjs2oeCmVKTmLsH6yjqzLs18VJejdInkfRqyC9Tzc956dPWjct0uXyXeE8yPSDevXIC80kpPOzPv7WtmFWCT8TWsAIT3DOlL3M+njgasVGXseT61oWmb5DsHU2cUYEs31rf33bMnPCRvul47arB0lpE34zkveZP6yVJ5WxiifgghhJDIQAF+FNAjzcaCNYP4LHT26e+Y5HSkGAoSy2+aZuwoO+MmZM8qRFUvavDhCXlYtSLD6AjrnZRvx00zVFzTZiF74XI4G6X7NBpT5pdi2QDaRWt4ssqXoYxV/34pcmZJGU7DrBz5fFwH4jJWYNWCZH09GAkpc4yXE80bME/KRNXBtFnZuCnH1kkfnoC8VSuQYRQg6soKcPtNM4y4shdiubNRd0BHT5mP0r4YDR6fjkXz4/XLho6GMhTkzMI0s63cXlCGOiTirmXzu74Os6UG6zdJ2jvQWFIc5reRW9FYZ/V2W7FhnpSDUW6hzVXIWt/Vkc0M5C+bjrgOW5t116+oiSjEzV6F4ty+mf7eq6g2lFu8CrN1G1Ll7VyOhdlmPV4zQ7W321FQVoNW1ZBGO8Z59mCIjkas8tLRWoMNSxciR7c75UffuythFEMS8pek99EshJ4xPCEXpRvVvROvV6ujtWYDli7MMevSzMftBVi+wcx7/Ezkl85Bl+czdLd8VctJzF2GmaZ437J8oaed6XvbBcf0ZcjPkHADE9YzpC+R55M77/bn0zWYcZPkuw4dcRlYsbgbC9n76tkTLl71auTNeM5L3qR+GrB3wnQsy+d3wAkhhBxdKMDDINqRqASp6sAnxfXSeudJSMkyxgqEsKYhR0/Fko2rMHdKHKzNjUdPmIKMxVlIcg+ixiJ+iuoujp6CeLvA90XlZ7p2Nh1JATIUo8RqqbmTcmKcZ8OqqHFxKq35WFNRhcJ0R0Ah4y6rREeIz6nF6LKMiorD3BTj28zdJS5lro6v87Xow5GQV4y1qmM5ZYLVpR6NCVMysHhtJUrzkhETn4K5qvMWrFwgO0yvzcfMxAlmpzwK45SfuxakwOvLszHJenRs3Yq7kJLoqS/ZKChOxZe/pgJVhelwBCrA2HgYVRhvbioUjOB17UgvxsZVKu54q+5UOuOmYOb8VaioWoXMqVMwXfudDlVNXgStv5gkpE9Xdab+i5udhalh3QjjkZQxxSZgwmU0HOPssYfXrh1TFykBt0YJoCmI89wkSEy5y/g8YG5iiDYZDCtu/7IKh+D3Qyd5ik5Erm5D8zHTds8Lnk8eblbtKNXT7tUzYlHVZqxbJZuuqXhtnrSfjMVYW1nUv3efl3unuAqb163A/JmqHm3PH5ULTJB2fJd6Bm18FlXFC5DmdROF+fwTulO+QnQyFhSvxWLVxjyPEWljs43nyKKpSFEiO+jfi3CeISGeAb3yfHXnXZ5PtnSoss1YvBaVpXlI7mYb6f6zJ1r9WTLSLN9nD0qM7EqvnkJxcxHwT0eovOWvQcX6RZiaFO4zlhBCCOkbhtTUbT1iHkecKy/vz2sx+5am9VmYsbRB9Q1mYtXmBeDXxwjpBvWFmJwtazozsKY2r+ujoYQQP9qrl+Aq+aB51Gysqc7lfUWC8twLXV0E0n2O5T4jIaRvieSzTOAI+FFhG5zFxieRYuekU3wTQgjpN7isz0xOTfCe3UMICZu6ujpkZWVhz549pg0hhBhQgB8N6jfB+PR3PLI6W/xNCCGE9BLtbW2hN1FsKsdK4w8UpkzpzrINQgYPb7/9NqZPn46ioiLTJjKIeJd4JX4LEfIi6OUaIWRgQwEecdpRV74eshEXpmRgQHzFixBCyMCnvkhvSnZVcipyl5SivNqzy7zsxl5ZugCZs6zPBs7FnIHxmQtC+oxNmzZh3LhxqK2t9RLDkWDnzp146KGHcODAAdOGEDJYoACPNG01WK+/AR2FmZlTObpACCEkMsQmIEV2Ce9oRc2G5Si43bPLvOzGvnC5E/pDF7JbeFEWOD+LHMvIiLOMNn//+9/HWWedha1bt2p7EcT33nsv7r//fj1KPXnyZDz22GP6mjViLnbFxcXazte9HIudjKqLO7t/OxdddBFeeukl/PGPfzRtvPH1L+f2Ke/WKPrrr7+u47S77Uqa5NfXjhDSMyjAI010LOJlF9ek+cji4m9CekbYu8YTQhAzFYtKq7F53Srk3zUTU+LsO8D77BbO2VnkGOett97Sv/Hx8bjiiivw/PPPa5FqsXfvXqxbtw6rVq3CP/7xD/eIdWpqqh4xv/baa02XBiKEH3nkEdx3332orKzEBx98gGeeeQZPPvkk/v3vf/uNsA8ZMgR33nknSkpK/ISvnPv6/9KXvqSvSbolnZImeXlw+PBhfO9739Np+vvf/67dWiK9szQ9/fTT2LBhg/Yn/s8//3yvMiCEdA8K8IgzCZmqA1Rd1AffgCbkWCMmFYVVtf6fiyKEBEU+Z5aWuQCFpaWorK7VHeva2mpUlhYiL62zTzoSMvixBGxiYiLGjBmDiy++WI9Gv/LKK6YLaFE+YsQIjB07FkeOHMEbb7yh3SQnJ+vrZ555pv61uOGGG3RYEraI+YqKClx99dVaqD/77LPYvXu36dKDjDr/5Cc/wc9//nN9nwodHR0B/R86dEint7q6Gs3NzXj33Xd1uj/3uc/p0XsJ68Ybb9QC3RLgnaVJxLu8CBB/MqIuYUmeCSE9gwKcEEIIIYQQExGwIqZl9NkSrjLCLeK2txBhbbz8MoyI50Bcf/31mD17Nu655x40NBhf0BEC+RfxL0J58+bNetp8bGysHi2Xaewyii1G1rQHwzfMKVOm6Kn04i8/P989VZ0Q0jMowAkhhBBCCDGREeOYmBg9FdsSoyJORdxao8e+nHjiidrPe++9p8+DiXUZQZbRcxlht8KSeEIJW5lKPm3aNH0cFRUV1L+sG5eR99/97nfuEXrh0ksv1WJc8tXa2qrt7ARLkxzL7znnnIOCggKdNwpwQnoOBTghhBBCCCEKWYstI8bW9GwLGQ0WysrK9K8vIsBzc3P1dHEZNT/llFNw0kknmVe9kVFtGbGWqd7iVka37dPbfRGBLOu4Tz/9dH0ezL8lpGXdupVea/q8TC0X8T1x4kRt70ugMP/1r3/pXznPycnR+bOXCSGkewypqdt6xDyOOFdenmAeEUIIIYSQgcRzL9SbR30P+4yEkL4iks8ygSPghBBCCCGEEEJIBKAAJ4QMMFpQmTcVk6cuQlWbaUUIIYQQQsgAgFPQw6C9vhjZOSvR2GFadEZUHO5aU4rMSeY5CZMmJawysXALMGXxOhSmDpSP4bSjvjgbOSsbEW4TEaLiZmPVmlwkWJ+Db69HUXYOSlwOzF21BlnuC0eP9voi1fZL0Bg1BYtLC5HaL76dV4/CydmQVXgZa2qR1+XHyEBtZ4QQ0r/gFHRCyGCAU9D7IW2uuvDFt9Dhgmtvu3lCwqa9GQ11e9XBXtQ17FCydqDQgVaXq0viW+hoLMHqqhbzTNHqQoNLhaLaT43Lf5fSyNOETYVKfEvG9m7BwsJKDIoB5wHbzgghhBBCyECHI+Bh0FKei2kFNUDifKxdloLOBwGjEB3dy6OXLfWo2xuHRMfRHxXtPu1w1TVidGICgo45trehraMPyq/PaUdbWzgSvA11hdmYt0kE9gTMXbseWfaZEv0p/9uKkXbTSjSbp0A85m8sRvpRHwXv6Qi4YsC2M0II6T9wBJwQMhjgCHh/JioK46KjVae9M9Pb4rsaS3KykbO+0bQYiCjxvX4eMnNWo8Y26OvH8D4ov4gw3KcNBDZtVUuxQIvvKCTlF3mLb6Hf5L8ddetXG+J7SgYy4uWgAcXObXIw8Bmw7YwQQgghhAxkKMD7O01VWJRzOzbsMM8HJO3YVpyDzKU1XZ6mPahoKsdSswwmZKzCsrR+saA6MG1VKN0gKY3CzMy5mJNhfE+0efV61HHONiGEEEIIId2CAjwCbCvNRHJyJorqgysX2ewqMzkZmcX1Sq6aiPjOnYdNlvguy8bkyZNNk4zcSttQcksl8qZOxtRFVcY63bZtqCzMQ7qym6ziLvaKux1N9eUoXZKHzPSp7jCTUzORV1iO+lAj1BbtTagvL0ReZjqmWmmamo6cBaWodtlXChviO3tlgym+a1AwzXQvJr0InqTJZmZGWXmnVzB3vk5fgmoz+LZtlSjMy0RqshHW1PQ8FFZu63ydcpsL1aULkGPlPTkVmXmFqNxm+GyrWqTyNBV59vLtKe31KMwtQI1W33OxJC8B/uOv1u7eefCNWjYC1O2j1BiBbnNVo3RBjlG/Kg9dqrsw2LZ+NbbIQewcpCcOR/TUTMyMUucdG1Da6dbjvruUt2FbpWorurx92rhJe1M9ylV7tbfHqek5WFBaDa/mFISutYUg7aypHLm+92BAZBO3qUjOLLa1XQ8t6t6yp8W4L4rc7SswUkZFWJBju5+kXWbmYcn6SmzrxaZICCGEEEKOHhTgfU4bmhsa0dHRiJKceShvMq3tKHG2cpFsdtWBxqpG6O232qqxKNMmvv3ogKvZtlFXcwO27AX2bqpDY5MS42k3YWHZFuyQvaZkU7hWa+zZhdL0qzAjuwDLN2xBo3Zg0NHaiC1lBcieEfplQUtdEbKumYHsgjJsadwBdwh7d6DOuRy3z7oGU/MqlQxTsZVm28R3AHY0w500VVayRlzKqs5PdTWjQTK4YwNqXDKdPQ9pNy1E2RZVXqb/vTu2oGzhTUhTcQcqZqFNpT0zdRZuX+5EnZX3jlY0binDwpuU4CmsRnXdJpWnvdjS4Fn93DOaUD4vB2VSl1FJyC/KQuAN8s087t0C36iNjQBV+6ipQ2VxFlJn3Y7lzjqjfhXuups2FXkBG1kXaK/D+tVGw4vPSjHSOjwR6XNitd2WMmfQ8jWw8rEJdY0iVtNw00LVVozGCJer1dYeWlCnyuOaGdkoUO3V3h737qiDc/ntmHVNqJch3WkLgdtZW2MNaqSMVxaH/rxZfRkKVP46Gp1o9KqnFlQXZup7y54W474o0e0rq3hbAHGv2kduqiqjEjjrbPeTtMvGLdiwdCFuyi7GIJn8TwghhBByTEMB3udEY+rcfCTp0cMaFOQW+oya+YizJenGJm/RyZhfvhmbN6/F/ESxUMxcoc7FzjDr/BYQC9VYkrsQWzrikHLXYqzdaLhdNDXavD4a4xzjMC4+BbPzV2DV2o1GeBXrsGbxXUiJUwk1XxYE0jzt9YXIySlBg4iL0YnIUGGsWVehw6hYtwr5GUkYp4LYq4TiDpVPR/oqVEr4K2YaASAR89d68rD52SVwJy1M6gtlOvsWdMRNx/wVa7HRjHv+9DhIMe/dshCFlf4KStKeJZ/UsqXdKJ+NWLsiHxmJUWgsux1KK/Yq24pzUWAMfSNj1TL0aOZ5zXIslBcavum36k5eHBTM8p4d0UXaqkqhZ59jCjJSPImdlJIFYyl4McJdCl69JBcLt3QgLuUuLLba2qKp6q4Q2nVd5pQYL2hGJ2Ygf8UarKuQPFVg3SpVJ0njVJ3uRY0SpoFeCXW3LQQiOindGOWHEu/OYK8Y2lFXvt54gRCfjiSHttTITI/by+RTdFG2/Kp8rFmMu1IkPR1oWJmNeT4vSJrWLzDbx2gkZuRjlXk/bd64FqtUu5ydMgUpWUmwRUUIIYQQQgYoFOBdoaMDrW1taAtpAsiE8WlYtipDyS/FjjLkzDNGhw0BElycDdcbdykBokWBtnBv5iUm8BZSO9A8fDZWVZZiSWYqJo333WwqBqmFlagsXoLctGQkThpvhBfjQEJqJpasWWZONa7Byk0+Kqu9GoU5ZSoGeVcwH+sqVyFPhZHgiNFhxDgSkZZXZAjuzQuQKNG602ylIQpR4yw7ZQJnIiQNDY1wzFbCvnQR0pMnYbwZd/qiNVhmKKgAo7TbULbITHv8XKw1026Uz3hMSk5D3qpKrJs/Rcmg3kNE/4KVOla96VpeL3zbe8LMFaio8km/1F3pRqyYKa2sAzUFy0OP4galCc4yPfkcUTMzvV+OjE+BsRS8GavX1wUUxL7saB6O2apcS5dkItVsa1YJtFcXIsd484Sk+etQuSoPackJcMRInmLgSFR1UlRpiNEFiQHbe/faQhBso/wN62vg0kc+uNfGy950ti8itJRjpbue19nyq/KRkIrMJaVYl5+kRXhNQSE87wRaUF/VoI/i7irGqrw0JJr3U/T4SUhU7TJ3SSGWpE8Kcr8TQgjpbbZv385f/vK3n/wORijAu0LdUtx0zTW4phOzKIDyGZ6QhyLdARdtW4CC8iY0lc/zCJBeEmdAEuavyEViF0eV3QxPRmq6cdhc5zJfFBi0OMvcI6MyUh/0i2giuvtQLcgGZmtyE81RVDvDkTh1unHY4DJ28DZpr1sPY1Z1PPIWZWFSwPQNhyO9EIUZ5mlPaSrHPNsLi/m9selaYj6KFiQH+YxbDJLz8swXKE6st39jPFy2OVGs9WAs5qT7it5oTM2cabThDaVhCfyk+SuQG7Axtiihv8EYSZ6SrwSmI6jAlBdRwa51py2Ewj3K31iMqgCj/C1Vm4y18VEzkWl7O9G0ZT1q5CA+L2g9j0+bjzwd+BZsstWNIecJIYT0F84991z+8pe//eR3MEIB3ttEOeCQOdgBGJ+2DKsyrBHKGZhR0Bc7Yqv4g35kOwDyPWSfUfx299CmXRq0oaFGSwxgZnqXp433JskpgTYwMxjuVv4uNNn0p6ve3IE90XvacCAC114X8dp0LQOrlqWF8f34MFCJC5m+4YmwdGdNTYOqta5g+/RYfBZSAqxwGK7KzxgklmnaAceIvXAEa4xtDSp9xuHMdGtKetfpTlsISchR/iZsWW8kOnZOujHDQ9OGxjpjFHtcogPRPveTx0TDkThOu6upbzTDjkFcojHq3rg8CzmF5ahztYQ1u4AQQgghhAw8KMC7QlI+KmprURvKVJciK+hI9nAk5BUhXy8IN4hSYRYF3BG7L2lBXekCZMkO2lf5j+DfvsF05kW7EhDGUWJC8NHK/kpHqzkGGje+d4RwSJSQXbnAtulaHnplckNYDMf4SXHGoaqwLgk52/TqpLTEIEJyPBLT9WIKNBSWdv+TZPLiRx8kIiHoVIqjgX2Uv9I7f+7ZAfHI8no74bk3Wkty/O4nu8kpMTdObG51vxyZlLEMc+Mlxr2oKytAzqxpuGpyMlKzFqCovB5NVOOEEEIIIYMGCvCIMw4OhzHidVSQkdn0achZ7kSDZ8Np0ovI0oLcMhH8UZi5rIebrkWQJmeZMb1aUbN0VkABKSZbr3VWhPVJsoGHZ5R/A9a782ebHTAlA7a96bpBFOKS4jzLCIZPQlZxJdatuAsp8bLpnNCB1gYnSgqyMeOaTBTVDb5yJoQQQgg5FqEAjyjGN7GNdd8Gsh48t7Cz7w73HtvKrJHZOEyfvwYbNz/rN4q/JuAa6OGINucJ19W7Ipbe3iJqnPnSo7EpvA25uolsupZrW1qQlxzp0d12NG1rNA5DrJ32ZxucxvBulwh7gzNfZJ8AfVCHeld/a02TkJKlF2t78tfegMpNUqtRmJnpO2Xec29EZazxu5/8TTVKM33n90fDkZyJJUqIV9c+i41rVyB/dgriZUdA/VWCRbaN2wghhBBCyECFAjyCyMio8U1s2XRtrbkeXDZGz/H7NFHf4EKD05iKHZe3BIvSEzA+7N3SohGflGQcbljfzR22jx6OBGMDPNStR00nS5eNSdjdoKXStulaHy0tUIkLmb72OlRtMg6TkuJ9hGJw9CZ1xuJvzN8YSDT6mLVzoV9pdOGTZF5Ex6v0GYcb1ld1ca163zM+JQN6KXiD0V7cn2aLnYN0z+JvE1nbbUz776hy+nxmsDvIMoJkpOUuQXHlKmTogt6CTdXd2FSPEEIIIYT0KyjAI4TvyOiytElIdK8Hl03ZclEYpOduTEntDTxrVQN+Lk3R7irH+mrzxIcYJUqs7yQXLFiPoAOXsr7X71pUL+aj6+hpxfp9RwMKFxVjW5C0N5XnIa9b3wFvQnlBH2y65kvdUiworg8iWFtQXVhoCMWoFKRPDXc3vjZUlVo7koc5vXpSEtK1MAz/k2TexCAlw1hrjS0FWLA++KyKdtVoux5+D4meikzd2BtRXFXu/jRbfFYKAn1935GUbuye3lyGRSvrQr5Q8GxyaNEePH/DR8PYto0QQgghhAwGKMC7QljfARfj0522fY5KxNmiudbI6HikLVsFYyB8B8py5sF/IDwG4+NM6aqEQFWTEUeLqx7bujwg5kCCuQFc88oFyCutxDYdXgtc9ZUoXZCJa2YVYJNnhrw3w5ORZ37PvKNmKWal5mDJ+krUu1rMNNWhvDAXqXqt8BLvDaxi45CoD2rgdG5Diy6nJmyrd0Vo9HMSMhaZaW9YiZtU2gvLq838q3RUl6MwZypmFGxB15fGt6O+yPqe+zjMzM2Ao8Oop9CmO7KyAw0rs5GauQCllfVwtUg4Kv2VpViQOQO3b9Dj70jKvyv8neqbnDD0ZaDp1cHwTNMO95NkvgxPzvN8FWDpLKTmLMF6d55Um6xTdZKbaqw9X9Idkd8ThiMxfY4e5W9evRSFenb+FGQEezsxfjryZusbWc9o8a6fNjRtq0N1eSFyU5Nx1VXpKHXPwmhCec41uCo5FblL1qOybhuadNsw7sninBysNGcmTE3oyucNCCGEEEJIf2RITd3WI+ZxxLny8gTzqH/TUp6LaQXmN5PCQgmZVZuxQE9VbUPVgmswzynWSchfV+S/KZcS6LlK+Gr9lrQYFUWpng2ahG3FSL9ppSHg7Uy4C+vWZypZragvxORsGbrNwJraPAQt2bZqLMm6HVqn+RGFuOlLkBG9AAVlKjGy63tRmndaFC11RZiXW4IGPWQamNFTFmNdoT0fUg6pqhz8PU1fthmLtFpsQXnuNCVkJeoKFKXZY65H4eRs6ByuqUVesAy6y0GVdYUqa5/Et6m056i0NwZMu8p/xjLMxu1YaESE2qAR2WnC+qwZWNr1JdSIn78RxelWgwieR3cbTLoLi5O2YOnyuiAvCkZjSn4pCruw89u24jTcJCovdi7WlmcFHOENSFsl8q5ZqDduS1qs6ivVKuww60rTgrqiecgtkaUZwVB5WrwOhV0NP2hbCNXO7HjXa9TMVdi8wPfb6HbaVF5yVF4aQ+RFMXoKFq8rhJEddV8sSsO8TaFe+8gLlXUqneHXKSGERILnXqg3j/qegdJnJIQMPCL5LBM4Ah4G0Y5EWIPQYSHfAh9tddOjERsfh6ioOMxeFWRH7PFpWLZqtopDCcDE8f4jkJOyULw2HzMTJygpIkRhXHwK7lqQYohvITYeU9TF0VPijbW5wYhOxoLitVicMQUTjMCUpwlITJmNxWsrUbpoKlJS5hhpse/UbCMmMRfFmzdiTX4GpsRZaVLocO7CinWbUeUlvoVoTF2yEavmTkGc9Z105X5KxmJkJVk5NtbSSlklOnxLIRbxRgYRHyqDqq6ma2fTkRQg8dEq7aWV67DirhQkWgUQNQ5xUzKM/Ocld2Pq+HgkqfJ0l0PYjIZjnD2f4eQxGomZq1C+bgXuSkl012HUuDhVlvlYU1HVJfEtjFdlNlr9N2Xu9PDFtxA9FVlzzfoa39V8WMQgMbcYmzeuQb4qwzh3o1TeJyQi5a4VWLdZ5cktvoWetoVQ7czOeEzPk/tSyjcF+VmhxLeg6ia3FJWqbubPtLVzQbX1uCkzMX/FOmyussS3oO6LRVXYvG6V3nQtMc7aBV2h/RjtkuKbEEIIIWRwwBFwQrxoR/WSq/S30KNmr0F1bv9oo54R8MCzEgghhJBIwxFwQshggCPghBxVXGg0VxtMTXDPLyCEEEIIIYSQHkMBTo4hZBf40Ft5NZWvND/HNQVTEkNNTyaEEEIIIYSQrkEBTo4Z6otkd/arkJyaiyWl5aj22XFadoGfVWB+Km7uHKRSfxNCCCGEEEJ6EQpwcswQm5CiN9TqaK3BhuUFuD3nJszQn0ybhlnZC7HcaexePWH6MhRldWk7MkIIIYQQQgjpFApwcswQM3URSqs3Y92qfNwlu1Tbd5w2d0LPX1OB9YumdmMn9L7F2Ilfdsl3gAPzhBBCCCGEDEy4CzohhBBCCOky3AWdEDIY4C7ohBBCCCGEkGOOAwcOoKGhAYcOHTJtuob4e/3117vtn5BIQAFOCCGEEEKI4uOPP8acOXMwefJkP/Poo4+arnqGiMPKykrcfPPNOtzU1FT84Q9/wJ49e0wXvc97772Hn/zkJ2hra8Orr76K5cuX4+DBg+bV/sGRI0d0GdfW1uL444/H4cOHUV9fj1tvvRW///3vTVfQebjtttv86uc3v/mN9vPPf/4TVVVVpmtC+h8U4IQQQgghhChOOukkrF69WovAv//975g1axaeeeYZff6Nb3zDdNV9RHyvWbMGL7zwAn71q1/pcEUwXnnlldi7d6/pquvIqPEjjzxinvlz5pln4uc//zmio6Oxf/9+7N69G5999pl5NTxkdPrhhx/Gjh07TJvepaWlBc899xyuvfZaDBkyBO+//z4ee+wxfPGLX/Qa0ZY8iCCXshMjfr73ve/hggsuQFRUFGbMmKHr7NNPPzV9ENK/oAAnhBBCCCEkDF566SX3yPUPfvADvPbaa9q+qakJ8+fPx69//Wtcc801mDlzJp5++mk9qmtn586dePvtt/HDH/4Qp5xyirYbOnQoLr30Ui2Sxf0TTzyh/Ysov/vuu9Hc3KzdicAWQbpgwQJcffXVWLx4sRaZr7zyCu655x4dd3JyMl5++WU9yi2CW+y+//3va4Eu55bIl3Q88MAD2n12drYOQxBxvWzZMrS3t+tzmRFQUFCADz/8UIve3/3ud0hPT9d24iZUedx77736ZYO8xHjrrbf0iwYpG8mX5MH3hcM777yDU089Faeddpo+P+uss3QY8fHx+jwY7777ri5TCVcYP368Ht2X8Ajpj1CAE0IIIYQQ0gkyjXvVqlXIz8/H888/rwXnQw89pEduRYyK4BNB+9RTT2mh+re//U0LXzsffPCBFpknnniiaeONuN+4caP2X11draenS5wy+vzRRx9pcX777bfrKdYyWi9uLrroIi2yZ8+erc8vueQSPcr94osv4stf/rIe0R81apROpzWSLNczMjLw7LPPajG8cuVKnT+Zwi1urBcH8itiVkaWRahfddVVemaAlMGuXbtClkdjYyMcDocuhxEjRui4NmzYoEesxY+kyY7Ef+GFF2LYsGGmTedIWisqKvCVr3xFl4cg4Z5++un45JNP9Dkh/Q0KcEIIIYQQQjpBNve6+OKLcf755+sp0jIyK0JPhKMQExODuLg4HHfccdpeplL7CvDOECE7bdo07V/CsUZ1RbgL1113nb4mo+YyQrxv3z5tH4jPfe5zOj2SVl/OOecc7V+uSX7ErcvlMq+GR2flERsbi8suu0znQ8SxjNaLQJcRerHzTVdra6u27woy+i2j64mJiaaNgcwmsGYOENLfoAAnhBBCCCEkAsj0apnOfayNzo4ePRr333+/njovG9DNmzdPr0O3M27cOPMoPKzRb1kjLi8/7MhsAXlJQUh/hAKcEEIIIYSQTpBNvrZu3Yo33nhDT82W0W1ZSy2jrYJMvZZp1zKNW+yffPJJv/XLMkIso88yxVymcAsiJGUttYwcX3HFFVpUin8JR6ZrC9a66GB0VWzKmmkZPZZ8SH5kzbhMFxehLMJYTEdHB5xOp94MTZARa/sIdWflYUfCkl3eP//5z+sp9LL+XdaJ25Gp4752oZD0y9p1mfZvR6bMSzrOOOMM04aQ/gUFOCGEEEIIIT6I2BRha02VFmGZk5OjNyAToSyfDpPdt63RV1nnvGXLFr0eWTZZ++Y3v+knwCU8WUt9+eWX48c//rHevOzrX/+6FtoifsW97OIt/kVYymixxClhn3zyyV5rxyUsS3iLv//97396QzQR8yNHjsTYsWP157yE4cOH63SKe7l29tln67XcsqZ7yZIlmDt3rs6fuJGp85JGSb+I4gkTJugykGNZXy5u5TNmMmIdrDzs8Qky/by4uFiXjaxLl2syPd6OxCPTyeUzY4IIbNmMTuIoKSlxbzBnIS8NpkyZ4t7MzkKEvoyAy2ZshPRHhtTUbfXenjGCXHl5gnlECCGEEEIGEs+9UG8e9T39vc8oI8qy47iI0TFjxpi2pCvIKLnswC4vAGSkvLvISwsR57m5ue4XAISEIpLPMoEj4IQQQgghhJCjiuy0/q1vfUvv5G59Bq2ryKfNZDbBjTfeSPFN+i0U4IQQQgghhPQA3ynXpHtMnDgRd955py7P7iDT+OUTZ4HWoRPSX6AAD0k9CnPL0WKeWbSUl6srA5P6wsko9Em82MkapMmTCzvJlyoP7U4ZWyAt5bmm/8nILfctLfHjH274cXaFd/CrZc/jK6aZ+0Srad+X2OJcvQ07TduesvOJFyKYBzuSnwa8ZJ758eE2zLXyq8yvuvZ1FUIIIWRQIuuNf/KTn2gBSAghoaAA74Q4RyNK/ERl5Og9sd+C8tzJcMblw77lhYhnZ0otamvFpMAZ4IWDgQhpJ1K0u1pUxK02hHx9IQqQb/qvVUclcBdXSzlylZ+4fO9NNjqLs1t51sLwE1wz7wo8ZZp7saPPBezOJz7Bed814/wGUBYsPpW+8rDFaiueR4wOc+V1XfskR48wy/C8S4aZFj40NOArjwL32sr4mlf6mQjvUjkTQgghhBASWSjAOyNuNmYriek7ajzgqK8B8muRl2SemzQjBbPd+5okIG+OQ9kFoN6FuIo85cIgJilFC/l6JzAnzfPtxZi0FKDGkNNGlHnwiTL8OLvAzpeBW+fF41LzXDj9usv7XMDuxDBccap5cuok/LjH8bWifPV2/PrlDyI+wvySKsN7VRleYZ778lLzMKydMwmnm+fCpd+6Aj/23uD16PLhQbxpHhJCCCGEENLfoAAPg5i0fMStDjxV2jOV2px+XV/oI9brUagtjBFoy61hVY7ywkLTLhflLZ4p3vap3E5bHO6w9eiyZW+mrV6FV26G5zuSnZAGm052E6uMXfzWu5Si9vJo4uO/pdmBJBHRcXE6DA+eEBPS0hAgyrDi9M1zi8qX10QElf9Ct0Urnt+tBLd5FoiX/uqZNu0eFW/YhvInGgx7c/q4r7ud6nr5h4ZzzYfb8CvbKPellwD3/fUd88yDJ5wXPP6bbdO37X5kZFnby9TvcUibcy7uvOQ0PcKsxa37ujLWNPcAae8pl17nLa69eQebd48McV1eHJhpVMZ6cfCSSuOvLHuVZ2tqvZFXhYxY/9XKn5SVZ0q/p546yb/lVkbwK/ZjU4XYhZhGTwghhBBCyFGCAjwsYpBWlKJEoaV+TZTY9kyllunXBShEHlJcHvHbUu5CSl6C+i1AQY1pqSjLNkSzEymm/zlonOaZ4j2nscQU/EqcuuOoQJxTwlZivqAAnuDKkK3T1oiCRjO8osDi15eYNAecbiE/GU5HHhI68yjTzl2xYYUfiM7j9M8z0mYDNZ7yl9H12YHeKARCCbjNF3mmTcvUdEMgHsSvd59o2MvIrnKX9672oXnt5R14/pJY4GWPWJZR4gz7KPepk7Dyok9MIWiKba/4Jrj9V77tmb69duwnhlsRja+YaZh3It61iXsDJUiVqHTzySe4T7vxSbtx1Y39xZCv8V+n33N2PtEMfMPKs0xNN8tidwfOM+3Xjm3BfZhguPnuMGw281oJK/8xePNPnmUEt+5uViI6jPxbbqUupo3E9Gli5z0bghBCCCGEkP4ABXjYJCAvxeklXlpccUixfZZSpmXD1YKEJAeatbMWNDuS9LRtmXZdYYprwxjTuVPcAcQiLj/FPcU7Ns5aN51iiyMGScq6WcaPUypsYSmjRD4Qh3zP3O4wUfnSYVQgP38NdDChUOJ7sjMFRZb4bWz0Gs02xra9x8T96SzOQHmOQZrDZY6CKyHusL9gGIezlCALNgq8s3kYrrFNkz79klEqQBFxw3DnNWcblgpxV2gKOsNcjrRTxyEtdr85iq2EdGyAUeL4eNO9Iba941P+rzPiSE32+D091lxnfWoMUj82ppt/ZdkHSoz68OF+nKcFpccY0+q90+5LQp6tbfgYd911iVE4D/uDl7F9Kr7i0oui8KaU2dhRbvvTY0ch9RLz5cWpI1V4BqkXWflQcVxyols4nz5WlVGY+dduCSGEEEII6edQgHeFhDy9yVhJo3Ea42iE0zMoi5YapxKGStzExMIlo7X1NXDFGmInFk6U2Nx2jxbUqLhjReA6rRHy3qGlvATGnPIQmOLbEPsGCSnAavtLiXJVBknhCbyw4nTnWZHg0OvLZVaB+02FyaXXDMODvlOxZXT5r+8o4XcQm21rqXe+vE8F6L9WW9w96DcCrYgfqYS1TEffr45NO807+JV9KvmHLah8W7nxiS8U3iPHpyHVtHejhOqb1b0zxbxnjEPaRQdxk+90+4YGPf37dBzE8/olhcFLr3TgPJsg7zb9Jv+EEEIIIYT0HArwLhKTNhtxLlOBK0Ge4vRM7ZXdwA1tKqO1TiVWHe5108Y6cttU4KC7jfviRLblZ3KBzLtWoavw8+Ow2m0fzrRic335tAIUZIsfWXNuXimUtM+2rfGW9eqe64L+1Fh2mcydd8epP0WmX0oUuO28whHBruymFRQYebDl2T9OO4HyLCQgSV6AmLMKvJDpx98A7jPXBGsjO3Z/62w9Qi27dVv2Mg064MZhyt2tu7d7/LvXEZ+NK9CMstgYn2nNZ+PH7unnyvzpIG6V6eA+8YVao316LPDrP1luA4yASxzJSvhaYSnTZxuzmWutb3r5E+RJXL7plpF+e37FvHKiHpE+/TqVkUc99psvktkDpr8e0cX8nzoMb+k14La194QQQgghhPQThtTUbT1iHkecKy/vbPSTHB1EgCvhm18URCAfPWQztpqkvIinSzZje/6S+F4SlYQQQsjA57kXenMuXmjYZySE9BWRfJYJHAEnAZBN5/qf+FbqGyVBR837kA+3oQyxFN+EEEIIIYSQHkEBTgYOMWnIOxpvBXrl+96EEEIIIYSQYx0KcEIIIYQQQgghJAJQgBNCCCGEEEIIIRGAApwQQgghhBAf3n77bdx///04cOCAadO3SDxFRUXYs2ePaWPw6quv6rQQQgYHFOCEEEIIIYT48P777+tPor7yyiumTXiIgH7mmWfMs65xyimnoKKiwjwjhAxGKMAJIYQQQgixIaPRYq6++mp89NFHpm3fExMTg/PPPx+PPfaYaUMIGWxQgBNCCCGEEGJj+/btmDhxIkaMGKGNNS1cpoP/5S9/0SPjYiyhLFPEp0+fru3uuOMOt4CX6/fee6+2r6ur83KXlZXlN91cSExMRGtra8Bp5zJF3R63hCnGQsKT9AmWW/kV7GmXNFlT3u3hCfIr58HSRwjpGRTghBBCCCGE2GhqakJsbKw+jo+PR0NDgz7ev38/du3ahdraWm3kfOfOnfjvf/+LdevWabtFixZpt8Jrr72G733ve9r+oosuwkMPPaTdCxLmn//8Z33sS2Zmpg5TRLKFCO2SkhLzDPjjH/+IsWPH6hF6y52EOW3aNC2ik5OTdbxf+cpXtJi3p/2+++7TU+t9w3v99dcxatQo7ebXv/61O9+EkN6DApwQQgghhBATEasiPmX6uYwEX3vttXpdtojckSNH6hFsizPPPBPt7e36V0bKhZNPPtl9LP7POeccfSz+RRyLuLVMbm6uvuaL+P/CF76A0tJS08YQ/08++aTb76ZNm3TY8oJARqolfBHkY8aMwcUXX4z8/Hwd/9133639+6Y9UHgXXHAB9u3bp/3dfPPNOOOMM0zXhJDeggKcEEIIIYQQk7feektPzbaEqZgrrrgi6GZsw4cPx3vvvecehbaPSNsRUf3iiy+GPa1bxPUll1yC5557Tp+LgN6yZYs+tiOCW0aqZdq8uJG47SPyDzzwgOnSm2DhXX/99dqf+JeyIIT0LhTghBBCCCGEKGT0+5133nGPWltMmTIF1dXVerTbFxHWsnGaNWJun4JuR9zJCLSMLIs7Mda662DIenALOZa0WX6tNdoSroy6P/XUUzrdci5Tza30WCPgvgQKb8eOHfpXzmfNmqXXwRNCepchNXVbj5jHEefKyxPMI0IIIYQQMpB47oV686jvYZ+RENJXRPJZJnAEnBBCCCGEEEIIiQAU4IQQQgghhBBCSASgACeEEEIIIYQQQiIABTghhBBCCCGEEBIBKMAJIYQQQgghhJAIQAFOCCGEEEIIIYREAApwQgghhBBCCCEkAlCAE0IIIYQQQgghEYACnBBCCCGEEEIIiQAU4IQQQgghhBBCSASgACeEEEIIIcRk+/bt/OUvf/vJ72BkSE3d1iPmccS58vIE84gQQgghZLDRgvLcaSioAZLyK1CUFmPaDw6ee6HePOp72GckhPQVkXyWCRwB74SW8kKUt5gn3SRUGPWFk5HbwwhChlFfiMLItqleph6Fk3PN8lMdmcJy9a/vsY0e5rc36jt87HnrGZFNNzEI0gYHIi3lyJ1cqFpkJFHtP9jNGpH0qPhzA9SfxB0oXerZ0tNntR37c9t+//aPezmybbulPBeT++oPlarPwj4o0HD/dreUF6BxTi1qa2uR72i2lWmI9k8IIWRQQwHeB7SUl4fdcUzIq+3xG/HeCKP/koC82iIMzuwNvLx1pW1HDNXBLh/A/di+KNMuhxmThqLaPNUi+wkRSU8CZqc0osZHQ7XUAClxLr/yq3cCc3rxZu2V53YP235/uZ9j0opQm9dLtR2h50G49dfc6ECKmbWYhAQMyj9lhBBCugQFOCGEkGOSGAfg9FLgLaiBA2lJgMtLxNXDiZT+84KCDABk6vlkZJeVIXvyZEy2DEe9CSHkmIcCvAvoqYH1MjXS+mPqP0VSpqVNKygw/+Daphc3B/bnNd2wvtC87j+1Tabo+f3dNqdEek9ZlGnNVjyTUeg0rTU+12zh6SmA7mshpkX7TsOU6Zpe0zil02HkzytMv6mevtM/xZ93vEaeuzMV0p5Pe5hGh8hKU+fTB0O4l3yb9p4OlTGlUNqAttf587HzCseet1DupNg99oYJUEdB2phvPqy68GtT0v68LbzqKHDbDhy2L15twYzD936yog7ebmz1atlLmqcVoCDbsLfKLHTbMwlUh8qusLzeK0/2IvEOtwSNpr0XtvvYXQ+BylZdezRAmQYrF08bsNe9rUxM+8D1ZOKVNsMY4RvtT9NJGXgIUB9iW6jy7I7Hit8/nRaB27yVHvXrV3/S5jp5xtjy6XXf+pKQAoezxuNPhr8dSmbH+CjwFhcQF2scB6pfN560WUj+vMpP+Zc0eT+3O8N+n9naVIC2L/UXzrPp6VDtxKTZ774NXR8G6tz3ma3S6klKgLqxXfdt/95lbG9HpvGt90Blguag7Tn0s8Je7t5u7PXn3eYtNzFIK6rFmowMrKk1pqDX1q5BhuHFj7CeWYQQQgYHsgnb0TIDgV0blx3ZuMs6nnskce7GI+apWByZu8w/H7s2bjxitw3lzxP+riMbN3p82eM1UNeX2cJQbFXxyLlXGHOXecW9dVniESOqQNfmGv62Ljsy1ysyf7cevNOxa+tWZTZ60qryprPhG2aAsvLK466tR7Yqs9FjYZaHPb5gxzZUvImJ9rRvPbLMLHt3fk2kXnyrz56moO4lL/b6dOdfxZVolbeFv50nXHseQrizytRC5dE/3cHbmG8+PNdUnLaAtkpd2tuuvV5NfNt28LBt+LYFM/1+aRaCthspH1u92svEfiwEDcOG2AWqQ7FPtOdJ1ZF1LwQK1zf9fnGpdFtuzHwbh568dPq8UHjuY0Glybo3vO5TT3vyDTMwu47sckdiawuhysBN8PqQtCZ6lUGwdEoYwe4NW3ps5aax4gpazyp8W4Pwf5Z6E6wuvI/NMELVr4VXetVzbat3evyf28GP3Xjdi951ZQvaSF+gdi1+/J5N4jxYO5E6S/QqX/fzz7c+fM/Fr++z2e0mSN3Ywgj1LPNNr73u3AQqk67c096Z8UbdMJZrez35tXlbuN5ptNWd/bir6ehHBOrb9ZUhhJC+ItAzpy8NR8C7hAP5+WmeNVwxDmUTDuH5czSudr8BL8Bsn7XBMUhLgWe9Yks5XA5bmJpmIGW21zTJhBTzfXtLDZw13lPhsstq0Ki8tLjifNY2qrjmAE7bKIGHGCTFWesmW1SMsYhJUPlR4WgbcwCp3lmGmoJp7rhkVKLG5fJ6qx+TFIdGM0Mtyn9sTAIcvgF1g4w19rWjCUhxNKp01sOp8lswzZP/aQU1cLmCjTOEcC/rU/OBAtN+cnaBLkdNxhr4LWX0sYuNC9JqgrlrboTTls4WVY7+BGtjLXDFzfFuSyr9c+BUOVRlo38F+TdB1YnyZUZVr6JJ8m5gPoQK24Nf+0rIM/Ppk2ZF8HYj6+VVam329jKxE07bC1WHjvx8W55iVJs0jvzyEZOk2pZ5bNJS40RNWbYn7snZKKuR9qdQ+U5x5qKwMBfOlFDrm/3LRdabpjitMKehwCn5UaF63e/qvs3zfSYEp75QlYt57ItvGfg/D0LVRwbWeN0EIdIZzr2RMBtxttHoepXoJOUnVD2HfpZ6k6Ceq0bejOnnVnJkENyphziVfWOcvhdC1q+FJ0CVSDlXz0z3bVUPF5LCriOLllig0f0sciLFq3xtdPXZFApHPvJtBReTpPIldexbH+q+mN2FcDuvm+B/L5sbnToJBur5E+hRGIBg93RYzwoLmVlQ0hyk7nzavCqjlEbbzIpO6FI6CCGEDHgowPsNMaqTXWROU6vFnMYC/ymBCapHWGN0fKxOqBctrsBTYgXViUnJr3CHbxnpMzQ3BvUVEBHOusdpqGZ1IAmRdHk6sLFx+bZpd6Yp8hEHqocbZwSk/lVCXh25Q+q+/g5CLOLy13inR5ngm+iEcC9TDQuAfMt+TbBJhb2EEm5zGj2ds2mNc7rQkW5GqOpNSIkzOrRaKCgTo3r6zYZF50IhdNgWXWlfQduNnlarhIdlV5Hv7pT7Elbb60YdhpOPGEcK8its8WrjEduGwHS4ZzOHhzEN1plihVeBfAkm1P3eCTIV2ZnSlQ0A47zT3IX66Ek6DZRgd7iM56HtxWPweg7jWWrHEsy+Dx15PomIUvaNcca90Fn9GiToTdwC31advtUKSIwS1nlWfBVxWG2fQ20nIs+mwPURHl2sGx8S8ubYXkRMQ+Ocnm3UF9azQpD2LuXalTcY6l4Pt1zCTgchhJBBAQV4v6FFdfTMQ0Ws0rjukQs3MUoSye68QcSRdBidJbrTZyFv1g1UD9DnGlpUSCpO6X+u9uoFqQ7/arh3bvVDdQYdKiS3/laI03pbBzbG0egTprpe79tplI6c+PMLyGskqkeojtNqvXlSjB558U6Syn+QfqykLZh7WQ5qH6HxlHFfoeo7zvbypEvDWDLK7ZMPd5koEpLgUMpAisGsOdVSmlXTCEcodBK2SaD2ZW/rdoK2m+ZGOGwzG2QkMtjgVzhtrzt16JcP1d6dvonQt5lPXCpu7UuJIxnxy8ubDRR4rxMOTTMaHbbRSyveAPd7S7CCtSFrTUXMh2pGLq+HjzwPVPnbm0MX6qO76fQiQT0oalS7sWnk4PUczrPUjjETpLBE5cmrTIzZPiXKPs66F0LVr42EJIcS3OLOSqyhwLupv6XAPHHIiHCQ0dG+fDbVlzg95WC+DG5pdvi/CFaxO1R52ve286Sjq3XjgyrAONsLkC49CgMQ3t+pehSK+A4piF22kXlFfYkqAVXnYRJeOgghhAwWKMD7APljak31DjZQEYiaAuvNvkzNyw/YuYhRitU52QlHwKErJWjz47DaDEOMMy4fqo9jXCuyTRkVU2Du0JaQp2Ir8NjrIRTpXBsjb4HykKC6FwUuY9Rao9LqnGbrwPqFqdKi3Ht3MRTir8Dl1t9mQEpwBMh8WMTBtdoTp5EVI6yEPD0305YmJRpi/VLkJpj7mLQU2yiMvYz7CJXERlUmVnxdaVOCXz68RnKU4HYVqNr0lHdMrAsFqwMLBd+2HTpskwDtS+mowARrNzLt1VavBUoyKT1soARJo7npkt4oKoy21606VOHaZyJIXlPciTCRKcApTo8bZeQ22y0bLDlTzBkX1r1obHzV+fMiAbPjPNN2PfH639MFJcZ3hoOFKeJbllKUWeUVZPMth8sWn1GpthaiCFUffgRPZ/gkIEnFUqD+dacjRD0HepbqTa6C3DzycqVM5cCn5UJm+7hcxvRzwyJw/fqhBLdLLrgDNO6z1Z3OKglMS3OJZ1q5zDywxKBP2+9quw7d9tQz3rymw/KaMaHq1OHzN8BGwmxV30HSEc7fuWC0oNEWbpCXWL7Pg1B0+qyQTd9kmUEBpllugoTptD8H3fd6mITxzCKEEDJ4GCILwc3jiHPl5V34y0uODi31KG+ORVpCd7qNpDdoqS9Hc2yaLCXVyPTh7DLZWbdn0y8JCUhLOQprkpDXFQFBjjlk52/kRfIZ1IL68mbEplnf0jbFccaa3vuGeDeJfFn0H557oZOXHL0I+4yEkL4iks8ygSPgJAQtKC9xIYni+6jS7CyA0zZNM2F2PpKS4rowwZEQQnoPmU2wOs57w8++pxnOAqf61yIBs/OTkNS1DRUI6RJFRUXuWQn33nsvDhw4YF7pnLq6Ou1fePLJJ7387tmzB3/5y1/MMw9iJ9e6goR7//334+233zZtCCH9HY6AE9LvMUd6zDO94y5HvwkhxxqyyVy2bV17Pxj9PtYZrCPgImrvu+8+3HDDDUhMTNR2InD/+te/4s4778SIESO0XbiIAL/66qvd/kRkV1RU4Nvf/rY+txABPm3aNIwZM8a0CY6kZ//+/fjc5z5n2hBCugtHwAkhPsgnnzwbD/nvukwIIccACXm256AyFN+kj2hubkZmZqZbfAvnnHMO7rnnni6Lb0II8YUCnBBCCCGEEJO33noLI0eONM+8kdFs+3RvORY7MTIVXKarP/bYY9r+1VdfNV11Hfv0dwlPkGntlt2iRYu0nWBNcZeR9aysLLeb6dOn63QECss3vYSQyEEBTgghhBBCSBjIVHIR6BZyLHavvfYarrvuOj074/rrrzevBkemoFui2DJiJ4jQLikp0cfCH//4R7z88st444033DNAbr/9dj0F3U5TUxPy8/P1dRHYMmK/e/duv7BElHc1vYSQ3oMCnBBCCCGEEJOTTz5ZC9dAyBT08ePHaxErI87nnXeetrvwwgtx0UUXma46R9Z6W2LaMmIniLAWAW3Zb9q0CSeeeCIuvvhifV0YO3as3yi9pDk3N1eLeVmrHh8fHzAsmU7f1fQSQnoPCnBCCCGEEEJMRJg+8cQTWmRbyBRvmcotolsE+Pvvv4+GhoawNkzrKiKst2zZYp4ZyEuBrVu3mmeG2PYdAZeXAQ8++KAW2sXFxTptgcIihBxdKMAJIYQQQggxkRFtGUF+6KGH3NPDZ82apddUi6gVY31WrC8EuGz+9s4777jjlnXdgohpy27FihV+I+AiyG+99Va3G3lhECisrn7qjBDSu/AzZIQQQgghpMsM1s+QhYNM6544caKezt1fsH/GTF4QyHrv73znO33ykoCQwQQ/Q0YIIYQQQkg/xZqa3p/Et3D++efj2muv1SPdsjFccnIyxTch/RAK8IjTgvLCcvVvJ9QXojCyL2O8qC8sRKfRt5SjsLzTnAwA6lE4ORdGVuz1E2Zd9QJhlXd/oRfqPXh+7XXR+9QXTkZuHwXeUl7Y++nutXssWBvvY8J6jnUzPSrsQHXZUp4bMM76wt5sV118Zhyl53mftMk+o+ftMlR+e/vel3Y2OWilqvZxNP+Akz5HhLcI3f6GTDe3NlsTY/+OOSGk/0ABTsJHiYHyQdmnSEBebRHSYszTQUx9eYSElw/hx9u3dZGQV4uiXgq8ReWp/94O9Sj3EhuDsI0nzEZKY41Pu2pBDVIQ5/KtmXo4MacX83/sPDPC4WjdC12JtzfvfSEmrQi1edaUaN/7jRBCCAkOBTghhJABSAwcSlbX2HVPSw3gSEMSXN7CrN4JpHDPEUIIIYQcfSjAQ6Gnfypj7hypp5spu1z7uUV9oXuHSTH2S3qqmnUttwSNpr3/tMRgU/CUfa4n7M6n0cn0SCs+KzxjSpxMwwsYjlf6C1W31ge5Pq0ABdm+fpu90hY832GmQ1BxedlJmbv9C1IexhTmwHFYqLj8/HlPQzWmq3Zx6mNYbcA+xdpWH8p417kNu3+vdHv7N+L0lIGFlKlX2F7laLSh7IICTNPhWH4Dhe2L4ddyk1vibsEK72v+dRAsXkXA/Cr39rqwufFrJ/r+9LbzTG23p8sTp32KqnYbrMztdWwZW9lIWU9TecrW12xtqtnuz5ZXn3IOWMxB8xr4HvObxm+Vh057NgoKphl+tAefcg2ALhtl7PHY7y9PmkPVuU8+3Q+SAPGr/HZWDt5l6E9CipLgNgWu9bfS2TFJgH0QvMUFxMWax0fjmeGFd/l517Wt/Gzp8G6rRnpCtl87YbZJq30b+dOHBhKHt4VXGQW+F0K1EQ/edWH726jwuma/x0y6eg96TU+3lZvvcyXs/Ct7bR3wfjMI+XeOEELIMQsFeCe4ChqRYq6lqYhbjckFQL55vgarjT/o8gfYmeK17ibFaXYI1B/pAuR7ruXHwaU6g12hvlBH6g4jX4Xo1R/wQjpVTneaa/OBGsttWTacKZ5w5jQWBEl/inJreHGTkIfainzkrzHcWFP5XAWrbWmrQNxqs8Pjl2+gwEp0sHRY+EwtbWl2IH+OyofbQvWy5+QhIVQcmgTMTmm0+WuGwzsg1GAO3LMIw6ReRW+1gdoUp6cT5lOGTt3plI6orT6UcbcNL8qQbfc/pxEFRuX4+Zc4VdBIU1lxurOrDlJU+dtUR70rDvnuKZcxSCtSbTY/HxU6HFV+QcP2Tpxf+4tzwWrCvtf86yBQvEKw/NpR6XN53OSjJEC5BcGoJNOvqouAN0zwNHjVsWrX+Rkq/baGItNZK1Se1ujr1lRkF4zbwfRXEYfVRuMIow0Ez2vQeywYMWkoql2D/PwKw0/YDVylv9FKg8Qz2XZ/rQFWGyIqeJ0HyKffg6QTgt5HQUhIgaOx2TyR+9lhtC8vBa7sG+OQJHV0lJ4ZdoI/z0M8u73aqtXewrmHwm+T1r0f4/1gUalKUX/7bDMK6l2Iy09Td7ZBoHuh8+eCItTfRt9rRgBe7b5r96Cd0M+VruY/6P3W2d85QgghxywU4J3gyJ9tCgbp06UoIWjreKQ4oPt+yqTM9u6RJcxOQaPqtLUoETTHLYIUqmOovHWBejjLalAwzfMmfVpBjeqoBPtLLmsTVafVdCuj1k7LbcYar45jbJyZEL/0JyAlwzzsBIfqAHmyFwOHGWS9sww11oiAmY4a1bvSKQmWDjcxSIqzOsEtKnmxiElwwGH2s61RrpBxmMQkxel6EFRfGrExCSqNPgF1iRaVmkZzNFcZ1QGWvLTUOFGjOlzutEzORllNI5pVHM4a1VF2209GtqpPt2Zwk4E13oWipISgK8fdBjXWCwolPtwdRflJUOWmPBm5rVdd0SRPJzEgIcI2TyU0V5z32lm5D4y0+V+TzugcOD2d1aAEy683jsbV7nIrwGzvuELQEgs0uu8ZJTTscbkJlgaVL6eqO30sNKMxrJdmDtUJt3fMVZuV3zDbQLC8BrvHeh+VfvdzQLWllHzbs0s9ExxSJqHq3L89JYT7IDEJeh+Z1/1R6bLam9f9rNKv7LXgUfaNcca9cHSeGXZCPc9DPLt926omnHsoSJsMUFeee99WpvrfBFUmypeZFKU/jZcZQQnvuRDqb6PfNZUDH10chGD59Sb0c6Wn+Tfp9O8cIYSQYxUK8F6gxWWfOOdNc2Pwa+ERi7j8Ne636JYJupmMng5nG9moyA/YAbETKv3dJTbOGpmwmSJbx6gTpBOse91GD1gdSE9GOkOeUa6w4lCdujgjIPWvEvLqyB1St/rSMaovmeeOT2ZFyABLjCMF+RU+aZHRXtUBTLFGRmwmoB4MRIvLa1qmN6qjGGeIB6ObqNKhhGeztgijlxgybAslPoM6CnWtN4hBQl6Ru8y6MoIUozr8eVZ5BxwFC4Xq7OcrP5YQmrzae8Srq4TVBrqf18gSos7Dak+hCXofmdcDYb2H8r2fLSHdogR8nHkvHJ1nhp0Qz/NuPLu7TSd1lZASB639/R8sYb3YC+e5EOpvY8//boai83utZ/knhBBCQkMB3gtIR89Z4t3Bry9x6k6fdA5X2/+6qx6c0xpNi1V/5O2v9O3X3MTot/XeHYR61HtH56G5EY41ng6rjCj5BemDf/pllMY87CYxjkbvfCvqgyY6AEpAOVQ63PpboTvBth5weHEoMaV6sfX+AXmmq3aRlhZPnDEOhzF6pfpnvm2gRaVFxsvVBd2Pc9Oi6s872cERMeDrv74ETnNELyHJofqFctXMidlRDGuUppOwDWQ0yLv9edqU/zUREauVbXfK1R8lnmxhq9vFe9RYCVs47aP1tnarPLrtZRTMZ5SzM6SZzbGEUI93uw6nDXSS1wDExrm8RgTDudd7Tog6D9CeZMTZwH/DNM81G0HvoxBoBV6Ikkaf+1nS01ii7M3p52J1lJ4ZHkI8z7vx7O42nd37CUlwyHNEDuVc2cYqYd0S1oMlvOdCqL+NftdUCyhfjV7aRy+Me61H+SeEEEJCQwHeGyixWJTidE9pE+NMMTvtCXmY02ib8ligOhGqc6HR0/Js0y3t12wk5Mn6N9ONNqpjFqt6EPWF/pvbJMzWazcttwWq0xMgSG9UOvJlfbst/Lh81SvxRQmZRnMTNu9NaQKg8i1rGz1hqjJxxYbuSPuQoDrsBcqPu7ujekLOaaqTanXCwo1D/BW43H1pMyA0dmsoqwXNJbY4nSnG6FWANlCgN6CSNdC2aaVijAthEsC/Fae+HAuXhOfOiuoougpUZzfwKE2sKlNj+rysQe4kbJOEvDm26dzebcqvbcrSzwDD+97xmpZhUGMLW9aEegct63WtcMV42m1Lc4lKlsc+pQuzLwycninjQdYgi5iz3IS+HcJrA6Hz6o9eq2rdj9qP/V4XJWs+d0Ktoe4Gwetc5dNr5oC6H+PyYT1JZFmO09aO7NfcBL2PZM1ysHIWwafEvJ86k6UsLrjsL5SOyjPDm6DP8+48u7tNZ/e+8Rxxeh4s6lFjrK8OpD9974Wwnguh/jb61ZMOwJYag/DvQW86v9e6lv++vN8IIYQMPobU1G09Yh5HnCsv9/urR7qIfF85Nq0H02MJIT7IN31jkWaJEZkaPE0EQIXfywlCCDmWee6FLrz56CGR7DNu374d5557Ln/5y99+8BsJIvksEyjABzL1hShEXvjriQkhnSOCW/S2bdRcPickOxrzXiOEEA+DVYATQo4tIi3AOQV9IJNA8U1IryNLMrymtk/G6rgK3muEEEIIIaTHcAScEEIIIYR0GY6AE0IGAxwBJ4QQQgghhBBCBiEU4IQQQgghhBBCSASgACeEEEIIIYQQQiIABTghhBBCCCGEEBIBKMAJIYQQQgghhJAIQAFOCCGEEEIIIYREAApwQgghhBBCCCEkAlCADxTqCzF58mRlChHZL9URQsgxSks5CstbzBNCCCGEkJ5DAd4N6gsnI7cnnTIlpgu7pKLrUbg6DhW1taitTZFTNy3lhegX/cMwO6r1heYLBOU+t5+9TGgpz8XkrlVMv8TeJnq3fah2GMHy6fF95iay6R6IDJi2b392dvYc7Q3xHJOEODSbJ8c27mc3IYQQQnoEBXg3SMirRVFajHkWAVpcQEoSjBgTkJCgDwY2MWkoqs1Tuek9WsrLe9RBjEkrQm3eYCjcwUHE77OeogRf+QBVKGz7Jj512FJeAiT1Xbl0/ZlVj/IevFTo6TOSkGONt99+G/fffz8OHDhg2nQN8Sf+JRwxr776qnmldygqKjJnRxqmrq7OvOKPXBP3hJCjDwV4f0emnk8rQFnBNNtDNrd/jHoTQsggJiYtDwPpHRAhpHd5//33db/rlVdeMW0MUR5ISD/55JN+Qn3EiBG45557cM4555g24ROOYL/wwgvxzDPPoLa2Vv9WV1djz5495lVvEhMTkZuba54RQo4mFOAhaUF5riV6PdPv7NN69bQ89/psZXLLlS8TPc3a8m8avzmT9jgCTLlNyENtRT4y8iv0A1ZMRb7DvOhLPQptcXmiCpwPO3oKqq8/PYWz3it9gcNU6S5pNO19sJeNittpWuu0WoH5xmPa29PkVa5e+TReRsh05WkFBci22fmm0R6GrsN6T/3oKL2mtAavF4nLsO/8RUhAt/Z24YnQQKXBqw2IW6+8S7qMOgxePmEQMA2dtxM7oeIPlG/ve8Wqt+D3T7j3mVc6TONbrIInTd716e3fTG8X6kEjaZtWgIJs7/ADhu2FCqfQp+5UWFb6A7e14G3Tjb1+LaMC9S8rT36tOH3vjaBtocttSN23fmXoXSaSPh2Uva7DaItdxascrDQFqUM3tjR1pcy9y8TjV+rW/5nlwa/udfjZKLBexrrL3PY8dJev8Xx1h6Hsnw4YX4i25FMHnmc3IccGIqbFXH311fjoo49M2/6LiP3LLrvMPCOE9Gtq6rYeOVqm37N145GNu8zjI1uPLFtmpHnXxmVu+63LEo8kmvaarcuOzDUvbt248YjbuzrauMw8V24sL1uXzbXFIWHPdV9zs2vjkWU2R/b4Pccq/LnLVCo9uMMOkg8LidNKs+BOt4p3bqI9fZ44AqXbHoZG/HvFpeJOtNJoS4dfPApbOWrcYfnm01Ouu1S6vWLzSaM9PZLexLn2+lGEUy8qjI3uSGx1GgBpG1Z42q3p0atd2OI08A5z19atytjqz4o/aPnIYaD2YUPc2vNuhd9JO/GyCxF/0Hz73iuKUPdPePfZVhW+dzrs94qBtDt7msS7Wb+++ZD06vYVZj3Y8bULGrYd73g0yp9Oq1d4HndB26aNoM8eL3Yd2WVZWnEq/O4NW926EbtutCGv9rhr65GtynjqT6VTMuwXnwrHisuWTq/jQKhw/NuCwrde7PGpY7961ZhpMwl0XwUr81D15fvMcuOVDnv9+bR3KRv3M1Xh9uff5oXOnpH255xfHdjjIcQkUN+ur0ykeeWVV45s375dHz/99NNHlAjXx2L30EMPHUlU95iYFStWaPsnnnjiyNKlS7Xd17/+dbdfsd+/f78+lzAFOV+4cKF2++ijj2o7+ZXz2bNn67jEvdhJWPZ47FhhC+JH0mlRW1vrF16o+IOln5BjgUDPnL40HAEPQUss0DjNGgFwIiXgGskMrLHbx8bBGJ9ugcvZaNu+pxmNLvPQTT2cZTUocMchIxQ1cLl8hkLCoaUGzpoyc3TDMNkq7EaVgM7yIes/81Hg8VfgSbcjP982BTMGDp05lbe4OV5TM2OSUsx821CBpMy2x5WAlAzz0AfveFTJOMtQY592P60ANS6XilkHals7HoO0vDRzfbwd/zTKuvM5cJqjaQ7k5wfyJ4SqFwcaV1v2BcDsYGEYa5hTnJbbaShwSvpbEItGTDPDnexMgXd1xCAprhE15uhUs3Idk+CAw6wQVc1wKPfByycMZP19PlBg+c0uCKud2AkVf+B8Cz73iibY/eNLEHctLjgl8RbNjfC7zYSMNV7lHBtn3qWuOMzxbiRImwM468Orh1AED9s87ZRAbS2cZ0Y4zx4Z+SxBc8DG63NveN03Jt1sQzFJcWg0ChUtyn1sTIJ6pngXakuNEzVl2e78TZ6cjbIae356RnfvHUfjarefAsz2mZoerMy7+4wP9zmTgLzaFDjNsCUvTitsnzbvT4i0qYyE++wmZLDS1NSE2Fj1UFPEx8ejoaFBH1tYsxJlGrhMF3/ttddw3XXXabtHHnkE//3vf02X/pSWluJ73/uedjtu3Djs3LkTo0aN0ue//vWv3XFJmOvWrfOKx45clxF6uX/vvPNOnU5B3L388st+4Vn4xi/T1ruSfkJIz6AAD0GM6mTmqQeRPIxqK+Kw2j3lLxxUZztf+bE6RpNXI85P8MUquzVG+DbTrY2nYhxIsU1Tt4x0wDrLh0xTLFAS3PKzptOOlupcBplxbqfFFYajIMTG5WONlWbLFKnyU4IrvFDDS2NgQtSLEgx5RZbdHDQW+EwfdmNM7XSmWG4rYKwciFHaJc+0q0VF3Gq/6dIiUnRP3lAo6kA6wuKoBTWqYy5nQctHXesUmVqq+vT5lj+zwrvS3oPHHyzffYRKc74qQ0tATF4dh/wu3D/NIRpJOPUQilBhh0XAthbOM6OzZ4/UkTSALmyCGBenYrbR3Tbk3lXcfKmhjtylar7UiHGkIL/CDMNtem/Dxu7dOzFIyCtyu5/TWOAzZTxYmXfzGR/uc0ZPS3cixQq7Il+1zHAJnraePLsJGQyIgBXhaonba6+9FhUVFe413ldeeaX+FSZOnIj9+/drgXzRRRdpO5kOHhMT/D6/5JJLcOONN+qwH3zwQe1+3759+vzmm2/GGWecod3NmDFDXxPGjx+vf+1Ya8BXrVqFM8880+1WXhxs377dnfbW1lZtb+Ebv9CV9BNCegYFeChaZLzSRAlcR7gjjCbSoZzj7tgU+YyYCDF6VMW7I1eP+uC6JwSqe+ws0R1ZNy0qLAk7ZD5a4FLi2yNaZFTEPAxKAlLgnW4ZtfIdZBMB4yyxpyicsA1iHI1Y7V0wqlxUWNKB98lni8qfP/5plM7qamXbeUc+RL3Yy1I6sAg2MteMRodtBEo1BqdZQPb0xjgc/qNhSsQ4VHxu3afQIsU27Bq0fMJANtW3j3DKiKCmC+09ePzB8903iBie4xEQ4b6EMElIgU8+lDhdDaRI+sOoh1CEDNuNamtwmiPtBgHrw93WwntmhHr21BeKcg70PLJw6dFsN3LfNDq8yrX7bUgJVaUQ6/0L1fNSQz/KvDPUojLoHU736d69o/Jl8xIbB+8yUgQu824+4wPWfQCaG+FY43k5Eeg5HJzgaevJs5uQwcBbb72ldwx3/21R5oorrvDajM1C3I4cOdI86xwZbX7jjTfc4d56663a/vrrr9fnMuItYXaFxMRE3HDDDaisrNTnIsqtEW7ZHE5GuS2CxU8IiRwU4CFoaS7xTLGUUYYudu5VN9IzJdxr8yEPCXl6HqcZhxGPKzaQy85QHdsi21REMQXGtjmh86H8pdimRKvrcfmqd9kJCXlzbFNNZQQ9Rf3ng+/oZJhhaxLyvKbFi3G6YlUZ+uezoKRZl610rK3yloE3v7LVg36dCycheL3U2MrSGkU0Rn29B/sSMNued+U0RRdQC5pLbPlypgQcDUtQbadA5dd9RSXbOU11tq3kBy2fzolJS/GqO2dcvurgd7G9B40/WL77EKdnunLAzbFC4ZcPq07Ny53Vgx0lOBvNDbz0BlmdhG2RMFu15wD1EbitSbDhPDMCP3tktossTfFMOw60wZkDLvf0Z2V01N6p7lEbkjIscLn1t1moaLQKVT03ilKc7rDFmI+yIAS6/wxc9qnm2qj8hrp3fOvQRo2tzGXGkP+jJHCZh6ov32eWh8B1b7ydMPMkcSTMRpytrgI+h210+oy00hbq2S2zH6z86RF4qw0Zm8EFqgdCBhIy+v3OO+/47Vw+ZcoUvct4e3s77r77bvf9ISPXXdnlXEaXZUq45V9GoD/++GNkZWXp81mzZulR9a4iIlyQFwcnn3yye4TbdwQ8UPyEkMgyRBaCm8cR58rL/Xowgwj5Xmss0ixxJR2VadKRquh8+iEZeLSo+m5W9Z3Auo0o9eUoj01zj+bK7tbGbRZqhHew07Nnj+yCXpPEz291DT7vybHJcy9E7o3L4O4z9j3yYkGmyn/uc58zbQghFpF8lgkcAe8rZHMoZ417FERGFOZkAA4HO2ODjxaUl7iQRPEdcVpcTjht87dj0uYgAw4c07cZnz2Rh2VOCOnHPPbYY/ob4F2ZKk8I6Ts4At6HGKNxNeYZkMTREEJ6GZl+PA2e2yzpGB/9NuCzJ/KwzMmxCEfACSGDgUiPgFOAE0IIIYSQLkMBTggZDHAKOiGEEEIIIYQQMgihACeEEEIIIYQQQiIABTghhBBCCCGEEBIBKMAJIYQQQgghhJAIQAFOCCGEEEIIIYREAApwQgghhBBCCCEkAlCAE0IIIYQQQgghEYACnBBCCCGEEJPt27fzl7/87Se/g5EhNXVbj5jHEefKyxPMI0IIIYQQMpB47oV686jvYZ+RENJXRPJZJnAEnBBCCCGEEEIIiQAU4IQQQgghhBBCSASgACeEEEIIIYQQQiIABTghhBBCCCGEEBIBKMAJIYQQQgghhJAIQAFOCCGEEEIIIYREAApwQgghhBBCCCEkAlCAE0IIIYQQQgghEYACnBBCCCGEEEIIiQAU4IQQQgghhBBCSASgACeEEEIIIcRkz549+Mtf/mKeeRA7uVZXV4eioiLTtutIGOL/wIEDpo3BM888o68RQgY3FOCEEEIIIYSESWJiInJzc82z7jFq1CgtuAkhxx5Dauq2HjGPI86VlyeYR6Q/cNHFl5lHvcwQ8xeepjbEY+lBrI7Yr2gLm387luUR8aIJGKYisK0Q6IoKT//Yfs3jI4cP49Bnh/DZZ5/hsDo+cuQwhgwZguOOO06b448/3jw+3ghZXdP/eUXjm79AeMrJQ1fc+uCdgP6NKmv9ow/NY/nV9SD2h/VFqRHruoHk0To3rtltPAcG7jrV4Yqx2dsMiRz6zrDuGXk17K4TueapC69a6axpK8de7nsBe5TWsW+a/JuOaeH+6e1UHVu88/Zb5hE52jz3Qr151PdEss8oo9AVFRX49re/bdoYyAj4tGnTMGbMGNOme0j4DQ0NaG1txZlnnqkFvSCCPD4+vsfhE0K6RiSfZQJHwIkbEZNe5rgAJtQ1JT4DmeNUb/o45cf4NYxXPG5juPOykzC0e2/jdqfiNcIObgL5N4wZhpcx06fTrc6tfKhj9Y/bnb28RHS7/Vnhav/KSLmY1yyh7g4zLKPEvDaBroVndNwDwfimWf+a5auNUZbWr1We+rquC/k1ji07ezvQ9ek2lh8fI/8Fsqfpe6Pr1fq11aXdjZyr6/q+styHMuG46abxTZc2ncUXbrppQhpCjjZvv/02Xn31Vffx9OnTMXnyZGRlZWlxLddErIudmMcee0y79SU1NRXV1dV+087lXMKy/Ev4mzZt0lPfLUSs79y5U8djn8r+5JNP6jTJFHff+OXa/fff7w5T3BFCIg8FOHHj6fSaRjUPLyN2WgiZx34mSGdJG9XUtLGEbGD/4sY6DmXUP+ax5TaEH6vT62uCudPB2+MwjFlKxr/aTsSfEsfq2BKJhuBW56Yfd7oCxRcho5PcA+Mul7429nS7zztvC4GM+sf9aze+1wMaM+PdjZume0bK3Lp/5NQw8o/xa3cnRv9nsw9ownHTTaP+8bNz/2dcdhtJr934+aPpkiEkEsgIuCVgLSN2dkT4PvTQQ1oICzKq/ec//xn79+/Hrl27UFtbq42c+4psYcSIEfjOd77jF25TUxPy8/O1XxHN99xzD2JjY82rHsT/F77wBWzfvl2fSxxit3v3bpSUlGg74Y9//KMW26+99hquu+46He4jjzyC//73v6YLQkgkoQAnbqyRpWDG3gGyRhS9jBagoYzHjZ/4EnstaK1r5q9PuN5+jOsekSvXAxjtJoAJGJYc29Jid28z9vQYx/KrjPJ3vNve49YQ65Y769huTP9Br1vG7q4zt71jjPLte+Mdp5Sd+lV5dF8zfz32HqOslTHKxKg/+T3e8CPutR9xpDrvpnttp406N40OT8KxjmkiZKRu7b82E+jcMnb7QCYcN71s1D9+dl7tSzvxvk7TNUNIJJCp5paAtozY2REB7utO1oaPHDlSjzBbyDTzYMh08/PPP99rlFwEtIQjov/OO+/U09KDcc4552jBLmkRAS5uRfCLcLfSJKPn4u7CCy/ERRddpP2JUI+JidHHhJDIQgFO3BhiNbjR4ieUCdBR8jbixjIBrutw7L+q0xokXC3ILCNpCxamMtb1cI32F7Dj7h2HlwA+3pombtpb4Ymd/pWRcuvYNJYbHZbN3n3dIyC9jJ87Mdb6874wVl771niVjU/8uszVsbvclVurjRh1ZZStDkPcmL+GHyMMSwRZcXnqWNwYx564LHuayBizvN3lbtVB7xh33ZsmkJvuGPVPQMHtlzfJizs/9ms03TGE9BdExL744osBR7e7gqwBl03ZGhsb9fl5552HBx98UIvn4uJiLdLHjh2Ljz76SF8X3nvvPfMIGD9+vB4Ff/PNN7VbeQGwZcsW8yohpL/Bv2TEje7ciGAxjYgf+7lcdwubgMZwE44RQeptxN4/LPWPcWx2YC1Rpt3oqZxyLUBaTWPYG37DN8qPLQ3e6TLttRsf0auuuYW2XNdu5Jrhz3LnDkeyp40tXLvxSpPNWP6tkTQdl93e1/iE2wvGK9+9ZgKlXRnzuuRR/0oa5FjSYRrDrW4u7utiZ9SJLSy3W2Xc7ceyN4wRnvya5UvT58aqf8+zRdWBrh+jnt33k7iz1VHnxqz/XjS6YQSxc9u78yFG/syqa2Z+aHpuCOkviACXke6bb77ZPU092Hrvzrj66quxb98+fSwj2Lfeeqs7TFnPLVPQq6qq3HYul0u7Fc4991w899xz7pFyEfTvvPOO2621Np0Q0j/gLujETeIXrjKPDKSbE7hxBGsy4XeMwu9DmQ6HeOLUNvrUumb8BIs+iLWJ91X37sTunbCBw0cO48jhI/js8Gf47JDsgq7OcdgtGqzdz4+XDr8pECRY1fU3f404Ous4+u+cbBDcm3gIHaYmDCddpQ+C1FhloMte8uc+P6zqQR+Y12QXevOiYD8WfM61W5Vo+THCHWIcq38sI3nSu9vLfyoyuS6u+yyzxMQoYC1c9X82jEpwo8+6Ux/2YJR/n2B7HXfwOqI+juwY5I3Xjc2vyNFnsO6CfrSx77YuU8tlDbesFQ+2O7q4efTRR/GNb3xDvxQghHSNSO+CTgFO3FyRdLV5FJpgDaZr/eLwXRsC1BarOvTqplsK1SbSvehE+FphifCSDrMORX7lVP2nRZkyIrw/k8+QqWO5okW3GBHgxyvhLSFZAlxQ8eqw9a+ca9vgWN9TC4nOvAedWNMiSP6t/PUqfRCkYIlqQ7dI6ZvnWhAb55ZgNjNvYNr5Jssdnvmv9mV61T+2cKX49MsW+dV1TCKJCHAZAXcjFWT/NQnrNvHBfmto/7rO+w532Gb7I71L42sN5hE52lCA9w2y23lOTo55Bqxatcr9qbJAyHrviRMn6nXehJCuQwFOjhpfuGqKeWTrQCr8RE2QruvQYcNwwuiTMHLkKL0meuQJo80rwP5P9+LwZ5/h072f4MD+fTh08KB5xUaQjrVHQHriDSgqg/gPam9ihaXzpf83f01hpke/VdrlG+ByLCJNOtYiGER8Hy/iWwtvFZIS38YIuIRqRmwKcPsIuI7Dl06UheHf7k+Odcj6zPtaNwgdfRj0OACVBSMPh+VXl7+BjIBrsSz/6UvGSxDjovGPlwDXdvL1aMONFuLqouVfrI1wDH/6ulgr4S1j4IdVXAbWL+k7PPeHbuNijMoxLiuserXXhj62LgRCObAu+/qXX3tYQbGloSvYfR0+/Jn+lWcE6R22vRLZjhIJDgU4IWQwQAFOjhpXXj3VOJD+r3EUuH+rLlrCRhg6dBjGjDsN0SedbNp0zt5PPsKe1g9x6JBdiNuboidmt5DVeKfMK30BE6sIZu9GYjDFmiXE1K/+T36VGDukBLiMfhsjo+JOdahN4a1HwGX6uYpHzvXaUwnEHAnX6Zf/xdLwav4TJpYgMYIx/zGxi/ZgMwDCxLucu0EPvQseISxFpI5t9WGJcv1rm4Kuo1XH5qnG8GskSP4VWW0g/s0jcaLfpYjklhM5N1x6RsANx6YXN/asWtd6IfvHKKrlqcLTd6E+UEZXjnk5CAEv+1RMsDrR9e1DJ9F1CVmqclVyMq6Z8kVMPG+itnvrzbewect/8Gx1tX5BOdDRM4NUPcnzL9K83rDVPCJHGwpwQshggAKcHDWumvIV88jsjErvNUAn1mgwxr+jok/CuFPP0MfdofXDJnza9rE68m2Gtli1cjXRzjxujUvmdd+Emti9eyHBuL1aAlz+V/9pYSZHSpApxaannisRrke/TTzTz4/X/o9TYRlT0OVAAhZb+bEdK4wsqH8tC0FbioUc2C94GGIKbE9Iguc4kKgQ/PIfyJmXm3A8CN7ufH0Jdp+Brvti5cEagXYLcqkLZaf/k2MRzerXHabYmYeC5U/QU8vdV03/ciR1bJ1b8alfEfh6zblho//1RcerLnm9/zB/SVeRFq3+kzXgVmPVdWAcCuGUrXZudxjCv9S7L/42ioCWwZG2NHbsGDywdAnOM4W3L7JL8f/NX4Dduz/y5HcAIgL85DFjsPujjyIuwl/d+pJ5RI42FOCEkMEABTg5anzxmuvMIw+BO6VG93XsKbFagAvSGbOmkFriJ9zO5b62PfhoV7N5Jp1lw98Ry78VjASrjGFtS5lPPP7R+llorHgMjPB02iV/6scQYiLIDuPQZweNER9TqAkyAj70+KF6Crq147IRtykk9P/msY5LjC3dtmOJz+uSGytM46IVvmG8scrdjuHeH3ndYOE+cjtWcRoLZY1Tn4R5RKc6UJfcvvSBd7j6zAzK7c72rx3Lp+RDsmLkx7DVI9OGpbYXeTxEXzcwL9mQE7GUY6tNKr9KjRuHnji00eLecy5xGSPt/rjzoS4ftmXDP0ckHPR9I//JGyyrFKUejMrThFO2gWvLwNe/0R68CeU/XE4ecxJK1jyE0aM8y28CsXffXnw3+xZ89JG8fByYyPNw6eKf4f333kfR7/4QURH+yssvmEfkaEMBTggZDERagHNRGnFjfebHbvRnnHyM2I891SO+pTNrrW+UTllXGRU9BicrMW91v0Ve6R3H9brrz3DwkPpVxgj7iNFh14LXTKdN/Lo78/pcjHUtgAngTufPbvRybvWr/tP5P94ysgGbsfu5+PV8QsmYlm6cm3F7/afs5D/t1jDqH9OPv5FRdqPc5diIw9t40q3j9DH6mhWe248YOfc1lr3hRnZ197g3jA7PzIU2lp3d3rSz7FUp2cJSLrzClWPDzu7Gnn5tdPqVO/Vr1LnYm2HJf+pX/OswrOvarRmPDs9wJ+fyCTnLvzb2uAIY9Y+Xsez0r/Irx/rFhGkX0Jjt22O8/xMC+gtgVIq18Q9THur+7vuvkfI3fyXlciy5UL9WjsROn5vG7Vf9Z5SBeR7CqH98/FttwTDWuZEeu/EOJ5SR59Mvli71Et+7d+/GVVPMpT02xM0Dyq34CRTWQDGqQHHjrFnI/dFtEc0LIYQQMpChACdu3ELNZobI9GofI8J71GhDfFtYwlv7MTtIll04iAhH1Ci0th3A7rZ2fLL/M2UOoU397t1/WP0exsf7Dqpr+9H68V51fAD72g/ioKgeS1xZadZpMI11HsAoRWsem/61e5VHbVRHT4syZSedPnGnjt2ddnWup6CLUYJ8qPIzVJWN/tVmKIap32Fip42MliujwjR+RSwer/wPVWGp+HTchrHyoQW3TqZx7BHjOsvGsbouZoi8FJDrAYxOt/zqMCStkmYJ0zBybqRHjAhvCUteqhxxx2ulwUi/srP8y7EZrrZTeZUXE55yMDapEyP5lF8pD7d/06+Eq051nowwLfeG0enXYZjGFNDKi/anvOhfZWWUjRzLiyF1LHb2zrtRxhKfx4i9cSxuDXMcjui6kvQNk3Sri7qctH+jPD1hKr+SHuvcx6jLhhudPo9bbyN1Fdi/l1H/qQN9bA/HeIERZhj9xBhlb5alVU9WGeny8rj1NkYdSIF63ZvqOKRRbgy/3uHpczM+u9FpC9NclZSE8847V2XCeKZppKq8LDycN3EiJk2KU3496RgIRp7rMtJ/U8a3MSnufJ2XG9PTkfvDH0RMhBNCCCEDGU5BJ26+PG26eWTDZ6rmcccPRczpZ5lnBnrarupkDlMq6NopV6Fx+w5l+xlGjDgBb2134UDHQT1SFaQf6sVr7+zCwUPW6lszbvnR658lFnVNHR45/BkOywZuhw7ghGFHcELUMAwfHqWduzE7ala0xrRTowPnOdY/GolC50XnR6aby7Rn40WC3gHdtv5bOtwi+oZHDVVmmHIkdspCwhAHOnzBit3A6kDKCL84OaTClqn2IgzErYgJMwQd7+HDhzB82DB1RUb+JVg5kkiGoG3vXowaPVqPvCqf2pf8+sapkWn0hzp0GFFDVXp9kE2j2tvbMfKEkaaN5NUIxwhTMNJldIAtI3aWW0m7gVG+Cu0W6OjoUK6G6DqScu3oaMcIdWzVhRGmEdrujz7GmJNPVvZGWch1vRxATxM3ziUMEdiffXYQ0aNHGSkRewnEOMGnn+7Xn4wT4fWZWXVmCCrJZnziR9Z7q/rQ9a/+GzFiOE5Q5SDfUh0xfDiGDYvSYRh7AXyGA/sPYN+nn2L//v34VJlDUpc6LBGOSrbLgQ0jb9qFFpajR43CaFVvGtPpgQPt2PPJxzoOq8yCIXGcfPJJul0YZS+BiJ8hOHTwEFr37FH51bnUtoKVJqucBd90+mJ3aydQWN1GwlDByY+UsRW2/MqhjsMnGqOVGa3SnQOvExMffxq3G3Ugx8qN2TQC4xtmCObddQdSrrvWPDOQEfBvzLwR/6l6yrTxxvnEk/hl4a/Ms/6NPI/GjhmDpUvuC7q+fd36DfjdH1brl2Z9yct1/zOPyNGGU9AJIYMBrgEnR41rvzbDPLLh0zpGnzQWI2yfF7OQ3cynXPV5TL/2S0r4fKrEqepADzke7zTvQsVTT+O95g/0yGFn7N7bjnda95lnnq6xIX6VkfQoMax757oTrYSTCKBD7Ril9MiY6BO0yNE9a6sDLs6Ue+lASidfLkh40rnXo1dWsnTw4tjY4EvWfovwE9ElRgekjJLLOhwZIZ3oOBvjY0+VEPVlFQUOHjxorB9WRn5EXUhcw4Yao7lyLGmR74rvV6K3qXknPvhwF4YqoRc1fIQKRgTp8SqbB5XQOhHnTTxHx2XELzFJxo5Hbd0LOo0TLknG2E/+h63vGSNxvmhRo8pIPgV34YUX6I2TjrPKRmJT13ft2qUF/RnjxxvudVyG2Bs6dCiOnHg2Jp7yGVrffh97Vd51PIYTlSQjRUpeGucKyZ8uB/UrwbW0tmLHO+9jxMiRytXZSPry6RjdshctyqO83JA4dF0o8+RTmzH2lNOM8JRnnXypE5sA1wWtfkcMH4rLLr1ExSiJsRIkl4Zg+/a30dTUrGc6iLDVAlrqXbkbospP6kG3A1Xxks7o0dE49xyHEsejlOhWdSWZkrrTIVoFJr8SniyLOIRP2j7BG29tx0d7Plb5kDYl7ek4nHP5lzDuoy14/m3JkwpD0qzikVHWcx3nIO78iWaIkh95mdKG//6vFh2qzCSMI1K+gVDplVH4yy+/DDFjT1bJsdqlCk39fPzxJ6pdvIx2lTZtp/Oo4pDyknSYRhB7o37sZWdcl/ZtubMw3Bl1a4Xj66bLqCB1qCpsLcDVf6clXInzsB3P1u8y4tAOPci5jlc8mj8Wllu7nS/ixsqL4OvWCkMIFo6vvXxi8Q+/W4GJ555r2hiIAL9h1jex5d9Pmjbe1Nc34Mf/9//M51L/RTah/GHO9zHzG98wXxIG5+GHi7H2r3/rUxH+0vPPmUfkaEMBTggZDFCAk6NG6vQb9K90ggMhU4LHxMSaZx5k0O78c87Ej27J1KJRxOdxyu6I6oAd6mjHY84teK62XnWaTQ+dsO39T3BAdWhl12+dFvW/iCbdaVYdwXt+8yBmnG061uyFq6oMeQ88gbahR3DSqOFmJ9EYUZP/Dh36Hlb8LREfP5yN/MphuG1ZKS5845v48YNKECpR5I5HpVHElfizxIke4dTHSsQohhw31Jjuq8T/eeecjTPPiDXiUebTeBVm6jk4Qbv0ZtcLC1Dy1InGlGoVkbgXQXj4syN4f2o2fv25D/Dw7J/hiREn6PR/dliJKBV3ohJbSrtr8SbD3SLYRKQ1vd+MN98+D/c+OAdnvbEMdxS9ojPgJYokzSqejq/cjeJZHXj2VxvRcMII7cZwZ+Tz1VeT8bOHvgj//eyb8XLB7/GPr+Vi0aX7UFP4CGqijJFrXV6mK40Zr5SliO+psxfg86dpKw/v/Ruz/jUWD845Azv/+jusa5yB7/9kPD5Y/Ac8OWKkCuN4PSoYc+rpKhSjoy/hHVbi1v1SQ+pClYsUh4yoJ16uBLhZN8qFyRA9++K9997XZ5/77iLkXncxYvW7o73Y+fxfcV/BY3BJO1H1OPHcczBhgkO3MyMXRngG8kJEbI06M230f/JiQEbZT//6XHxn1H9wTXahqqLpuP9vd2LCqz9BRsH/tF/D/2GdZonrgrg4FZwKy3ypIG31v88/j9bWj5S98bpF4hOsODUqPpmuf8UVkzFOBLiZTiPdR/DRnjb8r/YlHDio2o7EKy5U+v7voUrEv/plZC036860n/dgJaY79KmHHY9j6i2/0m3QcitIOg4fvh7LH70NMc9co8Iaru3tbuTYK70mgez1ucrrobv+gKevasXKmfdgvTq//Y+P42t7S/HVH/9ZubLKzhtfwSpFaRaXFzrGAPYamx/xr936EiAvgtjarxxWz6U//NZfgO/duw9fv/4b+OJVVyHvx3fg5JO9P9VY39CAu/7vnn4twKWdZHxzFm7JzjJtgrNv36fIuvX7+kVQoHrrLV74X415RI42FOCEkMFApAV4//2rTyKO/q61Xmcra279zfARo0yXPqh+VtSwoWhqbtajusN0xx1o3fMxmltalRg7pGSCkhmqM2v1ZwN10i1GjRim0mHEaa3JttKgLmg3bS8XI+n6W5D8jbuRs2oboqbOxtI5x+OTfR3oOGiMRIp7HaeMfB4y4hPhpu3kWKXK2uxNRJ0W4ma6RPDJqI9sAifdSO1Diwgj7VqkKz+Sz+OPH6qnKQ8dGoVRr27Ab3+xFEvuK8A/3vwU+OA5/PznP8f999+P4qdkxHKIzpvkSeloXV6ShmFyJx43AsOGD0d7+wHd6RUHMs354z17dLxa8in/Mi1dpoyfdKKI+X/jFz+6GXesaFDpV3mW6yrNcl1Egfan7A7JW5IhQ3GcUvJiJ6PBUkayBn3occPQfuB3+EXuD/ELlfb7ly7GokVr8N+dB3Hwg3fx+shRiK5ag/uXrcVzUSMkoSp8mdIuo9yyFEDKTta5q7CGDlNhqvobYkxz3//mP3Dfffchb14e0mfdiJsX/gkjn/kVFv5wEf757iidZildEd7HqbRIHkVLS/lLOVudePnRU8VV3qRs5Fzc6vXjQ4fieJldoH51Go4fpo2e1q8cHvxqAebfcC72bFmOuWnX47blL6D9ku/h3nkXKDdHcMklF+OsM8/USxqMdeOyREDlTTb/0y+CVDmpcI32JLM9DumRaqk3PVqtzqOjVFxR0eo+UHEPeRz/78ZrDfFtCitJu9FuDOmuN/BTeRY7mTYuLywmOs7R8UuOJd/6hYv+NQS5NQvAKC9lr+LWLyaUkXr4TKVXwlYejHRJfFJm4k8SodCi2jIqDHHe9sIKfOnL12HqtamYep0yt/5G7/VgxGEYvQRA+ddT5BW6LpSduJF4tBF7fU3iNeKWcyv9Eo4nTR6/ZpC63qXOfvO9aZimxLe+R8Re/ecJT5WPpF3ZSz25jSor+bXWwYsRd8Y9EcTYrmm39vDcRsrJx7jD9biTticzLnyR2RT/3PgYxo4dixtu/DbWb3hMtx2LnTs/0H51nvqpOfnkMciaPdtMsQdpC/a8iPjO/n4OPmnbaz7jAofXG4aQvmb79u385S9/+8nvYIQj4MTN12+Ypf6Vrq3RibaOLUaOPgnDtADzRjrQp58WgwvOPQsTzz4T50+coAXpoxVP4ZNP9+MEJeDeb2rGe+/v1KJVOt668x+ET/YfxDsfHdCx68ap0qK66kZn/bOD+H/L/4Br9vwJ0wqqVWdMpmp34J7f/BFf/qgC1adNQ/LO3yP7lzXK/Rcw/7c/wlm738aoiefAmjj/7r9n4dXz1+GSj+qACxJxehTQ8d6/8ct5a7B16HHoiE3FgnmzcMVpsqZ8L97ZsgY/Wf4Umr/+c6zPHInXdp6Oz58noe3GG38vhLM5Ro9qW6JHzMGDHTj3+h9h+qh6LH/kaQwdNhT7LvwG7rz6EJ77/QbUK8G450vfwU8nfYyGpjMQP9Fae70TVd/+MVaM/QJunXcrvnauxNOBj7b/D0+tfxouXIEb5l6Fk3fvR/QZI9BYnIXma/+GC97IwN1rRuLghTfh/tyvYKI50vu2cwXufeQNfPLFu/DXm6JQU7QBz037PhZ+rgMv/OYR1IwYqTrRHXi2uhrnOByYMGECDnZ04KSps/GdhMN47S9/RFXLSHwaPwt3qLRXr/gbnkm9FfnntuP9oWfiDBnq3/8eXnysGM9+OFp3vCX/HR2HcPVNdyF+30b8/tE39LeC33zLpdeYd7R/B7/883lo/cWf8a/DX0XW/NPw4f0P4Ukl3k+ZcjOuvyIW0ZL6t50ourdUldVxiL7mDhRkXqLrCh0foO7P+XjgyU9U2xqOz39+sqgBdcFqU8Zv4xtvwuV6B99Zth7TO/6KGxf+XdWTTB8/jCvyfov/O/VlLP7NJqT9ZAXiDr6PYWecgX0vFeDBZ67ENzK/jAvGDgMOtuLNf/8Z/3xNxO9oxE2/EdfFnQx5vXBw92uoKl2Hsd/8CRJP1VEqFfIqfjsjF46Hn0L8a9fipjcL8fjsE9Cg2kzS+ZKrVrxWuhTOXWeptnyCCm8WUnR4n+L99w/hjJPexm/T/x/+odq10Z6U4B/3dSz9ZTaSYmXEuR3N/12Nkn804bMv/wB3ffF47Ng9DhecIe3nE7z1aBFu/+P/sPfEabh/+S2Gn7Y3sK3jfIx4/iu45dcjVbhG+cjLjLv++C9M2b0S1/+/f2lRKfeb1N9lP3kIhZc0o+iGe7Du1Fvw2zXfwrhnatH+lcmwBszbXvwtvvbs1fjX7FPRvHcs4ka/iqJv/AqfLXkAt33hdOjUNv8Xq+f9FI+2DMWhy27Fb//vBsSP077R+NjP8fjZP8Udl1l35g5UXJuDbcvW4ZYjJZhx9ybMe/BxXL77vzjyuS9gvAqwfcfjyJ9ThBdVW9EvG0zckszMm35uWL8eZ0ExRsD1P15vpcXOCssXaXEWUmZXJF6Gn+X/1LTxR15Q/m7VKvzspz/VZS386M47VQdD9szon8jLplW//Q3OPedc/ZzY8p+nseXpp1FTY6zBXvyzRbjyC5/Hvk/34Zbv34aPP+nbkW+L2pqnzSNytOEIOCFkMMARcHLUOF4JHTH6E1tKSPkaPQIdgOjRJ2B87GmIm3g2ooZHYe++fbrPe9UVl+Hr1yRhavJkTFICWIT6WWeeroysMzb8BkIlQbVMa+RbRpuMuMWIndW/U3JchfkZzr32Nkw+W3VwXaX4ff37iJ54Jb6mIjh8wRdw5skfoPGRhbj5xi14RwnS+oe/qUSHrEMGTj83Ck/+5GbM+XU1dp95NWalyejqBfjh7Zm4pOM5/PIHN2Lu717BsCk5uOcbsqZWMfpsnN70e9yaPg8Pvx6F86+ZgfEqQccrQTB02DAMi4rSRtZzywCmJFbsjzteCQZtobKm8mCM0Mr5Eez8+3IsrNsFfPoGnry/GNWXXozUHyjxferbeOT/vo1bflmBT2OvxrXTlMpThXgEIzFyyKt4/A+/wYrnxuiy1p3eIRfg9u99RaWvFP+XeReWPfMpzpmajm+pspBdvIcMGYqhKm1jXqzCPyuexWsnjMYwlbYPPvxQj1zLCL6M9B48PRXTE8bg41cq8J+PT8LQ4cNVmiXlR4yRLTk8cST2bl6FX/z+UbzUdhouS5mO8eqKDmfYcJ1no55kxF7W0RsvJkQ0GflWV3S7MmSUjGoduPhGpF8xCq//Ogffmv8XvH1KCn5wx2VK+H4JP5p1CYb891fI+dZ8rGyIQuLMOUhWAlXSM0yPgA/V7VbKVtqqkRdpLymYeBrwwftrlbthOn/Dhg1FbeGP8N2frEG0QzUcxYkjP8J/1izFn/99Aa775pcx8UAdHv3d7/C31w9jwpdvxFUHP0P75V9X4ht44x8rseTBf6Np5IW44tozsLnkFyh/a7+K5H+4v+hRVI2zTTOWzEWfjfHv/Brf/soP8PtXonDhtTMxXonfTy/9qhLfR7D9n6vwwO8rsWuYTMEfqoyUkbRzVWfK+7cXKCGNZ1FwUyqyV7+F0V+YhekTzJkZI09DzO5yrLr/QVS+MwwTv5iKiw4fxg9/9j3l5xn87KZpuOV372O41rhSPt7GqAlDQIoRxP6Fn63Fcx2XYVb+JbjujusQv/tp/Or+n2D2V36PujaZpX4NZvy/fxp1HD0aQ559ABkzF2B9xnwlvo/gmZ9/B1+a8xDeGP0FzLotXoUdj3vvuAETdpbijpunIfuP2xF7/V1IeOSbuLriHVHz+G3KD/BLVY8aFa4l5GLPi8Km26fhWz+vQuuEL+O7Nxpr0PXIs0qrGD0yKm3cPPbNZ1eMFUZXw/lf7QtKTPuPgluMj43FfYsWabeCuH3rLZdfOP3JxIwbq8X3k089ha/PmIlfrfgtXnypXu/lEKWeJVJP8k3zW3N+qPeQMP5OBA6rNw0hhBAykOFfMuLGmGJpjE4HMiIyA7GvbS++eMWluOD8OJxx2ql66q5Mzz1t7El66uUpY0bjs44D6Og4iNSUa9DS8qEKz/QcgBOGizg1O+AqTdqxzYhOiL74u6hevxrV6/6AtT+ahCG1f8GSP4/Crr83Ylv0BFx61SFckKrE8gfb8O9GJYyHKr8KLeBVR106ju89vxj/3DkCe2pd+GBvFEbFqnSPnYKEs3aj4e8r8b9PhqPpP79C1WvAxCu/Y/jf+xoqVzyPPVFNePT9PSqxJyJGCR5rGquUoaRRxPaHnx4GDu7FK6++itdefx2u3QdU2g9h/yd79SismSJVrsMxQnb8Uv5EvI8cnoSrJo7G9n/fq9IXhb0v/AX/eLMVY874As6SsLEfu17ZgvcOjcI4Vb7yYkPCOe64j7C5dAUKf+/Ee0M/Qs1f38QHUaNwkoprtEyRFlcqfcMP7EJzcysO6KmvQ/De+00YPnwkmnd+oDrX+/H5KZMw5sNq/OkP/8Xrrzfi1Vdfx7YP96s0t+s0agG9/yPsbNyHE4+8h4qXm7Bv7Kk4rX4rXt5arzeWeuWVV/FJBzDy3DTMmzcPS5csxl/LfoFs1Tbc714kLNsT6KLzT8PI91/CvY+7cPx7j6Po5Q9x8viLlftPITNdR536OSRctB9VD+Timz9cjv+KwJa0KGT6dUf7Qd3G9DRvw1opS6vN2tu2fArtOFx+2WUYETVc10PLO+vxxr5Rqn4uwpmn7sfbWx7DE6re/lKwCQ3tJ2LY6CdRtW41Vixegt/+exsOvv806pv2q3I73RD2kg8V7siRJ+DSSy9xP1j1b9ur2PSLarQOew9/ffcjlZGTME4J8MvOGYdhTa/iCSXeR3/2LsqbVHuSlyTmywttVMAvrP0V7i54AFtajsP2v1bhjbbRGDnenIa/fwdece7A4dH7ULt7ryrwaDiOpOG804/glc334+mPhuGdzb/EKztVOqwwbUaIvmwuNj/xOJ6q/CeeqijDshkHMXRoFZb/5WWM/vxPcMelR/C/P9+HF4fJiw4zZ0OO19P/dRhtb8L5xxq0qOtDXyzDLxb8HIufacHxb/8dT77ZhtGjzsHhU76Ki2Kb8fLDf8Kru4fhvX+sQP7PHsS/dkdBPnunAlTFZ2zEp5FGYiZwx7P/D39/NwotzzZiZ9twjDrLrF95SNiMp349Rtqq/s/XXtl5jIRnhGkYm1uf/ySdbofWuVxRP0OHHo+fFBTo0WDbpYBG3Ihb8WMF19+MVMKNs2ai5E9/xrJfr8DwEfIizsirZV5Xz7U5t/0In7S1+V3rS0MIIYQMZKx+IiGqA2WMMusRb72mVo47H3WQqZgiQGQ0eu++/fi47VP9WaUPd+8xp3YOQdz55+Izdb3p3Z3qmqwbdMuwgMh6YD2iqXpbRvzmKLgeGVR9/q1/xlWzbsMXvzUXX/z2/0NGYQ3eViJy2Md/w4tvjoUj6TqkOk7Fe6/9HW8oYaA7hzpgI0/GsRIUkldzFFYHPHkMRmMfPn5erhnxfnSwA1GjT9b9fOUIx8sO2TLqap4POV4JMGUnnWn9K0JE2X0q686PKPm4/4Aql0/x0f5DShx24INt27C14RVzCqvKnxI1eg24DktG9E7FuFGfYt8HRyDf0Zbp/K/uU2U2ciRONfMxZKgx0n7KqacYAlwJl+PQiuPjrkPOz4tR9qc1WF+UDNlLXGpozEgZWZS4ZAR4mF6rLCPBIgRkHfrwkaN02ZyR+W0kn/Ihnit+CK8okXigvUObdpUXeXmg11mb+T4uSoUVNQwjGvZij4rncMchLYDb1a8YiXlfwxrc/N1sZN0yB7d8/z6UjByuy1uQ0WupY51v9d8Zo0YCZ3wJlZWVKP1zCVZfdSpw8in4+tAXUFzqxLZRV2POT3+NdX8qxPxUVR/i0+yRnz/9VuTefocyt+ObX9ynq9IYjTNnLqhzPbNDXZB6lPXzJ0ZHaxEp50OOk5c0qowuPwnROBFxGUvx25UrsWFdNi4bHY2Tzz2MjrYYXHLzT7G8qAj5+fmYrpcNqDoSYarCkEjls3RjTxqLKHOyiDHaL/Vq3kvWuWrTp48eqcr2E+UnSpsonZChOEGny3SrzCenXokf/fIx/LvycWx56oe4XGayqzDke+zye3zUCN1Ghol/zTkYF92Bg3skTiljdc8oW5VTVR4eo18YKfu2F1fiK9O+juu+loaUr9+Ee/41QvvbXb4OL+yNRvTO/+GhzTJ7wMiDjkXam4TtlT8Vz97TkJzzAB5Xad38RAXuvEwnFrjqZFWuHdj3ipGeoUP34NXnX8SrrcqflWx1oNMlxypc61i+CGDc+4ZDaSu6gpXxEssqTfZzca9/Jb+SXpuxRrjVof4VN9Zoul5ProweUVf3tH4O2Y3pPpCR9c8/+GFuyJFwuSZu9FrpAGH0FyOlvbmqCn/f8A892h3ITdlf/462vfuMdhbgel8ZQgghZCDDv2TEjSGI7Mbo7EinW0wwpKN2QAmuzw62o6mlVW8udsIJJ2DcySfj4KFDeKVxO/btk07aMDy55WklB/WYk+E5CLpT7O54q469+jWmpJvKRtkNVcJjaJRMdx6hhKVM8VZu1O9va1/HaMcNuPi09/DWxja9yZh7lE2avPS6rTMdjyctx7/4sZLfUTjhQnOFpxLQJytx07HvYy3WBBEb/5+99wCQ7Kiuhu/MdPfEzXmVtVrlHJAAEQQSCBDJlkw2MsFgQOQPw28MJtnYyDZYmGDANgbbwgiMCDZBIgghCaOAct5dSStpc95Jnf5zzq16/bqnZ3Y274o6PberXoVbt8LrqfOq3nu0g5N7wglFFJBSPYyMDxQjSNj5gDaScpYN4tTda0PDZbt13QjifVt3IdjnBHmtDQ2BJM90AsenXi+AbrA1WweCr5R8eBrS8n3SvijJrenn24XnLrLybV+wD1z8ervwq3fbFqSulcs2QwQc9ePFCJEKEB+4a9eu81eDoU2qiy+21z95jq2+/j/sqw8PyO5OEH2S0848aQ71JuFRvpOn2HTGwR7VVRK2oINQ9mIs9KKM7m4QO/YhdOmjdqMPyZB+zeCwlR/+hT3/+RfYH73hj+21b3iTvfYd/2A/A8nfePMV9ukPvdMu/sMP2z/8X4edcuGb7Fkkv9BH8rr86q/bl/7pC5Lv/mYmysK4oD2Fn9nSVWbzDni1tu9z7l6vVu3Mt37S3vAHT7V5KFzloz1JwEvLBtFmq+zad59rzzn/AnvO8y6wc5/7AnvDP/TaCRdfZOfOfNC+/Z7XIux5dtVytgH6DPUItVD9eIGjm88ww1gLTQX9gfD5IdoJ9d06bD09/mC+fNz8Y4/FGGI709jj7A0ve4bNfPDb9u7XvsDOOfdHxjuGOdbjmOkC6WdfxuOOrqW2bjMIvXbCe5iD9iAeeqMIcP0WBEpYha6bzf7ji+2sgbW2dv7Z9icv4uvO8ghl+QHgvuMuvhBt9IB9670X27Oe+3z7gRtrnVeutnXWbf0neq6Ojrl2wpNOtxPQAVFHB344sgtl+NY44wHcSIo9SoH6hARBCA8XyWa5FB03dEh4LPHz310Ifw+i4FjtxHM9iH6PKDFf0Bfbk3GbQEjf/u732jve9V67+uqf2ZKlSyX0M4xxTOO/IaGMfVC44+mhh5fLbRfPcd/dw7dI7Pl6JCQkJCQk7M9I/8kSMjRNPttIna/FagNupr79vgf1Lutf33yHjYBIVbgNvV6zZQ8/aiNDg1brAIkj9QY51ew+3G/aDkPlusgut0fT9a2ucRKMCZhShUkzV7FlH1fMfXJc+Npv7MGBGTZz+f323Y1ccXWiR/C+8fikaShFehcBeYsbrrHbl8+zU173VjtjWtkOeOY77ZxjzJb85j9RHhPRlpBPmXAM0iJCy5Vw1E+r4yBESMZot5lxy4dsa/9hdso5U6w260n29sVzYFBFZIwkm+DTpUulu+3BVVU76vy/sufMG7Qpp73MXnn0HNvw2E22quR62RYqB6S+T03KLcl8SJ5ZZeNye6TzEDvv2Nl68Byf0s0VcL9g0GH1/rk2f+Es60cN+OTiHkyiq/UZ9rKXn2FzV/3K/v1f7oMddT0BnK9gUx1oHL7Zf+LivTNs/uIBGywcaM89YYH1P7bEri+yrbmtnf0ULkCordAvahPai7aSHYhSm9GPNCCRdz2yzuzgU+2TF/IxXwfak9/4Z/ZXb3maVRb9kV36lb+3D730cJvdMWjlmF/9T8LbrTr09/dL+GoyEkmOWV4U+fov7rTRo8+3j77qdJuOtljwlLfZC4+fbVtX323rcxcK+O7v6oZb7c4Vc+2Mt7zDnjGvbnNOeK1d+qVL7c1Hm80cQONu2WIPrF5tc57+x3bIdLRtldu1C1bnYIDbx9sR0Cfa0cC6y1D8cbzwWKbzokwR9V1v5QVH27MO77OhwkH2/AXTGGlT5s7Wvbcidp0zbIqKXYLza76d8ydH2EypQNsxnh+2AesbdHcW/sf+75EOO/acP7WzZ1bskGe9246dzyimxVjMCW0j4tPSqzVeyKlbdc4L7E+fs8hW/PyT9skbt9rJL/uoPZtb+zsraq9SaZ7yakxJr+ueOVA027rFHly9xuY9849tsYw19P3P7P4V8+2ki19jx82q2IHPfoO9/8/fZC8+gq+TcyNYLpUGlRA/wzyM9oZ0IOoddpid/NTT7fi5ZrOPO93OPvlg5D4UYSfY4SF/PLf99wH5qSNIXO12YTpPkxf12ThCHUoTdSp9Q3gR6qHlj9plX/gne8d7/lRCP8MY15p+XxWe7+3CKYzTxac2cbtbEhISEhIS9mek/2QJGVonoC6NVZ/xwAnsr351o00dmGbPPPMk2zI8LDJz7/1LbNOmLXbmycfbzCn9VujuscMOnGfHHnUEJt0g9OLh+OKEGZN/viKMdwjXq6NWHFlnBUjH8FqrlLdqpNaRB4ZgwotC6Qe5quO4TrIHt1jDZBrhnZ2/stUbzJbe811bUwDt7wJxKPzAfru0aMf/4dftU68vuw4UTP5HEogqIIwkbIl9+QvftNtLZ9p7Pvuf9pk3HWvlX/6zfeZ/e0GSUSYydkAnia+vPMMPMlXsKol0axUck9JiITyEDfGaqNK+pd+x/7mrbMe+5u/t3//u9XZUeYNtRb25ajxw63JbUTzcnva2V9rTUcZD1//Krll3mL3qry+3z17yLJuy7Af2nf+413r5ijbYzZVpbSMvFJ2Ao6zu0rfsv366wmY/7+P29X/+kP3BtK223mbYAb8/23r8PWfI12VDxz/Zzn3mqXbo0KBtGRxWu1Zrz7OTD4XOA8+x9/3rl+2f/+nz9s9f/BzkU/buZ5YzktRZDMS6XLBZZ19sb3vt8+z4/jV27ZXftGUgvroIEoUJeeEE9UcAxMcU244UqrMbxLkbYfT3dNvMJdfaL+4ZtcNf91n7ly9/yN58fN3u/eX1Vlr2dfvK1WttwXM/YP/w1U/Ze86o22//+5/tFyDeJJ8kwNxOXyoVJfTH3Qhcke792afs777/kE1/7rvsHy+/3D79jlOse9mP7Rc3DGqlnGOgA/1XQvqh4fvt0s991+4aeK792Vd/YP/+Ny+2+Suvse8+ULBfff6/7dcdT7I//7f/sf9872k2um6L9fbPtZ5SyZY+8JhtnnGiveqPLrAjMY65BV27FDhkWD+0sYif2gTjDuXOePBa++WSDjv4vNfaWy8+1+bWh8wqVRtBHQ4++EA0WYeVOq+zy755k9kZf2b//r9fsT89fcTWbZ5iUxZ2oQwaDp1Izwsb/hwBtm/Bvv2pf7Nf21Ptg1/9nn3pjw/gowgUl63c0gYIzZly8lvsJz/4rv3oe9+B/Lf98LPvshe/8xV2yuhv7IrL7rfb/+oHdkvpDHvNn52E9vyJ/ejWdbbgnH+zb3/iXO9jgL8PJLPXfQFtZGijr37f/vPdp1p5/RabMvMInBN329/843ft4fkvt7/91+/ZP739KFv/g3+wv7qhZMVv/Nbu7z7Z3vI/n7V380KSNHLcYAzRi/OS5zfHDochzhirHfkSu+R9b7PXPnnUzn7ZW+39b36RHfHkC+1d/++t9przeNGIWpwoa9yxXVh3GIxDRbswDS9q0W0W3a7AvpN4/7ENnXCzDV0nj2ObthNeHPELJO3jk2y/JCQkJCQk7M9IryFLyPDK170x+Brw9w476pj4goGFowb4dt6OjqIdfuB8e845Z9qCeXOsv6+PqW0rSN71t95nB8ydYY888ijIw5D9wQvPtdvufsB+dcONtnbjoLZj8tVXTtjqtnnTOhtCPq3C1jttU7Vg3VN4NzM0cpWu6u+e1UprnIzVMWHmO5Frgzbr2JfZZ94zx+58z9vsPzbDXpAxsv3RLTUbqnZa//Q5IMsl5SVRZM24Yq+LAvygjHKl7O/SZv01afdyuIJeAmEWGUD8UYuOsMWLF2siXu/0tmJK5vvGFd+yqTNmoCwQRcYjmu8cl14SDRC1TrgXvOC5Vi2XbbQyKpt8+3aXLVv2iN16+x0gWCD3vMiAvM8575nQUwHJcqJPnUNDo3b9r39tNaTxlWvWghv9ETe4Va9Hmjd7NkJq2h7P9uN7rlev2WC/vf0u6+nnw8f4ILOK9zcqoJrwwVRwdH8nQjauXW0vvOD5tvqk59nbDt1o13/9x/aAHsxUsLvuugt9PYo8bM9O1I92+I4JEW4ScKCjXrU62nrOrBl2zNFHQT9X2Ue1KsiC+bT0y//rCpu38AAckkCzZLQn38nOXRXoY1pHu9j1A7099sxnnI1jr7Nbzgp02B133m0PLlmituTKLh98V0f5w0ND9tKXvMh6u3uQjjqrspG7JG6781676bd3WVnpfdu1Ez+QMvjZblyBZWmFzpqdcMyRdtopJ6vM8ugwhgraqliw4ZGyffe737eR0bIsYhsRzHnUUUfa6aecZNWehXbIvLKtvu9OW9a12J513jl2VPk6+9Y1j9qWLYP2k6uutmHkr7I8lEtqyl0kvBB0zjOeYQcsxDmBduGWd3Yg3w//+Kp19otf3WBDw6PqA35oN790ESDUheBY0Tvw2fmykvB6snHpsu6KRfnKB2H65tcJcmu/v36OR95GjXKpKa5aeh/gTGbfalx4eIVjj3qgj3arvUNZ0Y8D6aafuRRH++DKBp1jtCX2Fz8A/UxCFRoj8rYgHxLbQkUGwBbl95R6j3mIoxP1JuwZXHPVD4MvYW8jvYYsISHhiYD0GrKEvQZOXMcKCEWQjkAwW0HyeeqJR9pFL342iPVSGxkZRRgiINf83602uHWLHbBgvp11+il26AFztdp98jGL7I9fc5G94kXPtmc86QSbMa0/m2Rvqk+xwdJcGyzOsdHiTOvtn4Oy/R5vbu/1e5N5X3JcueIwJrWp2wvf/wm7/AOnWu3/vmYPL55pzz6rx559Ro+d+6R+e8Ezp8k/p7TcauV12hYdH/bGVVPfOs4wrmAXrdTdLeFKqlZTUR7JDh+axpVkptW9zSDI/uA1J8UkFkynB7KVSFDdTrYn4/mqNq68FhFHm7liyScMD/QPWH8ft1B7uTNmzVS5pVIv9DnpHx0dzcqUjSiH94FPnzZd9WC7dPf0aEt2Cfp5IeTAAw7Acbf1IR/LZv5+lLV06TL5ZTfqo3w4zgQ6+HR0llOAjawTH/zmK61IP9CvB5kNwOX9w/4gJvQHL1iwDbQa7auzGktoA15IYFrawzr3oEza2A1bKb09fagTV8bdfub19kebqV49ClcY25ptGvqGNvLhd3LZP7QHY4Mu+4q2s21Z9hS0Gfucx3w3OdubafgQOY4r2s1ysrIgMbzAevGiCMoiD2ObcuWd/dcHXT3QNWXKgA1MnaI8GlPsG0mXiD/bpqPUb3OOOMte+Oq32iWveI4tKj5sv71hmfLPmTPb5s2d63WEcBzxQVi8UEEbuM2+B3pou9qZ/cI+xjHHJndpcEwyD+M4fmiH9xHsCOL1pP1e15hedUac7Gf58DN/bAvX6feMx77Pt1G+XOZlHNN4HNoUNvPe4jg2Yhrmj2mjZPbm4vx5A8E++qErxse0etsB2zxcQIsy3pbzZmnOIxLPcxhC0NVvD+J8q3o7HUl2lyQkJCQkJOzPSP/JEjLkyXZDGpMePvCqI6z0cD2Oi6WcDD/5tBPsxec9zWZNn25Tegv2jSt/bHfcdb89/OhKWzB7pj3zzFOtH4RhoL/XTj72SFBOrmxxYbrTjjjsIDv/nLPt5S85H/mn2KZKwSqFKWA1U6yje5p19kD0fmROeH3iK9KFvLoHlsJwTrQx+f7BpR+yc1/ySrv0m7fZlJ6q9RQqIIzDkCErdQ7a3BkVe9JJU23xwTUb3LxaBI06VVcQS02yu9gWgbhJfEWNr2AiISIB70BaEh1O+GkL8+qp8SJ+gUBQh/TTbrpM5zpZHu3nijOJIEluJKF6hzX08OFluudaurysLZs2WzdJGMtFHgpJzfwFC6wyWpGerO9Q7swZ0xVPu7n6TQLc1dVtZRDNtWvXisDTrkj03H6UJUEZspNtAUFaPkht7j0/t2//z6/t8alTRbJKsreANuKKJsYI0rM/tIUY+tQ3CgtlhLYiSWZb8oKKk7tAwrK2dz3NfZFr21BOgToYjry6Dz+4zCdbcvl5wYVPQGfZxVBXXWAIZK6usUDdMb3njxdQKN4mjO/UqqiIH/L7FniSV9c3MAACrjI8H8X7EcQXNg6UH7Y7fv59+9Z/XS754VU328oC+iuQ21NOOcXTqx+Y1/uD4422k2DHiyO+5R51R1iDEDbsjyLSGKQ1Li/5uudlvHzb0tkaF9tX+egPx3lRupyf4hdZ0L8xT05YXx9/OIGjPXJRvn4neBz9tCkvHu/CY9rWEJWPcBzgD/H8veQXBEGQfP4ku1sSEhISEhL2ZyQCnpCh3USndSWo6DuJzepdILeddvHLXmwvOv8c6+/lk7Q7bOb0aXb3gw/btb+52RbOm2cnHLNYxFskFtm44tg8fXIydtThh9o73/SHNtLRR/brk2i4LizbJ+AeR9s4ScYEnYIwJ+MIE4kDEUL+YtHD+YAzuiJ+kGKhascc0GFHzS9btbwe6rm6jEk2rGER1Mu6qozg+jEsZxmckLNtGM7yRRJoi0/U5Vc6zw8Pqymh41tm4fIY5YnQ5UlayI8/lekkwt8RvnrN6mzV3EmZk+f5c+fa1sHNyMAtulTObdtVmzVzlhVQiEhLsJOkddXqNSKIsk87G0J9WwX62RdO6KFHq8YlG+CqNUkzyRHGgYhNeJcyv3iRBSH6uG6KvIHkIl+0ifWHiFyqnDa25PpBbU8Xyuj6RQP2cWw71+vtiXxMKz/t9DFIIs5707O+g/A+/s665/fyorTYwjCWDZdw+6nfy6SuAnT0czUaafTsAqaVLg4hpCFZhvT29mi1nMLV6xJXrWFTEWnmz5trs+fMkc2sLdsu2uTPFWjYnvWt6uhp2tu+94U2Nrcv6tV0PIEw3WQE5cAjiceug81IUk1/s0Tk/WxzBLgXLrSE9Lz44vWZSIKCtnGUieL2hkR720m79HtLEhISEhIS9mek/2QJGbTa2CJxRSmKVvtIwus1e9nvPd+OOeLg8PojTNHgzp83xw5aMNe6Qbr5kKg4meW9n+OChLRWta9891obqpDEYVhyooXycACXxyQyTmZcEM6JIfXLD3vhOgEhIYEfx05KSHpIWnCM5EVIb8ewnXBon/XW1iGc8U74RarpShREU+RR/eXGckj+4Gr1EWSUW85FSl2cvIa0wU9xs0lRYUuRW+tpJ/IwL4Qr1XpoExi6E7vQBsixavValBm2tZNkUoqdNn3GFJsx0M8bcJGMfcX7qSs2b84s65ZdJGgUrvQWbNWaddY3MIB0rBP1eDljBW0Z6k1hvbTqSgJJmyEirNBPW2hnRoRzEvNnonEUBG3oAvvYnijX653P7zZ4m1JYf+phfGj3rO1dr0g4+xPipMklS0/blY4uhKvgLJOCtuY4dHvHtkm0Relj/0cXurRCzbZGeSLEIb3ncfv0cC5tKW9IbFffEdBlixcdgvy8QFL3H2uNHehUHXK2S6eX7Su2lLzN+4rENvWxwnOS4aiS2nvb0ujHicQvtuG05U+Izl8KCpmgXdjGyCqhX21OffSFi2aNvm/kY/q8nnx4XtrFcS9RLDcfn0/TGr67xO3xZx/weQJ8FkZshz1ty7YkISEhISFhf4bmdAkJhE/aWyVOmBtSAqGbMtBjx4ft5D6p9aG0YO4ce96znmxP5kOmNHlzcFI8HrheetVN99k1ty7BxNZnzEoPiccsQ6QLky8nMuGYZFOEMz8p9okiJ+C+8k2SFo7hiriCNPZ1D9r8OXUbHd6EiTbIjMpjfupyffFYYWTv9MMekXz6qRekUWQP5Yj4kRiRSIV0mW2hDbwt0HKwc9asGSBegbwhb0YeYd/g4KB0isTBJcmtwb/8scdx7FuPffXXyzzm6MV6WBmK8jyYQJOAk6CJnIHUMR3LHxwaho4CGyQI9NPWFol151hgPUQcKbQXEl3tQGCZarNQ7yY9oR1ZH7jqE9lDAsk60HUSLj30xzxN4u0Mj9sMV+0gHWwH6qXrW9llS5DYD0wX2yISZ9bJ68HyYx7Wye1vFq+r1zfoYn61s+uKba40yKP+iJKrO8uMQh3cteC6eH92wQ4++CArIS5r11AP1ZVlZPldn9pR5bXavG9I1iehLdSO6Eo/z7Yt3ofjS+N3i+LtIFGcC77G2EV56Z9+0t77grIe9Hfimz9ql17yFD30rfzkt9jff/TVNgPnUyTisFjXDSW1ulyGRYlx5Vf9f/bRV5Wb4mN5terT7T2X/pldrAcLNvJmEnTQ36q/VfL12BGhDpZx1B+8zy774j/qDQhf+Nib7JxpFSu/+s/a1iH6JyutZe6MJCTsKSxdutQ++clP2vDwcAjxMD54dEdx1VVXSUcePGb4vgDWlXVutTEhIWHXIf0nS8iQn6RuSziluuPOe31CFIg2J9MkA8cfucgOnDc7C6OMB05or77pAfvy965vM5luTNqyiTRX9+jGNCGcafhKMuWBPVrFJDmiS8IjAk6yDN5WgL2lGshjxQ45eIoNbl2v/FAkW/WBK5Igna7XdbpebXMOfpFmkB+uDBc7XRiWEQwK0nFlGuwr002ydcghhzh5InGKJErSZevXr1cZqj/ykbiVunvt/gceVHwkklpJhSw+kk8VJ59mm9Rt7tw51tvbp/uCKSSETDc6OgICPuT1Vd0CWZmENBG9vCDO+2M8XR7ubZFrt1AHEdCi14npSOhjXraZcZUdcRIc68KK0kFQvh6+Jj2BlCJd1OV1dHE/0zONu7I/1EtpYCMSqt3jRZhmadYZ+yESf4rqo35gmkZdPG8sP5QdhMePr1ihfN4+BZs7Z44dsHCBjkmsfTzxogMln5/pPTxv41jb97KwPdSuDfG2YZzHTyTxfKfo9pMWabQzy6PbTtqP0VvWDtqsA0/Bb9IiO2PBdOuffaydBgI+88hZZuvus7XQz508PG+1QoxPuXy2vevSD9gflkeRj8/F4FP1KyDufII+U/AbYUivMOeisIFf4tghHZ/w7nl9BbpqQ6/6gH3m7U+2SqWstFE3XabXMdPCbWrjHZR6/QJ76dlT7Z4vfsAu/uNP2Lc2HWEXvOrUYB3tb9RBYahvrKunCXWQTaEtwnG+3rtCEhL2FB599FE7/fTT7c477wwhT3zwYafvf//77bDDDgshY7GzFyF2BLwwsK9cpEhI2FkkAp6Qod2kdHzpsCt/eLV9+39+gmlXMxjfr1dbtcY0wDhOZr/wnV/Zl757HUIwscIEV6JJlk+UtepM/tXJFWNKnhQjDYhHJGRcMS2MVq2/t9uKRb7qCFkxqQd1c8GxCwk6IzttVi8m2F0go/VKKB/hOivg0iYcsBwSIPhCfJgEcsIPHZRicPn0ad8azleCIQzpEYIP9wrUYE/N6nwNGCauc2fPtiOOOBz6w8UB5BdpRF7menj54yBzRauzLNoEcsuHe23evEn/iLgNmQTU2wLkulSygSkDqvcoCPbRxxyjbdW+Qop2AsGl7ffc9wCIfA8U0rIo7UkJ28TbAR8SJNYx1JX20u9Ek7awLxAGQebM74K8ctmO9HudtYVe+lg+CDDIK5uYZTl5Zduj75iWx4hTvzIP2pS6eL+14iXURYEfeSVSiJRwRNykj6v3sIHtoj7zdHR5bz4Us9peZ+XNC21hOMtgPUIdQnk0kK7vtAh64wf5UZzsb/R5aEOkX716Fc4L1At+9i3H6xlnPEkXJ/w1d9TB5iXZzuUX4Q/nCxsJY9xtbLV9LwtsU5vAThyiNgDOEzZ4Y5w0i9IHYZvznNY7uqPk4rMwfegirQTnPI7QSnK9X5tlyf3rrADSbfUTbK7dbrfaQjtjcc2ePqtgK5beYLWjL7T/79J/sH/6/D/YP370j+xZIOJ/9BcX2bH9C+3sf/pzkPCp9ow3f9g+//nP2lc+/3F7z9OnaIP59OP+0r74hc/Zlz8Don4YX6HIWnuZdPnLMO3pb7K/+sxl9mXk/cy7X2iHP/1t9sWnLrC+o19hl73raVaecra97S/+VvGf+4uL7ZxyxZ5xyV/b5z/zt/alv3krdLFOOymdq2zrYMlmH3+KHTv7cfvxp/6fvftzfC1LB+rwV1kdXnMof7+Ospf96Sdlz5c/8yF789NGrVJ+hX3kc39rn//cZfaRV/bb09+EtoCf8W86ezRX7zZlb6ckJOwJ8P8s5eyzz9YF8YQG1q3j62Ixd9qDYF+sWbMmHCUk7N9I/8kSMjRNZLcpmMZiIvR/N91u7/ybf7VrbmveqjThPd/AL29dau+67Dv2S+TTxJuTqiA+yYKX90lrcpwLz6bVMT0SYpJeg9DP1d0pA73WP1AEmauIlDtJgYvkFK6Kk7SRsBQLdRDhXky6R6RH5UG31xF+CMlVdLXqGOsPl6SzCPEVSBJB18sy+Y7pyvCQjQ5usfKWzfBvtaGNG2xKb4895cwz7LxnPcsG+kCYlZd5Ql7o3bhpEybDgygXZbGOqq/XkU9KX7duPUhXCfnCVnQI7yefPm0qGr+CNEU7YMFCJCcp9nim4/GSB5f4w/BUr1hX6EfNW4XtEeNVX63uuj5eKFDZOCZhZI6sd5gvJ96nFI4z9gnr6zsFvN14kQAuyTTKGR0cspGhQSujDSqSLVYdHrTqyFa0I8LRrtXRUZApKMSf2oE7D0TGg13QmbcdX+pHEVuWp50KIT3rFOrBcU1bnfCPrUuMV5qmvvd+pD8S6Dh+o4g4Kg/ty5XPY4QPDg7bY7rFwHWVCkU7+MADbMH8eYrXRQvo9fZr5GVaD2OdY5l5m/cVQZvpXPS2ddId27q9xDRjJMQ3EXKep5kgvikPy4uSD3fpvGaDbZw225754sOsb+1ddt1Ks1knnWoHzy7b2ms77fAFHbb8R5fZa9/wcftNx9F26rPq9tWPftPu2vqYXfvGj9m/nPFKu+DwjXblx95i/+9Ly2zaM15gizE4i5t+a5940wfth4/PtsPP8vfzq+4Qgu4R0zbZb7/xZ/ba933bHltwgj3tZ5+xN/9qhQ3e8592yd9fa2e88jxbvPE79sHXfdSuGjzannqhv2N/6+3/Yh/4f5/zuu+kFAu32GX/doNtPPyF9qd/+Y/22Q/9oT1zhl/kytdh0ZOr1nnYXOt85Ef2t294k/1/N3fY0Sc/A6nwe11+3H7+0T+xD975anvhog327Q+/wf7sZ0N29JNfit9Dvyi0KyQhYU9gyZIltmjRIq0IUzZs2BBiGiAp/OAHP6hV8iuvvFJhXKXlFm6GXXDBBdu9lbtV50033SSJcZdddllmS9y6zjCmZz6myeugxPyTBXWOp4dlfvjDH7Y3velNdvHFF8sWhsc0TH/PPffYP//zPwdtJvuuv/561Sfqi3ljfMzfrh2vuOIKu/TSSyU8zteH9rCdGU49rWGxHNbl8ssv13Esp7XdEhL2FDgXSEgQnCy0SJuJqgvjOmyoXLaNw1X7p//5jb3zc9+zL3z/13bjfcvt3kfWKH/E3Q+tshvvXW5f+O4N9vbLrrQvfu96W7NpKNOHxNKH2ZWEi2Ja+aUOCdNAkDY+iE0kg/k7SParVquOWn93l/V0VW329CIIZlVC9U76coJAD6vZ9OkF5B1R+dTHCV7mz0vYXu0rvZgIMn8gYC4kRo0ynnves+2pTz7Tnv60s+yZz3iqnX/eM+21f/gqu/D3XmLHHrnYentKyM+00Kv80CkC1Wn3PfCAlXq6VWeWlV/x46r4ytVr9fA3f/gZywWpLBZs/vy5VhkdsrlzZltPN/SHOF+15sPX1mTtmq+f2nEc8fhQdtDn91oHoW7Ee/roNku03QkV3Hy7IZ7t6KvIZuedd56deupJdvqpJ9oZp54AOd6edMoJdib8Tz79VHvqWWfY2Wc9yZ529pPtpFNOBHFgXrZLzh7pQlkos852ZZ3lui1+AaHRdlFUD8RvU2I6uLHvXV/wwyZVhuUybRTkoQ2x7rITooshOK4h+S2336aHDCoO9eksgKAtOky2yX7mp5vLn7UnL7igjVV3SrR3n5Jg1y6yD4rU1q4vL61pJ4rrsELhRlsxOMvOOGqmDS2/xm65c531Hn6OzbYV9tsNXfbglh477IWX2Fe//EF76mz8PuFXJ7vIwnNxWsEqK35rV60s2ebbvmof/tg3bBnMW7v82/Z4YbOtHaqApNLefLlQAllfn2lPevUn7N/+5vdscT/XxNHX/OGki34/ftZ06z/iD+wT//whe/4h/Tb7oKcqdnj4FtvIBzk26dxxKdz3PfvHT3zAXv9n/2LXVE6wF73iRISPrUN9yZD1HPYCe++Xv2h/dSYbI1wsLQ/auhUFqx8/y2b0H2Ev/8iX7S+fc7D1zz7Qnk6CnitrZyQhYU/gscceswULFsh//PHH2x133CF/Hv/xH/9hr3/96+3GG2+0WbNmiejdfffd+j/GsK9//ev261//OqR2bN261S666CIRvyg8ZjjRqvOAAw7IVuCp/9nPfnZGXLlFfvHixXptJdMzHy8c/OhHP7If/vCHSkOQaMY8raSaEklvK6699trMFsqtt96q8I985CP2xS9+0f71X/9Vx5H4Eiz33nvvtZNOOklEmfKUpzxFNrJtoj6S+G9/+9uK/+pXvxpym33pS18Sgc6344UXXmjvfe97JTw+7bTTlJZ1YfuSoDOcbUPynw/79Kc/bV/72teUdvXq1Tpm+MMPPyy76H/pS1/6O3WbQcLeh/+PT0gA4uS+STDZaS8+ka1ymzkIACfBazaN2C9vf8T+/ls32Mf//Rp71V/+l8snvmEf//pP7W+v+KX94valtmbjYINAYy6F+aXm0NyiDY0QuFTLp4BD+DTwDu0LRhqtotS1NZfbSov1ipU6y9ZZ2WSdgxts/pRR66nhn+YsTCb5erEuPlUaaSP5ktCPcsPW9p7uiogLYlQ3J0q0jWQGiRCuY9ooW2mDx2ermZ0gdCKREBJCEKcjQbIXLz7CFh9xhC1adDj+iR6oV035vbokjJz00x8IIHVBNmzeZI8sf0R+bx+3W8csAwR8Ff6JeF185dRfSdZhByxciH8ygzZv3lytjMaV6q5Of8/1ipUrbMq06aw4dAVhnVFLXQxoI2wPlsW0LEv1zAmJn+tiWm/fpi3C1B/LydJA2FYkj3DVBkHXYrQb2+6oI4+QHE056gg7BmHHoD3pHnnUYjv8iEPtkIMPgH6+lo22uJ3eD/5Ec0Si3IbrNqAspI+S1UX+kCZn61hpxGsFlnWQ7Tm/9KnzvOyQh/5G3XM20F64PAtWr11vqzHZEqlT+3TYoYcfbKWSjwfqiToa9fCy1d8ax7BTNrbavg9ItIvuTgrbkxeUeMECAWPiKflxOJF0dS6z+9Z22ML5g/boL0rW9ctHbMP8RTZt7XK7CWU868nHWOn2f7T3vP/v7KqHh6Cb9UEZVrTiTHTd5ooVF5xs5y2o2rSTf9/e89aX2OEIRiL1FSyUP7YDxyvDaOPTTj7cNv7kUnvtR79qv92IcP6GeKTKuXP9Jttw+9fsQ296i334X79m//7vN4X4QqZv56TDqoe/1j7+d++yixZNt44Nq2xjxaxY6s/s9vGpA6ufc6adVLrTPv3+P7O//PnDNqh6MY4uzue719mGjbfbVz/6Znvdx79m//KN/7LreKGgbdnbLwkJuxskgCRq3H5OgnruueeKWLaukpJkRjL95S9/WWHHHHOMHXfccfJz5Xz2bH8mTgRv0fvmN78p4heFxwwnWnXmV+C59fvwww+3tWvXypaZM2fqWTK33HKL0pMYL8Q8gLpInqN+EuXp0/G/H6Cuj3/8403lv/jFL1ZcO8SLEARtow158OLA+973vjH6SJKvu+46SSTMtDHeW069Bx98sLayc7U75v3+97+vNPl2HA9sgwMPPFB1Io499libP39+UxjrPWfOHKWlztgOvCDAHQ4E27G3t1f+hIQ9gfSfLCFDu4nOtqRcBnntKmGS6BNBkUUK/dogjE9Iiy+ftIZJpSZ2INH1etk6asPWVRu1AqVKtwwZAQGHnwK/hP4qCfeIdY4OWaG8xTq3rrO+2mY7ZHaH9dSX2tPOnGe9hTKmxbAAhTjBioQyls9pJI8Z58THTXQbOSFnGjcy82TH0oG0rKeTLZIfJ0NxKzJXY+P911GcJMEFcS5qCzIvELiQTG/ZOmS/+MW1Nlqu6onnXAvzMrneRsE3wrcMD2GCuznocymBfM2aNs1mQmbNnKE6cAt+kfVmQyD7mrXrdK+434vNST5bAUUgjmW1Cvss9inrHOvJ93Vr6z31sB2YlLogMS8/mT/E+Se2G4U63OVFBOosoiy1kVaz2bYuut9fwnvuu6zUWYILKXAnAds2vMILcVohptBuGJf1qcJimaF8pI9buJkOX8HeOFbGFyf9ntfr4n5dWAhl+liCyA40lNLlyg/HvFCCyuF86LBlDz0MvWErO2TurNl24IKFxne6w6qW9nOJ43wydu8N8d8F90e0ptl9Mpm+7LRr1lesf2il/WYzb+n4ta3chAne+hvUB7fd9qgVT3ur/e1fv8lOnNZnffi96ey61h5eMc3O/Ms/s9ff/E37/iOz7cIPXmZ/84YTzO76hT2E+rJP2ff00h/bACYFt8v+b+laW/ic99pXP/ACO7TYZ9NOw7l7zyobPPpl9ul3nGm3XH6VPbTg5fbRf/qcfeQPnmlHzaeOFn07JfitWvo9+59bS/aUd3/Evvy5P7WXz3rEfvE//4ex1agDf0aMF/3uvN0eLp5i7/zrT9g7jp9mfX2zFQ9FSIrz8/Zv2w+WL7BXfvgL9s9//nv27MVzWsrbOUlI2N148MEHtaqbJ5VnnHFG0yopCfH999+fxb/hDW8IMTuO8XRyFZw2ESSWXBnnSjeJI3HJJZcoPS8acKWeq+m7akX38ccfDz7TCngsM2LGjBl29dVXj7k4wYsYXJGm0N+KqJfE9xe/+IX82wu2xfLly5vKbg1jm3LlOxLyhIR9AR3X33Sbz+r3As46FZOUhH0G73j/nwdfA3zFTis8hMSqbg889Jh1zD7CRqwPYTVmUCzB1Wp+CH5XRb2qoH2QSoeNblljleH1NlDqtP5upqmF9CTloZQw1wqH8GACBi0sH1NC6+0uWb06iH82K+2wmVvs1BPn2IypVSvxwbvM01FmFqAz1CXoZxSE6+33PozJ9UMzrKNvCtLwVUN+D3tVdWFKgJNLlkzSw6d141Oo1OxJp5xkRx+1WElCygycKLaGean4lm6fTFZDos1bNtuPfnyVrVy9xrpAkrnSzcm1kzuSM8MEmLN22F2p2MEL5tszzn4qJrx8wBT1QhH+7rr7bjvk0EOtp7cnN1ntsMHBUfv2ld+zDt7/jfDYjg7QZOpuAWNFIOtV27Rxrb3uta9BSM3bFqBTQwP/4lfX2eo167WzgXeNEtzFwHi2P8tTExK1si069GA75aQTccB7WZkqTKyVRxmCZYzDoQaAhzAdLICvMdYIjh9PA0Hy39x4i91+510Ghi4b2etdlarNnjbVXvLiFyEd0ntS2Ui56ifX2K133qe0NZXp5TcDdURwF8bW0Uctshecf56TyzD2aVuto2A/+clP7bZsy2JoE9h+5hmn2tlPOYupZC3BvR8cnt/93vdtybJlNmfOLHvZhRfCdLQDG67eaY8+ttKuuOKbSNlhL4b9hx5yEHIG+2AQdwI8smKN/Rf6eHBoFKlCm+4DiGMrT8D5sLmJHtQYEUdCHk0hOojnwFh4KMtpHx8RHwxJl3bydoAKznHarvGBcJ53HBusAi94aCzyeReI48Ud/n5w3Hi815lpPJ3XNYbTppre24+xGcommDamYRh1yYZMt8czT/TT3Vm4DbyVx3+HWabb4eVQYp+539vKiw4245gXn+C4vaFOuoi2i+wkvnfFfwZfwt7GDTfzQX17Bntqzkiy+LOf/cxe97rXhRAHiRy3MnNbNMc2V6K5khy3enObetzezJVzEj6SQK5EcwU9gqu9XHnNP2WcZZJgM187nVy15T3V55xzjvJFW974xjeKyJKAr1ixIkvPsvN6zj//fG07nywJpY20hcjr4bZzrmbTXpZJ8EIFV8V5T3jEu9/9bj0lnWUS1PGCF7zAfvCDH7S1iTriNvR27UiwLaMt73nPe3SBgVvSuQIf60/QRl4kaNcm+b6gn3FsW9aHK/FcQU/43cSe/C0jEgFPyPDOD3wo+BrgBKsVHoQJGAjHgw8/bh2zjrDheg8mWIzjZFTJAgH2CZhICehukZR3dMhqm9daf3GLTe/vsJ7OYeuFFIs+2SQ4ASTi5NvJUAMMJ5kxUH/wTFu4YJodwPu+bRAT8bIm457Xyye8Lj65dD8m1PWC3f1wwW5/eLp19E5lItWLk0e9XCeWG4gDiZZe6wUaRAJ+Jgn40Ud6mhaw/EbpWbMA0MMD6CP53rJ1iy196CG74dc34B/ACAg1yH2pGwSc29o7tDrLVVtfRXM7iJFNG+01r3qllbppj4c5zWRZ3t4McUs67O677rX/u+U2K/b1KQ3DhGhY0JuHyoMLS23zxnX2+ov/MFw8AEI+Xlj5+bW/CgScFvhWVdbRW5uqOUGnLhxVq7bosIPslJNPwjEJOPX55Nyb2+1tRigsxDjJZ1gIR2C93qgvQ3/zm5udgKMdOf5oSSTgL30Jt9uhXOaDTwQL7k9+8gu79Y57ZVFsybFwgtEJAn4MCPgFz3sOQvjxdmHbV40E/Groul3HzENwa/5ZZ5xmT33qWUrPGEIEHNmv/N73MBFYhjHQYS+76Pdtwbz5XiV8FQpF+/evf91WrVwF+19khxxyMMKjfWyRmj2yco1949vfs63DIzjedYRn50FbeCuItwPPKydzOswwWXPZjk2AImpuDo4H7fqwPeL5TsfHgEPjR3FRHD5mG8fjIZ8u3ycMm6yO8bAr+3giO7ZlZ4yP9rSm3ZV2fveb/xF8CXsbT0QCnrB70O5iRELCvoI9TcB9NpSQAJDgjRFMmsYTklHey4xpl8i3b++NW2N98s9VFG3rhi69Cqg2bKObV9qB06bYNJR59EGj9swzS3bu0zrtuU/ps+eeBXlyvz33TJfnnNln5z2p156TSTeOi3buGV2QTjv31Bl29jEz7YgZFRD5LdbdWbEibYM9vL+bpI/30Erozwmfsi6CyZUshdF+X9XCV7Df/ZH4NrVJyBPrG0UrPRSQDa1ea1s0BOWQ6VXKFVu1aq3defc99v0f/tD+41vfsqt+/jPbPDgMo5FGwskqJ7DBVrYvTYFeBHi50Ll23VqRGgnD1f4s09N4Ond/ezvId3c32AuPqTP2TRSvU15YaFZfWMN8qmfo51gGhTayfPU5hO9lZz2ki5HQwI+CaWMUtVFOtPU6Stii3+FSgHTqfnaPo+vty3rSpY5GnWk3yRrtjX1G8bLZJ0gX0vNVcvFd0m7ztsXrHsrM1Yk61aax3JgejehtyBVBLz9KAe3CNMisC07/95sbTc8TUBzodaViRx99FIi41yef1/V52snavkdFNjW3hY4ZnhelmYwwbUPYx5nOMWnyYROLtyF/D3wcUNgftE23FeTCKdTfGtZO8ukadnnYZHWMJ3l9Oyvt9EeZbPx4umL4rpCEhISEhIT9GWkFPCHDez74keBroN2KhweBdtdq9tjqtba1Z56VOwcYBOKQmxxpy6Wv//lqUsW6tqywKR2bbWphoz39xD47/ECuWvI93EhXw6RN14SYj3vI6UVOHIbdmwG+NgmKZ3o4GyRuUda2R65XgVxz0hwXaxWX1QUu4n2Vu2R3PVyy2x6eah09fIUXrOQKOISxLJf5RFjx0WSyWPD3inMF/NRT7dhjfAU8Tgy5dZUlXfaZy/RqMB7wvl7q0aof4mgKV45Ha1WWohVY5uZ94kW9EotEk2SOxND91I/DbBJaHx2144872k495UTZpR0HAeqGWF8469ZtsP/4xjdt+tx5VmV+tEsHHzWPdGwiJkcVx0B1llvTFvQ3vOFitbsyBXB18Oe/uFYPhqsZyCNSsA2iOrpOcLzPDHU+4vBD7bRTTkZcGZFUpoqp8T5z2Wetu7cfdiMP8yJL7Du1IXTwm/WbO3eOXXTRhfJrzEQg7w3/9xu7/Y47ueyK9Lz5AZahz+dMnWq//3u/x0ShbAAFsc1+9MOf2S23cwXcy1GaMWisgB939BH2whec7wQ/DDaO+GpHwX7445/Yb2+LK+AsgO+gN72C7mm8dUAxsSFRHpR+6zs/sPuWPYzDqnVjLPzha17t9/MrXaetXrXKvvGNy+1FF7zQDjn0EM9KIG8n6vLI42vtP791pQ0Ojyh4nyEr6n9eeOBoorle39ivEZO1F2dDbNUmeCjbKq93+9qAub3v3eW5G39Ior37TLv+juI73/h68CXsbaQV8ISEhCcC0gp4wl5D00pUFEw0J5ISCGa1UoafBCqQqOh3tijhdJUUyEYGbf60Tjvu2A47/JAqJuRlkUeuRnLFmHm4/ZbbsJUfwqccN6nHl7afhwD38ouFkKQyvxI25Yn5JPj4CmiHbR3cCsJLguskgUJd8GXH7mcjYQIOouNpgi7YmBetpFEXiHrvlCnWO22q9UydYoX+Puvq6zPrLlm12GUVlF1DnWsg1z6tJ7HzbencBk94+dF1yeqAslauXA3LUBY/LDtIfiWa7wF/+JHl1j8wVfpZVl4fn+oe9sS3EYZTnNSwHNrZVJbKQ1ywK6s/JdNDRD9tZ7lBR0jrr3nju8qLNn/+QpsDmT1/gc1a4DJz/nybMW++TZ89x6bNnGVTp8+0AsYfdzd4XdiHQaQ3hkP4yY6DzXlR+VE8Hb4mlKiP+cfoxLHXKyZHWtYZbj3al0+vY8bD5V4RuOVa3R5YskQtxi/qmT1nli1YuFBp83ldfAWc9odC9xnJPllQLmxHPq35Ma71ibp3kbA3+MFBkn1JEhISEhIS9mOAniQkjA9OQluRzYHw1d3bZyMjI5yiAiQcnLg25kjZRBaEoQCiPq0P5GJkrR09vxckeVQjkLzbuTfTRf2Nya8+gdBE8qn46CdxYV4QMX+XNo+hA6RSInJYQ1quzfodyuTndK1WtHXrh62ryCeDMw/yUx/04iiUHSoUwgiGxbhI3DIbUQkRLKYVwe60KoRuDQWTdFeRropoUVryW6YNNSbf5VHU78IyQ7nhmNueV65caeVyFccsO5+e9YAtbFiAW967e/yhbHqtm9IEnfGTldEsiJJkOlsklkdhhtgvaMamuFbxNHk9QVhcCMOX1dmGajcIlOqVU1Qum6GDaaOuILEMfDX7mQsus7uEMmN5TOeaJ/cJ+d2GWDb1eTzbOi/4Rhp858qPErfJywb4udj60LKH3B5dWODzAAp29tlPDc8FaOR1gX5UAcV4nn3pwzqzTWijxKvp53xDYvhkBaoljWN6ohulkW5bEk/FGNT4Tp996ZOQkJCQkLA/w2fnCQlAfoITPwrHJHaseHhvdy+frAHyUAUB4DbYSCyc5IoUUDDUuG27uwh/5xYbGKhZoVa3onHTMmKZFiQGPEMEulML4Nz6TQ4L4hHE3+dNvSTSLM+FZcgvDsXSWGasE8JRTkyrsoJUKj22cn0RhZRgL/OTCIV4fHldeZqwDOqW18FjpgdBpPjKPbfZ0kYaQj1uSfwgxG1TOHSCZcVQf7AU8pNM4UMojwpGOuqXPSGI6ToKds+996FM+FVuXlgHbqWu2bp166HJbeE7z32V2HX5PdJ5vVFq+JIZcqST9YPky3HiSH2+Ahvj8xczsnaUzdSNfLKPaRort0zDDeZqHyTIwvWh/Z6XFkWXbcx7v5W2RZhB6TI7aCvLRXy0k+0a/SGtdueHvGPF4/jFY69DFOqFPfTHhC2CKPWXj5Nmob1OAj0tn+C6acuWrH/ZpnzH69x585rz5tqcWWO99xmJtqlPvG55P4Xt5e3SELYn040nsZ+VTn3L8ji+oz8et0qMaxV0P9sfyE7zXFs2ymrNl2RPSkJCQkJCwv6MONdISMDEJk5iJ5LGJJbEp4SJ/5QSJs7VUesAoeZOZs6PNEkKQoqpiROGW3xQFh94lZFTzqcgXKHm86O13TneaxnEwTCSaRCYkK8hJG3Br4k+CZmTkoyYUBDvZUHwteTxjVaafgAIGO+3Zl6Gw84wSXciRb2xPJZDXe6KHHJCHibmEihhfn5Y52xJkm0Tp/VwWEW/IzyeiNAFH9uWhnh5igBYfhQaCt1oy1J3j912G191lSu/RdatW2sj5VG0alTGHslBRNu31TeJ2isntC7o1EPAIOpDNJxMQhon0e42HowVxdudeqmDW+OjPhf2mfYnUFlLXpbV0A/tWVyzjoZ4Oi80psWfuygne3d9TM8BkEvridk+rYKvkCbWRfmDZMeIjzaz3i5x/KB8brdvyed9ix5iuyLdSKVsN958s9KybXjuFAoF6+/vD3oa+Rs6ov3tbN8bwjZiG8C2/EfhbjMfMpe3fZsS8kfBV9Nx829Va9y2ReMsfHRujqlTkr0qCQkJCQkJ+zE0t0hIINpNRBvCCW2cIDf8JBVzZk6x+sgW66pXEBYIBsJjOh442SQBCfkw2dbKdlwtVJxPfCWasOcFeqkK4XSRXTqcYHPl2udlFOpigbovFIWiRAnUKLLeVbdqcdQG6zV7cE2X9U2dj/xFZOb9xzJcbrMoODvmQfRHEuH1JbGiZKXSGtkjqq0vhrl9ShX0ZvdZ0+gMnjaqYUUjOaO/2F2y0dER27Bxo8pm+3obu/Ce75tv/q0Ve0o4hn5dOPDytim0LneML4SgDIaHOkuCPX5xgfWMH0deR0NchyTao75lXSnQJmHHMg2JFF1KXk+UoCsvCPfmc7sE9gMks13p8gJd8dOkv5243VFHXp/3Q0zj6aIoTZCYJwtjmvDxGyY67a677rPNg1sVT2VZWflV/xiGDxJmZe0LEsek6hjD4EePZjLep/k3oCHUgYqifVyi3p3/wMYo+1g7JmlIQkJCQkLC/gxxlYQEwee04wi+NPGhBMBLYjy1t2id5a1WshEc10BwSCQ93sVJlbxwSTi53bsLrkgbozmNJjFScvcrjGmYN3OVOLdFGBKIWzZBgw5N1PXhMSfSIS3IN0lotd5vDz7WZ5vKM2Sk0nNFkp+QOBKeJkE8JZv6M138yO+xdEVBUQ8eeGoGIrQWnrHMOKVVrfHHHN52rqfhicfSjXJITrmiXUZbd/f12qrVa5jd7zX2VEjn9xHfd9/9usgBpgMFyCvGjwj4JxbWv9EGLJdZvW29DLoE/UzjpBm2BdH92kySE/ZyI9j1urA9ESYSzkiGxXR+HDwuqkLMy5DQJxKP8whFuos+1QWMTEvML59cbxuI0EjZkADubFCyXP7gh2NV9HPMk7NKPew+Sssn5IVHtvIGjZFyxR5csqyRGnEZEc19fLyD2OrCUxhT+4Lwj+co7WXba/zhj8cMz+Jyx0EQ2IjLiVSzikFqEHZHLHLnBH3FMjKMSZBkr0tCQkJCQsL+C05fEhKEdhPdsULyxNVIX5HkHJn3dc+dPmDDG9daR60iXVy9i1ueufql+5tBapx8kHxzFdJJjkg5FI3huyGtz7HhIrkEoVqHzVZ8WQYECUnq6acb/fn7vlEDaOu2JQ922E13Vaxn6nwrFFEXlQ1dUOJk3AkN6yyiQ+EnHBN0SBLc9ihBB0TxLE/MgGisCjv5DrQM0boYAU8kocxGj5frdkRxY9n+PO60Yqlk1WoVZXJFtGELbatWa3pSOPN4Xpe8vvEkI3n5MNarpQyvb87eIOxzz99sv0tsp4aueC84emps2Swr5GuMvzAGpQeCRswEx0wfdUgfNSM90Vh9ZlrYKtePkTRI3p8XfIV0un8+p6chGP81Phch1J1dhvQcCjFeW/hb8nmZUWSqVSpVW7pkqfx81kDMn7dfEnQzG/PuK0I7aVVWL45oNEQI1Qc92fbDNO1kt32ijRKUJGlfryR7TxISEhISEvZn+Gw0IWEcNAhPmJSSSIAFUzjZx5fVQZxmTu+1mVN7rLx5rXVWh62rVrauehmcuwoB7eakiaNNM6iiO/j4fdeuuxVaxEM5tS4KE3ZDepC+F+GUniDur/N92R0Fq5UghYJVi5SiVUtFqxRLNlzvsVVbBuzX95bt2ofqNm3hMVbs5NZskl7WhfXCBJ+EAce+ARguKl2AuB82Ib3qowsHyCYiFEQE0PSUagEO06jd2JZQQOqtCwkinC7MxFXLjnoXuDkrjjAe0w7qVV4qQQycLijgfbMi7iQzMV0m0NdZAOHzvuvka9b4bnESOOZBGP7cFf3xdEobJFuRDuH0s0BtlQ7lyKWpqqAfM+3Y+78ZzjS8aEKdXg+3NdzfLCkgL1ylo62sR8M21wP7YEo89jaMulw0XFgI/tiPcbs/TRgZHm5Ky77t0v3god7sd6T3N5pTRfMH2rJQtiff257X59Jlw6OjSEYNKBn9qhwcY7QJabKHzAXh/d2yWVdpuFWeNqA98Fm+/FEbLVMf/lRvl3x+F+hmGlm59z/sP16g8L5wlx80iIR9w7rW0C68IMd+ywvHYExLYXNSWtNRdPGBZY0R9m2zcBy2iqxBm/Pd/zSLDy+so0yuhqfPvvVJSEhISEjYn4FpS0LCeNjWRAfTfCbBjJjT/Tkzp9qBM3qtc/Mqq6x/xDoHQcaH1lnH8HqrD2208uBmEc8CyMlkwEXiSq3Prv31oF3x4432X1c/bt+E/NdVwb16hQuO/+vqVXbFT9fat3663r511Xr7zk/gUuD/5tUbIBvtWz8bsZ/c3GkPbzzIpk0/AhNtTMRFAEhaAvkKJIF+1q99CyBPWMGO+VuRhaqB6LoTwcNIolyNp+P9ycHj7ngQSY+QtpzkoHogrdztAzlPUz0VAIxRhf5XWEzrYFBrUr/84CDhaQZTo/31aVNMDughfTvGpoyl5E1WqprZxs2bSa3U1rG9RaprHSLTSqSHAU4M6tbDw1rbVio7bNPGzfJSNzUGU4Ihnn9cNCXutK2DQ3bbbbcjTxgzEyAOuX0K0WbUiz2HVuMlH1Vvouowiu1EiT0+QfIWbF/qPCbqmoSEhCc+lixZktzkJncfcZ+I6Lj+ptv22lzjrFNPCL6EfQHv/+gn8Z2fsLp/oglynifWajWrVWuiLls2b7GRchmZQT8gWs1D4tm9Nesavdte9qIF1lUbRnTdqQ70REIUSVG1xrz99p0fPWbra9OcfGAazhXRrk6uotOwYAD8hXqXpvVbO/qsd2CKJu3QphQidR1dVgP3r9VhA1eXWb8OlA4nlqs6qB5Vbd/WR/aQQiEpuWwXV3hBvpD16Wc+2U484UTFifgEc7ii9td/c6lNmT7dKiivXIFAZ6VSsfLoqFWqMi4Hrr759v3u7pJWQ7sKnVYqFq3AlWsQvS6uYsMArig6hQGgm9v+TzvlJDvpxBNRFd/4L2vRJoNDw/b5L3zRZs6Zi3bmfdnMw1ZU7ibogoA3VmgzrzMMQ+qqbdm0wd721j9RGqULoN4fX321rVi5Bvk6UYava6oopWPbu+hSDep59OJF9qTTT0eMjxGlQd9x9f+v/+Zv7bDFR6B09Bei2P7sM+riVvtaBUIX7Th9Wr+94hUXIlEVmlWYwPH2q+tusJtv+a11oN14kzDjWaetmzbZu97xduspldCMIQ/HBvr9l9deZz+95hpDd6keXgtKA3FdvLtetqc95XR7znPO1XZz7fRgCahDGd6//fQ/iDhrZRXhLLvQWbOzn/JkO/ecc3Ds9jhoR92+/o3v2B33L22QaNjNNGz/WVP77ZK3vNlKJdRHDZuzi33UUbOHH1tl//Kf37Qtg3w3v7f53gP6m+OWD4tT/6MuqibqTPv5UEAgtsDYEbmdUKPl69t63EC9PvYCS/YbAL/GXGZZwr6Gb37tK8GXsLdxw823B9/uR5ozJiQk7C7syd8yYqfnPAlPIHBSLKHfj30KO9GnMc2V4IubOadO6bPZMwZcpk+xOXBnQUqlHs2TlZeTcgxBiSbozcKttPXqJnvmU2fbuU8r2guf3GMvPKtkF5xVsOedafbcM+v2nLNMcj78z3/SiJ2LuMH1j4IglzD5p3SDsAY/SFYBhKZIoq4yUD+6wXZWOYJbV2WAGDddCiMoftxqryKVniv8fqzwIHw4HYkjJ/keG+ouyZJBYInICSRENJUV04c8OHQX+eJD0NwerwJ1OQUM5eKL9c+L7tdmesYHiciO8RVLj7ZQWQxrzRvbM4blRd8hv4N+1pu5WPdQTs6NKbWBooOEm+0TS2m0uUTkmV5vnGgrrSqWirZp8yZdSGG43xcOP/p86rSpnlZ9TwnOGPH+mTF9uog7QhDWKGfr1q02Mjyq46x9GYWUvPebaSgxT8xHyIkCwu4N22Fbto7Yg0sfUrt68lz+YK9f/Ih1jun2jqjesIum8YIPP24r7Ivty/ggPG6qE+N3CGwwNZqO2qG1HKakvXQl+Eqy70pCQkJCQsL+DM5SEhIEPZ0bUgVRpNRqvmE4StuZUBBu6aXEY92bi6ksV60bOpBOijgR5wbUSK2QJQgXJPPC+3On93bYwr5RWziwyRZM2Qx3C1wI3IX9LvP7N9vsKRttVn/ZCgbiQw6CSX1jkh2OMfnXe6tJvuiCzcX7QjUBp90Mg18P14LbNDGHqDKAjvNx+Gr4WUcmxJFW2z3cV2nhU+IWEYmk4dTJPBSG55HPE4gG2jirY04Yy/DOOvSqQVoStBF/QnoQ+ZmP+SEsJ5rgjh/LRb1yehr5xwoJYqPdou2UkKSp39wmuh7pq5O6igNNjXSMim3m7aZw2oX2V3LmYBj6d/3GTSxINiIa3hr6vW4L5s/TO+pFkuPFKOqSAqQNx3yYfk93t81DepWt8vmhyg5bvXqtFQrdyB8vDBB0eXkqpIMOug3Bh4p4lCkNx8g3PFqx+x94wG0IfZEXr7m7zTF7SWC7LvnAjVXRKwPl+nnWJErXLI1721GrNvHtheOC4mU2jvPSnAdf3tUyDtJalyT7mCQkJCQkJOy/4HwtIUGogx1TOnzfL0KqOK7imNucPVwiYgIXKaJo8o9JrBMAhDlTARrp6NcxJ7iI9yNfSTRuCdW2UJQXVhc5UbaOCqjHkHXXKlbFca2zihRlq8Ddikn5aL0om7tgYw2T+Fph2CpdVdjACTtEE3eXONxljwgMt2tD6iBfFNrP9LAvTvi1OocMzM+aZK/Won6kkT4cKy2YHEIZgDTcWk9XhclVffHFmvt2V26rjiJNTAGBTShU+lUWnFAPDyKJYZmwAgHc4qs0tAE6KPwgE0KdfFILreNlj0gJ89IKhSOj9KksT6m6B1EYRM3ANmYJdBHmK+ohb9QXPkreUJOToDMgjAxBbQdhrMYW2iCm1XiiG/K78JjtTj9bHPnpZxsUCrZy5UrlQSrFMw/tXTBvrh104IGen7FeVAalrQ1bJxj43HlzbMGC+V5P6WE83U5bs3atVWvcXs+NzLw0FZSoLPSF0rWKJyHyZXswPGjoJcseskql7BePcnmz8aDEHNc5o/cmVAcaxYHLQ1rG4zb2sQItwj5jSqVmtijtoLjtq3dj23n4JYK/yjCPTkhISEhISEjY5eBcOCFB4E7aGsis7n0moaVU61bJHXNqqglrkDg59gmrz44R7GmQnu9C5n27lbD1mroZz8m1puJ0c8LwBpQQf9BFIiO3A+S7YHc/UrArfjBk3/j+qN2+tGCVWsmTdkIn5/pkIs5W3ZXQz0R0qTr4c0LHSTjJLgklyI2OEUGwbrCDdWi13Z/a7cTIm0KthbSoMy9cRAWAopvy8ziEKd4/ntLhcfjAlsaFBa4cFuSXrUE8zkU66GZ54EeabQvT5fXICEmz7RCWEdpWFw7UZg1huCTY7qpC3hYJkUjn4n7qjPEdGFtoV4wtHseLJa3iYEcFL1ySLOp69NHHkM93OkjwUVGIv/D3f99mzZihVfDWrfkYgVYodNqMaVPtpS9+kRWKbPvY5kwBF/qXLl2q8R/roKhgP70MyMpuI9KDT6NPYUGhy9ZuWG8PPOivJCOYNhuvIS0vsMhe+PeuqJqqr7etnwN+3jfiMlGeFlF4lEZ43LbeLF6OXEk9SD4sCvU0dHtBPlbkRZp8eUn2LUlISEhISNifgWlGQoKjplVoUhSSa1+R5oPBKHzIVLyHWUSckq3eIg8YqYdxFdvzkO74ajm1Kwm8fEgXJ1Asp4LJVCDMnPhCOCApfMgZU/Ed3tIT4qlh02DNfnXroNX7T7Xq7CPs1oc6bMNg1Tq58o1ETBYn+ZyQ+3GLaK4d00KQOCM7CNEEHYb4RJ3HgZDjWK/GQti2hIqpO3pYE118GBeeGpndG/TEchUcozLhh3WN4nkaNtBli5KYsaFdsrpuS/JlhbCxZVBnLl2TMA/Lo7A/mAfhOHZp1uX6PGd25zoPFcKxgXpQEVylpS/L29oObbY1My/cx1etspVr1uCYfcnXnjGe/W3W399tr3z5Rbb48EOtr6eIdqtAT82KGJS9xaIduehw+4MLX2qzZ86QflYslkcFm7ZutYceedj7WxbCdVPlifVu5GtIBH1RiMaw6bRf/OIajCPEtOSVIEVez96DW+91RbvQJglqokEVj3dQstZxWp+J4pui20vWom0iM/0JCQkJCQkJCbsenAolJAhc6S5DqtUyuDefAk6y7YSbT6Gu6knTTrKr3BIOEVEnmYZLyqSnUUMHIpAfqRnFQxzzAF6UU1Act5uTkXJOTqrXEH44nY4fxjc+5Rq3mvdbtYukbgBqSzY6inJZVrWEY8RTN23lRFsFhIm1yABIV2fB6l1dELogeoGYudDKuOIOnRCGZCSqBWNIUJD2wCnHm4516sU00u5egX5KuPAAHzTCj7YRYeQ96yTlfP80wnk/O9TFcmNdSDa1OspPZxHhSIT8xrpL8TaENylT4FUbwh5aDQtEPFmWXCZAWdouHGSMriDRRj/MHzeEF2nEhEXefNs8y2FNaAWfjh+R5ct2PuQE4VDkCQO0I4HtA/nRT36McVMO/cF6demZA3y12Lx5s+11F7/K3vInb7BXveYV9sqX/b69+hUX2jvf+ma7+NWvsoMPWOBNiTJon9ad4S/Dtu/+4Ps2NDKisdPas0RmcxtRezIDhI50BCF4Lq7dsNEeWf4o0nIstOhgK2mghgx7BQ174gWsnRMfB+1E42R7JObTbwLFz/WEhISEhISEhD0FzEQSEhzlShnkeFSvyqqAhNdwXK0Goi0i7qScwu3kRhItYg1Sk9+mDiasFXOQYB5zG7pcMuSuIsop2ZYNkSQgL1UgfiyoC5EA3ShT+uo2o3e1Da2/zwbXPGDTO1bYtOkF6CjYyDBINUi4SOC2EBk1nMwbJv0ifJqsBxJA0uYJZDUcgdaNN4Xn/J7mZ7aLOML16Ba0hnpaguWP5VO6ez34G2kJ8Qp6YrAYHSxEfVQnxjatSo4jJJXSxNpFpfmSsiAvgq47GfLHqoc8+Z8dhrXmQhlNJLI5vv1YaQ9R9ti5QtCL/nz0sRV251334LhTF280nBHnKRBQL9us6VPt6EWH2bFHL7ajFx9uM6ZPQbivzbMWzZZ12W133G33PrAUnD62b0vxAhsr34oBIaGv/dMS2tBoWI/t1MWmu++5n7EtWpgiFtZG/x5G1t87gUnpQBI2XdOQ2SbG6YOEhISEhISEhN2MRMATMnDluwryrZVvEm2SZq2IUxrkmyvhGdEm8eaKdyCZXHOOpNvvJXddfJib3hEOltNZmmr3Pzpio9aHUnGMeRLKeu8AAP/0SURBVHAHyDO3q/v2YVrjRKgxUYaE+XI30rzorLn27OPX29nHrbXnP3OGlYoj0F+0u+9dYzNnHoTsvn3ZlbXOyn0lNR8ukh0m++4PZDWGQbpAqrTqyE9GIlt1IwTKJcjb2KbvxJtuo04taGIQDX+k7J435vZ4d+GLKiGZX2g6AGT95D6seyaoL+yL5cVquEnBBn23QNldV5QQ3DBL7ImuH8beiQEsQ+0XCw3QMwhiuIKpNYiOY1qVlgPjuTrbaddff709vuJxhfH6COtHdWpDTxluh2AAI/CHSJFvHHYiMcctP8sfe9yu+eUv/XkHntA1xKx0hUidQ4C8Ia3yMTAeITKXlO1XR18sXfawlSsoB4m8dGhFuO/YCIn3MBp95Hay+vk+J+LxZGW8PPiSyI9WavqEcI8bi6bWwYHbHc7RnCQkJCQkJCQk7A4kAp6QIVvxBhEnifCHr9VBykm8a1YJLh/MFle8OXGNhNyFK4lOZsgOFMZ7yUm+4edqemdppt30YMGuvWXYhqt9mAMjUyfSkUj4fFpfdDhASaXjPeHkFh3QV+oasiMP7rJjDy5aEZPlrsoUW7rS7IEVXdbXPx1pSFSohyS6sVVXkKLGKjclwtM48dZ24CBcN9Z2Y6YHEecryjydYvQEdOUPQnDVnKv+nMu75Cf1aiD3Ir8LcsqW4A+aYn75KQj2uhEoHQc89Kew5/Pz2zNyAR/mK4TisTHteOIpQ+2Rn6u6zWlIRUPp+iaa+R9yovD8Pey8QcBjaiKwrsk/vn3aNdN2t9/TE1k7hEZxlyHQEuLouk0cT/AhKtvBoHACpXUWbfOWrfaN//qm3XXvfRp/ulVCfUs7YTeS02bPzgIaQhvp4zP377rvAfv3y//TVq9Zq3OAMc01o32xrdyK2Dc64vhpdGoGhrgW94vYg2WvWLHSHnv8cdjFtXIP55q5WxT17j14X7O2Xqd4Hu0yUFVQF9sntlEesdys7Cyfp/b2QovhPM3G0z7ShgkJCQkJCQlPTHAWkpAgcNu5hKvg3IYOQl4u+zHDIzl3F6QbhNwFx2Ad8T3ivEdcq+BaLW+4CtMkt2T9/YfavQ/NtP/91ajdv7Lf1owWrMb7sTkkRZjhkLRBuFLJSbPm0MHlhJrkakutz5Zt6LNrbh21n9wMmjPjCKuXEIc8JI1OsEmkcn7GwA3qxgjj6ONqN1e9+Zov2hBdli1CiVQyBn4RvRZReZrH40sTe4e05y4KNOdBLP9awl1CXkgX9JE+OIVg+xSYSUKyyAsW2kCuINgMu6mbpFJP9p6kKK+ess66895zJ+G8j5qcEV7EIR1tCXn8yeG+W0A6gs0E03lArJP3k+KRXro9lUBClJFtLVGznBCpccG6se7MyxoHF8J2cdvCJ18eXaZDfQaHR+x7P/hf+8lVP7eVa9ZZrYoCUJavcEcijvZjG+aEW9YfeXy1/eSaX9nl377S1m0ZAgnmmPH28vLGCsFV7DrSMr03ItJ3llTvxkPk2onXt4KE11x7Hc4rakM4VPCL/dw+316SljabSNrlb5eO0i5tkt8dSUhISEhI2J/Rcf1Nt3HOt1dw1qknBF/CvoDXvvlP8O0THJIeJ12Y7CKULgLC5BeTYE72NRkiXSIH7fDtryAuzBsJOUm3CBTTIh3fwVwE0S50FeGHjhrIfXmDDY88Zgf0bLWDF8yyGTOLNmX6KHQiPcsFuOrOAkaHyzY8WrY1a7fayhVVe2hjv9V654LQz7TOUj/so820S1RTZWZsDtBKFyG1tIuRwUbYqlCE8aNXXakufkEhA5Tq6ezlqh10wIF2MITPctI2VpJEtgPkqqt/ZsXuHpGlMr7KlYqNjo54GjcgB2ZCWCdfc1WzUqkbLtqqiHZCexXh7+wCrUX9dFFCdUNdmbNetpkzp9mBCxfCH9ZBqQ6+kWrVrrnmlzZ/4UFICbJXhwB1PXxqYtBKAqpwULNVqx63Z5/zDK1aa72VbQawOrffdRd0OvGtshzm4nihTwrcU0C5HWjPnu6iLTr0YNnLixd6vBvGFHX974+vssMWHenH4RYG9oUu4GC8lCujGDMVhJetv6fHTjnlZOlUjQM5I+6970FbuWq1LpygFOhmf7LeKA/Mlf3Ai0k1CgvGX19fr02b0meHHHSgHXbIITZ39hzrH+iXXo7prUODtm7dOnt42UO2bOkye3z9ets0VJZtHey/AC1m0w62FdsJfwziuFm86FA75rijcVxHW+rbMyD9r3/zG1setsS7ENEFoIdgu3WXuuxZ5zzN+vt6kEItbetgz3U3/Ma2Do/isNEWewL+m8Fzz0lyF8drB8atjlk/Gj/+uNM5OElsT9qIpjzob44FndcIrnBcoA80RvZckyXsIC7/138KvoS9jRtuvj34dj/SnDEhIWF3YU/+lhGJgCdk+MM3vTlM2EnAQSgwcSYY5sSbfq5q+sSeZJezVz2BWvl8kktiE8kOiTPJjU/MQRlBhkTCi4WwugyiSZ1dHVatbLWREZDxoQ1WLY9qJZUfTpK5HV4r8iCxnDD39E613v5pVoDbWSCZ56qj26SVVxF3XiiAXUgfJ9/uQlQ1uHlSwMk4HZBEfriSXwfpV33ChD2rJ/IX4B8dGZEK3cfOvFSHMmgzn4jN4qiWBLxCAj4yqrjYtg3QToR1VtGeFRHwEsh3sVgCES9CfCVe96EHkqm+wIfljo4Mi0yyTrwoIjOoFsSnu7fHCp0l2BmIMUkfiP620JyibiPDg1YD+Y11pRDs6y7aCjIcV54dtA1HIaH6X746+nirGobxsBhluY95qaunty+0u++gYL/5gwB5EWPUytyFAVu4U4OlSYPahPrdOpZWQPtJL/Oj//w1eSyaBLzDd3uQjKNOPl6dyLNs5hFxpC4o5rG2ssNlPo2Jgm8BZz908goUoLowGQ+Zh8oDWIciiDMvTnHcKIcSYuwWOjS+2R6O1jHSAG3hcxUKyCNuGy7G0Ca/NxyBYZzsaXBsk3yLhHfiPMeYkBnbIODtwHruKkRdctW/TsB5yJ05aHj/3drzTZawnUgEfN/BE52Ab9iwwX74wx/ay1/+8hCye3HllVfaxz72sXBk9sUvftFOO+20cJSQkLC7sKcJ+PgzvITfSWhij4lpOJLEiWrrw9hIiN3ldnW/P1z3iCs9Vy7pJ/EJRApCNy/WMWK1zlGrsNyuKdY9Zb5Nn7fYZi48xgZmH2G9Mw61Hkhx+kIrzlhopVkLrDh7odUHplutZwB5QekCw4tkA5pUjwgGOzlzUUATeBo4jcuD9yN7CEkOyb2TCifAnqe7p896BvqtNKXfCv39VoQUBvqsi6uSIGfcqq3WVLtGu1rLD9CqtBNoEhW2u/cF81GFviTUEE9ebgvv7ptqfVOnW9+0GdYzdab1QvooaKeuQjdTZfWn6aTG+TZpK7Cd9STRZ46e7h7r659qvQNTUefpVgrSM2UGyPcA0hVpTKieW+f5nQhSuEpeBynrgY6+abRzluwcgN1TcDxl6jTr7e0PBNjr72PFdyFwvNHVq+4AXpzo7CpYqdQD+3qtVOyBdOvCBXcPOGJLtYPXMabhBYBqvdPKcEfqXTZU7YCY3OFapw1VeNxpo1awalc3eqmR1wnmNkpDWZUyzxWeE9xdAUEdq/Wqlct8f37oZ2lhQ7YfK2zLLtS9BjvKdW5J77BRXlDgBSP1wThjbA/B+1ujTFXwsTSxtEO7dJRdCe816ty1ehMSEn53cdVVV9nw8HA4mhwuu+wyuTfeeGMm1113nd10000KT0hIeOJgorliQkIGJ0O+CumvJaOAGNWDGwhSTCcRcYx+JxYNqYYwD+/Qo6wq2pLLrebazkvi10WXE3He51uEWwIZLsHlKmJY1eS2Zk3KnSw2pDFh50qmb00PZFrCdUtu5fZw3g/Md2T7aiJPDa6qU4Jerd+SVHguv283lot0JOYQGiyKjHjSRN1SDNFr2FCOyhqDQAMUDx2hXVhHXtTQE+KdiytlDe2kh92hHA9G++OYr+9ye4NNrAuIpNoLxWp7PYliG0LUCq50805lrvHqIXhqU9bR64oGDYJICC82sE39XdpoPQit84sIDpQefIz0fBL4UVXEsg5M4+PEdx5QqIdjhhdyuErM8cLadViJtzPQplxdsndkUyPLl07WHzWikKiyQZBC4SxLNWXbunj+GB/HdqM+cvHXwXEPV3dJQA96ApHoGYTnV78Jt89t4yo16+u14M4BjC/FcZwRzNucPw9dkJA9PA/YsvjAXN62kd+Kv6fg/YbuDGXTDg4PPTUecRpPOK8pXS2fGBbjo8SH8u0KqM2z/oAL3dmtDwjhOboLi0tISPgdBYn3mjVrwtHksHTpUjvmmGPsxS9+cQhxXHLJJWkFPCHhCQjMPhISHE4OJhKmYUqf8PPp5iRIIkkSJwO+eskJuQuzxAe0iSjQVRom4BAkEQEV4VZ2isoBidIEHoSkgIk5/D6hd7+2vyOtHEygibH2TlZIGKjTiUMM8y3wDHPClJF4lc8t9Ly/NWylR5qujiJSwz74Re6lN+qbjLAOoGHiBB6GFvJGpMMP/OTPFEeIYxhcXlig3VF4PLacHZOsP8Jxoxy2lRPvyZTneprDCLpOkMLYEBrHXn9SJdY16mnuMx8fDRvbCj/twnOiR6TBLF4b0APtxhGvb8MGfGX+iYV5XETEx8RvW1h3PZWf/lz4jujaVeLt7y7PV54bhaY+2j5p7t/dI95e2xgzSfYpSUjYG+CqNolyRFzl5rbx008/3S6++GJtWf/Sl75kl156qZ199tmKy4Or2fm0EXy2yIwZM8LRWDBffiX82muvtYceesguv/zyEOLgcV5vQkLCvolEwBN2EJH4OTmK28y17TwScQhf0sQ1QS3fQvSE9Iy4OxGnRH0RXI0i+/EVZnh1TymJBjlOLDtI+MinMj0+omnCJm/uWMAxl76iQiJTo7WxeCBEdXQ1IZSfE0OGNtI10AhrtMt4cOWulUCbUdSm9Hv+hh66Tkq9nKibLncGRNuapR3apdse2V7Q/uZx4O0cx08My9/6oIencXXZVbSUS3+URmvEFiFi6nx4Pn7HkLMh550YwU7aH7yTz9vAmGw7qGdXIPaFxkMwwqvXGCNRWhHD2qVrDRtPJgueNi6ex88jH3MJCQkJ2wMS8P7+fm0X//SnP2133HGHvfGNb7T3vve9Isn5FW2S91tvvbUp7UTglnSS9VYSHzFt2jQ78cQTs4sCdHk8ffp0HSckJOy7SAQ8IQMnoJMVTqtb8/iquEsjPBBHkUQn5/Fe8WrFXb1XHGRLOkjGqFepXZdPsH1lnMUiCEIS7/oofCAVt8Fn5ZH4MyF1BTfCt2HTdfHAYAN1+V5i5cvbD2uajyVM4yu3ile50Q63v8lOpW8vwRAI9PkBXMb5tn89sVt1jHlinb0tvFxWhXHxeOIyd7c0wxs7htP1donpG20UCXck35XwnAG+n579hERBGwmau66jIdlYjJ8Yhw9KyUSfGJdkpwRfOne49b5d/O6UdhibDmE6zz2ucd7s/XMlyeQlIWFfQU9Pj23dulVE+dWvfrUdcMABIWYsFixYYEuWLFHac88919auXRtizGbOnClynge3n3OVfdasWSFkLA4//HB78MEH5R8aGtJxQkLCvo9EwBN2D3TDslNpEqTGApVPoPi06cbKJogXw3ITKybvxLe21vJDV0JdcLXN1ZVqQhbDs3K2B2MndFTpkz2Sa1mtVFyZp/g9xr7VPNrjbL7VANedq9o2wPw4LeOVAZUdCH4gp5GkilwG0U6DmKcFjbZzGQ+t6bZXdgYkP+56/Vx4YYEXHcrhAkSOJCn1DgAZG9v3J4a36w6X9DsIHwc6Z3E+ZGOD28hbpB2y9C3iW9qbpV26bcH708Fz2J+HH7BzwzchIeEJCpLb3t5e+blFnFvFifx93lzl5qr2FVdckZHhduCK+Otf/3qlbSXWhx12mIj8eKvdJOjr168PR2bLly+XywsAlGXLlsk2+hMSEvZ9JAKesMPIT2jz/rhF3CfGJKiUOMNlHEmjrzxpBVfkMRCrjLd7eub1e3r9fl+f3DM8iuip0kYghT78awXtkA7q5wwcwgdyOZnlg81YvH8y+7RC6w8J46u8OvVwNurh6UNjpDoHD1ebsBxxS+potnMMUJd4L28kGW4rctM+JHGX7QXDYRvrztKyd1CHtPsSvO/HdkY0U3XKSWPrOVe9y1r1pr9epyATVI3V1qyHOtRhLCMKHXUHxoyupKBjqE9xfgGgGSFTwuSBvs6GPMHmZRu3gmNiEqLfDsP5nxOyZ72hoEUmQrSBvzMYTX4Mv5/3KIrjISEhISEgbv/+7//+b3vuc5+rsEWLFmXhF154oa1evVr3W/N+7hjGNCTBjOM94PHJ5gQJ/EUXXdR2BZzgijfB+CjvfOc77fjjj9fq+c9//vMsnIQ7gvE//elP5SYkJOwfSO8BT8jw2jf/SfBtG5wYt4JEy8kjh5QPK3KgOAl3ks00Tsj5ELNiqWSFri64xfDuYBJcTuI5AQ+knBNlTJr1HvDqqFZCCT4IrRN5mb/QifwdONbDn/iUbpTDB6LJbZ5c++Q7kDQe64MSdDGAZYbXQXEFluUzUSADJMRdXXy3MevpT6vmg+MI3p9M2/hkdpJGXiEfLVf0XuZauWblctlqFd6/3G6yj1Do6erqsEKhU+/8pu0FXXxgWX4BolBgHdl+JCOwhWnlL1gd4XzolbqGzadi3O49gUhy8vAx4eXTH0FvbH9f0XcyrN0QaHe+D7taA/nW1nP2By82sFKuR7WnG8YSJV9+1B2hV+N57+qCSq0SxpVW2n3LO3tGLuM5FoK+vN0J44P9zPfV6xzUO+s5Nr3/d2ULxp0greD7+yPy8fRH4asQeUbr+hWOKQRPYY6AhP0D6T3g+w6e6O8B3x+wp99VnpDwRER6D3jCEwi+opttGw0kMkITYBEgTIpBesjB/ItUyN+wrNV0510iQtRD+MPZtjWtn3hCPSGvQrFxbT2bwPOT5dlW2UwRSCGVTAKRSPprqIJfZNvLYlsS1Kl2I4GsglTA9VU9DwuJ3N2DaNjfkPHaSc0S6hHJt4f7eOCKd3m0rIsWvvrd6Etolm6Mplw5Xv62ML5FCTuHcI6zX3Sew9WFl13f2vGcaJX4WwNnm+B5nD9DJv6lSEhISNh3QfJ9/vnnh6OEhIT9AYmAJ2TIiOYukMb0Nj/NJTjVJeniSqPf30uX26r5TvEKtx2LhDGehJKrVI0VL5JiPhHdEXTD0apmSFs16KV+RDhxa7aBk3XN0iUeG4Wp+X5t2lCGDRWuxlZBb2WPr4qyBH5DOybydEMJvCgAndJDYokPV8WRSfnGF6bVXnjXBJ2+jR/6+A2d9MX0vkLrRLWCelYZxvoGqcqFzky/rGuCViV3sUwWXgfaF4Urkw3hjgE9cE2r3xwfqJP6AO2DeGRQR+Xr107YqlGycOTPp0myK4W962M2j/Zpd5/kEc+TKNzVUsc5SUGAwniO+znTXl+SfU8SEhIa4Mp3evJ5QsL+hbQFPSHDxX/yluDbNiLhEk8M8Hd4cxUKXFQr1J4OIZg0YdKryRM5FP0+Mef2cW5XLXV3g1jzvdqGYxI6X/EVJRX7xGQZRKpc5QO5QFA5idZ7uLklHDr4Pm5uQdc2dohIIeKyFeRIEN0uKAykHXppC0l1OOYkvcKHfnFSzkk6wvS+ZejiFnC9+7qr6Ctx0OT6qbKured8wNxoZcRGR0dtaGgE9qLOZegs80FisF1t1riIwOydXb56xy283ILOevg23i6vC0tiuZBck1sH2wzCHQFIHerfpWpqq7rnVHxmJ7A9hHnSyBuWRyg2lh8n0X5Bg9nohwcyMjpiZbQbV75HyyNMrTyoCurAtuc2e/Yv731H/RThdRO5okKghkGjcaP87GuOObad93uFT95n34uEoffRZ3oGAPsPOnSsvA279094/R2sx+6oi7c/z1vensEx7Ock+iYUvatLjf2chy6GITwfJ9IdwihxzCFYx7p4RSNhYNhsk7Af4D//5YvBl7C3kbagJyQkPBGwp7egJwKekGG7CThGztSBASuVSggBkSQXgo/8z8kfE9IFAeeHM19NgimcGDOtE6pisSQyiUMIJ/Tcvt7ZIOA4JjEiMeZrwkiokFMEvIOkk/dBk5CTnCk/ykWctqW6VbSQFgniVCReJNz4OPFmDAk3V1vDqlggdSqHdtJGlVmUfdTjWp3c+T3EvIcZJBJEcmSEK7iwm69cq0AX/KFCaj/Wizoi+RaJIQHHMeuie7phu2/nZQY2obvSQoJOAk6b+FR25etSEQrjB663CXM48v49Bdri44B1cOLrHydKVZBubjvXg9fQVrwHnPC297rqQojqwx5lICvqPUwCLmU44MP03ItvRkK/ml7p0E8iYIGAwyDfqdDhdvAYuhhO/W2bior2C7iha9byab2oiA7htqvTDiOSb/QP+4j3gaNPdH8+YlnkLi1uHKDXdG7wXI794+c1wzDOeE5zzNGPeKVVLgdt3BN2Juw8EgHfd5AIeEJCwhMBiYAn7DVsi4C3rprywUWnnnqqzZs31+mtmEoNfMhJC4UT3dZprci3JsJOMpWPfyTSJJxa3STB7uDGbDItKSNV83zUi0k/XcUHkkQSDk8kl7KWTJQiL++t5v3lpOIk6z4xJwnvICmD3/WgjA4QMZDpuBIqEoj6F0TwSfzCCl8OPrHndJ55K1Yuc4s96wtCyIevBR3IrPSyC2UxvUJJwJWGOuogMyD5LEsIT1Vn2+mTaZFefy2a172O9sjAMHz8okYufDdgPP2yO7guOlQdiBrbAPVSX/AiBcgwCbADbd/lemP9WL341Hfp0LEO5dLLVtIxBXlEumNoGA8Ex6KgCIw6tS/CaSfHCklkm3rFOu3bYN3UAnblld9RSFbPsVXaCeRWv0HCixDvKyfg7dpvstjedlZ69l1OuGPGL6y46MIP03ljJOyHSAR830Ei4AkJCU8EJAKesNewvQScpJXvpuzt6eGUXhNtrrTGyTj9osEcYfk5OI65MsVJMbdlk7Dzaea+Go7Ju7ayI4tIIwgYXD4Vnfdmk0RxAu0kCi7LDNtd+SHZ5JPDO7kdHXlps68ee94IXjzooA0guP5GqrAaJru4VbxiYNBWQTht0Wo3MhU6ucW2KKJB0qt5fKigJvvIxxX0cnkEdava0MiI6kkCXqvS5igEXeqvW5Fbz9FmpWLRikWSPsTSbnj4UTsC1J2t9KI81kir28YnwaPt0IYwTO3lK8UkQwxyLTwgGSWyix9t4W0F67ysMYhtyfyuY3xdbFd3Y3vR5Vb9Mu/7504DEG8eV0bLaCteuKipzdW3qJMIHT5xqz7ry+KojkPB+9MtYRgvm8iPgrIV0NBe6mvoJ2iH0uip67QJo4Dp0IwcC08EAk5bH374EbULxwG+89cgdhp+3rOf/I0E+xIB17knwfjCcSXrd3cT9k8kAr7vIBHwhISEJwISAU/Ya9heAs4ZPUM0vcYX59lM4hNxEnBuiY4EBsK5sX+J3IiAk2yJ6DhxF+nSPdA4lnJO7kMhILxOkkmk/P5whisPPKDvEJJ/kAEST/oR7/cMM2EBGTjcQc6ggy6JIVe+fcuyT9S1jbwaH/6FUhAvktFlIMok39wqT51RHwGig4/qg3yjo7wHfMS2bh3Sqm4VBfjKGysilcoDdmiFYsH6ent177deqYZjrlizHmzhQJ1Vku5lpmh7PG1jHFIgPdtBdQeZ5yo4+yveA09/7AtpY30Qpr5x9Q2QyQbyxkIzWwUdyPXR4Gno0omxROxrurRZD1HjMRSSAHGbebk2ahXe1w9/pVy2oaEhEXFCdWF78NVrcGmBjlkP9rSKZrn0ULFGhBC3oDOM/aoya24j0/LYbxfwceh+J+Acj3GlVP3Oglqgi0AtaJdu7yLa2OFtj/7W6/3UersKHFt+7jbu/y6wR7KRqzG2g2A/bQ+UPvQvJRHwJyYSAd93kAh4QkLCEwF7moDvunlYwu8eMK/W6jGIRw2TbPkRyKktj+tkrBC6fEd1nYwaBAos0zpAZOWH1EEMmEcT5kB+uIJZ5oQZbgVxvhEcaSBkXrwfu3UFV+VTkIi0i2lpD+mcbOKkHK7CZS/sgUsdIlp0+aFK6BbjDnXjjmeSl1hXEtw62L2OJR6vNEH45mq58Vgu6xLToL5wu0olbT/vCO0R3dh+YNESrW4zHC7Lz+ornSCU0AeaEZ4i7wSSRNTrj/LVLqF8HtPP/PBH2yUIj8RW/aky6EbxPMqntJ5ebRx0Si/ThvaSIA3D2adl2Feug3SD+HKr/tDwsG0ZHLQRvnaM+kK7ej0pHib72Ddwsw/86jTFIx1Eg5P5svyuy4OVQHbHdHS975gffo/cz6HKhIp6/SgMVj2VZucQz50xF+dUjsvOlNPQ3yyTQRN5hzceN4UnJCQkJCQkJOxhtMyaEhJ2BhhOmPD7Kq+vOmtrKrdtdxV963YUriIjjMI0BN9pzdVPrjpTtGIcBZNmkmrxJenm6jZcHHlpTqAJ0mxOsZnH3WBTmHj7JB5EF8JVdfe7Fnic3MdwbXWmfXS9ND4MzMOiLhcZ4iaoHXzFG2XSDoqOY3pPxosIaCG0EXcNsG3YLi7aRh/K8vJ4wYE2Bn+0KZYP6CIDyG3Wblzxi/VHjui6gMiDiXkYfwry4mFaOUd5DQnHsQ0o7L/8sa5WuHChkTZotR46a2DXtCsSbz1sDf6RkVEbHeX7vlFusIf1kx3+11RPD4l2RkTbKQHUpTbLhQG0hraKlCI9LwI9ceF9xrbKt9auRePc2peQnX/BPh0Hf0JCQkJCQkLC3sATedaZsBehiTgJE8ksV287nTxlgpEXFnRB5pABc2LfCg5CJOLILaMkZFrblS5nYdDVxfxBeExlJIGBfJFz6cFLyMcVdU6+XQv1QwIpdHLKskHew0O9YK111UF8Qf50X7GqUYMwoachnFDTViQQ0SSRRRomYzw+vgrNtJHkEigXdSL4wLUC6lAoQFCHYqlkxWK3iHhneACbhKviSEs/DSJlpDbZwDJVqOulVPmkePk93slvTDsZUHusa95P0O91YZXckhDPFWagUW4ZLrd20za2O7fnl/WEeN1nz/uuqxUbGhoWGY/5KOpX6CKpV1/wIoX6BO0BYXv4iriK1PEYoFzeasB+RAt6HrgcY9FmRKs8AWOID+rTI/HCRQUKj1slHz9Rur0uaEcNUYhqjKqyPTS2VemdB5s+jk/2WgF+tTfjguxqsLxWiYhjSH4IfwF0YQoS656QkJCQkJCQsLcQZs4JCbsWWtkl8dbkmETSV3kz4QovRSQTBAbpOEEmWSMpo8SnYWcECWiQbp/kk8T61vEA+N0NE/Bc3mY0qEF+Ek97dD817YL9jXuoPW09EHWt8E4EFiuJpFKhDQRSXywUdF95sVjUQ9T0XnStgnOVme/35v3gbKsi0iNMdWfZY8uP7UdXFyDQdnT9dVuMyxGTMQa1otE+7dGIj1VtRqy3i+7BrXLLub9mTO/5Hh21wcEhGx4eQRpoy+pFvXB1DD/+WG96Yj/sLHhJwrfQd2RuK3ZVWfsSdkeNdM6gf3gPPC8W4SDEJCQkJOyfWLJkSXKTm9x9xH0iIj2ELSHDdj+ELSASFRFVuCSuvT29/jAxkWwI43ITc5Iyke1aJXtgWRnEjGSRC6mY00sPH8jGh4qRlPI94Zzgc8KPWHFsETwpVMkQumRzXPVEfpBWEn5tT4f4E7ThuqWQBkBXZZMe8ibbyiKOtIniJKNLhDm+gqypTtTALdXIMwJSOTg4qNVd31JPW0n7HMxeRD16e3vVVj3dfdZV5EWL3KvHtNIbvKiSbOMqMpSJzFZGPVL1bZBr9YMktH8k8yhUD7oTYWJbgCyF9LviAWJOtt1O93vb6WIA7OVFFb0fvcxXtI2KeNPlO9LzY0tP0i7y9gQ+gI0Xa/z1b2p/2MqLIgTtjnUmvEw/9osNXPsEQtW8XxEOgWXaDh8ftMdwtiO3xLv9jb5KGB/sE9424bdOdOrcYB+xjXd+RG0fYv9n5zD7n64u/IRzG33MMI6dhP0X6SFs+w7SQ9gSEhKeCEgPYUt4ggHkDpNdrt6SEHJrtfudSPv9zoFoiRyTCGma7BNmTOR9Qq293K4ywDk3vuhyRRl5lJ9/eup4IFI8Vl7RLsl4EKmDvri9OU7U8wQxb4XrdZB0bA/0tHeS7hLaBW7jYgFdJzRsIxcQz0ie2U60y03LMJZUqBXhRmneTdAK5p+MjAeqpn4vg24M977ghYlKheSbq9+86DIK8stMno5QGawjXN3jz2OEIyTb7bBzcNsk2iUR3YTth/dFu7ERxyj7a3fIhEA0z12Neo7H4PpZMNHZn5CQkJCQkJCw+5EIeMJuQJiYh498JFOBTPqqOEkWySaPS1agFEoKr2H2TPIWyZxoUo4j+WQfuqTXBV/8y8geibcm3yTwTauZUCTzfDreEHJ5J36NiX4ggFQMRJfGRNt2FCoHJLtY6Ea9iyAsvChB/Y3yCPqbJJDTKHlEm/zCRRSuyOeOw6rgzti+PeA1iViubi0AAefrxkZHcVyBzS0XLVgjb/M6xgXbyFe82d/5OrfWPWHPg33g57H3C/3weOSeGV7jQuMouEQ0R24aOgkJCQkJCQl7EYmAJ2wDnK1G2Tb8/mlMyCUklU6efKKOARfm6B7GVXC/77lQLFmpxKeAl7wkEjd4SI05adaqNPPhQA/WQpgIMlKrDPiYzle4/CMyGo5BORFLzZ6KuoMhEBrFmEBMlYRf1KmEEkVRZ3jYmUoToW2sLEcd8ZhZnZzwmIIaoRKlroJ1l7qtpO3sBZew/dzF2ya2XyQ5+mgHAXTCpf7M7mAPvtwG1EGCMF6MEBQXvUzvaX3Ltsv2IubPQ3bk2ocknKvflWo9kG/Gsxeb7xnmbgiu9HcVEZ61GeK9wyUcWx4Q3eifPDowmDowCORCOjm4ErYb7Lo4NnUWort0jjIudt9ugPS3SAaVy/OepzHPVzeCxwkJCQkJCQkJexucuSYkTIg4wZ4sSBjl8hPIo5NK10MRydKWal8NJ9nUSjgJKchp1NEgdw3iSGjSTb2RoEJHjEZKfaJPGSFNVYgsQaSOxwoVolf248PsvhWeAjIb7ifllupoVySvkcCqXChSfUO9eUxwRZf3OJOA697s+GFaGRktaEbUTXjaxumbLz/ecx1Xv/maryhOtJ2KsA5uf0OI6I6Hhp3tEfWr7Aofuub3+dMdHh7VK8dYtChbTle897sA8k2/HoLH+4uLcYx4el4w8TzbbrNWxLKQS5/oi/mlPqRJmAhotdDufl57KOGhuxex36PEMIHjl0OYYzr7MGjicZ2QkJCQkJCQsCeQCHjCHkd+4uzEiu8JL4CYcis6t2SXyFKzCbXm0yKOcSrtiJN8uo1XC0UP3UAw+YmJMyBeS3RM4wKL9CG0BR1uzKZ3WQdSG1fVaA9JbLbKKxfhwVYH6+nkMW5r573N2m7fwQdWcaWbBJMXHbxNJhK3CJIPY+VUrhyBjoQB/KP9TCM7WY9gqzJQmDak30E09Dm553ZztReE5JvC+7957G3eDD0sTivgfCZAeLBXgSvhfoHGL+bQ9YfHTYRGrSaLsfYkjA8fe+yaxsWQvQn1d278wYM/7kzhOGf89o+IhISEhISEhITdgUTAE3Yf9KotivgihJN1n7BTnHzTdVLVqW3YIF/aih7IKdMFdWCOIpGkSnycWpxOc0u6CBTK8kl2w42Ek+8VV04xcWqEZKwcaenVYdTKwyzQ+LR2f782dJK8iljSJK6E+9PSRWrz5BuOk27WwaULdSqCfPP1Y74LIG49j4TadwZEcXJDuMtDbcGG8EFxYKxWQf3GA+3Vinjd38HdWB2HGy9qBCFi32wvGnrY5rwwQWG7mUg3V99HR3gPeBmpmQZiZYhv34+7Avy1bNwZ4ONBFyfQDmDiqC+3q8fRML6N6n1ER8mDtdStDZRO2IAxU+O40cWYhO2Bj5XGmNEnjEsfmy5Z/G4QjbU49nT+YbyHD8MQiZ8F/AZxjNG+kC8hISEhISEhYW8h4zYJCbscelc2Z+h+6OBBI4CT4UjCfcsxtyCTiJXkJwnnfJnElmQ3TradSjXDOVRLeFzlDgQLud2VjmbwwV8sLJuk8y+YqhXdqq/iajs3XwcWSbds8gl/Xq9eoxZXvlVHf6BYqegPnCPx1ju+M5KSJ9yO2D75eH5ILJmS/uhjydGGKE6EaWewDXazPRAKXWPTR9kxNPLrgoXe+U3SXQP59vd+s71iWhevI8l3if1eQtsUufrNNur2ixMg3/FChrdP688WdUa9Cbsf7APvt/xFNQVn3Ypx0MFxtqNjaXLw8yFAY8OhCy8SlE/ZvWYkJCQkJCQkJEwaiYAn7GLESXBjMtzsx1E2cXeXJJXEVA/gAhEvdPrD2JyEh/vBSQr5F1ZYwchBxkl6w8o29eqb+oMnAscihiR/mojz0WqtiQjaE7wR4ZgElu8SdmIZSDhcriZn2+PhwqP0zEbRPeoi4V6/xjuTfas1Sbq3QxTkazluhQh5VoJDL2CjDfI3Pl5h2oW6Z3ayDUM7Al6G+7cX0idxfRRvHwiIP7ehj5YrNjIyojaL9cqDxyTeRe184O0IcEG6tQtCK+EQtKHna847nt3iXXT9sBnM0irtUyaMg9iPY0SRalAhXBbaSWmPOH6VKvgjeKzdMgjmuZtBid2bkJCQkJCQkLA3kAh4wi4GiSCn4RhampSDOMHfdrLOOLjMQ46dkdROEFQSL5Jxrn7CRUIXTqgjmQTBc/LtBDx7srnTAOkXkCcSdW55ZoDKl4mN9O5GfzNELkFcSbidhJOAV2EGheFIFAk40sWFN3BlnWT+IDYQca6Kk3Szvipf2uXGlW7C26dxHJHF1+MT2gmvWUO8RbIj2sQ2g1+EiH+y2y9gMKDRF2ORt6U1jVRLIhHn6jd0q33KNpK979u3ycf8eT1c+S6BgLPPY7/7PfHhwoXIN4+5G8LzaYgJKLwFodfbgtkYL0Ebcmzyk7B98G5ojAm+o51bvLlLgXfoc9yrrzimOc53UNRhEyCOOXzpmGXq94fDHsJrbhz5UQ9VUhISEhISEhIS9hbSXCRh9wET4TAvnhCcNGurtp63RRJetCKkxJVQroZzGzIJWUhPndqKHsmXHCfVnogBedEUfAw0cc9BK9kU6o7CrHCpOnuYWNkfJtbYYg1yyZm+yhoL2hXryBV9CesrYVwjjeqwDXiaRlmTyROBGqE6tJd1A0EPbdB877bXfSLEtO7WMtFFCa1+c8s5ZcTKo8NKxwesaTdAcGG4bOfqN0k4H7imeIi3RSDipHYhLTIFd2IoJaswcTUaaDD6hEnB+4GSXTiiZO3Ny0M1/INpf+7tFnAsQjQmNS4n2/kJ+z78ZEa34jtNWxISEhIS9m+k/2QJuxg+URLpBQMajyu1rvbGCb2TUifhhS7eJ837gLtFxLUSDmRbqFGEtn1nD9HiCm/wR+GkjR9NyJkPIZnfwyNCSveHOJHKLK2Ha2s1iWYF8RWufnu6qDPCH0SFU6wLQlIJlySTr9jyrfWRxGzfacgilA+f7YHXJ9TDtwvA3+nH+MpvI5+IhMc0URACF/XXqro/kI4XKLjyXYZUQMjbgXXglvOebvax73YoZDsEQLt1QYbvBud4ICn3sdGM7WwDCCmhRPcow+44ZhImDXSdj0G4HANsSf/sHWgUcjzyHAxjtzE+E/ZfhN8pfMKZCl9BMQkJewJLly61T37ykzY8PBxCPOyuu+4KR9sP5r/gggvs9NNPl9x0000hJiEh4XcF2zfzT0jYJjQVdq8APwlyDpF4RhLeKk7AeY80V0VJynjPdAnhYSUUOjivbp5ak0RFIsUHjLkr0SS8IZqYh09EfsLu8SGMvhDmZNzJqQg3SDgvAnhiasnD66J6wG66esp3sSSXdYRKpIkrviHbpNBcmBP4ySuIdXSSTdLdCKfuGO/HzYhhdJrS41Or8SF13BUwaqNlvu97WOQ79ms78IF0bA8RcLh+D3inE3FUKz9G6CeadW1XwzmYpVU0VhImg9gf7IZ8X3ATQdxIQMevfzXidwTSk5XXkHbwcSiPxqcj8yTsj2gaVPiNYf93Fv04IWEP4NFHHxVJvvPOO0PIzoFk+ytf+YpdccUVduONN0quu+663ULCr732WtuwYUM4SkhI2JeQCHjC7sUEk2XCCVacZMetxy5xVVSvouJ9wXxNGV9NxRUQPWHddWjinc242024GQbBBE73guu+Z1/tjQhT90wXxVf1GmFa4QZPg6MV5LjqTcRaxrQZWDk5qE+BZDwS7vwFCCWRP48mPeMBWfiQMj+Vm/O3g+ohG/0ecJJmvxe8UX98B7+cMWCamC761TZonGq1BgLurxyjS6CGclvR3d1tvb296l9/LzpXvv0nqbUtWo+bwTw7+1O2s/l/9xD7hC56bkw/e8hE/bYLEQarxmNuXCY8scD/EfzdSEjYE+CqN+Xss8+29evXh9CdA/V88IMftJ6enhBidskll9hpp50WjhISEn4XkGadCbsYJJcky12YelMwxLTNOdyjDfjkWN4xcBLuBDUKCWuBq8ggrFwE7eiELggJIChfNtnWhBt//rqqTsRwy2KjoBiPwJCeJNTf7a14PaCNGpnTiakT1Ggv61K3Th6HcgkeVUTMndQrHHaiFfRAqi7YUugAyewowjZuPed9zWPrmD+OevI64xZxlcki2BYsRaQe1nGHAAvOg8ljfl0soN9t76hBMtd1e/nUR5sa/RVdStyenreN2/ArlXq473tUW9D9oWmoK+/jDsQ6wl871iPirRXwzqLKZbv4A9hYL4b5rgfWlG5+FdzDHbShFY2x1CibOTh0JDXEYWzyYWwJk0McG3LRmhzjdHne6J5v7UJRSqujf3ZyAdx1SWezZOOObhiHGo8QhilrGDcJTxzw961USgQ8Yc9gyZIltmjRIpFlSrvVZK5cx63kJNbXX3+9XXnllYojeef2dW45J5h/zZo1TeS7FVHfxRdfrPTMS31xy/pll10WUo5NSzA+2sMV8I0bN9rll1+uuAgep5XxhIS9izTzTNgnEcmVky5O+iEgY10kZtmwbZCu6IvELOTGhzFh4g5XxFnkuTGJx9RdLpPKZQjcKkXbzUnEkZ8qFIZJPshmfBJ6JADRBtdBW5z8kbD4VvouEE4nlLFedCcCVZHw0qZWuB7q8G3uIuCBoI4H2QmJT0Bn3SIhbwhX9lnvfFhDgiZ9M43uh4fLB66NjIzayHBZhLwVMT/bobenT9vxaTPv9fe6eB3Ub6gX0aijt9luw04zxd811MOFLrQbulrbzVuh7cPBvwuh5z4AfmHMheenjhmfheuEVdqEJwJ8vHUV0z3gCXsGjz32mC1YsED+448/3u644w75I0hi84T4hz/8oa1atcr6+/tFnEmAX/ayl9lhhx0WUkwM5rn11lu1Lf3Tn/50Vt7dd9+dbVk/5phjlK5dWhLypzzlKdnW9kMPPdSmTZtmJ554otITdHk8ffp0HSckJOwdJAKesM8h8iy6DcHEiwSzhYzFyTYRw4gsDYMgnJrnP2Z8MFgkn0ECMW+s7MLlxJ5EVNLwI7KRRhN9327tpoRCw4SRNutBYiDfWj3kCn4Il4nR1hbEehE5bxOoT9vzIXpQmcp1xHq0B8NhPz7xAoPXx0UpcscNadjlx95elfB0eL73W4Q8pMkj1pnEm/d6d5e6tSUfQbpwwEXy2BbjtUl7+MWVycBrHSV+w23LIBPaIesbdRwC4HC1ewzYppPtwp2EehFjLiPlITxhP4d2PLA3MZB4QQe/E8PlUY9LSNiNIFElseX2c64mn3vuuSLY+YexcTv5+973vozwUl784hcrD+/z3rp1axP5jivfeR15kOxz1T2Wt3btWoW/6EUvyvIuXLhQbru0Q0NDWrGPOPDAA+Uefvjh9uCDD8rPNDxOSEjYu0gEPGGfQYN00XVy6pN4ElZOwuogaVwJdxIuILgN12uG5m6up94BcmhlZIvEueGCWSPcyXj2rm+SbhJKrfIivgI9fIsXklNUNPUGAkhb+B5irtJ7fUC8YbM/yZsr4X4fOI99K2+oxwRwwhuIBYQXAXjMvL47AG4XSbgYbJZO2bYF2iunOb2XSdel4Y/h0ZZIwMs2Wi5r6znJOC9WtANXv/1BdFz97rRSN12Y3ckH58U2Y71ctt0+LIcSjJwEtDBL6UQdNCaYt729CWMR+8jbEV865r8SShfPXgZB2K6T7xci6o4yIcIY1DjkIT5VXhDy2IQnBMK57X/Wgd+PSpq1JOwBkLBydTtPrs8444ymh7HNmDHDrr766jGEmsT49a9/vc2aNatpqzdJ9OLFi+1LX/pSCHFw5ZrbzLliznws66qrrlL+8dAuLZ+pEok2sXz5crksl7Js2TJbt25dRuYTEhL2HtK/soR9FM3TaF8hDcTb/8Yg//ohXwkjuQ6ReTBzCFd6fEQkOXmHDokId0XiJBy6KEG3VsKZV2QYKsfhCiISsN1fo9UgFiwzf0yJiHWI/naIZNX9jfzwBbti+zV05aEw1cEJdD2sgsvP/Gq7xjEfruZ+up6WFyj4lPPR0WEQ7xEn3wgj8vXJg/d78yFKhUIxkG9uOW+0RZ54u3i+baN9O00e/lPYpqkScmB/eL80xrOPFwjid3fzadwCOgdZZjZeXYjoJjyRwOeIdFix5LtnEhJ2J7j6/fDDD4/ZOv6MZzxDTywfGRnRMbdxc8t3XCWnfOYznxEpZ15uW//whz+cbf8m+LA15onpKdTJlXMS+osuukhh+RXwdmiX9rjjjrP//u//zvSScEfQlp/+9KdyExIS9j46rr/ptr02Wznr1BOCL2FfwMV/8pbgy8Mn2RMhxnNSztVpvk6qt6cHk6VuK4Jo+SvFwj3KmrTHSbznGzth5uQ6kD1+5K/6ZNtI/vwxafmnd1NXJOB6xTVQB3kGlzM9vI0rxbCNK3Z0O+u0heQv5MXkjnkrFRBKCohluYxSKiirjOMRvtO6Iu4Oy5GHBIRP8kZde7uln/d5RwZCnTBXq918r3Wx0K3V7/hUd8bHdsmDNqgOvAgQ6oYQbwMqRBAvBihc7cK0PK7D3lEbARnmK8BIqLnVHVb6Nm+UpwsBfIq8bGc7MIz2oW9yT5vXfeQIZ2URm9U3Xx7t46p3tVq24eFBGxoalpCEMw31O7wsghchpk6dZgMDA2EFnOWxKG+LeIGlkRd1DWVF8s8t7tzqzgsj+EKYPzjP28Af9uf5YtsBUKexRNspupCC/tH7232XA8cOV095oSHfpgnNYD/x4glJUAkuxwp7q0v95mnkaPWb7S5n0sj3PRH7MyI7x9E9ev4C/JQyzlf2oy6WKczPkYT9G+x9/JrIX8Nv0NSZc6y3r98++9H3KSxh7+OGm28Pvt2PNGfccXAlnlvoX/7yl4eQhISEPPbkbxmRVsATdhh5suRu8+RZU6cxaZrzEfG4Ec58DGekkjjkx5RMcUjLoCzP+FC64MmnjJP74AgkXlVO5iG+0kuCFib6iBdRz2kRGdCE30mbVtEhJAB5+0l0nbRHQpq3xNGwx3VVQS6hTWFENLO1vpm+6CKh7A12UBetd/2KzEonqae92m5PQsO0WV7WzfN7e8Q4rogzfU0r4GVtPx+FyyfKe583g33UKeJGAke/k+1IvnlBokG+oyhncLeNyaVjqobEb7ixcYNn8uX+bkEXssIFE91WgWNdPGH/IV7NpqZzT74/JyPbAsfxeNDYFEFP5PuJBR9L8TWUfCNGQkLC9oHk+/zzzw9HCQkJexuJgCfsk+BEe7yp9mQm6lwV7YTwNVsEF+ScIgAhjOCkXaVpNd1XPfUh6Qax5Cp6JKM0yFM3yvdJfyC5OdEWdZFn5gC5UOoGxquD9AWb4rGvfnvhcgEnLJHMN9BaEq0IHndUxxaCEurGcMbrgkJYaXRCzrZxIRGvVH3lu1rl68b8lWPcOcC0siezqfHzwqe/c+t5KWwhjffER0IXt53vGFjOjuZN2F54P8VxSrQZU7sBKo9/HJe5MIxYHFNwnIbBExLs2078hhQ769bTXfTAhISESYMr3+nJ5wkJ+w7SFvSEDNu7BT0f7n6QKbiNLeglKxV5v69vbfbVT087nk4CNM8n1Jpww0dCG97XXaeLD18RVquVQw5HJI5Mq0k5jkm6ue1b7xFH+QwTSQV5FVSEpnfSz1Vc3t81Uh6x0ZGqyq9W6lYe5SowV3e7lEeUr7NmRRLLnqKIJPUTsX7cYs3V3a6u+M5r32Ydt+LHlcQI2kFRfYMQIvcsE+nj1mrC03s9uSLNe7GHYXulMqJ72FlF1l8rlCS4OOZ2/Pi6L1giwiJb+L5uuNpGT/uQDgFsKV28YKm6TxzlxdVvEm+21eDgVpQJexGO1Jlw9wDBB7709fUFt9+KRS8rtgXJOMGwvBvbI3//+dgt6LSs0VZ+zCh39Q118cICg/lquXrNbxHgGOID9zCgNKa0CwBpqGdwyyZtaR4eGkTd+NR8s6GtW5WmFUy7vegbmBp8DbCvevv75edtAT29fVpl7u0fUNjeBd/BXNR9/LSzqNsWEMpx5s0NeN/tKsT+pOvndjxHEIavin4X6nr2APuVYwUxypOw/4M9yV9sSgnnxUBfj82YNdv+6k/f6QkS9jrSFvSEhIQnAtIW9ISEccDJGNe1SasJErVI1gj6YhjJJckn/fnpuFNKwGd2Im7aZi1iX0MsJ/ggYSRZgdxGkusuBOkiROqoA+JpGiJSGAqPZrbaHNGa1y9BBPtIGKWvOU20K+Z3Ysxt8042GeZusC1HYBjGmrif4Z6GJFqr/twBwG3nVT5YbRR6R3XPt0Qr3iPh4Ws8Rpm5935H/eyF7u4e6wWJjKvfJG7qH12EaKzgt2uTyYN5d+KnrGXZdOVjj9idt/yfPXjPHbbsvrtsxSPLbNVjyyWbN64X2W6VHUE7PdQfy2K5LJ923PXbG23V4/5E272Ldv0UTqY9AYytCF4w4VjTrRocvzxjwr3nCU8koE8x7HpK3dbB5w+EC3YJCQkJCQn7K9J/soTdhjhV5ySZkyh3tw3m4zy6lTpL8MdQ8jXnbFyVDsf8BFcPWusAycPHCWGufDrZcaMMpXHtkqDek+ubHgZ4iB/6qpseAKWVWtebldWEGMb1nADpC36A+UTqKdQp0kxyHEh0G3GSHlemfXUaMYqj8ub0CpHbDAa4HpLweB889WlLfYW2IJwr0AjLtp5DYp1bwfvefdW7V+TbH7wWV74b7s6Rb2J78nubeENQGOb9zTo8svQBEXBfzW8g5NrtMh64Ak9SvnxZ4xUzexrsL+8q7zOX1tafqBY7B41fuvxgTNL18wTnoMagIpsQg/am7EqMq7/p4IkE9bZ+S/i6QO3e6Upb0BMSEhIS9m8kAp6wy9GYnLsQkaAFZ0yamI7w+7Z9NYuhWsnWUHWf4rLZJl2XmDaufsfB7cTTJ3IZcMxyPJ2X72toFOqnNpAyONIOl2XzogDX4LOVNujgVmsSguzBbQxTuJMEfx9ytNnrxa36LFeqECo/U+TzwuXqnt5tTBLMcjIyTn0hPUl6zYkxbWAYDWZp9PqXp2/Ay2tACSHQTTJDEk/h1nI+CZ5kvOzbvyujozYKKdOPcObz/mOLe1tydXtgoE/vJeUtCCTf3ILvK+CorQTJA+IYcD2O6PdweYFcph0Ac3PTv++j4Bjo0BO8ubNi4/q1tm7NKqXbV7Fh7WrbtGF9ONqTwHgNF0t4y0CBF7fYKfzj+NYtC/RTxvbljiLq0JimGz4YmT72Oc7jeMe4bQeeu3tNgg27Eu30P1H/kfPMdA9vH+IqeA9HooclJCQkJCTsp0j/yRL2QXCK1WlddRC2QNQoem2WVrYLIFH8FJgqkzhZ9/uXObRBsThDBXmlB/zVyaUIayS1JJy+eozZvO4FpstJvedFmZjp8h7Xzo7wYLc4KQSYRESAuqKrlXCKYpWOEE9Bbq7L69idUFYgFJltXNUL28lBgD1srHieqp5EXilzqzgJOGxEXAfLJ3kPuiNQo6ytxgJpa2U9gK4mfdCrFe+yr3qLfHP7OV/TVrYqCPpY8F7hkvX09GrrOcl3vO+bkl8BH9+O7UGjbpMCi8yKZRv5wYrlj8hth5hld8tkMHYreh3jk/XItwP9DYnXi3YU7Cbdrw8ixHOSzxLQhQzo7aijH+mqBrv2X0p2bvC8kMvTGWdgCONY53G8INUKWQTb9pq4GbsMugCIurfXH9oK4VEUqjAe5GX/AEYuvjGyujjauqwXvyu18A7mhISEhISE/RWJgCfsdkTixUn85PhWnMg3hicn9yRskW4rDeaRnPzTz4laHaSgRkGUhBk132RaBpCswouwbGIfJ6eMI3GGn2l4TLJMIVRKmLcyJPpjfhFiEFUnu/STGHDFmgmdmhDKSxIvBRQW5vmVFFBa6QSZJqGGHm3/jgLdUZimXBm2UT44bnRYaXmlgQ+rkyu9TtS3Bxm5ZzmRfJdHUBYkrIQ37vuOtXOwn/jQNV/55kO7+LAukm4Sbiffuw75dtxeII+YI+qJNhwa3BLCie1rrz2J4cGtuhVApnMs0VY/CPAxFc4Kj1c6D588mN6lC7opnWB9/thALzc0HwSR26N6O+BEG6VBv8Yxjrl7RaRbcRTfHeJ2jRWG73nZdQ3C+npdYn869LvIi434YUUrqA0a53uuzUIcH3Hpdu1a+3YHvLbap2Jdnfgt4dsTMP5q5eGQIiEhISEhYf9Eg+EkJOxWkB1EIp4xhSY0wjlxrOkhXyMjfNJ21UaHQTThlkej1HBch8AdggzXrDIEcjpMAWmkjNYhCFdal1HEj9KlzkxieEXlMH2FecuYrlZIzuBi3srd1hRwH5BPrjS7tSIAwY0r0yTflUq0FbbTLaOMUdQHZfBp5RTWb3h4FGHuViqjVCTi7PdiU/yp39reLtLt+il8gjfzDA1vFTGmvVyVrmQkPRzzSe5l1BMyQjtY72ATw922EBZcrnKP0j7YLL9WvVEmt6TTBtqpNmj0J0n2lCkDegp+b2+PnprtT2En8e7S7gRmGW8MbAtjc1FbJDzbCSljG5Vt65Yt0hQ60p3GYfPx7hB8Rf9EiGlor8aCxiLqwLHJ8aDxwvGKfmd8EJEwKd9WCY7msUyhfh9LoyiggpNgtIJxwWNJ3UXjqezl7QJEPfyWN0hWHQIHTMffDK8vgoJ4+0BgfyatxzEsFw41huqoztqVEuOzdCE85qe0xqvdEZEZuj1gpih04IbDWhntrN/GEduydattWL/eNmxYZxs3QTavhay2DZtWyd20ZQN+Z4aQlr8tPG/9nPX2cndfhhPwTuvRThq+TaKIdm1++0VCQkJCQsL+hvQasoQMu+o1ZHz9GAmYP3irOxCwruBOTMIJTgpXrVph9953N4hoAcck5JjVAphey9UKGP1cecMft2N28EuzSrfH7532e6I7RP4KzKn8WiEWGnZwVZplMcxXd1kuJ9kssxOFYyoIvSy3t7fbps3kOzUR1uVa4iovjzhBXrFiLdLzqb1F5EYK/oXi+GA1rgYrgCajvBrK7+kp2AknnAgSQ2I9ggmzkyfWh2V7SQRtBSFC/UZGh+z++5Zowh/X7Bnnbc0iMIlVNtjOY3y4DZ46kUxwv+tkDZmGHz74qMoasw3gp3aWUeuoaULc29NrXQW+hs3D2edTp061PoTzAWwFbj1n20M/BZUQCY/b8LcFJ38s37fhk/z7g9/IrNg2HBdM431E+z2fu/pGUSJnoX4UJ0k1EJcNGGurbPOGjbZp4xrlUaa8eaGN9ghQbkH3ydOAaETDANaBJHvK9Nk2ddpshKA+6AuNzywd89GPfkSHc1xzN8LMmTPCOJjMdde6DQ8P2aZNm+FHz9a7ND51GwiUdMFfo58fFRfK520aXR126MGHWHd3KeuPHUGjr9DvPNXDWGAlynwqfxwTTFMr29DwoG3ZPChbidgK3A2TAQHbqn1Mr3OF6VUFBjYU1To47vKK2S5+3ng4z8WK9Q8MWE9/P9poMm2eB/s0AudbuRpe94fzfbhs/dP67aADD7GDDj7YZs+ebQMD/Whv32lCw0dxjmzcssU2b9xkqzG+ly9fbo8//qjaj2Ohu6dLbyfg6rnblq/LvoG43l/rLNqcmTOtt2/AZkzptcGNa+2vPvahkCphbyO9hiwhIeGJgD39GrJEwBMybC8Bj4jxekIt/CTgfb3xydcNAs6HcGVEbAJwzr5kyT16J/VrXvkGTZoxFcdELAxVOLwX2yeNUQhSRdpBHT4VVmKlJWnkcZwI5ye4UUecVEfxtJwGknxTF8nj448/Zl/8py/arFnTVRYJjpNdX+ll/bZs3QiiWLf/994PSgN10Xy3wXU5QlkgMMPDW+yLX/oHO2LRkWHlfzAjMLHd8vN4rnCSgA4PjeKo097whjfCpS5KJAPID/s0kaWxAmOqCM4pY1qSCrYb8wOeniSIK+pcDR+yjRs32gbIo5jQr1ixwtauWwWSthETe7P+fkyQp82wGdNniJh3g6DznfAdfG0QVEkf/+DuKAH3h8CBgNfL6pNIwJ2sNXROloDzQs/xJ51q1eERu+7anynPZMHSYi/uCNrlX79urVaQ2Uaegmik4gUZbu9/ye+/zM459/kIiXG8QIMjSgjx06VTF4M++pEP2Zz5czKNcWy3h58bmzZtsZNPPNleeMGLoJ4rkdTv45sNSF2uz88tklWO4Usv/StbsHCBDfSBeOZKjGN5Moj9xO3nJN/sKz2rIQj7k24l+JHSBrdstCMXH2sXXfgytxV2MZxtogsRCiVoE/3RJZr9vNhAl06jBg4/s1yvcugL57c8iIXTiXF5xXeusHvuuRPkeCrStmqZCGx/6IcejoXBLYPa0TB3zlw74cQT7eRTTrODDjpAfYHO8CxI63X0jer8c8NCK/B3YmTY7rrrDrvttt/asmXLcO6u0TMaaJ9f3At9uw9Br50s9NicWTNsypSp1lPosC2b1tuln/iLkCJhb+OJSsCXLFlihx9+eHKTm9x9wN0TSAQ8Ya9hXyHgLPPBB+4Goeu3N77+EswhC5hsgkCRSDIrJ7ieEMjrQnzwEZyMxkkojyYe6EzLiW/U19BLIiBNdMFqHn10uf3dpZ+yWVwBx7HPg0mAMIEVEe+wwa0bRMA//vFP+6oUNcAAn7QHfVQucIWx07YMbrK/+/tP2MEHHWJDINUi4Ip1/Wo3/lEHIrTdtl6xwcERmzplur3trWgrtQyEtjIhQB0UkSSFhPZrGOBgJMKCk4mA9ldeTvLVCQ5eaNiwcZ1+JH/1q1/Ziscfhy1T7KgjFusJ6Fwl70T/s2zVHUK79hUCvmbNSjv9zLNt2X332IP33xvqm9U6h7H2MiSfchH+ScybP8+uu+56HLXq2HZ+Hq9ZswqEeTT0XT6PpyTpHOgfsNPOONMuedcHEIpPSNZYyeQ45hjAESJHR4fsPe99u82bN6dRXq6txsIJ+GYQ8Ced8WT7g4tehqMOq7Dd4OM5rn6kfqVkURwXIMFbN9nHPv7ntgDt0Nfbx9CQAmkQP1k0+okEnP3vBJw7RyIJJ/lmuCoKbAYxO/H4U+w1r/kjGNbJ4cHWURwaB19+fvv4zdtCP9vOw1iXuKugQdxz9QjZuTskauH5S/2M6lSeql3+ja/bzbfcCOI4BeNfZ9ykwDHNnS2Dg4M2NDhkp51yuj3t7HPsgAMOtN6+XlSNdeNFAk8fNethePioRRTna8iqmQxFTLB948YN9tBDS+1HP/6RPfTwQxhTfGNBX/it2nfAenb2TLGZ06bY9BkzdGFj6+aN9nd/+eGQImFvI62AJyQkPBGwpwn4vvXfNuF3FJwdUjBBJKHCJJtC0qQZI0htHeSer6IZKxjCmZDgU/jE7QKO8xLjxhOu/jBf/tjF713uApEswBQKyoK5nOzyQ58LwJluIA88vUg165gYcyLJNUN/bRKPqaNTfhJHrScyDKhU/aFnlQrv6eZWdEiV4vf46l5OHOsJ5dqS7dvsG3Z0WhU2VlEPSg2i9oMtlI46bXI/H6mVxbeEeTjbnrX0eLlog3pnEVKw/oGZduABh9sznn6ufeD9f25v+uO3aAX8lttvtpWrHgdpA1nWzoIquxHtGdppH4HzdKdY8gqxHfOybXAb8Ec+/Od26d98EmR8EUImzt8oz9F67Gi2LA8fn94n6pesHPYVxxL7imnQfz603D9RH8TiMCYFpgUpq2P8c8WVwdpnwrGBsBpF4wQF0BZ0su8GoRKevxS3P5Y9nkRE8u0PX0PeIPyAcuO7qm8f821AO1V32uNCv2ymyzDGxTDG58Iagjqp7sUQH9qSQqLKNAyX4FBhFNQFcfrd0qdRt/Hh7SXyjfN94/oNNn3KNHvrn7zV/uj1b7AjjznaevoGkKqAMct6UGerxJZugGWLhkebdA4XbPq02Xbccafa2y95t/3+712IlJ263YC/NeO2694A2pMXB3ibQaHAfkXv70PmJSQkJCQk7AgwW0hI2BfgE1BfacU0SxPMGMrpNvzZpJNQSBuJ4NDOH7em2xGhbdoUmVmBqTi+WVY4lZTUp91OJHxFKqMiURURXIbzQC7UcRKsV3yRcGvVjyuAXAH2B7Fxkk5XK4HcnytFsAl5KXGnAFfIJCEFvBniia90cJUmJIh5CAZ5Wm6x9ZpTv+fhxB5hmtgzVZcde+zx9ra3v8Ne/opX2v3LHrTb77wNdo4yl2zrgiFdsaB9ACKTvDKgmjbsmoyFofvG4KSTTrQvfP6z9t73vMvmzZsbQieGl8dRw4OoebwSmJ5EEC6+tOuCdWByScN6jUHWkhe2JtCXh/d0wyL1NW1CFzfIskYMkyglt7s3SqXfz2NP4+m2B37usHR3+RsQPyRj2nYOd6xuWYNUiIGXsfz1YKhvxvbzkavXBH9T/OWCXkd+OJI7QtpYgsdDk+79jiGuwxFSUi/1qOyQP98w48LP8QrO/TWr19gZZ5xpb3/7e+zY406Bvi6roLgaCL5f8OA55z0Uz2NCZTIQQidfXxfa47VjTj6boru718555rNQ1ju0xZ23mPB3J8LbeO9A7Yd6dvFahp6A3qEHz+1NmxISEhISEnYF8v+/ExL2AXByiIHJlZqwIsxVkOZJrE8gx4JhMRzTas1+6R8vfZPSgHZhzaAt4iDxIDOOZWDSiDI1v6er8JwZISAjLIpoBh/ARgJewWTcV8DdH4VPUueTyyuYlfOhZFGFkyNMzDFR1XuacSyBn6uS3DrM9S+GRSJFifFtw0I483kcVwF5S0EuT4yTywex9dkZpz/V/uJDn7CB/ul2802/tcHBUXSJUxJRgjb1ngiNObcTsl0F9gHb5fHlD2fHrEf07Qye+5zz7Auf+6y95tWv1O0U4yErBdWSP1c9eqMQMe2jj7q92dAbAx+LjlxunlPxvJoAyoGvSMTlR9/6Q7u61Aetgi9PS8iwKJNHQ1f0u+sXoUC/fcsCoum635H3A7BTDj66nBCiaY3HNNoH3S8vyR7JbWNrt+duxvhtlxFd5Wfu8dM2QMM8Zxnn9sZNm+35L3yRveLVb7T+abOtagWkKKI6fMAazzto5lcOPGpXEsM0ltkWao9QMYF+xuKD/ly44EC75JJ36PkTGzY4Cc/3w94AS+WvRWe9Zj3dPTTEyqOjGgsJCQkJCQn7M9r9305I2GE4SaMn558UkJCT9jC3cq9n5uSZ91VyNdknZbnJbiZhZQvCzMzDMOoNlC9LE8MbYCgRw/JxRDzm9seKDQ8PhjOHK2KKEDgx1BOZIQxn/WUPwGSRBBCZrUBUoXgQDH/9GMkG0jCM+rgdV3Fc9UY5It+exklVFybrpvKpnLv3RVqCUK+IDOsQhH7qbo2P5TFMuuDEPEzhgUF0nIVCWGeuKHbZ1Okz7eI/eqPNmDnX7rzzTq8fdVPhJNCczvNF2Rk09KC21IV6Dg5tZQw+/h19O4uBgQH7w9e82r7+b/9i55337BDajLGl+IhoV3oM4/3B3Iobx4X6y0eZ4mO/5LXoSPX24/ERezNoQXqF0IVQR1wlz2gdvvLnAv2NYnIRLWj0RbNRPGaZepMBNDFa9YXovHDzJkTjvKd/rBVZiZnH0VDNCP/V8DM5aqBL6opvBOd/ayj+u8X0lG3B0wwPl23lyjX23POfZ+c993zo4zkEQUPKHjU+fKoQH6DIQC8vWjgeoo0RUpF9QruCoPf29uN8/SM75JBDbf3GNbrYwVtkJlWNXQr1OD6demI7nwHAbeh+vz9+eif/TyUhISEhIWGfRCLgCbsWJN38ZJOkyUyWfCLpnwDN5v0o0thcbBuEuDBZbFBfQGwg5qWblzzahbce1+2nP/0Z6sftnTgieQiuYkkcgp/ZYrFRiw4zj7sNr087y7rHmytQmBxj0sl3ejfe641Jc3AZ7+UGDa11ZFSU8YA4PW8qn5ZhmT/oyiGGZDFNAfjiGNCKW6fNmjXH3vKWt1lPT5/dcsstqhfR1D8BjTHTjBjcqC9aSe4uANTkycnuAon4+977HvvC5y6zk07cVQ8Samd4+zbMkI2R7QHKYVFsK+oPbvZRfyMcEpJBWE5etg32qc4fjvHglyAuHvsD+ej3PA20KyOUnXeigUQIa0JIG5NF8uoSU3sifUJcDBN4rLCAvL8FXqeabd06bM945jn2vOe9wLo6S9aJcLam7qVvkz9aoP5sEkTkRPZl6XOeTELf4YDn7ED/VHvd615vUwem+4XGcNltj0NFwqZO33XBXTtx+/l4vxMJCQkJCQn7CxIBT9iFiExuZ5AbkvUufmWiCSm8nH45vcuL391IYVqt5AZ7uD6Uj/c0RJzI5UPzkzuGNY45Ad+wfqP99re3WHdPSatzmpwGNiArkTw/D54ITNcMz1Upj0JluA8zxzSizm3pJag61irWrAFqYNv42hlbOZ82L0QkQq1gUJvgJjC+p6ff/uCil9tjj6+ylStXBX2+mjUZbKuMnQHbKXbDmO6YJPI6toVFixbZpZ/6az2obf4k7w+fHNhbrVa0a7hJNmZQFTXGOvL8060d40BRyhRHUNQwOcRx5mOEPpz18kdR9ARgAoqP72BRhnbWaJzHbFFyiDVxNHx5ZO0TPiqbxuKvfQ4HamSbt2y0uXNn2wtf+BIEFJDbf/diuc35o3Gxfvxta6RrlVjf2H7twZReIh9eN3XaLHvVK/7IRvkgyNoIlIyXb3eCv/adVuru1Vs1+PRz3o4zfh0SEhISEhL2H/h/3oSECcAVB277k8sVCQj9+XD3M3VjYriz4NPABwc325atm/R6o62QoS0UhEEGt2zJCdJs2YA065F2o20dQhjyDg0iPWRwcGNIw3zQhbitWzfb6GgllEbk7c6dGpxE1zE5rdXt9ltvtVq1gklhUXXmhJCrc6TiTvod21975O2oQifvBeVrqBrlx8nz+JNPlKYrE7HUfD1a4XHUNYw2Gh7eirbw9o3C9hqGsI1GhgehFkRdfcyxQB1uC6fIsjtX72b4OCGOWHyUPf/5L7QlS5fpdtT4kL1tgeXoFVSh/uwDtXc4JmIZ0d0xbF9evhIrit+b7Ku2kwaK89Vc5uUD9fzBenkN7SyKYXT91VdRtgVq5jhh/zcestUe7KCo0y0iNdMFMOTl5mgP3476bgOxL3ldxt8UwAZCeRC6aBy5Md3EZTOOdUU9w/aO7IGEkOYLX0wL2gm9XHV24YWpCupJYVshDcNxjF8lCMOQRmEuXbBNEtKxnep1PjSR5TcV2ATuCOH71p/73Odr9dlfpTd+erfXV6W9P7hjxl9ZuBVEfv3a1TiHN+PcHtL90kzP89fhdXVphj/YDdp4DnV02eGLj7YjFh2lJ6OzTxrtvodAMyCFYrd1d/egrdHmNbTrTp3jCQkJCQkJ+wbSe8ATMrR7DziJIEm2HvyjSRGHS2PCn03M6GCyywf6lIolva+2VOzRe8CdtG/7PeAduVXRRx991O655z6bPWe2ymUBKoJefmOiSr/0kfkjr+7pxYdaOEVmvF8UAJCZNug+ck6SEVHoKtlFf/AKO+SQw0KimDjvIiP+ONGtVcv2T1/4R7v/gbts+swZCGE8BG2EasMN6SHDw1swV++0j3/8M65mEhjausH+7jMfQ/aCxJvW60Xd+bbTa8wAtlm9WrOZM2fbW9/+doQwPPZPo58aYOu4jd+4/N9tyYP3K7Qzbi1goSjD+7xoXcWiFUvd1j9lqs2fN88Wg0jzHtFiVzFLK1HWsRUlSRHgDI8M26cu/YTNnDXFDj7wEGRjowEhG+uWn+jTTwLj98P7ffEVkAo+oI53pJMoERyTTnRAIkL+xsO6AOhnGza2McPP+Ty+Vq1aaU99yjPthz/4b68+028TdVuzZo1VYEe+b884/XT75698ORy1x7333mt//Tefst/ceGMIaUalUrEujNO83ggG8ZYEvgd8+vTp9pnPfY00MKTlVxvrUd9yeYu9572X2Ny583Acx0SbAgioYApq4nvAzzjzTPv9i16OI0+vsYh+5vmTjf8ADqGtgxsw5v9cY6Wvh+8Bnxixv+jy4or6GkHsI11soYB88TV8euq/0nueVmTvAf/D11uVY0njMqRlvXPG+Co+z9Ot9j//830b2sJnAARwPPFiGP36ncEHrj8FneMMMdCHVpB6psupBpAGOh544H7bAr3Tpk5D8uYUKEHtvGnTJjv0sMPszW96O35GSsjXnG4s+AuHMQLf1i1b7IYbbrB77r0bdd9oo8NDaq+OLt47zd/gfjv44IPtSejDgw46mEMB6lkq+45uA3pwXO785Zbvxx5dZn/5lx+xadOmgwTjNwl5xvvt3rVg67D/emwGxuzU/m6b2lOwjRs2WpkXqipVu+xTHw9pE/Y20nvAExISngjY0+8B73rDm/7kL4J/j+PABZgQJuwz+M4PfhB8Dk7WOOHq4oo3JpBdXU6gOzHB6wR5oiuCzrltmJfxnj0SbU4Au7oKEuURCXd940/i4mTZbBoIxgEHLAQBn2WzZs+02ZJZmczFMcNnzpwOMjzNZkyfZtNnTAExmWLTZk6FfyomjlNs6rR+65/aa/0DPZiQlqynj6/e6cLElyvlQ3beec/RCgsnpU49GrY5wQAwmSbJW7t6tf3v/37fpkzpVz3dWqQJyfRUcA+xagXkrNZlz3rW8/IqJ0AHiNKIXX/DL+CPdlCcZNLvavw7tJSnwsy6t7fPzsREu7kO0W0BM6M+v/gF72WvaftrT0/JCkWkJ8kA4anxYXOjQyAQG239hjX22OPL7Z577rSf//yndu0vfw4dVfTBLOTr9iKbymr2y/LQ71yp+/Wvr7eDDjwQ44rvZ2eSfHqozpMyeEXGSKBBLrjirCU59klI5xViejlC3u/mkLgwnDrhI6GCrqGtW+2ggw+1B+6/h4kmAVe8ceMGLyQnCxcusJe8+MWKb8XmzZvtox//uH30Yx+zRx97tJHPrXLrcKx3zOeaQ80ThKDtpRLGcU+PPe8FL/VAtR87gbrGolYbtR//+IfWD+LePD7aI8byafsHLDzQjj3ueGgOoWh3pvBzOAqAYPoq5WH75TU/0z3vxUIxxrZF7OcMaoLQT+xzujjWxRf0eYxrj7qNjgzbvLkL7KSTTkX3alACbkE8e5odJ+CX/+fXbAXG98pVj+nd9StXRvdxW7VqBdwVwX3MVqxmOPw4XoU0q+QPeZC+kWeljZbLagde+IvlskzVi8fVGsoftle9+rU2c8YchCOw5VwYA7RDuTxo1/3qOvvcP15md911h23ausGq1TJ+a/lbTf01nGdDtmnzRntwyf06zx9d/ogdAjLOizek31l/Zi1BhDAc0DdloN82btpgDz20ROONYeP/du860DZeICjhN61UKqINe/GzVLGhoUHZyd/WFzz3XE+csNex/PFVwbf7keaMCQkJuwt78reMiLOUhIQW+ERLW8xBLDs5uYOQXJOQ892s4N/WVYjk2uP99VUcVszvw2ti0p2DyAcE+bkKVuwuYQLWbd2lHkhfTnoR16v7A7t7+3WPMd3u3gErwV/qRhqQ6kJ3EQIdEN6z3d3L1dxOK4JojgwOYaJ+ik2bMhUF+/SzFXxXMFe8+OHk/7bbbvXV11CXWC8eUXzVFRJXzVD/yVQ7A7k2Z+Zygy7p4IUPtqW3i1NylkOhH3Eq09vb2z36W0GDuoxPlaeP7duLSXlPz4D19U6xnu4BXTzR6jfc7p5eEbeZ06fbvDlz7MCF821KX59d9eP/tb/720vtzjtuF5Hw0mRMM1AIq0Rhv55xxpO0grV2zRqYX0VEzBM0ZMcRPI5hcEkAqSsL89bYNry+ArJqt0RQxTE+WXi/er6s/6MotBkk3p///Bf0dOvvXvldpdEnl4cf9HIICxmBiazqQb9EMjxxyjxi2vHGRgNKhTHHJ2Tny5APRsbWj6BGpQgR2Wv2Jgnv90Y5BM+/Gi+8QKmIuIfqeyxiPrpuTWxX/DploXl4mNNRXsAawG/BFMl0mzplBmQm/DNsytTpcKfBnWHTBmbiNwOu0jAM6SFc5Y7CcMVBOrsKPvZzYHmsBR8qNnsmLyjO0W+sDJoIyDS0dYt9/atftW9f8V84X3tt5izYMm06xkMf8hes1sFbY/g712t9fQM2e8ZsmzNrrt1z99122T/8g919153SEy8fRrBtGEbhcyHcypqd9eSzdJ5ot0dLnl0P7xFfne+wEi/kYiDxfw5fzchzlkOeF4YSEhISEhL2Z7TOSRISmhDfAx1Xw8mtSbq5Gs7V7QKkWIRb4HtqScx9pXt7SM348GmhC/W1F7cvTLcxCfV3FfNiAIgrrxJwqzNJLCe5mN5VMZkbHSnbuc88z+rae0n97cEJH2OrtbJdddWPQP5LCGOeFmCWqntyaz7Zpy383j4wT8y3fXmVGrayFbYH7Ff0pPqRq4bcKssLDBUwfV95xoRcfQnN6Nfenh6bOnXADgARHx0Zsq/921dt4/r1mhzT8onAizSzZ8/GpP4pIuC8msBtxmNJd3swHbcoT550TwJsM8iixUeHgMli2+18JQj3hRf9gX3u858XEZ8svLUnxgEHHRx8xHb0eTZ2J87jq7H8Y99EYZ7Yy23GN9sSjq4LTBLs09j/dHWbQBh37op+70CP58+lnE1w8w+RU43CsVKrAvpqEr/oNr7UEN8sIWo8oH7Dg0N2yMGH2ZSBKTBrosQEiCh+y3569dV2229vRp4+6+ku6neYef1p4V367cMBKsNj/BbBLRaLNmvGLO32+Pevfc3WrF6tKvrvZnQb4juVqKbTFsxfAFloI6PDE9dnV4F9odsFYId2UuF/C37H+Soy1os7dkb1dPaEhISEhIT9F5xzJCS0AWdCvKcbgwQTP/JYzMfCRI9Em6vhLiTdIuQk4STlXCUvcLIUydueAMujcBIJF6SSJJiTUhFv2EuCybgNGzfaIYcdbrPnzkUteQrQxrF2+qQd4SABd999u23YtMEKJW6bjhPyPMIxCA7vheaD2rh6HsnF5DDWhlYwRTuCEyf8ky8N7aRv9BH7Fu3DZvILJxQSI6YjwsScbYt0vJ7BxAccOB/9XrPP/uNnbGRoRHXflgFcUT3n2efZGpB2TrDFBzNSOBGoOE++Y57J5B0fzO0aJtdyTNVI2b7sG2+8UcT7g3/+5/bYY4+F0H0BsBxj0ttwgvqiWhwTet5DqGJWU/RVuwtQ0ohgtU90GbENRALuF2I8jJRb+054KwQ+JF9+Hk1GYwNM3VrbsZbvYcAQdgEfLlepVO3oY4+xCo4rutAwPniePvzwUvvJ1T+yKdOnWYFvYUCY8oSG428A6xqRrzvj+qcO2CDI63d/cKXalveSN1ppLPgb2tMzxY468mh/BVitfbpdCVrD3u/A/5OCLuySfPMBhfilxg8PL9BUKvkHZyYk7D5cdtlldvrpp9sFF1xgS5cuDaF7Brw95YMf/KDKz8vO2kK9n/zkJ/d4fRISEppB9pGQ0BbkYpF8a0IO0kUSpnudO51cK56CiVKRqxVaGeeWaXBeueNP8HYdnCCSXPvqdxCS8vCwJE68kUKrvatXrrJT8Y+shnr4vaIe2wqFgk1wFe7mm39jxVKXdRaLvkoc2YLQkh9xfEhYnsDsKmTqYvEogw+H4qx+e1vZraaiqvK7fyzUz53ex9xVoGcAwN/RVbfZc2bayhWP2/333yeb2MYTo8Nmzpqtbe0bNm3EsZOISMSI6G8nXnFKLGcXN/Ak4ZY2Y9PmzfaOd7zT/uh1r9fD1vYtxHbjKNn2SOH56+dUzMOW9hEjieoiGAQh0RMBh0wa0KP+zRTyYWu875sr4iSmfKRivrDtBG0J9qg6O6Fq5+G/RnWwbt4bfvgRi9FWbiDNGq9n6iChP/rxD/Q7XOrpVp46zkO2c2zqrN1DWDyuIQ+lo6tgfQN99pvf/NoefIAPX2SLo0QmHgMGwtKOgj3pSWdZteIPQdztYLEQXhAsV0e9rhwHVX9DAN2EhD0BEtRjjjlGF1SvuOIK+/Wvfy3yuqfA5y58/OMfV/lXXXWVffrTn5b/+9//vh12WHxw7MS49tprbcOGDeHIQb3vf//7J60jISFh94DsIyFhYmgiTuGELPohJOII6+RqBQgZXZEzrpIH2dOgPQSJOChjENjJMAifSsyVlEWLjsJkbtsr9JwWjwwN4Z/xEt0fyuQuE+SbWOVOg+pZF69pnLbvClahpW2XoI71FPlWv/LiCvxsW4Sx//v7+mza1Cn20JIHPb2+JwJ3TBRtwYKDdCGEFzfcfp/cO8l20BsP/f56mtWIjy2wK3DggYcE3/Ygb4s/4fynP/tZONq9OPKoY4NvsmDPNI+cbYGnb3NK5Eff86LVrmt573O2JPuatz3waeciXejz0O2TwKQT7lLbdwS0lKv6A1Om2bRp0/B7tG2b+NrFh5ct1fnG3yTvydinDm6lz+uhvxELPw64pbu3t9d+ctWP8fuHc06MfQJA58KFB9mMGTPRH3uG/HI0FPAb0dnJC7oFq4yU9Q5wDhA+2K71ifIJCbsDQ/i/v2jRIvlJWl/+8pfLTUhISNgV2NtzkYR9GJoYYzLM6U4ktg3iTSGBrWuFnA9mE+lGOpE2BHoaEjgSu90/aWJZBFe5Sbm19RzwcMwkYeuaNettwcLFNn/+wkb4BOBkcMXKx23DhnVWKsUVfW7bJgF1EsqmUfOElWhB6XY3YhkqHOK2TRZaYQx+3gvvE1sIw6HGL6I46S6gggUcx34uoEiGsb9nzpxpDy9/JNR5ovKpH8DEet6CBeiL1cjiREtjDRLROPYwPfEc6eJ7of0VZNF61t/HWwR3aeSRj6NfF45CGm5r7QWx2T40bN1/wPpS2F7twWZSCnh0K0Vo20ZPOOItDzuK2L8NIenmQ/koKJvjkeHoYn9Ow7Ywfpr8Pd9MFtXx9hNG+XvN9xBYNsYd6zZ37lwc+28kf0e8pVtQxziFkRs3bbStQ1v1SkDaDA2uSonYRqxDvqIOpUEwRX6cu319vbZ8+cO2Yd16L7PmZTT3RxDk4jl+5JHH2MgoyC/CeJFkd6BRA/y+FAvWD7LD96pXKqMqlzt1yoGIJyTsbhx++OFabW5dQebKOLeBczv4xRdfrPi77rrLLr/8coVx2zjDWreP33TTTWPyPvTQQ8qXB49by2wFV8S5jZx6rrzySh3nt5TzOK7WX3rppU02EDE+b3fUlZCQsGcw5v99QkIevvIYZqwZfNLoBA1x/MNIcnIWwuPEMkwu4exRoESQNpAyuTjmxLFSw0R2iz33ec/HJC6buga3PWj/D773PesuluTf56D23fHTmBNbLoTpPlsIdwWwz1lV9bGkS2XoWB+UiQ4XiUVYf3+/rV61Etrak4BmeN75IOCDW7fqlUIoESR4G6tru2nSTa2Uw4/Y3oew7V0sWnxU8G0nshXPCcYyo7Lo2ELbASTnOSfiO8ms7F6ScK16cyzyfMVw8m6fpJL9BDrnUNeZs2ehjrzE4b9R4wJxI5gs815onoO+a6Spk7YLXAXfunmzrVu7Vr+RTm4nQqcdccRivQGC5e/u30GUYKVitxW7wgMvuV2fofjdKI+Oqs0SEnY3uNr9mte8xt75zndm5JSk9Stf+YqtWLFCae644w772te+ptXy1atXa4s4t42vX7/eXvnKV+qY28BJlo877rgxeb/73e/aiSeemJFnujyePn26jsfD3Xffbeedd570v3icV18Sa3GOv/SlL83suP/++5u20eftpvB4W+Q/ISFh1yAR8IRx4JMsn+y1m6D5BDBOyDgno0vyzYlSzM8IpQzp9hRYarBQ36SNw0MjNtA/zU44/mSETTz0NSmFrF61wu688w7r49ZP1asN2DzbmsPuBogAo70LXTveruA6It/c9lutVjXJFymAbl1Q4dZzCv28kOIPlFfZ8fVovP1gCyb0XMHkmtnEcFvnz5uPyfSIJtS++hlW3IIQ7udFIBJ0aiZVx/EuHEac31PfgoMOCiH7Bw44cEfsRWNmuxS8jccCjcHzGP0qri5hyxNsfV4o2fZWZK6dM53c0J+tUD/zL8Srv4Nt7G9FSrYHMQ9s7KCdtGMisIJ7HhzTU6dO9XYmoRynjRxoxVp4YJqSkYS7u/3213U+880Vd915u3V08h57P/9cd3vMmzuPwwLF8eIcE0bZeeQ1ccWdq9/aWcVtNiiTzwHg/w7eg86t6P6bnpCw+0Ei/K//+q8ip7NmzdL7/c8///yMsFIuueQS3dbBle083ve+94m4X3jhhdrKTuLbLi9X2h980G/hIgHm8bbAe9NJ6LcF2pzfRn/ggQc2EfBWuxmfkJCwZ5AIeMI48ClRJEF58uwT5jhlasAJONlZCNjb0GTRbeK7cR9autxOPvk0TX59Apu7UNByKnBzame9Yjf++jo9+by7u9u6oCtuPR8LhKlZgr5spXF3AbaIJHOLeDEL297GV/9y1RF1rVYhNa5Ic6UNmuJuBhJvCJ8kjwNGIKcTGx8KtKUuEh7Bds+PmTyYZ+q0qSinw8qVclDiThTfeUG/9xVpgkKCym3RqsmCOtlVfBf6wh26D3zPY9r0GdbX1x+OJgvVFLINAo0+00PB0N/sH7U5wB73I65Guuv6xoJdROIdNXj6ZvhviLv06Zh/OuaFHIh2RexIT0sjJNo4kQ7G71nwvCCpJNEMo3ob8Atk7ot1I7yltxsgssViye6/7x6oQhvrIuvE6Ovvs1KpiPOy7Kf/pOyeHKiJF8F4HvJRksXuonbW6AnouiioSwT+LnKMD/4UJSTsbuS3gpO0cgWZBPmWW27Z5irxjBkz7LOf/axIdnxoGglwu7wMpyxbtszWrVsn//aC5TEvQVvX8DWfLWD48uXLd0h/QkLCrof+lSYkjAdOiDn5c9KKiRDdcMyH8nBVwreNxkkcplOam/Fr103SdhQigtZlo8NV27Rhsx1ztL/2p4E4m2Ng43Sg5ZXyiD3wwL02dWq/VoPrnST0bepFFbr3m/kh2t6+O2eJKB/l8VoHCTIn05OYQ7cF+42vQ6rw3eiY4GqSC/1+24CvhIpIsx11zBqSmBdUT+dNIOyI4HY3ESiuhDNiHFDdwMCA/JXcK4U8b158zLkbx6CH7armzdRg9n/+Bb8fDraNXVT8DuGYE7iDI4/x27oBWkwJY3RbUH/nKTjhOkjBt60hlkeZDNjPHANc7UWp8oe+nhRa08W6Trb8PQ3aC9t43pJ5jgukQ3ShwIeS8UIiD+MuI2L768cLalwBf/TRR210dBS6tlE+hOlJwCu8ZWTSfTJ5xJ/Vzg4+eA1EH2WU8NtWq4zqYgXP/dHhUdZckpCwu8HV6rj9/Oyzz9aW76OPPlorxq9+9au3ed/0X/zFX2RpeD84MV7e448/3n7605/K3RFwlTu+Mo0r7txWTvB/8rnnnpuFn3nmmYmAJyTsI5jETCzhdxWcZ+l+TBEfzpDgQvRqIEwc/V5NxkX25+kUhiOm1TfC9N7ZsKLVSN8MzztWthdxQqlvlEUSsXbNapsxbZYdfNChIovx1T+0rwG3i9Yzz6aN62z5Yw/bFBBwvtM73u/uefJk3HVEwkCTSSTUSOPUdcfh5ZF486IAX/XGlSK3i2A8y9x2udRB+/iQI97fWS6PoE/9PlMXxLPKkC7UXTsAwk8Gq97JCxJMwgSI37h5I1xvi22Vz/tQ+TCoZgLuY6PRjnEFVA0qW30CzmAvZ7JjhDp9W3PM4xeOCOqjHH/SaXbGWU9T2L6KKdNm2MIDDvYDETfWYdv1b0Y2WNqCbaEn3fNeA6at+2PKvBTP649mHAsOBTarmhY6eJ7FtLGv2vcXS23o5EjzWxzalzMxWvO01xEtG68uuw/emn6hiscoX78X9OfBdC493T1I1akV4Q5eeRNod7u2nBisL9uWF9wef/xxV8OLLTx3eWLnxFumrkl7b28Pzhkd7lKor1USx0Dduovd+H0o6fdJvw9hzJSrFcTyl9mtSkjYnchvP6ecdtppCudqNle1YzjvwT722GObXuvF8A9/+MNZGm4r57nWLm8Eb3Mb795vhvMiQARJdZ5I522lfm5tZzz1x7LiSjwR87fazTLGsyEhIWHXgv/xEhLagpNDTnwq3AYY3gPrK9+8X5hS14TQVyicaMfJNbc1t4PH7+IZXA4Z+YbrggknbFy1cpWdecaZ1t/XH9LkJ3Gt9vgk75fXXIO0NSt04zQhxyVxR12Zniqi/gZi3Zhud9XSteod65ig8n5O+h3bWyK3wvpThrkSRhKOHgz1cvGH6TElhR9H5jIO7UIZGR3xY35NALeyQ6vgnGBzTLQKU2XHygGBn5rzduwsqIekPtr8qte+2Z53we9hctKr41Z4+XsefMXf3IUH2ryFgXwL22sN0k5mdwaaWg/f0wWafNp8eXl/K7zHsjTbGA+CZwjlQeD6Ku9k/0XFMkL+oKNxPBG2Fb/rwaYdHhnBuVsIIePZ6Q0zdeo0K4GE6z3YOi+YlnGx4SaLUA76pKtQ0AOh2D3eRTy/XKKft6Vs2LjRVq1agXOVZeNve4vcBrxo9DeEO274r6NY8NtqqvhN4v8XFqwLv0qtHAkJ+yy4Ik0SHFe6eS92nui24oc//KFW3BMSEn53MNnZTcLvICIJ4/tiea8uSXh8SjYnQ5ycaeV0tIIwj4uTM9EmpHMyxUlbnLVtz6R650GqVgHJGxketWc+49k4Et2S20DzjJJPTC+PDtsNv75Oq9+dWh1CemWJq1LtQD35eu4exH7RE+dRXhdXq+D6vbbNdZkQmMey37ittAwSrqC8blTBV7jRZjEcfkoT0F5MH7ezRkI+EZBMJDcbH1paayAL1zcAj9uw69u1uaSaPfcFL7VP/v0X7b0f+Ii97V0fsJdc+CqRcspxJ5ysJ5D39U+1fsrAFOuDkCBvD5i+b2DqGBmYNl1EmzL/wEPs0COPtcOOPt6OOfkM+//b+w5Azarq3HV7m95hqAMCQ1UBUcSCWFAxmvdi1CQqiT5NVOxpLySImMQXRTFYoiYWLGieL8agxm6MKIIUadJkhjZMYfrcXt/3rbXXOef///Pf+987dwoz67uz/t3XXrucM2udvc8+yw45zBYmEw8i65+GMXkJ8ubYcPzY02aM+Roxfxk7+RiwBA0lM5saQZGvSpBod1DkVx+0Y33mmdx7A/x0Y7Ns37Zd+2mq/mTvc57xW9w8uHAC9+PdlZafHOQq+MZNm8CF/MYgBXeYjGGOjcrDD6yV73z7W/KJj39UPvjB98uVV/6jbN26TV934XXYSN9OHxO61Z4PeHlv4P85/OwY72u8H/A+TlTeKQKB/Q+TrXSXgd8Yj5XnQODgwuT/8wcCCVyE4Ko3V8NpkJNsRZzv8Y7A+BpBGlcz0/bhtCKuK+bIx2/52uKNKVPTpZnAjcYNG9bLE44/TnrmLoRMUBqVnyuxhF8GVHUZPy533P4r6e3fKV1dHbYaiLw0fnRVcJ+Ch6LxlGC0DaKaCgz52K7kt/ZMLSdX00h68jlcW91nn7FfaCTQuOfWc25Jti3oDu85GxtT5n13hO5+0JXWydHW2jrF2IIH+WSrtlPznC5YOw+AGlfL1ueEuYcdcZQce9xqefZ556tRTnr9m94hb3nnX8rRx58oq0BHH78a7mo58Ymny8mnP7VhOhEGNctX01HHnqCGNmnR8kOka9486ZwzR6WiiDp9XUr68yGZAqld2kZu7a8P21FRydhHgGyytwwmg07OTFKNKkKva0RzJZdTwLZjFwhlfLfJnoJLx4ZpX9K/l0DDmwatrmjXAc3h8Sbbxs+nYU85/SnS3z+gaS0UeoYC62iAb2trs+zYtkUGB/pk82Mb5I5f3ypfvvqL8hd//qfygf/zd/Ltb/27PPTgb5B1HMbBfFm8aHGaG7N7HXJde7wJ9yDMmbYO3NtaeAI64sfQS2g7H5nybAo+fJvQB6Gzfx8IBAKBQGBvIv4nC0wJN6p15TsZ3tlnqzQ8ISMjozJCI3yUp2lDmaJRp2SKdGaYQ2m0d8drSflXEaKz9JmADwweeuhheeJpT4Sa16LKrP2VgbGoa3xEbr75RhjsPdLW3qorvmbM44Khu48VQMpCywvdY2HVSS1Q3q5ysISW4o8WZBuNdAUcRjUfOJC/1unpnr0Ajq++s6u3lCn6J1XsPIpzoJx87tg82rPQHmkIjRu/swe1afcgfPxtvGkm2hot4XVzBDLbui48w6SZCshmQ3IPZPDaapZHH320oZ0TOgLIf8aZZ8r8efN1Nw+hPTbT7kLh1rY2ue222+QjH/mIfOAD/0c+9U+fkFtuulEN8yVLF8nSpUtk3vw50oawvXfutOfuf5SpvZ3vf/Pz3yO84Srx82O8B1DufXHdBQKBQCAwm9hz/5MGDihQz6PBB3taVyZoXNtp6NzCPKYG+ODQsK7QDA0NqYFOhckMcJY2Ayo3yIsGVpE8j4Vdw6zMY3FTgdk2P7ZJt3see+zxKXYS7U1X4yZkoL9PHnhgrSxavAiGCI1vlFKDxMj8OaqCexTeI05UzG1bNoTQiJmBPMzopvFNPxVtvp+aG2RKFqP+6jHhirbJM3mHKA/IOoY5Q5mL4+1EVIadquN3H3zlYGaG7ezUPxkol/em15b1biFtamivF6gc+u33NOcNGGtaPMXK6xcvgGUmz0yWSjr+Zthr2MdXw/xtBI3m29cwOXl9DfT3y5atmwt9PRmapKdnjjzv+c+XgYFBvedO3rtTAP07p8fOw9iydasavVzhnjt3rh7OlJ26nv60JhV0t2qtC60D84WfVOzo6NT7ELeg21wQ/T8lEAgEAoEDBWGAB6YApwiMMd0KTKPLtozC7obhZC4XJUlcHefJulSWSHwneGzM3i/mNnX69VvTYzTaR1WJzP3pO9Rp9Zx+c/OV9tyYR33JLUNuADbBAH9Mjll1DJTLZdR6k+rI3+qpz7VbKoET8pv775WBoQHp6ulEs6EAJn5qgMKrKmkhTmOYRv4pngrkngBbTaMEvYJquUUT7eD2b8oOf75e2Ri0LTC8W1psS2oLCUowyd7lbkG/+EFRteA42G6FJmnv6NDwZGNDuIS9u3p1FMryKx81ybhFl+Pu5tnuw8bRHjioLNqpzpsSFam6P9nPyTtL8tRDTe0I4PLTWhnP9OmBpSYvmR3sR5eVpTL8LbY2S6oCu9H6Vd/cZQzI6rN+T4X0fsL8Nl9s6zlH3EbdXOPQGEqEmQLFJjS0rX4Wwa8A8NJdc/9vUotrwV4z4vkO1pNPOetpsvKwlbINRjPfBZ9+q42nth0/PXPnyJw5PdLS1o4E3NuVIQcGY0BCSKVj5XqNMFR/2/xMwPtuE+ZDK2Sgv53vgaNtE/xeJOrkOSP8/yEQCAQCgQMF/L84EGgYqiSXEFe8qSRxG/oQDO/BgQEZHhrOtqWrEkVDerza0K4k5iVpOBnilmYujXYa4k6UpwaI46rm8OCg7Ni+Q55z7nmIhHKJP33f17RJzVoEY/j+83e+85/67e8y1oQbDY76tnZ5PbOBJmrHlKOC//TqcyWcK94d7R3S3taZEQ9b4nbQFl0Jp0FV20g1pkDsC56kvmjhQq2+un9qwHQo2P29vfpOaWaU7QtATF39brjbihn3/O2TPUPjUI2mJGtFbzUsd8KEly7rc4uz8bAT8nkdJRNM4YbxpEAyDSka8Lp6XkDN3GBY/yrBUmy3js2MwIJTFyZ/N77dMN0b4OoyH3bdf/+9MDRxT+OuoCnkpRne1dUtb3zjn+D+tED6+vr1njgTcHz4YNGHx8acPWBHsfE+udc6A2DbOtu7ZAxGN19l4RQZ424opNnDWN7rjQKBQCAQeLwjDPDAFKDCTMWHrimI6ocBWCTqjpZunyajwT04NABjfFCGhvpBMMjht5VwGNPJEKcRrmo9lS0lGNsTSFPXFFM3tF0J42o4qyrKk0Hjjc+2bdtkwcIl8oTjT2Q0lE0qbyQNgYpgwTF54ME18uijD0p3TwfimLdWC53aXiRvrlB7XbMHVZzR3/7QgyuHVldZmyaHvd/drMY2iSvYSu0It9II51bUDlOItR/4EEOdDO7l2KxYsQK+qWWg4j84PCT9Q4PSBAM8e5DDdiWyOYa8aiEUaXax5zjPLtwQZXf4SHN2TU9wlKq4BipBI4yk84L+5ibMLJZJ9enBapxrnHNTIa+niQOZoOOaSMc8++MKuF3nNh4zHRHvmSSr+vc3WNvm9HTKA2vvkwHcHycwwKSycSmChmrP3Pnyh697nbS0t8qu3l699h6/4Niz7SItba3SSmpt1nnAfuI5FDzg0+bk3nxEEggEAoHAnkMY4IFpwRSjWhTjebIv3wnnNvT+/l4ZHIThPWbfmh4aHJLhEX5zehAEVz81Y9vUx+ByJXWU29bHhtSI1+3r4yOqZDqpgV0I5/FU7KGMwqVh/+CDD8qppz3JjDxazWpAUFktV1hpBNx8y43S2i7SM6cr6XrTVfjQD1k9KTzb0HaCb9be6RsalEqNLVAblN42roDD8NaV8ORvQ0fwe7z0t/C7vLrd3c6Jz4DuoQz8bFBHZ2djrQWPTVsek6ZW1mvf+60Gm6fMFdXuPoY3sqHGzg7Y8prWI6LxUaewJJYoL2Xv/huZAW6GkJbQylFe5x39jFVPDUxWGtKk2m3Sep2aB24ywpHJHpDlBrg/EJgZvI2sqby9+wZsj/23y4ddW7duls2bN8lEM+5fkxrgqR/YH6BVxx4jb3rLW6Qd192uXWaE6zUzGYv9FbS+cW/hfZrN5CsMQzC69eEukour/DOfD4FAIBAI7D8IAzwwS6AxWCSuVHPr+aga4P39/VCqhmQIBvVg4R3xERBXxkdGYHCPDukKOQ3yUd2Gbga4Gufjo7qqnddjRjeVs+Kq6RjcUeTbtWunjA2PyQnHn4B4KvJTTfUJGR4akHvuuUsWLebnykzpI89qhZZR5YCinynRnmnPX2JmskwDzE6dF33FA7f4PqpSSxtcWw1n2AzzNriMb9V3g609eX0ch97eXbJi+Qqz0ur2jQMZ0IGPbdwIni1q7DeGabZxjwLzCc2o7Im9A9Y7szpZiuRjWA1eI/gtGjioLO15KJTk292NoFhfFXQK4HqlV127dtXgSu70UV2G9boM+yP4nj3P1miSn/73TxGy97wnl9fbBHeiRVYeeoS8+c1vkUWLFsOI36b3TL4yUNLj+zU4/jwNfgy3Tx7kyL7gq0tsq712ZA9XA4FAIBA4UPB4+786sI+gK60J1IXsMLac8s/TUDk04re/qThxy/jQyJgMwOgeGOR29EEY5dyiPgijnFvTaYTb4W3DMNLHQKOg4UG4QzC+9RNnXCHPt62b4e2r3lxFQz34GxeerD0ujz66ThYuWSyHH3akNEMWGg486CeTsQYTsn3HDtm0aYMsXLAQPNPKOtpKU3wMbSR3/UJxqtOJ4LvjtmJHvxn8TU08FXx2DQBrZ2pzkg+O9bkq51PXx+xaBIXb+C5qCwxtNbhpaNunx/huNuMzl6cia3vIgeuafFcULsIbNm2So495gm5Z5qFtbsR53+SgcTAmLRMjsuHRR2VOz1ztn4kJfmKIrcqJOwiamvmAAP2KsfBuJIeJVEc1NQobN46vyaeflmuwPN9rbvZ2UUbz7XH4sw19b5d9oLH0OfLrsz4oLal6/nsf4jpJfUHCyCOFh/Dx6iG8HF2fb7VQOZGWUbMd4pdfK2wMryqXGbx0PquDWF7PjbSniKIs9Bepur37GtZDRFtnh1x/wy9wPWyEpOx3SFwYg1pYWyZwrfEaXHHoYfKOd75Tjlm1SrbCCB8exvWDOZrf68p47A/g+GKUcQ1x5d92XYj09PToAWw6PxDmPW4U93v9L4azCWFSILCnsWbNmnDDDXc/cQ9ENF13022mCewDPPXJpyRfYH/AhX/ypuQrx1SryG7YmHHoxmmaXlSw1LCzlR/+6XbXFiqaUKzgN1BlNyXUlUfmb4YRyNVaGoKt9EOp19OWkY98qJDSJGR1I6NDcvPNt8iLnv8yec55z4Mcpu6Z8WJcjXMOyvClL35G7rn3Nlm+YpGugI+NUvGDogvtD81So5+HBPEzbNQIXUF21w0MKsCDgzvha5PLLvsQ3OraytAk/bt2yYc+8l4wcOW5Fqp6gh26Tevt6uqUrs4eGRkZk7e99R1Ir1/WwQ8Y0RD+5JUfQn+MytJDliEGxhbHSMu6vBhDKL98pcBWotLOBCjAjCf6+3fK/WvWyhvf+E456cRTUL8Kpmm1oMFIXiPyqU9+UgZ6d8ghK1fIhM6BOnKjLvv2vH0HWPuY3Zx2KBSRpSfoHKQH4nBeZp/GAz+m8cHQ1k2b5JxzzpXnvvil6HbMx7x4KZr5MACtfO97/wYuMmPe0Dg2TN7vuw1U19vXL08/+xnykpe+FBF1+qwItHdkpFfe9e63yrJl3KVg23yVmfUOYHOZOx46eBYAv32PvtgCg+7441fLy3/3lcjpdbEMWl5niPv6tsvfvu+v5ZBly6S7s9siwdvHRh+aoe/14RFoVMeFc8LHBcS8iX+dakqxa+c2OfXkJ8urX/N6GcN8stYVH1JUguPYjzl42WV/Y69coP0q61R9Okuw/hiTrVt3yMknnyoX/uEf6Ungei2ma6g4n3PgHql9Cm8Trmb0YV9vr3z93/6f/OJn18nChQukDfcFPhCz8Srjsa9hMtEAH8P9rrt7gXTNmSfLFy8UGR2WnWgP5wnPENm2dQtnXNYnxNWf/WTyBfY1fnHz7cm35xE6YyAQ2FPYm/cyYu9oGoEDHKbkUT9yJUl1P/WboqiKtRpxILogffd7ZFjfCR8eGpSR4aG0Jd3JVsSphPFAt5GxYdBI4R1yMwh9RVo/XQOXW94pzznPeCbqVclUDiL3IT6VY46du7bJjTdeL3PmztEManijEVYWeUxf1BVC/8SYK8fu1kIZJf8solAdTCf9nSla0BZd5eYKOIgr4E6++s3t53paOQl+f1hCI/bR9Rvl8MOOkiccx++sM76eLBTaxodjum7dQ7JwyaLGRWdxEOzd3WhtLTg8Y6BGh4n59GEOA+i7PTG8dZHVlTrCO8WkaQDV5aphD0JsTjGH5eFVQPCXZynkDxzqAOn6sIuEoF9nvAcwQsP8o8uHJKlDrZbZAoV0qg8dz5QlG9e9BN4reRr6/Pnz5de/vkPWrL0PsWk3SOqzcli7WJ4PzDhmc2C8vvoPXiMveOH50tvfJwMDfC+cvNiq/QdskREff9j9lX9dnV366Tveg0a5lV7zjOlrQZoLbQ0EAoFA4EBBGOCBWQIVPahUUPBJmaVEIxauq5ITNMSzT4lRKc8VTVc6SbranIgKGY31QRjiw3xXnEb4mH2ujMTPnY0NmyFOw/7RdY/K6U88Xdra26nlmpEESk4JxuSWX92A8iO6okzFUNdXVW78oWlaNjVJFd+kEOZKsl9KxRqK/tkBayletGrAoM3Th8mtuxK4IyEZ1UWYgUDiTgUY5e1t0swt6iBEyiOPrJeeroXyR3/4Zj2sLe+LMjAN1Dohd959p45hW0e7GmmNQPvdvLMKlQqMdY40gGL+vW2wGVI/ZjUX/ZPB83Gu1M4XPmDxbcDe0XotOm+2N9F02658ME9ZwHgm1zsSEWMpXs1FROHfHhnvIrQ+q14fwuwr8NTvtrYWueoLn5HNmzcghuPDmw4kI00K3t/42TB9cQMG+Ivkd3735dI30C99fb3o43G0T3t1v0EachA7nQ/5+LlDfgqR74HD6Ma9nhn4EHdkeAB59i/5A4FAIBDYXYQBHph1mOFGZT6t0jAMooEMjVCJhriS+qEiwuWWYJJ+L7xAo8kA58o33x8n2er3sBK3nHNFfGx4WL+pu23Ldjn1lCejHq6dVE7xMp2WvO+44zbp7mmXVhgiBEtywU4fEkCJtVX2JC9I86S2ERaHurh9nBrmXgK3sLJ/poNMOnQEt6nqqj5i1dCuIKaZUcZXB/hdcLZ3YGBQfvObNVCLm+RVv/8aWbh4Kfw23pOBB0SNDY3It791ja76gTV6uWowCtC+Tq6DNUy1TXw60KEiTXvMIIROpJmRrXImQ2uvwBvK66HymiD8etXBBvQwL4hKosQONln7v5HuSuPm1wyvIbuOQLiu0APZtdUES1iN9ALKrtX6aDhjBbQOuiDtGcwDb/d0iSJ4W0mNgH3Ovu/p6ZbeXTvk6i99SUZwf+P9J2/TZLwgOe45/FQgX8vhoYZnn32O/NEfvg5pzbJ9+070q+Xcv2DzcAKyt6aHd+2trfp/gr3dAqH5kBX3+alefQoEAoFA4PGG+J8t0DDMADWqhKuwRcLkgnKpCjvCjPHJZgpqzou6KllmvJMCSwWdK2NKUMxomBe3pttnykb1cDYaocMwxh/dsF7aOjpk5eFHJNMGPFknvaxHHSj+jE8a/kB/vzy4dq0sWbYUdaFWGAIUI2UG8eEBOVEtTpRkdKqEtX9PgDUVe5/GCz/b5tviG4G3grsQdFygvLM4TG6Es1FCu8Z12//O3h2ycdN6uefuO+VXv7pFfn3XXXL6mWfJWy56mxxz7HHoM44Zt5SWwSTWemAg3HHH7bJx/XpZvGihTIyxHDuWhDxwMkIcjUCPVzbJKaunehz44MRg7cgNP8aZrOwF+slUW92QEU6+toKcZihoNNFIwT85WaMc5T1XjiSzElH0N4pifn9IBh/6x4jzu0lG0YfjzXa4IiWsKFUUvwDywZBZXyPsY+Lj4386I5Dk8Xo9MkKJoECJtOZq2l3YnDRO+B1Dm/l+vM4EJ4ar4zze/eQA+TGx2IoivO2NoBX9vGj+QtyHHpB//epXcU/DNY14Xqd5n+TI+tOJfc54loDBys8v/q83/rHMmTtXtm3brtf6/gj+z9Da3q7ziYa43gvQGIb5BQ02Su8DgUAgEAgcQOD/8YHAbsH0ZFfkc+LqqW1hbpIWrqTiL9cl6THlUUNwapRKEv5slQwEJdJPQOehXNyuOM5VEl8tR3jL1i1y4oknybx585Ngyl5r88letLO4skujkHz5rrN97oz1oATIV+dNHspYbEMOppfFzza0ioL87BM+hJhO1VTqyaKjs0PWQuG/4YZfKl1/Pd0b4N4gv7juern22p/LL37xS7n99rvkkYfXy9yeBfLiF71U/u5v/0H+5//4XVm69BB2kY6zCkWmBdkMlEzNAj0D4NqfXqvGd3dXZ9Zn+qAGuYqk8D6lWwQycH7NHKkseFAy/aMcHj8lmqWra4709Q4mGlLq7R0A9TdAfXpo1oaNG/Xk/+kDcmaTmG6jcrOcG40GvU5xfXoX09WzFGCv8RrQfi6wV8MbxKhCtELDygc//AdmTgr1WxYjM1k1D/9YaYLVa0S//rmf8TUoi5sa5NvZ3qXvGm/fsVm27XgMtDHRhkQeLsa7f71s37lBevu2avnRMY5nau80QOnbWtplHgzmX95wvXzlK1frmRicoY0htV/7hgfQtciqo4+Vt7zlrbJ8+XLZttU+U7b/AQZ4i50r0dbaovcIbzNfLeLcmNnIBgKBQCCw/yJOQQ9kmOoU9CKK2wJNH4aiBEVefVSoaZlREaTGjTS6up0bBqMqVUmRpgHsn/CyvFae0Pcz3Q/ScjA89J3llhbdsmjvroKa+P7giNz/mwfk7W9/txx15NEokz5/lKgVP6riuxUBorF96Xv+Gv5BWbB4rsZpCmTlN8V1NZwRUANVdhUkUQVovnFlDEkoMDi0Hb4Ouey9l7NoA5jZKejab+iouXPnNXwKOoXnW+4bHn1Q+gf6EW7RLsnMH+VtW0P5fiY/TzZv3kIYKu3Ig4yok5lsFZOb/K0+fjasFixBc2BMfnXzLXLVVZ+VE05YJZ3d3VoHD3mzFXjyzME+1B0R7H8YhNr3/LPBABDO/J4/D/sKuJbBHx+i+Pgxm67uIvzYYxvlGec8W174wpfBpq2UoRzGd+P6DSg/WiPD5EB6E3vZevqf/uljunuhu6sH7be5MxVowOenoFPeKcpBpspT0DFW2k6TgWNAA1wP2uOY43ri9cWdEI9t2SInn3qavPzlv2tjzXFGEzjavDarwXiegn7ZZRfL8mXL9WAt1q8PsdDXOgYMgxcfmNHQH+EDr5TO8fZ5UL3tmPOz+OCsaKw77BT0J1Wdgl7/StJeQP8/8vCDei6Fw+rJx7KkqRkm+BmtNBc/+9nPg+G4dHR0ZnOpel7Xg1067Cuu/I5Ib3+/nPakJ8srX/X7GJv21B+N8bJ5yHsqQ2OydctW+cY3vi4333yjnpDOE9/3FVQyygUP7wqC+8viOXNkorNTVi5Zou+tjwwN6LW1bdvW9IAKba9qepyCvv8gTkEPBAIHAuIU9MABATMOYZxRd1IDm364UPabYHTD6tLZN6Z/pnxXg0opTQG1WfR1WVupy98Nn1DiJ4z4Hvf27dvlkENXyhGHH8XSLACiypeDsVTmFWB8z92/lsc2bZCuri7wIs9x+9QYivJdRLpqtOk7qmkresaS3JyKqKxzOlDdeRJobYU8NE753nvjSH2CfysOOUyOPuYEOeqY4+SoY4/X7eSkYxE+ZtWxcviRR8ohKw+VxUuXSTsUZP3+dnMrxpIPTfgQACo0BOLY8jT1atAQ0B0DqHP9xnXy2c99SlasWAaDvoOjij8z9Oizhw57EuBftfqr0MlAY2yKjs/A8k1y6CGHymErjwQdldwj5PDDD8/psCMTFeIZXrkKhL5Ffp48b9fJdNpu8tpFQdB1/2QolhvTsSGs/vzhlxnJNJaZD3E6hqnVcOtJqnPSWCiynlYW5MnrB2GtHj+4iPSazy+mGmh9icirOO8nBzOCd5PeNFK4FoxtammVI45ahfn/BBCug2OOl6NWnSBHHrNajgAduWo1wvUI+egi31FHHyddHV3aVt7n9Pv1VVNtMvCBBh9M8L7Iwwk7u7vkpptukn/59Kelt3eX8tUxUkqFJoHNKdBEiyxetEh+D4b8mWeeJTt27JTh4RFls+/AMSFx94V98q6naw7CuP+ODcoo/0eYGNODGvX2MY1+DAQCgUDg8YDpaH6BwJSgrqTvIyfFiV470KtFT9Ju4SnaCNtqOYmANqiGUCVc6cyUzwT6dUVNjXB7B5zJWzZvkaee9bSUa3KwOr5beNutN0tnV7uupKvRnRHqVCOB9RUIaXRz2QGGk6GpVNKWhqDlyEcZMmZqpG5kn04HujLX1AppW1AT2o5bga5IOUMSjSZlDpdRFUjywfEkFb9abITHRkbki1d9VnrmdMpifucXHchsKgOzeBlWUl1+T6C6MTVtawQs5AWny4D5zUS1ua2R+xQqA4jy6CcC+d11SzFxmQYnzfCGodeqtrGKeP1WxTUCu25ToAqM5tDm8vk1MTlvznGjVB4VkHhGBGms4K8kL8t35NM1QlKHnuldk8ovUQeM8Hlze+Te39wtH//EP8pjj60HR36ei1fq5CPg1xVhfr4y0SOvfMWr5MUvukB6d/VJX19fw32+J4De07+2llYZgxHe3dEqo3y9aJzb5O378LzHBwKBQCBwICIM8ECG6SrDDmbXIlrMlD8a4S0w3Mz45nbmFt3eyq2uJDXCkZUKopYgj/THCHOTUgyyXB7CLyq0bavcKj6uB6l1dHTJscccC96Tb8slL3KjEnrvffdC0Z2nBrcb3k7aLsQZIUx9MIngbVZilLr2RzBsKdMAC1Ew7ZBykKMSflwmq6tRGHM1rEHWEznRmHCDJEv3ShXuYXoObzeh8wfEHAMDu+SfPv6PsnHDBjniiCM0ne97Wr2OvOfURaNItl05/2PqdOHzOScVbbfhsmozlPK52ghV99/0Md3ymaCJqmH9w4daeqjhyIj6mddy268biNWwNuXQlfR0fZLY6e5HbKXxrYZWFQcE7f5gxOd16uJ/LLq1YIHERdM9U2nmAphepJmgUFbl9uuHmBlP8miHET53Trc88sgD8omPf0TWP/owuLGFIPRbau0UQP0qD436Ljn/hS+Sl77sZfrgcteuXTpGxqdRfrMAVKO9Arn4CTb2VSt+/Z5LjI4U514gEAgEAgcWwgAPzBKg5CXtnMojFeXmFrjJ6OZ2W75L3NHWKl0dbdLOz1pBq7ZNyDSYoYgVVpc4M40dNW7TuqmMqcLO2vBjn3Kyd0j5uR2+47p8+QoKMwXIqUmNwi1bNuuq/CgU0fExGiAk8+u+UCqFMES41Zsr5rxgSKopUhAl/vg2cDM6mGBuo7C8eiAZCX2ju0gpagHG2X5cBKrQ2lkNgfmo9BpZr6Y2KaisWxpjOTr2R2jNCSwHgqw2Thy3FK35xmXXzq3yz5/6mDz0wP1y1JFHSltzG1hirNEw25pOIC8HU/uP4+mGN8GnC2ydGeTG11LKwH5z8L1mh5bwYvWLTwvFuept935TYlgp70/1a9zuCMF2FSeGjVNjYBkrb31lPHj9EHqoIa8D9D+3oHMlnOOflcM/b1c1NF49GtST8Z2XPVDhafEI80/jEYd6de4W+NHbgjr58E73ZiCCxOFkL+YoFALG09ib4Wt9bXksXAvvt1riH9ttbffZX06Wx2rl9aizFG5R0pljXFrbWmTxwoWyc+dO+fjHPqYHRrLfuMW9ETCXzT87+Z/0rHOfLX/0R6/DpdgsO3ftKFxbex4+GnpVwNPW3ibd7e2QpVU/M2n/hzTL+ChkmuQsjEAgEAgEHs+I/90CswqqcWqA0/BuaZc2XfFug8vDvBBWapPOzk5bCUc+Ww13o7NAjEv8VJ9WuBppdVEZ5Sd7+vv75KlPPVvrymGqXj18/wffgxx2wBHfIzeiIWKr6n4atPEpo1kGlGoextXCBxdZ+0vkR5Q+GwDNhtq8Oy2hHeDv6TpNjI3IvXffKpe9969k08ZH5LjjniDdHVCydeWbQKbdwtTlmaOxXHRK+ng/gbfD2+KSsp9nhKytlW3mwyJMeRjdmFf0aD5UwocL6tJ0nhwsovMSfn09BMSvFajBnZFtM1YjP2sV2Os1zvsASOc+4vy+oPF0zdxlmrZ/sj6g8Vb2zn+DyOZzCtcDufPb4TnM0J0t8Ppvbe2QRQsWyhgM1Ks+9xm57bZf6Qq2WvraCZN1hMP6kVlZ7OSTTpG3vOmt0tHeJdu27cS4IB3x2ef/9jj4MIqD3CSduDeoF5NP9y6hfn5u0j6Jp5kDgUAgEDigMJV+EQg0AGpJXMFU1VsV5ZZmnlBOajcDHEa3ka2E0xDvoBHeDpULNvNEK9doqpRlGqTN4Nk0Bp40TrnyQyU8z0fjYHhkRHp65sgZZ5yJPJzSTtWgnFT7R+WxzRvkjjvvgBwdKi95qgJKSsro9OAyVbVhmqDuS+PbjdVpi7EXUewjrmiNwkB4+KEH5F/++dPy6X/+uPTMaZcjjjwccwBjgbmgK78w5MyYaqBlNGycMnCOTV42y8FixaIKptg8tTlLMBPnS03mPYoWHeP6dXo7tAsYgR8zjop94G1pBGTg+b28wVfoeXVw8wfMZPzR6GaMrVSrpGRRWbQUamzrAyyUBvmquj7YAukKubYF/PSa5ZxADSRWovHqAPoIQGWw3QPgxbQsPfcWovYBqoTabeT82OquOd2C26p8/oufke9+71syMjqA+wXnsPXX1CAvmrjcWyD6Sshb3nyRLF68WLZt3aIPS2xweS+unSOzAXK0t9j5UKVFWvH/QHMr7h5jI5gX9pk0vpIwys9MQlxSILAvwcNdv/KVr6TQzMADFa+88soUmhzMe8YZZ2T0jW98I6XMDGvXrpVf//rXKRQIBPYXlFkpgcDMAYWJ2815qBmNcK5y0+CmEe6GeCuI36Du6uqUrp4uGOHpvfA2bj2lYgYDFEq5bsdu5lZFGuIksNe4pKxrdU2yc8cOedITT5fOjo4sTn9zDT6HRo3LzTffoMYMP8mj29pBVsrKN2Jk5EglVXfVCmYOyNHCz3Lxj21N0RUwHdlIMS1hC6Dynj84MT7uL1KK5zZiHg2vcdyePAoja0h27doqa+6/R7589efkw1f8H7nvvjtk1dGr9NRvfkJpAu3R3kWn2unQ4NdQNzFTkei4jJNDc6EI3SJye97bRUq8M7cRuBzehyAalNwyQaMoI4YZX4yz7dicx1NV6cY3Xc9qLmOnA+UCosykKmCuWd/A9KI/5eVntnggmUOHLg/WhRrcNLQTZX7wJflrGt6O/HpWUWyOeITmYST4It6Mb7Yh5QE0uwfharGGwELeJ87Ew8X4qeIYLqI6PBNoQ5MX9wLMl86eDj7Lkm9955vy/R9+T4ZHBpHI/kSvZn1qv3moEnpvSbwPPXSl/Mkfv0mWLl4qvb29yqdyDb+Mw+6CD3tapLurWz+5xoeNanxjfuiDPH6NgveZ1Hwd70DgcYYf/OAHMjjI61Pk9NNPl4suukj9U4FfZPm///f/yo033qjU09OjRnQgEDiwEAZ4YFZBA1qJBngrt1Pnq+A0smmQtSm16vdy29thhHd2mZ+GO/OgDJUykn/z20m3rLcwjavEUBVh4IxAYTv11NNQe76KaWpjHiZclaTSd8/dd0lHe5vKqlDllX6/JIr+RpHKmIU3fUAE3/aqK+CkZJhUw6XLW1tUmhsBy9AsHgMfX5MqI66Nmp/K8fj4sGzbuknuuP1m+e53vymf+tSV8qEPvV8+8Ykr5NFHH5DVJx4rT3ryaTJ/wQKUgaWQ9QVdkG8NZvWTQFdOMSZmCDYOf5hiZKu35OUwI5N9Z6vPZog0DvLlNurhwQEZ6Nsl/TBaMmK4j26RGFcdv0v6+nvVKC3KVobUa6VGL8e/Eeic0nEg+cyphW31Zr/Qb3HVcA5TwU45N8Nb3+tP48kwkdXFp2qlKAhQIUy9/PYAza+fxpHP75kT6kbblFtyDWWG+UzAFlkf8M34OT1zZcGC+fKf//ltufrqL8vgUL8+nKx+KKFzPflrwQK2Gr548TJ53Rv+WObMnS87tu/U13AMLD0b8pehRVp1l1SLtLe16W4JBYTm9nOCM9FmYyDw+AIN782bN6fQ7uGYY46RgYGBFAoEAgcKmq676bY99T/slHjqk09JvsD+gNf+8Z8kH3XeyRWfMsWZZWhkd7TDwAbRTwPaP0GmK7ppqcoPouL3XodGh2V8ZFRGx4ZldJirqjwMyrRAM6FQYhzmnxpV9GuCKvbbt29DfXPl3e/6S5k7Zx4SbAWP4MoJq8lbQkV5TLZu2Sjvf//fSU9Pl7TDCGdNuSHE3CRWMj1V3vuEcg4ObYevXd532YeLAkyK/t6d8o8ffr90dbXKKOrWd9G1L2ioJQW1Cmwf+2bh4qVy0UVvVXOgMbnH5ctfvEoeevhBHZdmyFw9pjCX+GMrl6NjqgQMDg2gvjFVnFvbmmUhDO3FSxbLosWLMc4pL5Tp0eERGRritlKuZMHIAR9/r50HLtHs4UMG9k1xrqkBw3861jSqtIFZ2FEdZh+xh4rxdNzwk6YWNQgnuL8a4bHxEQorG7dsknPOeba86IUvE37nfEpg/lCeS9/7Hnls/UZtm65kQ04a86nqBAaYZukGyuKyjqHfFkpnRxdC5WPGUmo7w8Mcfb39cvbZz5DfeulLEcWEOjKn/Gi0jIz2yrve/VY9pJCPW1RS7fo0BkBrE8YE8mj/UTrIuGP7Djn9jKfKy1/+SuRgXeUyFtHfv0Pe976LpaezWzraOjVujDxTx9g2Y4RRXzX4LXm7R5BSpNZrsLHlXBBbIa3Crp3b5NSTnyyvfs3rZUx3XRCcaearBld6+UDkAx/4B9m1Y6veByqzeiCXwcD4yjj22TDuYQvmz5fOTr7WUrxep+63xmF8m9B/fJDI7bFPeMJx8uo/eK3Mn7eAKZjHvAeiTp04rL28/c6LaEK/btzwqFzx4Q/ptdEzr0d3IFk7Z09+jiHvM2PNHeiredLZ1SVLFy3EvN4uIzC8Oaxbtm7FvWNI54DNg1r5r/7sJ5MvsK/xi5tvT749j32hM/Ia+853viOvfOUrdVWbBvHRRx+taQyfc8458t3vflcuu+wyOfnkk+WKK66QL3zhC/L5z39e8/z1X/+1nHrqqfr/56pVqzTvL3/5S+Xp+Rfg/1EHt4tzFdzr+MxnPiPnnnuu3H///boi/rWvfU15vuAFL8C99n3Kh/jkJz+pK+3c6s66zz//fLn44otl/fr1WveJJ56o29vf+MY3an6mv+Utb5H/+q//0rY5uN2eaUWZAoGDAXvzXkbMpmYQOGDhSliRymAKGxUsUnMzV7LTqjU0KSUo/La6C4McLg25jpZ2aef29JY2aW+Dv71D381uRZgHubXQ1dXxwmo4ylMRHxwc1v9YenrmpvoNqiJX6W1mrHL7+U1Q9Eaki1vW1TCgEVXdJmvLzFBV8TSA3tM/3YLPvjINtAaV0lkbpoutWzdLd1ebHHbIcll56Ao59JClRiuWKa1csUJWrlwhRx5xqKw6+kg55eQT5awzz5CnPe0p8vSnP02ecc4zEHeqLF9+iI6RTHDrfCvGHi4NdIwpx4qGHqVlV/OUY+j6NWND6Kp3MpjVYEthGtFuSNcjLZ/5jUqqyOKadHkQPa0RZTnLoQ8Q+CAB82jF8mWgpbJsySJZuniRLIEhsZT+JYsLLuPmF8LIB3fZkiWybPly3fkxFSijjnfjYlZAy7Osks+afPZMjcYq1lGum9Xqs4c8tfcPu2egX+vMdx/b7IHKbAG8Bgf4CcMOmT+3G0ZsD2hOormJPM7DJM9jtGDePB1ffr97z0Jngvr4aUcqyffdd6988lOfkM1bHsNI0cBNudifmrMenBeuSeRdvuJQ+aPXvx73wlYZ6B9k1+wRcPz0GoK/q7NTZR4Z4cOfJv3+t62A2+Olmc75QGBvgavd3CZO45jG9B133CH/63/9L3n3u98t1157rbz0pS9NOQ133XWXvO51r9P8l1xyibpF0Fh++ctfnr0Dftppp6kxznLPe97zND950pB345ug4f3ggw/Kk570JM3DOtasWZNS7UFC8T10lr3++uv14YBvcafLcBjfgcCeR60mFDjoYYqwGdE0psxoTivZifL0SnKFTsPKLQE8XYmmYkcjjKSf/YIxw0gaavbudzI+Uz38c+Vc+UJ5ozHO1WGutp577nM0jbqa62t0TZIUANE/BsP7Rz/6oXTjP0zyaCYl49tW6a0uy+3cGgEroGU5BvmoBKP8NIozK1fs2T/cFu/GNx8MuAumlhlwCT2qkNQw0FT0Q6cshpHIldgFMCCVFi+QhU6LFqS4+TJv4VyZM3+O9MydK+2dHegw9LmLxR+EyVQN8Kb08CWNIWHdwfHnCrCNuxnYvlU5dViaILYiS9fI83le91Np52fkrLzPMSOF9o2H4eqfGR1qj2r6NAHLgDsAWloxa+E2t8LPVxraWkEtIIZJ8LczDn4lO++AefhdfIxsYlgOFy8zRNRV6TVoEe6vhMaicEU7C4y07hRkX9eCBeiU868As4C0BFyMhr7rjSsC48+a8KdyYC7onEi8FUyrnN/Z+GRhI/Ij1YfnRHtwLU6dm4cCjmNMmrNx4ThxbJ2yOM3DB0vF8Uz59KEgr1u2jZyL7ZtNkG/OmwccLsL1uWHDRrn8Qx+QBx9ao2PJ1X2lScfOeRnRAD722OPlhS98sfT29sMQHkEc+sivo1mAzgVQK+QmW36Fgrtk9HN1iB8ZHbUx4b0Fsu/eJ/sCgT0PftGlr69PjeU/+IM/kJUrV6aUcjCfr24vXLhQyxdR/Q44V7WJ1atXy0knnaR+gkY/DXzP97nPfU6OPPJIueWWW7SOSy+9VA499NCUW2Tbtm3yZ3/2Z1l+Eg15rspzdZ3wVfpAILDnYZpxIJBgirEpSfpJLBpRNMIRzolGIZTQZr5DXSQ3XqH2wiDS7wpTsUqGEg3m0RHQqG1THoeyNTYCf4qDHWUKn8pBhRwTlCslJMog6d3wZNANDY3KE449TpYuXQZDEOVVYdOkmonNMHnfeeedsmvXLjUiYT1BeW6X9jauuPs76qZot8No4jdq8/hKspPcnRgmtWREOWk0Ngq2mUYLS1DJtwcQUPC5kuwywM+t/Ur6OTfuFrDwTED+rNj7Gh2rcpQRTZlK4lnyILRxBMRPuOm31DnmcJmJrn/vmw7HB6kohb+03VnzcFXTV7hZlmngwxr4ioLGVxHLcTWU25uVyJdyMJ7pHs84umroMx7prB/y8IFH4yNUCZ/nNBrG0Y/juE7s1Oam3EV6RuhjSyNVbxuvnq21YA7WyBHKR4ko+gtAZm+jjiuHGgSvfVubf3pNkTd6QQ2dEj4NotgCVqn9nMZBueocg3GarmeNQpw9rMlLa7+SmEf9uVTqajw9+lMH3haOrrvlgDQ6HyiTzcy8lPuN0EuQx+ZxChfy2f0SHo1lexiw3t1TsP6z+8SCBXNxDQ7LJ/7po3LbrbdAqFFIwE+VcfZRpqlgvPjg7JxnPEue85zzcJ/st/syxnA2wVdm2tLDDD3Hg/vOGc/rlAa49jFHg9dqI7IHAnsONE5pFBM0mLdu3ar+4nveNGRp0HJ7uBuzexo0+qnPVIOHvVEWX413UPYf/vCH2cFwDj4AID3wwAPatuoHAoFAYM9gz2kHgcct3LgwpZIKHg3fnLjd2A5XqyRVpvWdVBgbozCfYFyPDI/oqgbfV+R3gZXoRxyVO7r8/M0EDHIaTzQvdFrCWjBeVNKS4a2Hr8EoTauq3FJ1xhlnQYGDrCXfq+F7x6odA2qwjY7ILbfcJHPmdkp3Z7sZtmrIttl7625Yu5GbVrsqjW2jojFOspPfGW/k77xPB9pylOEDDxoE5KH1k1gvZOJBdR0aNmK/M50GT+NgpzA/DWeOzTBc7iag0Zv+aDjRgFLDFXmriIcm8b19vhs+BlfHd3hUhoeGZXhwSIaGBvQ9zuHhIR1j42M8+f6uG+pWB3iSH+L0IY3PCfCe0HAlsa4R5B1BGX2Yo/MIfJFGBV7nl5OHMfbkqZ/GIqW/mQFjw4cXBeiBeZin9moFXc5Tm6+WRvI0zo02EK8ZEtJAk0F3RyS/o9GbN6+pZr2ejINd19WkKZo+W3BuaoijbjPG+UYy21tZv2KCrpeCrMivQBTz0FizsJdjD3j+ajC+fjpmnJL3KUVgzso+TjxYj7Ip8KIXVJvfwbonk292wb7gihjn+L/8y6flhut+Jpj4kMAOiatsbT2gT/HHV4Gee94LZOXKI2Tnzt6UNjvQfkdn835LYg/x/wh+f5z3a95L9L5N7J2uCwRKwe3aXEn++te/ru9bE3z/2+N/53d+Rx577DHVQy688MIsjnloxDKN74cXt33PJigTZWO9JL7vfffdd8sFF1yg4be//e36jrmD28rPPvtslcnL8J1wgvl+9KMfVeQPBAJ7FnEIWyCDHcJGRdeMRzV8k3FQqexCpa+jHDFe3/uFh2Vgd6jinCnZDg3TIOMKp62AjFMBT0q3OVTX3GzweJRBdH9vH/6D2yrvePu7ZcUKbvmCmukKustZmNmUvm/XDvmHD/4tDPB26e7usfqyKlGPK/xFIE9FdL0tkYj2VV2it2+bDA6Oy99edgVY1ClTAHP09u2Qj3/oH2TJwrkyDHnYeoKGCxVU9lnWwtSfNF5peLa2d8pbL3q7qtvW2snA2kblYx/7EIzREVmx/FDw5epePk6Ju9ZJWFelsUjNUcOKhrsb5Fxt1p0MMIZpQMNIVn4Qh1zoZZimIP9hliCcEsFTTWK2ky55q4Fus0BXyJkJYL0E43SFl8AU4lZiNeY9H7zq0x+fRwB5qzMhW7Zukmc+41nyohf+Nto49SFsHBXSZe+9BO1AfRDfD/2zB0beS7kctguA8yiTACEiDxu8MQYtlsApxPfOd/XxELZz5GUvexlqKI51ZVkHu3N0eED+/N0XyfIVyyArrsl0PfP6NhlI5IP5W+jnbVu3y+lnniUvf/krECJ/r6sEKMLUvv7t8t7L/hoKKB9sdWsSx5xGtwXM0cGpkpmHsCEzfGCW9anB+85+LcwoizfiQWqnnPzEdAgb6kysrGbj5Lk1iPk60LdT/hZj2dlpD814DTAxqzfzGfL4/FfjfLAqs+9V2KsaIoMDA7gOR+SZz3y2vOQlvwXROM4UDKQi415ZJqc1B4AH19KaNffLRz7yYZnT0yn8ZGQhAzDJXChBPqtYrlWWLl8qc7vnar/39e6UcdzDOOaPrn9U7ymUj0Qx9X5RhTiEbf/BgX4I28GA4kFzgcDBijiELbCPQUPBXNe3qECbwp6TxVUS30f0lUFTkM0g0pOxq4mGm656uiINyvxUuEhu0PCPahj4w0jiCjiNg0MPWQnjcQXqNoMi09oczoYA44cefkh2QdmbM6dH5W1u4UMGyM3VZoTz9zhZT96uCgIrOCWEMi1cqecqp+dlglU/FZhNjSwLannv61YQH2qUycR09nuD1VSAYzQ0PCx9MOoGQP19fTn1IzyAeLgDcHlQ1cBAn4aZzm38O3fu1G8H9/cjf0pj3oHBAX1/1LYhwyhQ43xMDWc1mjH+Oi8wB3QlnAo3XHtVwVbGbW7ARXnOFzX2UVZPhqc/pTuRL7fBw6uu+RnP9Nzvr0OwHjXeQNqXM+lBLZ/8ANiAi5ls5ldf+vM0o4qCdZDnYGkLGxk3Q9FfiywvCnKO+msi/lDMrh1/5QEu55k+gON1PDnvClgVqUv0hyH+5KhgVctXx9XHi+ML8lcH0lAZSxB71HaLeBtI5MKfRNl9hFSAB5OrOZKoltt+q310HXlcypGcfQuTphvGMnfHfPOaa+RLX/oirt1e7TwXsa6YWQb8gI5edbQ873nPx/1hII2B0YyBTqYUnG+sqKW1Td1Une7EQUVVdVCgQCCwJ0HjmyefBwKBvYcwwAO1oKI1znfzYCooMcqUL9XP6ihFZcqZGuFqbJux5XyMTNliKTO6y5Q7Tc2IZbidmAYiVy65pXcypFL4Hcd/MtfIwgXzNYb2BY2OoiGb+Qth/GTxdYl/1OC1Dbyk3HiZASgqHbjO33lldRV4W56pV27LwLJDg0P6LhmJ74bpVnJu29Zt4Bw3bjPnNm6jMRjsY1CUuWJlW8QxhkjXsUUf8wC65uZxJbNq6HK1k23CXFDCiCSjioY2aZSkfBhOhjmNMcSrIaZxyQVxG/uoGmpGPG/AeZkRR7J5V02s2OZq6uwZw8fZx7wWOnppHHNDsTyvyVOgJKPn1uk1Q/icUZZ0eV1n/VAJiGryqpGeIhsA5XMZa7k2BmtxgSCfPnypoox/1re2Y4T122zzMZm8AeSj+dlWXvNZGRKvK6f9H94PRGdHpyxbtkSuv/4X8sWrPicDMML1fpv33KSwfmiWpz/96TJ//gL9bn3ZXJkuOD6dPdx9lB4c8n6Oa5KcR4aG9Zbh8z0QCOwdcOU7Tj4PBPYu4v+6QA5qQapjuRLabApvMmiKynAZbKXRlPqcUmLyTEyMFigZ5GoMMA1KtBpUZnQpVfNDeHCIn/2YI6ec+kQVdwxa2xiNPGpvavQZ6ANrKH1jsn7DWnlg7X3S090NXbsVrTNFdSowlyu2RlDG/UQrtza0broWnAky4wGkbEHeHBsNRoBgKMzOVcu28FvjZviOjPK73Xxn294H1zGHrUp7lSQYF34rXKtXIzI9pFCDu0laEUdqQ5ydLm8KNk+ZN8MG7VI2MJJ1NRz89Q/j7cRxVBf54PqYF0E+2h/aNzD4ExlS3uLYlMDnNNtZzX96sJFRH+vE3OSrAuSpdbANmlqLojHuVA1vp0PbrBzZXm9z0V+CZnsoog+IkI0P1Tie/oBCH4qov5JmCkrnXe+iM6jkEbMA72OfI9rXqMSvn3pVUY7sHeMEzd+c3snnazcZ2Y4Butx54ztySGXjV0aWfy9C7xG2C4dnRixYuEBuveM2+eznPyO9vbsoeco4OdClel+eP3+xfmWCO134BYmZgrXy/sH529bZKaOYYtzVMzw6hP7nWPI76sM6pnu9zwKBQCAQ2Muo1foCBzGo+CTlJ2nR1Ie4DdS3B+fbxDV5BijUAdgqOFc1wR9GnvM2omJm9dNQVGUbf5sf2yxPecpZetiZrckTdOsJNSE33fRLHsIsXd1dqhj7Seq6YuQi0ctwgvlYI83BnMzgRl151oSUpgZRPVmmhurQtHTJn5T89Jr1QJl2rxZljTFWngnsXxrgXAmnq4edpRVxM8xsfFgItjX0fBrZtm1Zv9Gu5KfEwyUxTrfm85T8ViVucdY2ZQasPYAhf12lHrX5wNVsN7Bsnhj5Q5lasD3gZyyzsAez6FkDR8BBfyV3Skgxy9pQjmpJk/zgUTrdGgbrq6xTe4+yoS/Hxzm+fCDm8iV56/ZzA+ADGjogr0tBd4YsZxPep4Te6kD+OgqNbic3wrPDEP2QReTLH8rNfGSmAx/FerOnCPvcG9rS1iKLFi+S++69R776r19RQ7fRexTbxfY/4+nPkMNWrpSRoSEt0kj9ZeDpCfoPHd/Z1QkXd8xRGPXgyXv8CJ8MsSv3TncGAoFAILDPYFZIIKBI2g8UIqpm+s4s/UlBcgPJPhFF0lwsWAKLN920mKdau7I6TZHNDTKScsePuolGRkZlaGhEVq8+ESEDSupfGZrAYHh4UO665y5ZumypGo1Wl73rSrJT3FOYq7bp3XCuIpGt151By1NhN6XdlPRURuPtsnJjZlpA/laVx1bglFifyqNVZwZDLts06kiNseJc0TaDw5Rtk5/Gthvig4MD5nJ1HMa4jT8YkAfyupKufUBD3PuR/co+1n5OafDz/f2iIe5kK4as38hENQPQ3Ez0OrAyKFzJp+ivQHV4pjCJXC6V0YXdDeQyk+wxU5Fl/uCpcXh/qg9u5XkMtuvBUTtvp1Efitq72UZ6jaA4iU2yK3tmMOmLZH/8RwkbfVChec2rYHv1/qaU+gVU3O1j7eH1yOvdvuPuZPM+b3PWdp3XtVQPlKNIDvf5tc9wnloGax2k0PvJvHnz5LbbbpV//b9fkZHRYU1TsA5nVmDo8pNDW3unPOvZz5HBfhjgOke0x6cFm6+8T7QKXyFpwz2WhybyXmJ14f+YsVHLnGAtCAQCgUDgwEN9TSBwEMINR6o+UI5oZE+MIQJKF+Koe9n2Xe5hpWrH/PzeNVcwqUTBkCpMKa50UNekUWsrSG2J+P3qTrgd6qdSptuUMwXVVC9XNl0VY5ifxVmwYJGsPOxwVgCF29IMrDsPqw/ybtu6VTZu2CArVqyQllYogW2Qp71NOjs6IId/UgxxUAp9BUyNb+44dZakzIpwP/JRkaRRj3y6aqbGe96GRpH1GuRlH/Edzs6uLmnvRD+B2jsgZzuMVsiqBIWfNWg1vpSXCVofTLW6TOOmzFzZ0++9q9xmTJtBYqvQo6OjMjQ8IgODQzIwNCxD/OwYjRPdsZAelICxEecB5wbFSpFJJvNxhrhhghD6kaRGejPaSOMc8Tx4jo3jyfZU+Tkbi0q/GSg279giTlGD5UIyilfOR2uxAay1fvVMC+X5VQyV0WphvTDL8nYqWf+SylGU0EB+bDu359vcowHop3UT5FWPn0mr7SS0k0jsOxvffOWbcUjhjwIui2Xjl3hMAc+pcwli8WGW1s+dG2gDLhWkgRBXTXk/TVGXVwKitDr0Kn+SPYk+HWhfKA/vi2IfMS25II1Pc8+J481XW/SBU5H04ZIRWp1RcS5UUi45wxUoNEqHZUrk9XHVfu7cefLzn/9Mbrrxl4jh2QJOzFFVVwbmaJHjT1gt8+bO1QdzXEBPPT0NQGC0jTtkOOe6u9plbIQHNbJ+pMHlvQadpqRzQns1EAgEAoEDD/H/WyAHtbo6mp0qpONQPGF7j47RSON3sjuhULeqAspFUVdiuZJEhQsloHOlFc+0PbmtjcY3De82DdOQbGtBPLcoZ6vTpqy5n8QVJmp9O3bskJNPOkV6euapesY0mjokz+ugF/q//PynP5Wunm5paW9HnaAWupTHvrNN0lVwhP1b486LPKgH68OERGZA8OECCXlIzKvv2poOqZ5pgjYKlU6Th8Y8+85cnrBeEYabr7i1aL9rBzWqGiMbmqCrdxwTvi/qfUD+lMHqsFsEx5bKd3//gAwMDEhfb5/09vJE9H4ZGhiWkeEx4XffSTof9F1j+DEX+C6ptowGCQ2RZGioYcJx4/hxRRHxbL/Va3IUDbOiUeT+YpjQOK0TcxH162FuzAPSYUmUgflT2caQ5y0vV5lej7e3yakSLMc2mbFcijrRk8PqcblshwvrUBNW+5HXrm3xZwx/zEjzPI2C48gHKf4fTNZW+JmWXTMFKjPGpwO9fkgaMtnroZjKMnoDK4yVp7OfeOCfPogawxxPxB0DdK3P7L5Xb6yzdmFes028ht3v5GGOkYa1pygTV4btQVg9/gbv6fpoa2uWru5O+fLVX5KHHnoQMbxfsT6OD4KTdPfiRUtk5SGH4Vof1H6x3pkG2BTcF/iQrQP3/naQHZxofcgdNoFAIBAIHCyY+n/twMEDWmSqiLlylZRgj0ukUVzZgcEmUKhosxcVUDpGRaWULpTItAJH0NyybcpUPhGGUg49FB4GUEeq25RDlORhYSOjcu65zwVfjUTdMPaUyDGHGTBj0j/QKz//xc9kwfwFytYUTm9XIq2PcUkJ5qodlWSGtRD4pbxucDO/bqlGHpJvo1ajmOlA9YrWZNDeYT2JN+siVDGHa3xSP6EP7QEA0z275Z8KNgoA8vNANK6m813t9jYoxe1tUNKNNA5Gub7LXXhIwfLDo2MyNDIiQ8ND0j84KL19vWqI9/cNyGD/oAwO8DC3ERnmCepQrmncqEGM+kbh6usMalDYGPlhYJwr7Du2WR9AwOUDgnbWj7qLq+aUXw9vSn+pVcrDjEr6Od9yuCHuc1Uppc0MkCMxACurj56ErI6MrM0Eh8sesuS3YF/xrFn5rAD5gwevRUXe9jIwVyZTYZ7ozpbEw66lBOTVQ+34pE3LeT3Tgz4U4QMQEMc/M1SRxuo4xvo6CMZSxzTJ5Sgare4n+Ku+JJqGK0RkIPVJE9pQ1TeeShmKzeZVxj9C00kI6jWJuo0j5wvnnOVheBR9pS/kwOXc5s6QIul8Zx5Nh8FJP+K0f3xcFGYMczcKr+3h4QHp37VDtm/dLDu2b9NP/Y3gmrK+SvcE/eVcIVnMZMS+7Ors0HvG1//9X/VkdOs8EvuqKI/D4lBaTjzpZLt2GFeWdQqghTrm3d3d8KEfcD/3LuBDPX0/PRAIBAKBgwCTaXqBgwz+7rMqvcmlwmculLCky9HwmWgyxdM+B2UKpSqjqlgiDxUraLA0vEZhiJkC7oq4rXrou8TQuUwJA08qYOQNl2quK6iWPKGn+B537PGyaNEy481oCEUD3OSyvFaOauK43HbrLcLTe+cvWIB4U7JdmSeUN4sjjuXZSC2NK8MWbvP+KBoLfAChhgH5kavGsZ+sz6YLkzinWqhw6Zc/7DgqrJa74RpTRm6hHQPxlPJWGt3ckt/VBQUdpC6/JWwHTtGlMd6JuK6ubnVZhn3APuWY0+ge4Oo4iKvk/VCoB0FcNR8e5bvjnBscWyN7YGL+rMXcQVCYd/6+OI1vPiDo6GjXelsoF+R1A9be20fTOAba9xhD1mNcM3jdWr/Oxbzu6ryNoBN9RXmK88nG3+TP5amEyYAx0Guh2hBDN6D97G8SdwGUj26DEiNbZvRnhhrB8mb0FeXFT5Inpatr5acDGlPGhv1s17r2OcMqAn+MOFLVfaDXms4FUBpj3f3BuYE/XV2nzPhTN1EOl7lEfmSz1uUoliR4L9B08lTS6BRnZONI6S3e2lxJjOP3zUmaV8fcHjoRdHltcAdJb1+fbNi4UTY9tk2Ghkdl6dJD5Lde9j/k0vdeJs98xjNx/YzZ/QbycAW5va0j7VRpqbj3VJNfTwT9c+f2yG/uv0fuu+8ek5PvYmuytoKeAhCHezIffq0+5RRcy6O49XBeWNK0gEK8t/hDp1Hw4viiW2RocNB4BgKBQCBwECAM8EAGX+kskho4UN5U8U1KHBUvKk9qXIGoQOqKJnQ3KpiaBXnoVaVbFUx+T9oO8HK1nplMaaVyjjDTyEvjmAGAy1q5ULNp02Nyxhln6eKcyWLTt3oSm+I5IUNDg3rw0IJ583WVmjxNdWxc1aNSy+zKUw0CW7EvvXBUi2VK4/yL8FKTl2YqZPF+yaK8wxoB2pER/rRddJvTineLGdxdnWps166EIz1bIedqOd/r58nQ/GwdxnpkWE9M5rZSfq+9r69fBgb69TNn3HLKoVORUW/R0ELHprFzQh5mZF54fB6S6OfrC3oCO+MwT5nH83pvMEYNNAtmcOOJc05RnWFSWGaeJcD2u6w8NMD81h6XpxZWd/4QoBqWbpSidhNkA27W5iqovNzNwf5UkS0PezHvyZnBS+t1z/bkMXqvMLK0ih0KjPO+oVMQQ8c+zQN/CMM5y3bk7fPrsHwMPIWkW9DpmjP7oExskxK9E7p9va+vV7Zu2y4bYXT39vbJykMPkwte/FvyJ3/yFvnzv/obedu7/0ye+eznypy5C0FzZHhwAJc5b6q8/4IH7sGcPyo+GmIHw9n16+TXhc1J6yO+csIHbN//3vdQzsqbAT45Fi9ZKgsWLdIHatO63RC4Z3Z02hcoOtq7bO6zLYAdvtaAAIFAIBAIHCDYYzpH4PGH1pZ2KG1c9UzvG7fA4KGLsBpoVOSgrtG4pfI3MjQAJZkrIlCkoD+pcqhKphnVXB01oiFuq+P67iQVxzHbvomcti0Tmbgiy5VZg3+/mP4m2bGjF4pjhxxxxBGaZltDWZ+tKKGgKoXMrt+mRsHeHdvl4QcfkOXLliMMRZRKI8rwQCuqfl6VxhfKE5kiD5k9HuaJ8acyC5/2Bw0t9I1fSizGbpgu/EL0+otyqEGifWoHZqniOsHx8IcB6LcG62Rbihc962F5bRP7iPygqHO7uR4GB0W9u7tLOngoHPydHe3STsUe+XhQWkdbi73T2dGKdK6SdyA+9Q0GaWwE4z08bKvjfX3SDxqEf3hgRIaHOA/QxSBMC3PRDn4jmMQ2sj85X4zG9CHO2Aj6gRlBOvdAvtWXxWxusGGYe5AxI8YjmmB7GfKxZbytzE4OlNA5y3rsPWAYD5wjJJ1IfJCV+q+tNdXTGHzOmWHOa8WuI+NhxiWz2DXio5jPvVIgqz5EInQOGZFnhWy4LhhUEUwM+BkxBf860HnLfqLMbA9D9GNgafDqqweYz2O4f4yOjSgxTrfGs3d5bXNlNuUj4Q6REwXVttGwtDnL69BEZ7uKlMuvodRGHS6Qz5fi+NNbpCL8IaNe96jfHyRMBe1zFJmAALt27kDV43LaqafJ2976Tvn7v3+/vOnNF8l5z3++HH/CCTJv/iLk57kXaBf+5s2Zp4aqigxBfeWcO5DGU79Zz+TXDwm9jbahUvYP5iTfweaukq6OLlmz5n556MEHUQptyOYRCXXoRMihfQM6/PDDNU2nIEj9GTGyyIfjgXtKS5vW3QxXH5wg29jIsM4Lgp86BCf1BwL7C9asWRNuuOHuJ+6BiKbrbrptn/3P99Qnn5J8gf0Bb/2zi9U13cumhRvQVDBpcOihOQhDXUe8KdUElfwWaLS6Ogmj3RV8P7TMQAWNeaGaQQk0xZnKpBkbrJP8xql4U3VjRrCnAvrwQw/JoStXyh+/4a3S0tqp6eRPUAI1iZMBBPUO4XH52U9/It/493+Tk048Qes0QwzJKpeRy0+DTuumQksOVKpT+zQP5YCsfO/bakUbyFQDZgBr+cRn6/aNMDhH5X3v+7DK2gh6e3fIJz70D3L0UStlGP2pPcL66cJQoeHtW5Zpn1A+gqthsHOhyL8NZbhlmVQOdpF107h89MoPguewLF+2QtMKA1UBbX+C16+r3DCEOR8ooSvTzEq5VFbIpf0IGk0GNPOy31URxzzxFWQ12NMDH2XCVrON+mfg2Bh/ksW6a32lXoDjaH3DeenjrA9qkIdDRluBRtuubZvl6ec8S57/4t9WQ0WNs0kBvuj8yy69BDJTNquHaGpqVZdtoBFOedhPLhdl4JThAy7Gad9pIuMxN1PGfF7q5NIyDLNfefDd2Wc/Q176spel9PpjTYxBxvHhfvnzd7xFli5bjnDtGLuBzjHhdcBrh3N9+/adcuYZZ8nLX/FKxDBP+fwooq9vu1x22cUw8Dqkox3XqTavCVek9xPHmG31Nln7DXZNUg57eNGMPkrzRvMZmEevd8iof3B5H9m+dZMcf9xJ8toL36jttBJmWlaDabzC+np3ymXvu0S/OqCvVWg59H8qTbivaGTbQzfEWUPU3xiQF2OyfetW+eM3vlFWr8b/gXZTgjTeH0SSmg/aZFTuuud2+eSnPqZfgGiaaIeclsyHifogEuVJ2jOemMD+YgHGak1ax7g8tnGjPOvc8+SC3/4dJGPupmu4GlbeHox865vfkB//5EeyYO5CTaO8+p4/YNvgK+vmA5jO7m6MI3q1vUMWLVggi+bOlVFcFwP9vWjxuGxFX/Ad8Oqyk+Hqz34y+QL7Gr+4+fbk2/MInTEQCOwp7M17GVGmmwQOUtgWRVOiXBlyA5pKLgIpjV5TuqiAFQ1VqnDuz0FeuXLFJFOsTbnWbZRensQwiPEsxcN6uH35mc94Fox7Ku9UBnP+VJepHCpSNPP893//WBYvWajGFjhqoiZTACcNuus8rF7nRZcl7bNa8JVQDpbU0tMCOZicNP7HQIm3JqoARuTNoNbrbnpY0QCUjYuIMhpOPCqJY0rDJ/VJghvOXOnu7ulO74t3qcHpq5acI7oyD4O6DfHcqq75urvU4DYDdAJK+Kgq3nqqen+/9Pb36WFT/loDmGRKvclECSA4eDup8Zhcn7f062fV0sMSNZxQGClZHuUEV1f9NaBR04KKUwIa1noI3bBtuafsBOtj3/EQKu4q0G33Bbhclr8edwJpuC4z/6R5q5H3UTX04Qpczo/iqjB63jJMAy4VqWJlGXWzHn9AUga23+8J/sCnmmjY+Q4BPlhhXzOv9yHbmVMtamI5Nm2YL62YDz7vSgzKWQE6BTXIrl0wQLWdbDPHoyizE9Ekc3rm6EMJzmW2uRbkaPnZNzWU+lz7Hdmam9twPXbLmrVcXeBYkHzEagEWoHFZsmyp+n0O8UFqK7+iAOKuD59XrJO7mvQ1Ec2L/tXzHOzMhJHhQXLV64P/B+yRfg4EAoFAYD9FrRYWCCSYokulje8aUkmCEQM9yckMc82pypkpw3CTkkiaTLFiGRriurUyKw/tzrR+JSp0fX19MmfOXFm9+iTEmaJpip7zZmZT6BlDQ/n++9fI+vXrdGv00MigDI6OwB3W7dAjSiNKo4m4UjkKQ5/bIbnFeRQuw9zyrG2CywcBHk8ahp+rwCzDeKa7kmsPECpX7iZDaq42nQcdjYwMqay5vJCF27mZluofhQFCI8SV6oaQd60aGOTFE83ZBj7kUBoeSMTwIAh+T1NCHNIo49jYMOrnFlLw07HWVsBvY2/GDAxdKOIdHR2ZwU6XB7/RIKVRT1AZHxgclL6BfhlAHYMgGuOUTdvP744zow6y0URqDzkUifapufBUkY8J5x3br1wtatbgY189/zm/db6w3pReNIb5cIKHu/FTeZZWWd4EdSKK/qnABxlN6Ps5Mn/+fO37GqT+xAxG3yLAcLUIk0ClSWX0Mk5N8+uVD2o4D3zMy8B+YR/Zgxh/COTt5PjxXmHXO64y+JEHLrdioyKNbwSZrHD5LX/ubmlr5nvUfIUA8zIRw0rZqzn2YIdEY5JtIWVGe4Fq5dFSymvH9l0a1vkI8nlpM9dh7eyZMwf91qXzVVmmh12K1MnOp4YArRXy8KsHTZhb0tQmHV3dsqtvpwz09SIfeZEsfxloVHejDFn66y8OL6X1sK/aeWBiK+6/HYW5LvpaCwYV1XGs7JrX+1cgEAgEAgcR6mtBgYMOVJJINB5o2JGoPPE9VzeUdYs1KSnAtrrh0yhfiTUjnMqlBqeNJt16ifJQ0LZt2SpnnPEUKJBQ3qBEqmGgqMMc0b/42c9V0eentWi8DQ0NK/nBcTQieXL34OBAIvpphCIv8o/C2B2joUSjdwR9we3U2idQGGGMj46yb3jg2JgZiOgnGuRmMMIoVSMBgkyj/d4qGtxcQR2iS5kzuWkop7rB1z7pBcVY+5oVOYepwZw07iirr0IPoB+UNDwoA/390g9jmA9AqonvcjOfGezD+g6vP3gwWThUGEGdH7mfhgf9PCyK237dIO9o71Ajh2ksTZ4D4M2D3HSVDER3BG2n7p4RrDzq7/QTlMFeA3AyWegWiYawrqDiT40l5rOsUwPzmv3H7erFHi/yTz2s10bRiOa1xYPpSPqwqQrchdLTMwd904GQ8bB3a2cL3NECGdFnJlclbx2vZowT5OC7/lXJDYMPQLRomg9G43pN9vT0qCE+FaxMCpQg52vEzfP+ybDpgHLaNW0PolilHvDG+Yo52dZWaXyrIQtCZ1l/JVJjnH6Ur79SbWD5rVu2pLJkVd3RDBuRz5w58zEnuvXhIGI4axGf//ed9XcJGK/XHNpA4pzknOJYcOfAMK4xPUthkr4meE9ux3Vq93wS53b6EgLK6jggn44Fr0P4R9CnDFMGPszsaGvTezqNeYIPMCfrp0AgEAgEDkSEAR6ogilDVJbdoNJVYBIUJ65cqGFD7Qppqtzhxw1xxtCuUKLhxHLU7ZQtf1jQ6iiDKaNGzEbjmA8ATjnpVFP2wN/UPOdDl0D9iW1v3y558OEHZcHChchhBp1D5aZBo0YNOGWyMVzpQv3WX/6ZQMzL9iU/jYvUR3R5ObkyrqRKumadEsym9UAYGmaqwMLPbZxqJiKJLvvVLlvUxfd/UU8SBzAukwLlizmKJawd3idwwbiyb3JomuYzN+9TylbkWvQbdEU8GTG6VR0ut6l3d3ZLd1cPjPJuhDth7LQys27Hp/HNlXquinN1nA87+H45dx4o9zQ+mSGjro2B1sHxSES40m99avM4lZwUaugwPzLr6r56vCT7jJ1hfgtbPTksr8VbfiPLx4dcvb07hafG8/N53H1SvGa0DRXSFv1TweTu7e2Vnbt24Nok70oZSGzjwgULzNjiPCsYelOB/DkzwQlim8wOys4HSTzxm+OZo7INnA888I9ufVifWL/xGij0AbyVNZdDa80y2sM13RUBg3QYc4wGOXeg0EAd4RZ3pPFmxvbRMKcx2aYHm/GBkh1MyDTONY1DmHEZEE8x+YiAr0g8/NCDuLdijJFks0YlUp+1wITj2QQ8HPOoI4/SHSKcs3Yf9Bw+52rhc96vt2JcC3j6Dp76YA2Jv/KhwY3awYqvUPCBRFtHuz1A4zZ08OS2dJ2luB9w7lB2/t/Ab5C3tjbrwzQwUT7scx/DQCAQCAQOFjSuWQUOKlAnomJE4onlahBy9RGuGhl0lagKUuk0xc5giqQakDSchrhNufh+Jg0BUwInI+p+O3Zsk/lz58ny5TwoLBngzqYCeeSWzZtlw8YNMm/BfM0PZsYPUHUSP0pohqYzUg1Icin86TvEVKkZj0slGZhmdLKQ8XSXZYqoDE0O5lVSWSAVXHqNSUr1dtDlnyr3ebgRKCetQ4OpzdVAjLa14FbA42rJxi7Jxd8snEPjaLwmA9aJ21pb9T3RVtFT10F8t1S/uQ5Fn3k498b03fQJ/TY4TRHdkq+vScCwoSHU6nltnploJo/PaffTtGATVYZiv9QBuXjr+MqBPXhBGMYN20ljY84cvq/bprm0fsDr1XqQz+NzpGsN/Gikcju1fcrM0ggrY+VtXAiLmy70Gi4D5cQ1y3fy+fk4YjrcIZ3JnPqRfcq4FNJdHGyf7j5AXWXgGHKVnOcM1IPNKZZnv2mUopzj9NDT04W5164ndY+OYiwoK8aFxjJfu9BdLmqY2xZ5X/XmeHGFuR1zlgYpHyo5cT7oAZWQ2x8IbcQ9KnvIoF3EH++rBI3itdEkT37S6ZCBHcq5ndLwYyWsLyrAcjovLQcfWDkYp7sQlF3KY9lqwSSkGx+f/ZABv/rgQ3mwLly/aCe3nfMBGg/h088T8j6K9M7uTuS11wtYlg/YuIuGMN6BQCAQCBwcSP/7BwJEUUEzUiVZPfxnfzSsfcVMY9WtB1OsRmmsKCueFF097Vivkb07bHy5+rdzxw458ylnSk/3HGZMIM/aqUuVkO+D/vgnP5D58+dpfZOKlmQzOM9q3sX46vzFvLXyTBdF7pOKXQGUmsYKpUKtIj56YJ/b+JWPoaXvC7jCT6OlDQYZXyXogFHErdl8T5fxdsI6H/KYUWffHefrBINqeLBNNGiJrI2TNMdHeVKwu+HQfs3egSXvVA+NMNti7d8HNyoaQoSKkmRSuRJqwqDiKDiH3Z9t9YAaIOdgXx8qHsM0cQmmB8rp5HtQzOj39pWRgfeKHbju+RpEMT6H9QL7c978BdLZ1YNsqRZLahgqHwpqfyYGakTDaDb5iww5lhxHZEVetoPziwY6dwlxtw9P96aR7sSwjz/50hAn766udhns75MNG9ZreiM47vjVKNejBmw2K3gfxh8/Aeky+fzxXR8OfYhAeZk3zVc2Tx+iwki23pgcfDDE8qyXFer/A/jTs0IYBi/2B6vVqkH6qTTkaechcvQhjkY5X8PgFni9H81gjgUCgUAg8HjFntPjAo8/6KE+RSPYDQfoWjAsoDXBjzhVrJCO/HoAUlp9NOUvxSlZHEF9j999JshDFVnlzboYV0lIkmHdvt4qT3/6MzUS0VCWUf84py1JY0AE1UAe2LZTbrzxepkztwtFXAEt5ndlD6RtBGhIpfZouh5wxHi6Ka9CI5OMxtsU8vz035lCawFfPbjKqmGnG7n8SOBDBjecWYr+6dRM3lYHxgZl+e1sHuZm701z/NiPGDulFE7jOFOqhsZDUVeCX3dKUBrKZZMLnnzusJ9p7HK7Lw0Y/dY4XM45nrTuK8VcjeNKOBX+5tYWGYE7wu2umEzcJsuDoVpgBHBO22ol3+dlfY3Dx4n9yPoqtj4DNMK2b9+mhoW330nbgfrcGHOjnGR52Gan1CccA9ZF5pya5GNSMCa57m8EPp/ALsnl5PB5zahi/IwAXjxtm+3VcdWoyj6rhu0C4KnmxW3qRaBfkEbRunvmSHtXh/pZl2PyGmrBy5+9wnehd+zYKdt37NBe1WuRY6AVkCiT97nt6uns6jTDdJyvRYDGcuLZCDwngQ+IRrnlH/xYRndIwL3v3nvBZ+p+5lXe2tYhp556qgwN9ktrC+Yw4imefzrP20z+nFv+zjrJ5jzmG9L9Xk25uArd0tKW6lduZFEC9sG4PhCl8eyvpzQVrmOm2xcc4PKhBF3G4487WPgQja8T8dNpnNes326b6Eu9F3u/BgKBQCBwYKPe/7aBgxJUgkybMyXcFHFT3qicmcFBFUmNBFe8WEYVMKMcOT+CChkPO+O047eAwV399cD3VE88+WSZt2CBrrAYpyJPVzkN/C7zL677mbRAI+3sarcHBUSFGNaOirKansKqCM4EBX4zhBpapFzYujBDfKayWh1UhKeGdo559xhM8ebcMeMgKeEl1XLOUGz2NuenrlZ2cNurHTDVDIOCqVTuCb7Ty0+bcbWNK4fcNs4VSObRbdCYw8R0W+hzvZIoO88tGDJjqwCms23ZQX7wu/w0xrhiTkPJWmbQ6wN5HLmPsKunMTCnE8HW0vh3E44wV6vDheNG3O6C941ly5bpYXvWlGJ9Rcpl8ftOnlYGi9+46TH9XrlfDVpiuoNZBIXkIBKQ3XxFGdxvKRw/HppHmQkWzeeD+fkQj66+joO5wbk5MjyGedgha9eukfHRyd7BzsEHZac+8Un6lQQ+9OThcJ2Y+zxMrUjFbe/5/LLrw8Nt7a26U4SveXR399h1YE2qCzbxscc2qjFdBFvOPs/bbdewH0TJRxbcvdIOQ98e9OFqR33sB67ST1lxIBAIBAIHGHZfwwocMKBiVASVZ1eGsxUUhpFmvwDLUPnSnyKltCpQ8eLW0vzgH+NWJBajobJl8xY566lPg3KIeEZCy1M7WTXsInP4UWf/QJ/cdtut0gOFkocfcWW1AsnC9dWbClGL4QJpMU135ZLk6ZVxswFlk3iBa00dWg/JFeYUR+/04P2do7oeUqOoLmdk/GhsZpSMXk9TqBj0O1nZamhcIZ66u81HGIsY7zYYF3wv3L6XzNO+cyOSxdzwnTvHXmewuQ0iW/2jOwUKmfRBQZKnWNYO3zPetbCcXMHltcAVc14Luq0XsBVLGONoC9+ptezGx/kTNDgbA/LZRWPBxMVk85VSe3ChcqvRSdl5vXOlU3PzZ0ZgGx/btMlWO8GT9XIcvWt8DKwOnxNWfx5fCyvfpA86eNij5tS+qleiPlIxhbuVKHKs5M6vKWzYsEHnFf87tfbYw428bUVM6MNH1sNzDtY9/LB9BgwxRTlqYXyPOPIoWbBgofT29ev46DkVTXzdgVnYr1Yn+9GvN26PdzI5Wcu49PbukiWLl+iBd2XXWw3Ad+OmDXpGA7vB5OWYmaFdI7xG8Wcc9+RuNbY5VvYufJM+DGM5H/NAIBAIBA4WhAEeyFFQ1KnEqR2RjHDGq0EDL9Qn/LWoEqW58aNb1qFI6RZZeDmxSMatCsjD7ehcDSJsC7cpdQ5uA+3pmS8rDzkUISiUlIHpNBBUHiptJK9rVLZt2azvVC5ZsgRVVNfs0oCYpsXdz/iqcCK1i7Qar68e2XZZKsmsixxzI6JxMLdx5K9VniupDFImKti5jBpHd1pgfqcqKM/kpt5tCEmWjBilyjkVbSduHTZjE6montvo4Xj7ijAWpbCt93zpgNLZH8Geb2tu1U9I6aFQrTTI29Xo0bEAcTWcxjhXxwUGilaD6lXkSeokyF/rTHOQV4COOeqc4NZcrQOS6TxgdayX76zTsLadH74t2IwnawHEkFES5OC2XYY5/AvnL9RDvVQ45c+DCI23t96oDrRRTGd5jeBPNgbsdhrJtl3YHpIwqatnjrVDC2nBaaE47333QQ7K4HM2l3/u3PmydOly+JhG2ZyH58mJow9JkYnjx56gpFoI/8i/cbAaJdzw9CEE5wpc3OEwj2yMbKzsVRO/X/n4sa25313z89OJLSB/eNnZ3ikrlh2SPSziu+67du2kFCaDiVQKlp83d56cffY5MtA/iPCEGsP6NQTIWt1LvA+zBytIB5yfZRzUnRqnn3EG+NhujMmBdBRdu/Z+6e7pkiYe4IZKOAY6VSF8tezkyO3x7bgGOYd5zfHdc1bFBzLcrm58vW6XPBAIBAKBAxvxv11gUrTQ6FZypRLKZgojZGH+QdGi4mvbDknV6lgOrkzzUzTD+gkcGmSmcFMfGxuDMQArZMeOXXL00atkCRRyVQ5VQSybrlS4zffrX9+hCh+VW8Y5XzdgPS6phlpmz8GVymmCxShrYZXY+rOMLH1mQPtLD29zuS0tl2ESgqzlvIhy+Yrt8NcLyKsINyAaBSXw/JyrOkdBtvWW23DNCOZhbTanaWJhFqcDvLjRYkpQqOS00rhSg4sPo+gmnqhTV/n4IICGN8PJ6LZ3bhnnRhnzpTT60QKXm+B77+ggjSd/lZN93nDPMJ+RyoX227vvVi9Jr2HK3sTv7KM+1KmHkKX4mSDjyTrR/3n77aEIZehop2HGByR0O3Sq8FRsjpfvZLC09hrSbdQVlB66ZDKzp2ysGoH3Dc8OUDnVtRP5TWYnk93JZOT88jifa7bt2x+4WHyrjh139jTDgO/pmQdbeFR+dctNNkSUw5y6YNOe97znyaGHHCabNm2VoeEBGR8fxqTgbgmMXWbMOir7wK/ZXb279IHHk550us6lSXtK76NNqO8x2b51K/q/Q++xfK2gNe020Qc35K33gpwbvR0dPFW+Uz9lqfMYFntfX5/m9wcV9e8fgcC+w5VXXilnnHGGXHDBBbJ27dos7qabcM02gO3bt8u1116bQoFAIJAj/tcLTAFTaDOCokqq1PO4CkKjwH/5N6Yh6mMWy1xGRfBwIq6G2PfCLZWHFw0N9cu5557L2lEIv6lCM8q8cuYn9zEZGR+Rn/z0x9I9txvZOa1BLJNVqOs0SkXjtUizAeNDxZJKLfla/HTBsnsWY+hIrkB5PexT71d3p4D2b7FcFTTdx8HzwkGn0BDRuaFk4WwcUoKHi+R5q0n5pvlTD5nBCb8ZgzC4aNEwpiDfZMhmEbLy82iwpO26wF8L4mzmWdh4Gygipl3WDkKNxXQ90QBsUmPNZKIxScNux86d4ARjnwYmFx1RgZlLTlOA1g7fQYbU2nbKzH6AsagH2LXycC8YufrZrGT4wrjatavXViyTrNMBS5C/ygxeTdrXRmqUwjjV70WDmNZEOUD87ja3JTMf3zO2hxXcHm/hIrlBSwPZjGQjA/uY7eb85miVg3L6QxfKys9n8fNhSjAy9X1qfuOa7y/re9UeZ9TG96wZX4grkvKhX8uSD+PbpbkNbWsnNcv8xQvk2p//XL/7no9rfajBKi3y8pe/XMPcRt7V3SFdPV0wiDuVurv4Pf1u+Dv0wEK6pO7uTt0Kznvt4MCA/M7//B2MQzv6oEnGdWeRsqyCyTMxNi6/uuHn0ok2LV+2QpYuXy4LF87Xz7WN686WEczvUWa0vk8GOeWdO3cu6qERP4Kx47vs/J6/feIuENhfQYN79erVcuONN8rXvvY1uf766/XchIsuukhOP/30lCsQCARmBuqLgUApzOh2t0BQ1khqGRShij4NIlvV1JVNWMymVuI35Xc+BJU0bk/lf2w0xLk1nd8fXrhwgf7nZ0Y58vOPLKAlpkXIBHBGxJ133Slbtm6GAT4HYfKmwsdUqzv/SwYJEhshraEsPlEWrsqXIvhj/kaQZTX5CeNnrJzyeBD/PHJaYLkxjBF0ZY6VGrzUm82djGVeXzIZNL/JUUmeVkmE52H9UNmVGGaGvHzKA2W+SPYpJZbNqbpMPcJPRf0W8v62Pp8SyKblkvHMuUyjmZeEulxd15U9m+e+Y8RW+3jL9TBcGvAwyBhupnFaZVDqCiqMWTNgmZ8V2xxOUkwB5rFtv2ZUdiqpkQjjTI1LHmLH1WgaisjjxiZXllnvdKDPMdC+DhiCHd1d6tIINEMQfqUu1A2iLIjvRribxmJK60a5bhiK/Jyb05xE/Ea3x83tmQPy+B59cGDjS8PP+8faXxeQl3OPsrrh2t3Vo9SlRmxO/ASe9l+nyZm1RQ1rJ/YnCXm1fytJ+xwGc0dXm7R1tErPvHmyY9cuue66ayGqPxAj1YPd157whOPk93/v96W/f1gefXSDnRoPQ3gMRrBdH7xWeH3zVPIR+EdkeGRIT3ffsGGjnHnmWXLqqU/UBzL6wBLkB2zWYkIN5rt+fbvMnzNf2jA3/AEIb8asV5SS8Z2NAQ+pa5MujDW/oc4529wyITt3btOHO/5/QCCwP4K7cY455hj185yEV77yleoGAoHAbCAM8MAUMCOCRoUZFEXDgqt1IBoUKZ+rVGrc0JhTg65coWT+IqA36km/mzZtlnOe8UyU5apdnoc1aT1aCxRGsCVnGmU3XH+DdEMJpyGhbEGjo8MyAsXUTh4eyAnG/vBwYzSkLj8jVElDgwMyMjQswyR+gxp1cBWLDxJ0VR+kQkwDlntc+sirf1D6+wZVCRhEXTU0NASy9AGEq7qyAUDZxthQ/oGBIdQ5gPr6odAP6vbQvt4+6d3Vr4c97epHmHGJ+E5vFma+3l74UV5PG68m8mRaJQ0OUHYnysA+tDBdfSCjxP62Pi7SiH5vuUCMh1skSxuppNFRff3BDHB0Q/nUnALW2VzVU8NZDewJXAv2aTGuNNNw1euDK7YI534a1ZijWRgGtpax752boW3UCmrTrcy27Vl5ctymJTNkhVXMrfA09o2awLddSetJxpTJZFumSfRPu4N0GRV88Gfv4SOU6tRnD+h0frOa2wH4DrOmowgf5ahLgw7XM9/P506YcX1PfxS2XSXRgBtNY0k/fvR+wrIqhopt41SONPhan6+Uu1tNFm92KuSHy9V6rj6T+vo4/0nm5/e9h3BdkoZxXVFOnXd0MU997turEC2yaNESuf66n2t5q2/qPuerOk960pnyJ3/8Jlm2dJk8sPYBWb9+vfT194JnE4z9dnvwAZf3Bn5R4tF162XH9p3yP377f8r//J+/i3i7h/LubTtVEvMSbNi4UR5dv0GWLV+BocP1g372B0teTo1vBHQKaFjs8DXEucHNa5D3rEBgf8eqVavkm9/8pm4jL4JbyhnHFfJvfOMbuj39wgsvzOIYLm5Zd3Dbuufzre0k8ggEAgcf8L9nIGDwlW0lKEtGiE9+N8KpstHligm/28wtjDRo+C4tUjCp+EuVGorrBBQvKsW0GkjIZ8ZPru3Ry4PF+C7g6CiMbhgyx6x6gqZBzQP/Zt0qOt40rsRvWJuiSkyo0rt5y2Y1zO6/f43SmjX3y0MPPyQPP/KIrHt0nayD8pnRo49aXCO0ji55gNY9Ihs3Pirr1z0sW7dulVEYeGNq2FG5HgeZUTAEo5YuGpRknBraZ9RcYRAMcCfAMHk5z0rie/Mjw2ZQsh4aKuxvu5wbqBP18F15Kt2jNMJpGIDXEIyK4VEYrwgPQ2Hmd7T5QITv5I9A4a+mYRhCmgeKN18BYJlq0m9xF0gNJi0DF+XUYOKJYyA+EOBqth5CBmKYebIwRdYGwLWplBFNJJ2PBSrrC5b3maNAf2sM55TOq6lgY5SDK32cuzbflXQlEONfB3btUN4UgXbadQWkeBK5cU+JHZKF0YXxbod8tSBD42PNfNy2jKtOZ0gzy/JaZL2ZfwzxDJNYkH1BYx+k9bDk1OA78R0t7Wrs/eb++7Nrcc2aNfIA/A+sXSNrH7hfHgQ9sPY+WXP/fcgHWnu//GYNXNCaB38jax9EHsQ9sAZ+EMuuXbNW1qz9jRrMrbjvtKAbnHgOmX5fGn2l28phGKIlaALvHWWy2xgy69y58+SRR9bJfb/5jdx73z2gu3O6F+F77wPdm+geue+euyDLfbJh/TrQIwVieJ08invFBtw7HkA7Htu8Qd99Zj26W4NzGteOHqQIGsW1vGzpUuTbJHf/+k7k432A44T7YDYWRXCu2ao1v3f/hONPkHf+6Z/K697wOlmyZJFs37YNfU6Zf41+hbxozyOPPKy7i572tHPkry9+jzzrmefq9/DJw2xm1gMZtd4i7Hrg9vNrf/ITGPVdwl0RnBF88NqaiA9a7P5sc5b3dp23+Js7twcic/aRc5M+IBjBfYMPWnzKE2a8BwL7D7ja/epXv1re/va31zWU77rrLt2e/rnPfU7DNNgZJt2P+5+DZX/+859rPsZ//vOfTykin/70p2uM9UAgcOCj6bqbbqv5L35v4alPPiX5AvsD3vYXFydfwUBWRZ8KEpVHM5LMb5+00TBcXa2GRqUr3lCsWJr5dHUlM+hhZha0LjVEkEerQiGm05jduXO7/Pmfv1tXhsbUgCBqlWiVEQr3yMiQbNq0EdofwylxtuDyASo6FMXNj22UL3zhC7Ji2TJVNE29pnwIaX5u2dyB/O1y2Xs/1KBMTdLfu1M+/JHLUAcU7Ake0qUVWnLmAuBPxZwPSohxtHv+wkVy0UVvpWqMmNq+qgD6FD0tH7nyctmwcYP0dM9lpKVVoFh/JUpTOPZ0i+2lnHRSXGZQJNn3Fdi3HNfebVvkWc9+jjzvRS/DVIeZUNOoasBQwJx736WX6OoiTQ1vb35qN6LSfM/nTj4mOu/rNL94fRDImXcVeG3btl2efPpT5GUvg7wNjDXn5vjwkPzVn75NDj/qcC7bIzaVoRBqCJmQej0hv4uwZfNWOfHkU+XlL/9dhFimjtBFgAeNUa5c62ywfwqtJrHwuGowvjhX6FWCn1udP/f5T2K+LpS29k7k5bVm1xwzbNu+SY468gly4R++Ua8Dax7ak3hUwgw+bs/esHG9bpFuxnWXC4t0FaRIhEoI8nHHjwvMeApKZ7xZ7rr7NvnO9/5Tli1fqe/36w4DJ8jMVXGe0D9//gLZvmOzbNywSd797j+XRQsXIw9l4ejXnytst44d09kHMKJ37dwpO3D/HIbBTYOfrzNwZ9D8eQtgUHQjP+4tvG+77FWonH/s23G587bb5DOf+Wf07eEyd/583V6v7/djYnI+bsQ9hIY3ofd4yM4DBVnnsiVL7f8HjN3I2LA8un6d7mrJr4c6jZsCV3/2k8kX2Nf4xc23J9+ex77UGbnyffLJJ8sdd9yh7rZt23Q3x4knnphy2AFtbly/9rWvzQx4vjPOd8cJ57NgwQINBwKB/QN7815GTK69BQ4qmNFAhcjc6rBul+V2UlUiuX2WW1Xh1ziusFWC6qOtKnJ90lYGabSbol8N5lV1Ey6V5xYZKxgtZaBokEyV2EMPPUIOO2KVHHY46LBVcngi+jUO5HEaP0lcRXmGyRd0OPMffrSsWAGFWmUzBTnvp2pMT7m03MmI1d8iGTykK050NTy9enIuOd9yVPItliiWzOIK2bN0xKkfP3Qpdz2D4nEDdjqh85hGoFH5HKgE207yOVNNdeEdmtzpdaHJafCSCOu1WQ1vD7wV8nj5ycHrgtcir5UjDj8mXU9HG+HayfyJViLuUNDK5Geew+En0c+0Q5SOkpVHHKkHmPEE760w/KgA85C6XfoaRD8Mu2Hcj/geuLWStikDk/UVT6M/bOWRkPVYvbZJrJeyrDzCZTpK41fCPVTlYNwxkJGU3xcOZz7IfQTlR54lSw+Rzq4e5D0M9w/2yeFyBFzS8pWHSmt7u/AwOr4DfwTSuK39//2/r6Hv05XN8dExKu97my9cxeZ9CK60wEBehPpWyTHHrpYnHHuiHH308bJs+eHS3jUX1x7uqSgxjvu3GsqFeefksDkwLr27tss3v/l16eholc6eLhj1vIePqlFN6Ip4oRxBabnCvmD+AuSzXVCcUPzcGl95MegImTcQ2A/xla98Jdt+zleiaDjznlMP3GJ+9tln66FtzMszbIjXv/71Gk/jnODXA37yk5+oPxAIHLwIAzwwJUw5y6eKvfNqBjnj1W2BMgWXy3V+irPqZVUGeG69FEGNmWobjHO43GI+nqrjVmJb1S2DK3BWLzkrIdoNHZLHZ+FCXDFvWVzltmYkoirdOg2ZxyAr3fqYLG0SqOJtfVbGw2VlihLlmg7Y10rl/KeC11tdLWVyOFfP66C/mO/xBs5EnY2+2l9sHFA0ZPxBk147jMMcJdn2+OmBJbzU1Kv0Bfhc0uuQkjsXMiFVj0aRueeZBsDe56dyZnWFdjtVxNFNfvaT92EF6b2FxO3OMKrh+qsylNEegHDHAU1R3I9YLeJJjcBvb8oPVC2ntgsdr8RrR+N4/+MrAQVjlny0m1mO0wRGbH9/OiehTx8W7NjVK9ug2HMVn4eytXe163v+Jxy/Wu655275r5/8GAzYe97/k7eB9Wru5GYlIYJuy2ec+o2K948yaF/SMz4i37rm67J5y0Y57DC++z2sOwb03XyeeA4ObGbx/wYCl4b0zJ2jrwZMIC+/Oz4yPCg7tu0Eb3KuzB8I7I84//zzs+3n55xzjn7+7+ijj06ptVi0aJFccsklWX5uT3dwBZxGON8NZ76HHnooewfc3wsPBAIHF+J/wkAG286ZSLeWm2LrsFVvUzZtFTw3wo1SxgLs1HIqxlBonS942nuyZSog4qjUaRLKmCo4CTiFEzFrVfbEpia+0bja8qwrBUzUSaClG4c2GvyzYoW6qoFopmjLKUdpX06FyaUnvI4iGFdWskzamrz1Cu9lsLt0/s2k38omegkqrifUo6e1Y/5zrOwaqKV6oN3CVLsuYD7BrR6XMqitCL5WDnC3UDqvl+2iQUljkmHGZwWmB5ZPMmdIcUoO96f46try7JYywVdicN/hoXI8OM524fBgO9uBw/sRwWtC52M1w8xEJcgZuchTX7WxmhSp4rw4fWZwZta6gvGJpxbHDzNpxRN63oEemsjDEkn9u6S/d5ce4Ig7prS38dvg43p+RVd3l6xadZR87Wv/Krfedgvix8BiHKwK41cHHDOX2eQooCypOo8D9fCoPx50953//LYeDnfEYYdJOw/pQzLnEt9pt1eQ2B/WF1Y/ie/Uz5F58+ahS0x2to9ndHCFP+/rQGD/BreI851trmiT/NNjNK6ZRmO8uP2cYb4D7vm55Zz5mJ9geaYzH9M8H+uI7eiBwMGH+J8wMAVoGNjqdb6CbdqgGeIFYxzKmCnArt25C6AIcqiHB/5QOSPROKF2aVxpcKfM6tB4B1loUlBBzSjFEfR7fBGTxU1e3jyehy7tl6LxVPlAIo+fHMyX8hYFKIHKZN4E9l5t7OSgIlzMDz8UahLbogdGYWzMTcZhIvqL5HGE/daXxPuymsdkVIayfNMl5cOfaXQbe5ql+MdQUboy/lYDSmHO6+nf8LNfaVjVEvKm68KvDfLRMeDY0AU/pAJc7ZxacM+hV5axKEVtPCPqZJ4E5X0wCQpZqq89A+8KbKmtbHPOLoKyunjJIlm0aLEsWbxYFi9eBFoo/MwZvyOu/a1Fya14P0rxGs5rMlmtZ/mn+fTew1wUkGmUA2UYpzLnKVoKSZTSSqcVaRL7QK8r5IFRO85DCPX9eJHuOV36CbVRGN9DQ4N6qGNXZ4ccdughcvWXr5Y7brtD76kZyAYOqRp2XaX7pbY7J5M3QfMZ1YDxcPjQ4Dvf+Q/5rx//UA5deYh+3k3bwX9pXPkqEfPxHse+YRzLckv64oULYMRbHs7bHdt3CD8tqZnrVh4IBAKBwMGDwv/ugUAZqCwVyZCvgpvxTYOTW8919QxhU+VIBgvxD1ySEmcGPdU3B1JZXpU5UFLqci7l8DxFckwVVy/eUR2ncpEQUczn0JUgL6EZ0Lq8gQ2hjK/DOPNRRspV5N1oPcyXlHQdEfqpuGuMQbPon/nLUBqfGDgfRWKcnMq0fQjOQfNMTyYthQJ2IKEZyfVI86sLoqte91cTeVUR/5hmHCzMyqchsGZFYV5PygGu8lTX6tFcOicI+pOrKDP5ZgesQe0xrS+vsQjNA9L7y3izfe/b3mb2Ygq9D6UV8LwUUfQTHi7GgVMh2q+GLIfGZV779ZuAJyjyAF+loUz8dnhnR5d+R5yfBuvp6pQFc+dJB4zVMX5BQb9mYN/qphzLli2VOd3d8slPfEKu+/nPYLQz3h8sFFucw8TI/ypjgKo+drJ4mwdNTWPS379TvvLlz8t/fvubshLGNw9S810Fmo9/cPVTgMP2FQbGc8dBW0urzO+ZKy18eDQ8ivaMya6+Xj2ozXYNQBZUqrfIQCAQCAQOYoQBHpgVqEFOBdlJV8SpaXGKOdWCyhwNA1PPoARSEYSSp9tmNUdxVWnfkr1RyrUdmL/jaCOUzjJdUludjBlPL+NXJIItbppo5CRug/WZ+8wcYVHrr3Iy1l6nmfH6ySNNrUTO/8AE5yn7Qw1SNDTvu9rxcdL8mpevVbAsIhqAGryAPlRqsJDyp5Gvhv6EroS79cKxnkpWUgbKrO+Bs27yo+FUO+Y24jbTizOmjPdskF3lRvRXphnoJzhbNSfvEZices9RV+yb40jVa2eCY2Olcx4km+U5sR6f/ZWkbCrymEzFq6WarC5rC68d3gMoU0drs7S3tcDgbpX2lhYYqkgdH5bhgV4ZGiQNyDgMcDvYDNxbRA5ZsVSOPnql/L+vfVm+8IV/lk2bHkYFI9Z2tM3b1yh83lEuRzYnZQx3tTG5/75fyz994gq57dZfynFPOEbmdnfrt+n5DXon+5yY6E4Dnrj+2GOb9T7f1d4p87t7pB33/fGhYRmDcd7X2ydbtm7VvuGA8eGI7w4KBAKBQOBgRvxPGJg1mHKVDHBqxVSK6ZaA8XogD7Sz8TEolX6yrm7V5XZ3W93yNS7+UkE304Au/mBQKOmf50npnpblqS6PcJZWVr7AP5V3ZdzSyy8dVb+RWY00rgQhwIOQjHe9+kFUjrUQ+LL/2DFMYz8ogUeBCPs2NvmPyyiLohyVXZPdSNMLf/pdbbisirKCGTxjWpd9R9l47083huq2e/tnC8oz/ekhVYzTcfKxwp+Olfac9Rl9cLUPJwHz2FZcUprXDZJuWa8IUxKAg4P5Zw+8uDEbFps+GEJ2HXfOAsxUljHp9cDAMb2uYHjjWtNhBpnBihxMw58aajT4/YA+zgn16QRDPvQJXHs1Af2hPJOrfWRkV24eZjXwgKy8Vqvx1XkpheXVrdS8HhgBmZiP30QfpyGKSPY928HW8zbDq4adw19G6CGJKr9yBOgy1V2C/mJ8MVyWp14+SmSGum0Bn5BWjg/6u6llXFqbx6UFsji1cucQcpPaW5r0HevWNq7uw1AndbTLihXL5IQTjpM7b79NPviB/yM/+/lPZaCvFzztw4eVckxOKiHksU+CsUcQD3+TDMvOXevlmm98WT760ctl8+YNcvzxx8rC+XOkvR3mNjrXvnwBDvg3OjaiJ0Lb5854qBra1tYube28VnAfGhnW9923bt8iW7dtwVihplQ2EAgEAoGAYX/SswMHAKgEq/FNf3Lrw5RvVcepYKthgDAJymELwq2gFijcLQKi61QMQ4m0cMpbRjXlUaborylfSNc8oPEhaUWeVlVoaaDUh7+L2QxluVVYZiS5TgiTF6iN4Sa0HYo5u0IvSyrLxgg/6iuFpzQjX7Pyo5yQPVEbwuTvxLpbqPhTcW7hu51UyKEk0/CqqmeKqg8IqFFC+wDtZ9+wv2ysqojxaayaMfY0N/iwSA3s1H9lMAPc0otZLFxGTDOyywMelh+D4QniuDXTcBobVmoZG5JmEN3iuLeCmkFNMJh4GY6iHA1wOzwLBF5cWR8DrzG4+nlAXGvcBk0jfYLvKo9y7mOeeL/gmmhLZP2BuVVwVYZMFlwroGLYSeM9rRhXlbeJ8itRJjtNm/3egi7hWOg1iWuX37RvAnGbdlPTCIxFthn9AGpFuBV52pTy68DC1cT4seR63Ii0I2w0rFRZBnUgza4r1AlqRr3NCAv6iQa23S9wfWIcMkI8PxyhH49gurr2wJJzknGkrs52OeWUk+WQFSvkP/79azDEL5Ovfe2Lcs/dt8rYyADys09sTvKeRLL5SeK9lZTS0GfNTZg/oKGBXXLnnb+Sqz7/L/L3f/s+ufZnP5NVRx0txx/7BNSP0jo30NHwj46NSt9AvxrcO3bslJ07d8jAwKCMYY6Mjo7qdnQeMNfb1ys7du2UrTu2SV9/v4xiTtHUDwQCgUAgUImm6266bZ/9D/nUJ5+SfIH9AW/9s/+tLg2BItyQzuMZzuPccIDGlvxcpXKlni5X1wxMJz+W1riUwCdBXvbhRx5COnPAVERYoDhaDqvTgIJqIdLr8ng641GuGKxIJ5jOBFBFec/DVWGozdowghJBJU7yz+npkgULF+sKm6rX4EEDmqX5Xd7hoT7ZumUzjIE2pNFYR0pWD3hWWbespqW5He0dk+Url2crsVpCs9V/VkZFeNOmjfrepRrxgHPOauRPArfRS3Mr+I7JwsULoOR3aptYRnclpPEmK+VTKHsgwMeQ6N25XXbt6oVxiv7FPM2/Zu/9rb2SyH5ZsrWtVZYuW67banWFj2k0mLPyjurO8/R68XmKDmWSUwG5BwYHMK+26ingHDG9TnRwkZlLwcoH8Wnejk+gRfC3dbXI4iVLkRvt0jSum8M8Q1F+x58niavxhyQ+zOGuiK1bt8iO7TuRk31ROf/surA6HLx2c7ifspGK/emoLJ+B2fmTJi1NSIL8OzqadXt0exv5oQeYZMmyectj8sjDG+FrkVFec2wGyF8HqQTjqusHT+1vl92uZ1vRrkR1lF+vLMCu0T0J+Fm0cL6sWmVGLRP9+qxGunMYwevZUgwIBjn4bdu6TR548CEYvmPS3tElp5x8mpx44ily+GErpb2zKxtHP7yN40QjeByGMleuH3r4Abn9ttvkzrt+DcN5QObPmyuHLF8uPT09KgErGx2z09tHUIbvpvfD2KarQ66Aaa8BCso28dEBjXxrvD6QYjbGF+fvVMj4w1soVsbh6s9+MvkC+xq/uPn25NvzCJ0xEAjsKezNexkRBnggw0V/+pfJVwlXokzpdrhCbfGq6KWVNGpSanwznqso6mc+i1OlDbmothlPxjGDKcCjo0MyMsJ3IjWTAfEt+g4hS7I+RkIRTPUkboxkRakeCxrIvzrOeNUaCw4zuDO4F1la+AkkyFJIhWwFpZerdly1VE0yKaQVvIslAdYDY6kVxlBTG4xqFYWmD9s1ObitdGR4SFlWy+QwKYwINbSbYYrDeOQnnPg9Y/bxwYAKQxH+kREYa5yn6B3Or1IbCV3DcdVvQ8Ol4c3PYGmfabfxp6xgPWihAmzOMrbeiPtc1NPpx5LB02TXm6JgtahPf7iOCoMMw0vjrNogYli3GLNWbzv3pesWdMxD9I0Z4KzL4ggVpcoK1fLaH5TJ+liNM84tFYblWZB+J4M+vGJR/mT9yHptHZd/vJe0tjRJV1e7FuVM15yJDedyX98AbiP20IHQpijPStTGUfbUTiVrK33W/krQ4K6Gy8KqNRmejo4OPRmcXOoZ39ZOn5PM4wyMF/tZH2GiXxnNuGFc7zSo+/qGpB9tHhkdRjzfNe/QByqtLawTGZGZK9lDQwO4rw7DaG+XTlB3T7ceCNfe1o57FfoRRje3l4/ozodxXfUe5f0L9xa7pzvQ6+k+5/C+tNV2AzfXEz4O1SgdEzYRrs5oeHR6Ia6298MA358QBnggEDgQEAZ4YJ+hMQOcfgtXw5Q1MySMYBwzDoqc6YLwK48JOzxJ4/hjHGkoUAmGyqghxoKD8nS4Dmu6fzKQNU5VdHoQRhnzFVAdQ7WO+VOZUiAP5C/LUbQ9Mm+mmLLt3OqLKPQdjWKLrUSBhYLbgQlV7lGGB9m5UjoZ2Ac02uhqn6IA6yqWy+KrmJUpwgcLONfMuOCegNQP1YNUBLK44cVpV+w6nbdFw34KmLFXCS0PvlmKy5Iq4ljpnKgYs7zOWo4EDaZUVilFV0Ffl0BekjRjzoMZ2+hzl9/y17p0CzP4cI23ihdjzcPOMeFpfDPWrmvGm7zGr9hExjerEZ3HMp5h5vXWMZ/eKZI/1QlY31gr7A5APsyJsnk2gNvBnZ8j1ZPlS3Lyr6Kswe5jBLjzZsYa9T7FBwksYLIoQ83LOLip/XbfqpaBYB7mNzCf8kVxHT/lY+CDGOZkb1Be9qnea/m0JZMPvc4VbfzZ/dk+gzaOOHsNAcb2KF894G4IhFFO+aEvdadM4mGU110Otrkyj7ZTy1bC4o2j37sswu7iPAtAg3Cqa2X4S5/7lAUC+xxhgAcCgQMBYYAH9hlWn3hS8s0M2USCR5Xt5C+k5HohtCgqUpnileDKVmVsfRTzud46edlGOc8EJn1eg6nGjaKeZNPhQSxcvFSOOb5yLLWv3RNQuNHMOeiGDX/Luoh9N1n/Oa9GYcZZJdwAd2hVhetDyyBSZa2QIxmLZZYioIZbomowSuNRDfkqbwR4IJqGWC792aFpJk/+uS8Dr73MWCc7RGgpyKzxMPDtkDXLqznhMkwyU5X5+VsGxiLNqoePhWlIwwBO9RIsT36UlKCh7e1ORXP+KcK3j+vuhpRq/D0n+yN5Ac6XbFjUY2H6yIJu0UBXYrq+imLxWXJK135Vg9oT6CKeRnOaF1ovY709ae4qsxTH1euct0HzsUcKCerVovRYvzPCfjGX4TEDHDIwj3YAXD5AUD8IZaxazr8URyp2FssUoQPI/uIODiuhfGiGk5ka/oyHLJxDiNOHQkl2hkmf+eTHNBzY9wgDPBAIHAgIAzywzzC5AU5VafKpkqUmjymV5nO4Dkhdi8gVTsTl3gweVV57VWzylrApYPLUqVBWOjUFeqf7Elxp1N/aslW5p0xvFORz2plPk/b2DosIlMKMZvZWdc9PH7trgLscNmXM8FAwIomnMSlaV3Ud6cLxE+yLYHYaMG64VINRHk/X6ydZuWQaI2q8GcYg85OrFmGabTtmOuPRC1p6lLtYwIwxzdIKl2V5UroV1fzkiUAWp3mNq0NPTB8HH420FOZlf2ldcK3vEJ/aMU4jjlkZTeMTw8IUjo7WpWVceiMKQ2mZgXlthZ79YTm0BmNvdSofBrJoNbqZ06KVm/YfOTKO5zuwYuUFeDkyUxm4awbp1gz0BjzWJpDGeUmC/YJSTGIeTdJMAAPWVwZyZ0bEaz6XjkAdqF9za7qVZfvUxa++RkR4g7Wsy5aCmWNpOdxP19rGsWzFGOkrRfA3N/HVmzZpaeWrMF4D86IO7mqgX3kwr9X7gb//uxQT2NcIAzwQCBwI2NsGePF/6UBg9qGaE39MhVIFzLWpKZEyanEqYtVIiuG0oMzMu6fReENrsDsSsmwY341BlXwaSWbh7VNkBk0FzBAjcbabOUi4MQSjDw7jaJBVE7cZ+2nVPFeBxAO1lEbGNDw8nNPIyLAMDZFGZAjhwaEhGRgalIHhQYsfHJbBwSG4ThYm8bCuvoEhpaHBURkeHAONar5BzTcqgwNGA+BPGhw0d4DuwDB4jKA8aTgR6ucp2/2Qob9fiSds94LnTsi2CzL1Qk4S/buQV9P6QSi7Czx6Gc98Tsjbhzy7QH0Ik/rZXpD1EftqGMSzKIa1X9gX2ieg4eFRGR1m35GY10hfIcFY2NcPMKdoxOvAgPgQYRxzjZYt7HD3KyGZa80tMETbYYi2NbdJa1Mr/nPmV7ftT30T+E3EcGtzK/K2o0yHtLW0gxBmeZB/d7yzvQ3UBeqU7s4umdPdIz1d3dLdQeoCdeohjIybQ+qZA4LbTX+XzJvTJQvm98iCBd1wSfArWXjhgh5ZtHAOaK4sWjRPFjstnCcL6S6eK0sXz5OlS0jzs7QF8+fJvLlzZB7qm4v6ejrbpasNskJuEj/H1tbajPbBUMfc54sMJH0G4A8EAoE9iDVr1oQbbrj7iXsgIlbAAxlKV8CLNkE2U0ojFVmo4NFFlQwV2YhsAAAzjklEQVQWKItzrhVJQLE2ojq9Glm6VsLSFlMsV81ztrA36mgEZzz92cm3/4N9RrukGvqN6n0Irs5WgwbAnhpXfn+bYF/4bgqvSxcnCxV735TJWAlbKXbQpzGFC5Bbfe3xA5lZvK3ymnHoVajhDyG4pqsrtRprZXjwmX5DXOMoF8qqcDw+DPEUnkGQ16yyqEWlHnWsRoLxXF0nT77fbLH2kMIfRkBq1pP6ysGm+W4EJpEn81sc8zOeLWY5Y8xPH9q2e+/b1CPkz7/CZNT6mmEQ02U/sUKPT+RxfD+ch9wxzbelk5/+QxyJK8Eam8LFtIz4B2OU/JQ3/9FFXpVDGVte89K19moTUxpY6DiNob/Zp/p9b002mWtXu/mb4rRS5mde699snnoSeeBP26q8EEIiH0gQ1i8ozyBYUBbOJ/2nrIx3mg4APVa2iH/4u8uSL7CvESvggUDgQEBsQQ/sM0xpgGdAZDZrKqdPRaiQR/UuhXnyMGEBr6oiaQbIq6KPXC2myLe0WbOAvVFHIwgDfPexuwa4GiXq0eCkUHuHLoimjfdHsb5iH5UZ4G70OS8FAsnGUtAmoklrRhyNOo3VVUbWxD+Cm6nVxNJ8SNFklEM666aBRbtRjTbk5PokYaWRwF0F6ue2ay9fTPeaAL5XjJCa9m7YQm4tQ2gQ6XRTpDpaByM1KvPTta3LjISbiHJoegqzHjXEmYR2qIHLMPNVgcW9bkUqb97cJZUUT7D7YJGPl1GyGFAyYAGVUQ109DlX2FM6ob/a/xyVFJF53CVffwSD8okvWXlWy0U3BfRHPYVfzZ0AfioL+KToYrU2IxCgka7yIT2lGdAejg/SbPO9t51l0X+a2QswxdpfxP/52/cmX2BfIwzwQCBwICAM8MA+Q+MGOFCYNUVViciSCh71FsOZv4jSyFLU1FUFxuu7npqzcb4HCh53Brh5K1Crdu9dmIlRCc6mepeEotAQyq9tq1egKq9D601lzHyimUKjLJeo1Szn3AAnL/gZzM0ZgEZOgbkaOCBf+TSMq1GdGa0ArxyyNCMVlPKry7w0kJ0P/tFwbW5hHjOKaTTSjvKDtPDPyrN2xOtn8ACWN/vS5NI/JKkJp1mSka3x5jPJ2CN0WQdi8U9lSMZqJSwf4fcdk8nqUqR3vo3KeDicV84zL2d8y6APKlLl1XlcFk+fDNWvSlgZK5eXL85c8maZPB/h/e9linXrCnRF+4CKIFfhbVeCzVV4Urq2Ay752Sq5tbuyxdYG+9XcyYcY7Zui/ERlm4kwwPcfhAEeCAQOBOxtA7z2f7ZAoAjXj6opoeCtTtqnMIXP1T66jdCewt6qK+dPpbtaWZ9NOP8izRSUmKWraV8jl8WMYBL/TOIymCHleevnI/J8eV6UhwHJLcl2ejfJeLbA39rcIq2tJDN2STzMSl1QW0uzvjfb2oowqaVF2tpa9XvlTny3tkPfDya16XvCHW3t0tneIR2t7dJBt71Nujo7pLsT8Z3IQ2LeDqTTRXpHe6e+V9zRxnId0t7K95Yhm8pKQr+h81x+wlZz4YecLZCTxG9WI4M1H3cPGt580MC8+p4zsyvRPONKOzeeT2h/mMGNXKT0rXF+squa1JJPlP0lmczupN/CjYEPFZyS+PhxnmXw9MnymNGaU2Wc+Vl3kciuyNuIh5n53EE2BT35VUUTV81jRKstjnHhdnILs4eTIZ0Re94J8mjexJwZkmOmO3JznDEBlJdSS8Fv+U2GJhlDwTG2kX/aVvBGXN72VEEgEAgEAgcI8v+RA4HZAHUlV55SQPWnTIfKPLuFCpb1AEVPdcQyKgMzF2nSzI2iTvnquirqK1JgX6JoBBcpM/wKpGn8q8hnhnN1Xh4ola0uMx8pvSvsYeahoakr06AWGNQMa1zKR2I+dUE8mCsj5Lf6aKjmxLycW7z5Ow9rK/zpz+Ye8k6gjBJidbmdpbQkiLC8ngclLAcuzkrCD4xhPXxsPP9vx4wr4+GymDzGn8llhhj9XHjVlXtYck4qQxXxz28YxgJGJKw+fh+7SPpt7HGYkJqJ9Y2BaCbWgjuwK2m8gooyO00GL+MuUXRdjmIdJB6w537L5/Ww/2Dsov0eb8QwjWv/025JZOEMHG8fc4wJU/lwxAkhpCEWfFk/PMifeMJvI4jSHE8G1DUqzseWllZQu7r5w6I2ULu0tXVIezvdtgoKBAKBQODxjFwTCgSmAVfaKpAiimqc+lT5oodInoo4h0c2Qo2jtGR1ZJZQQBZfzDRNKolSahhlhetRDhonaqAgfuZ/VJ5Nga4lvltcTWX5qglKN6lBycyg24d/kNlWpIttoGSVPU/StGQsZ8S8hXK84bbgqoBdjLy6GKyulgMTODCkEyGgdSVyZDyZXqDaXQgwglKxbMWWdSPOcyJKAZvMGkGQPx31Jl+qL4vXX3BhQZCbY1xw1lVSdS1Z4xHHqsyPO4QnFohxTrTnWAuNRbftvOYiMZ7GnsPCVaTlKRNlMNnMdWI6DUnLp1uwWcg4pjQn5mG8y5CAcmVtKco6OWGmN/FhSau6Hk95Mp50s3j2EYWxujze04puGWE0c9IHOunBUEYFQ5iGMYi7Hbo6ujLq7OiWDrj84gINZRrGNJa5G6K9DW7aWdHJ/O1d0t3J0857lLrgL1JnZ1fi1VlBxteohZ8qSxQIBAKBwOMZ1RpbIDAlVK+bBFTvyv74z6gYV6AiUr5SUtCtR5OjrMSkhJ+K6utQdT6lkqx1UZa5jBpAnr1C1Z4egQENQBqC1ZQZlAUqy1dGmp9uWZ1VVGZo7lUqtK8RcuO4mop5uFLNv2IZNBYuqKpuLZ/6ISdk1zy+wm2kCTWg4c14I+On0SCaoZaipjnCurJJu66CGG8GKMtpeTUwufJpNJYI/7KwrZTmLrcZ81NdxsvyuVuP3OjNFlg1Pi9bjDPj2eKcCIvPeZkxCz//4GrZAj/88sfyJB6VQA/QGM4oxRVI34HnkxX61cCtT1amGokPxyvxqhzHZh3zFhjJpOI8sBVlGqp0aUS311AbjOOMGE6GdnMTyujuCTd2LUziNn8nfjItM9Y1H+s2GX1eG/HhFWVFGq/o1GadbwXyPsjHycdmXMZG7TN6DAcCgUAgcCAgDPDAnkWuM+KfKVmK5C3EZPmgoSVPHTAdVD+bJ5Qm7jaK3IvUKMrK1qNSlGWsoopV2JmSdvBsg0q0KdKldVZTHRnUMNkL5ChLa5TKsKdvvN7LuclCOWh4JkKI9owbw5bGSMYjrmDw0iWNjVl4jFu1EeFkhjXSaSzplmgaTiDd1g2DnjwKZPFWx/g489tWbyMKYfC6i8gNthzMUmHMZYYxyQw+7jswsjANTSUalzAym2h8ttBQzHnb+JWPPSZnFeEf0wrzdrpUBsYXt2u7kVss40atkxm9BeNX/ZVULJ8jj1fSP8J6uAiNweAwH7ssP2yvSCZPOZxnTnUNbOVfLWsgEAgEAo9fxCnogQy1p6BT6cmnxzuvvlleMfR+OevCf9XwX/y/O+W3dzH8hSz83EcvlPMu+qWGa1CYaZkXSlce/Wr5wg1vFvnoWfLqqxjOla566peVVbVblXXqafX0uByVGZ733OfKK17xikwBNF1PORZ4moL51X/9V/n+93/ADIX8NF5MgaSCXA+ex2t3RTUD0l71qlfKT37y37J+/foUWYtK6cvx1HOek3y7D5MR1lJNzWwr45jm/rI4b6OVt620RKHtM0SxD308ZhsVYzSL4PbvrCtK4NvD1cKpAo2oGiA/Y1nM+ZoRRLekb5ip0H/8FnYqpuAI0pgkrJ/h6h/DNs/VxmWY/vHRlMZfwnjTqK3uQz/FXeNVthTWH6uLnL0crixLZBocPZCtqUVlJDL+bK/5FG5Q05h3ZEY2otg+7YYU5hwyXsxvZWxLeCXK4orzr9jeot/heYtpZfPX0mv7r6y8+5hSOj8K8NPzy+rMgCTdil+nXSaX3dPGMfa5nJxzlq+af3U7Zor3XPznyRfY14hT0AOBwIGAOAU9sM9AVamSzFh0unzNOpm38kw5VMPvkNNWicw7+hx5oYZfLatX7pR1N8D4ZuZqTLxarrr+Ovn8azwZv1DOMn95oeQWfNTfSnQ41/Oq9D2AEdWU49Of+qR87GMflWc+8xnyrGc9U+mZzyQ9Q10PP+tZz1L3Yx/9qFz+wQ8ol7/6q/8tP/rhD3Tl76//+mL58Y9+CEXUTYJaMP/1v7hOfnnD9XLD9b+Qr1795Yr89L/30kvl2c9+Vooph3dBNe07FGv3/i2Lc9SOw2Sg0l5NBwImM74JNW53o6lmHKOf+Y92VJF47TFeXaOyWeQGVG1+X7FOB3LRRUUkz4Pc6tpKtscZ6CVxzmu6urY9vTLdXPuB4zwpq0VpO7VezAvPamR1WycaNdE4tAJK5E/iCn6tnF6uFp6vSPVQlpfkadVuNSEWrvWxE+Nq4i1G/Vk/gnynQpFy3pNAm19+3blcRCE646ukYpb3X963ToaK8omK8YFAIBAIHAgIAzyQgUpwNZmCnOjra+SRlUfLq+n/g1Nl1eZfya86jpYXnoHwGWfIofPWya8/v0J+94PXyA2/vlPuJv3ks/KOM94n37rrL+Qp8+bJWX95nVz1B+D99L+Rr9/wa7n3btCtP5B/fvWhScHqkFWvuR7xd4H+W77w6kOofSnp38TT5T3/9gu5B+XuufsW+dHn/1yegeTXXnW93PjDf5Mf3YZy99wlt//n38kzrFl1wTadcsqpKdQ4nv70c7Ts2gcekMMPP1xWLF8u5z3nOTI4OKhKKtOqwbZ965vfkg9fcYUsWrhQfnbtz+Qzn/2srVQhLVdBqdBW8mDZMp7VKKqzRaV5d8lQwT2Rw/3F+Oq4nMrqmIwaRVnZeoSfCirLQyJc+S/STFHkW4ayukgcf5KHdbt3FbnhlRlZmWGbn5Sd8SHxlG+GYX0qIb9tJaebeDgvulqWrvu55dx4metpnp+u56PfjFwSghrOycpoueLJ3uoijvF0des68/HwNMaN6/vBbL/Wl8ppWRqlyMO2GO+qOrW/+YPx0DjPk+fFiKVwY+Qoi6uGp02Wh5gq3WH10ZfP2xRRi0Iac9fMSCaBMFsxX8u3klt9qd+VnY1Ro/JWYrJrgr+V4xAIBAKBwOMZYYAHMqhCW1ByVM/hj9P1N8i6nStl9Ssm5EXnHC1D918l169ZIqtedqjIy1bJYY+skc9PnCYrh26Vq99xnhx3/Mvkc5tPk1e9+VfywuP/Tq7fuVOu/9unyKuvOlM+9J5XytJfXSK/dfx58vYfiDzzDe+RF6sUHTJ09+Ua/7fXd8hZr3oLhdAUyvCUy98jr1p5t3zgpSfIua++Sjavfq38778/U5Nh38sP/gL1vv7b8tiqc+S1L2Ksq5flCt6iRQuTL8cjjzwifX19KVQLL/PFL3xRFX2uWC9dulR+cf31ctFb3iL/8s+flje/+U0Qd0JXvV/xit9VetOb/kS+/OWrtexNN90oZ511llx88V/JKSefLP/0iU8oL+K0U0+Tb15zjTz/+c9XHpdf/kEY79fI7//+72n6vkGxH3nbILmfmCzO46vLV6Jo+E5lqE6VXg86pVEMs7vyj/N7GsivkZymg2Ibp2pHkX/RrSbOHpic+ocIJY0vJTv92/wwoirI8qhBzTyF/iFvhvW9b+ZJ+UwGGkngizEeYyfDtTiTl9M7JxjliKMhrq7yZBwo+dke+lmfnmBOnslFcorj5nQQxaNxroY+3yknmVwqtfqVk/I1n0FnojVPoUUSrHwJjG0lTYJcFoOPu8c7NTonymHli+95F8FQtjVdZcYPByPJzz7UT9+BmMvJ4YZ4bpArRxAZkB3rLFzXfLWg7NUHBeOriXXk7c/lz9MDgUAgEDgQUKsFBw5aVCtcqqBV4Cq5a908WfmM35YXr+qQNT/9tlx+6xo5bPVr5LUrl8hja34oj8i35fqhE+RV7/+h3HvPv8uFqztQrqNCfZqY+G1Zfdg6uf6Sr8pdE+vkW+94s/zRJZ+WX2mmnbLuesTLOvncus2WX4l/Ir+9eqU88tO/lE/dDUP5hsvlA9evk2NWn2f8N98tf/ftdSI/vVXW7eyQjiWMrI+iQlzE/fffL6ec9kS5BkawG8XVUGW5uVnf1f6tl/yWfn7n7rvvlre+9SLZvn2HvO2tb5XnPOc58pILLpDnPve58tzzzpNzzz03q5O/F7z4xZp+0sknIW+etnr1CXLMscfI6/7oD+Wv/vdfygvPP196e3vlL//iL1Qe5ipKXh3ec6iZIQllt5GyuHrlDWz/3iBdSa2isnykeijLy7Epo7K81eQ8J8Pupk+F3DjPCQ3Q/dnkXWxLGdze8nTP6wZ68bA1W7FOBKO5yDuLp20Io85chq18Jl9WhmIy3nizPpRIac6ryN+Nc8tvsuQG+4yJ7SwhrZv+lK+IivKF9LL4xsj6x3dF0O/t9H4zVMpBMMbzZEa8JVVAr+IKA5nXuh0Q5zTbYNvy+gKB/Rs33XSTXHnllSkUCAQCtQgDPJCBChj1M3VJ0Hcyf6Lvr1snh618jaxaukZ+dRXiPn+3PLLqKfLbKztk3d3fRo6/l7961RK564OvkWcff4K87/qdiJsKd8tPf3ADTO7ZAiV11/21oFJXDzw9+J3v+lP5kzdxBb4WrhDefPMtcuaZZ6iB7Hjb29+u7oteyLfjgZJqilHVyVdffbXs2rlTjjjiSDnqqKNkJ/xf//rX1cinMl9EVhYe+jOCfPuSHGVppH0JNSCqqB7KZCfNFNMtn9UJA64iXEJTpTdC1UCs/mLiqQPrrIJYxow8uCk3wTBXtnODrxJZOfpBZE8aHaUxTH4YFSS4THSNOP9pUI6hvOXNH6KkrevkjTBhxjc/YcVylscNUgsbL+ftlPPM+VdQkmcqKF/krwc3ZNW4TO1thO9kKLZDmTYIqzu1H34fn+J1QiJ8hZ1iGzVWj7evUXJo/wQC+xi//vWvZe3atSlUH6effrpcdNFFKRQIBAK1CAM8kKMBHeqGn66TnatWydI1t8oHGbHu67LmsdVy4tJ1cv/lCK9slw4Zlp2b18m6E14hZ62cx1xV+Lrc9chKOevSV8hqWSkvvvTrcsfPPp22oE+Of7trnRz2jL+XN5yAqp7yTvnTs1bK/Xf9MKU2Dm3qJEodFfd//vQn5RMf/2iKqYQrhFdddZWu+Nx7731w7WRkqKXqzps3V91G4d2fD8OEnHzyybJw4UL58z+3U39LFdHagvs1qFjrqmCVku3hItWLd5oqnVQEe6+MiKnK7i7K+BdpKkyVpxEeU6Eoj5FGqt9dkhm2idRoQxwmoP6mOEubkNHkL5bLDL0sbNec5dGq1M85TTcnhr28G9OMZ10wwMW+F235vEzR2M7DTnk8ghk8rZwsfRJgUlm+HMXy3u4i9MT5VMSMW5uZMzE+q+tuDHkZl9Ph8hTlyuHtoFvZJqK8TCAQCAQCBy/CAA9koIo0pZr0lV/JGpjYj9zw9yniBvnWmsdEHlsj/8bgug/J5/5b5Jkf/qHc9413ySrZKR26F/yHcte6Djnrr26QL772BnnHJV+Rx554qfzHvT+UK/5Hh/z3le+Rb7H8FLjhnZfI1etOkD/9xt3yX194rSy56/Pyt39xQ0qtByqStQppPaXwmGOOkbvvulNPPq+3ndLL3nTLLeru2rUTcepVo2N3UJTqwQcfkv7+fnn3n/6ZHHHkURXyaC27V9W+Q4NyqxHAvHVoZoZGoGGMwxDLDj5zw7eaLI2WsxqWjEurvm7I6arxGN/xtpVx5afEvCwHYzrFcWCNj7mMy78n7vWVEERQUpk8H8Pcxl6ZV/kmvwma/ZTAZKom/vlKcQ0QlfEGtK7UvowK6X4/8c++eZrHa/lCfkd1fHWeyjDzWt/kyO82le93s1xtfeUINSJw4IGHql588cVyxhlnyIUXXijbt2/X+Ouvv17jSN/4xjc07gc/+IG8//3vz+K4Ss7VcoJb0RlPXuQZCAQCRHwHPJDhuONPSL7JsccmTJFx0QqdDIUydezpDNVyUwn/Jf4zLTuIbTJs3bpVzjzrqWoM88Tm+39zn/zkJz+RH/34x3Lpe94jL/vt/yH//vV/kw99+Aq58LWvUSV48+bNcvzxx8tRq46RB9bcLxf/zd/IO9/+duno6JAbbvilnHvus+XIo1fJg2vXyH/8x3/IeeedJ+sefVTu+vVd8tznnif/9E+flLe//W3yBIxRS0vhG8R1+mw2vwMeqEXRMJoJyh7+TMaLBhvHl+XKyk4X062/GsXy7ud3xDkhNaxRkJUOQaOO0SmvHppWAqbTCFVXjcGMg6Kl6oFYXlcORmk2j58wPoxnE6tYZnHFutzPX99dbTwsfkIN5cr8TCry4Ds8HDaCscUmey59oFYop2PAjClDMb6Cd4KPWVmaoyyNcX5gGlP50IS+srzZwW0lYP3cecBT8I1neV2NgjKRZ/EhgZf3thKX/vVfJF9gX+NA/Q44jWo+jD/66KPV+L7jjjukq6tLfv7zn2fby7/yla/I+eefL1/4whfk7LPP1q3nBA3wgYEBOfTQQ7XcOeeck8WdeOKJmicQCOxfiO+AB/Y7UO3JVZ8DB1R+b7/9thRqHD/72c/ylWgohzSuH3zoIfnSl6+We+65R43vLVu2yMc/8Qn51re+JZ2dnbJr1y557LHHtMhjj22WLZu3yBe/+CVpa2/X/9w3bXpMFU2mHXLIIZrvIx/5R7n8wx/W9Isueot8+ctfrjS+A4H9CGog8V9yPc7CZlB52FeOyyhfIbaVcdKYfppsTEbh+gFjSoyH8VckK0cerNb5pLwZr5Qnk9Nkq4DGqWNE2SrIV9qd7MA4Xe0nJXaZ+anMYEjDq+3UKLiUI5FGegEGGc9yVSiLmwkmM673Baxd1jbr45wCgb0N/794wYIFakTTAL/gggs0jjjssMPUXb16tZx00knqL4LlbrnlFl0Bv/TSS9UgDwQCASJWwAMZ6q2A+wQp6IX7DwrC1NMlsyxFwQt5n/+858nv/u7Lkc4MTHCXgJ+MkUYD+atf/Vf53ve/X1EZlW/m558qi9TCke5GOpX+ZhjOTCMP5vfVJxoCvsJjaSYk3bw8lfuJcuO7Tpv2lxVwb081vM0zRT2+ZdjduspQrH9P8Hd4PTTEfGV4MuxJWcpQrI8r4BriD4iSaxge3Vqd5jxR78wu8ssO+ErbsRXOI01yr7faJXRRWcNWSTHNwWuLXVss79noZGUKchaN1XwFPK/Dr+lKIJ5/qSxzkw8fHmgoyVAkZUswGUJm467ZycHSmE/jp0BZHosDXwsmvlYP69R64VeyLDmKEShmK+CjyOvb1ytRVn/x+inC658KsQK+/+BgWAF3cFs5jXCPu/baa/WclhtvvFENdD5sJ8pWu30VnfkCgcD+h729Ah4GeCDDvt6CniuD00AxMxhUq3oVvKry1mDG6UxAhCqOJQXLeM0W6si03xjgXNUrQYVxNQPU41sDVFNmAOwusvr3EH+HGiP85w95aBBN0nd7UpZ68DrdAFfTMonhhnaLy5zc+ga4GXA1W829PMvBm9WpRl9KA+jTPoJnApKY39IrjMoUR1g4r4++YnoRWbzKQ6JArKcFQfDPNpVZA82W9C3wluYGuI1pzpPp/vCBKBqipfIgqjS+gJz35PkMeZ6ibMW+UYkqWDHfuIyP5vOzKkNp3ZMZ4ERZ24txYYDvPzhQDXC+r/2+971PvvOd72j4ta99rb4aNh0DnHm5XX3Dhg2a74orrtBV8UAgsP8hDPDAPsNxx69OPmL602LWJlI1o1r9LUcxL/JVZ61gVZW3BjNOZwIiVEEsKVjGa7ZQR6YwwBNQTZkBsLvYXw1wx56UqR6aTVD7fKFXn7qJ73wX5a4nn8Xb7pEiC199npAxdZukxfLyX8FA1P4hwc9ymoWGMTzsS+Nv+Ypu9koJCtHHb/yXwfNb+5iHxjf5+u4US7fac3g6y1NeMyYr8/DTh0x3Q9PypvpSHOFx1navrxzV6ZPlL9ZbRIUBXlOc83ICBngaFy1b2XdldY552+FkuZkt5fUHNMV2E87rPRfbVyEC+x4HqgEeCAQOLuxtA7xcywgc5KhUemYNZOt0oKFKUQwkqFKdqAAasEqFfsviijTTfi2pc1axp/nvJthve4scGC6ao4grkl0ajB9H2GmysXYjiyElxNv74Vw1Bi/k1XQG+M+3cyfiwwp9x1oJMaxTs4BvopyPDaTlQ378oRarK61S6yfVEnd/d1uBeHW8LD2aWiQD+fiqsrmWv0jexmIdnlZEFoZT1n9FVJevDjcKlkBJlLX+yCPRf9ocPvSwvnRYmSJZ39LvOXWoM7It7GrwMwHEByH6MCSFWTYQCAQCgcc7wgAPZEg6TglKI2vAXJPm9AxTsSvmmyrvdFDgWcqa8U4WrKDKQBEeUZMwKyit8nECGlNOexN7ut49zf/xBDfqisZW7rHZS68blhpdgowPyA5JM8rjzU+QF+F53QCtzGv5/VA0eDOXNiSKqWt+z5cf8KbGsPuzOORBPE/9tvjEDz9Wl+V1fhbPdMaNYb7Qb/mrYXlcbpO9CKvb4ry+IhXjjU9t/GSYcj4zTY3jXG1ACfAVadE4Ul6etdE+Z5QZ0bbCb0Z1izQnot/CKV3rycmNcCXlkdcfCAQCgcDjEfE/WaAWqvi4S08KFmgyNJpvf8NuyZv6KRAITA1dNDVvDkSYoejGZzXxN/0lg1KJ8czPfx4H49egqUr+AMBdGnpuqFoW/uSgjCSDZkCWStkszHQWZ9jIYbzzONZnZRtDkZduw6fMKVwNbXPKzmLezsZB4zc3csuMXd7l1MyGHPq+uvqb1dB249moWQ1q3VYvrZAjGeDNrWpIF/MXURZXAZZL3kAgEAgEHq8IAzxQAyo4UIOSC/Ifp0JaJWpjiyFPrUezASqcRSJmUlc1D0N5bIayikiBwEGMolHlBirMVn0PuEjjyDKGNKPxbLWXxhz9ZroiDryYonEg5UeiMc1V58z4tvoYb4a2rUIbWRzL+Qo3S7l8tcSVXraB72+bPyca1jTmbau7UcHQ1sPZWpSYtxGwznzFHfUjjv2jIoA83lHRx+yfZhDDKa66/52qUZ3u/WXbBPIymgapOG4TaJ8R22zt1vfi+deENqvF3gJjHMY3+gAZYZLzHX47dM56BvJpfRwnlEU1LKYEP9ObOK7sE+3bQCAQCAQevwgDPDAtUP2ismUwpW4qMFdjOQOBwMEANSQbhK8667ZuGrywv2j+pdQsnXelzGAlJYOxxq/EMsnwTnFFfz3SbeWsvybN+NFPI5QO7cRiHpW24J8azFcnLwxsP5iOyPmS/GA4C49n9+taeLnK8jmpEZ3u3mwfftB+b6uNgY2Llbdt9+xXGO5jozI2MiTjw4MyNtgnI0P9MgoaHhqQ4cEBGRrol77eXunv75deuDt37pQd27fL9m3bZNu2rbJ1C2jrVtmydYvSVsRtQ9r2Hdu13kAgEAgEHq+IU9ADGY4/oXgKeoNQpY2AYpx8prxNHzMqVa9QQcGfTNcvFvd8U8pRnWGyCvY0yhoA7JffAS/rWMicrc5Bea9BIb2I0rwF7O4p67OJij5IKGtTGbQs/8GosTKgOm3T2Gq+KO+1F9PLZNodlEnEGipkSrIwxNVSja0Sw/uFri6curyJWFr/dLWVIeaisWnPkrPyBX8RWXrViexWPhemWFTT07NqKw+/169ljfI+TZIqD5RsRv4Jy6MxqNv9WZ18IuFRCVl+bt0m/5ROP700wFmnXwuaH8a2rjgXwPhmRGpeypjGYXwMRjT+vFpNSv5q0KC2WkVX5imL8xsZHkYlGM9CYRri5MYSjJ/gKjrFYzmma39yFTzxYX5NZ4n68Lyf/PgVKSawrxGnoAcCgQMB8RmywD5DhQFumlEKTA8VpWbIYzJU8k9uNQp63OQq3eQoZV8dOcMKvFhZHZOlEUzXtGKGghwH+2fIyj55pcbHHkSZ8ZAZF1Wo1/5qHi6zGyh6XZbUQ5RFF5tcTG+0K+r1WbWcNKeq85qJWi+vfbaqDMzvZfKylVZlc+Ju6bX5vZQj52P+2vlRXcLg5YqrzVqe4RSVhYG8D+haPP80Hv5mNb75wCDPr2luNSvbJuFBb4y3FWUjluBqdkuqtwhfvSfI26VApJVlXPJbPjKxXL6lO/sUWx24zOx98qAB76icz6yPbbJaSPa4hfXRULd3wPleeM4zBx84+AMnk9WQyY5/YYDvPwgDPBAIHAgIAzywz3DC6hOTL4dOjoISNF1AZUo+YBZnWsaqyLOgy9WqdTNDqcjVkV7ZdNqHMpMVm4ol0zWtmCEVWrR4mRy3+mQL7GOEAT69Ost4EM5Hf+vkMeOuMm1328zylSwsUG2sqb2lGfPMyURGXvUYkEwJfftyPRTbYf4URvmcnTGbavWbcjFM1z+h1aInb+d5aPQ2hKJcySXIv/hOdhHMN6bvUlMO9p3lJ6x/SfY+tMerQV1IJ5jG5GoDnjDeFleE5ee76cbH83i8x5WVrYbn43vvarSn5hb5EhwOBi2vxoBYf8Fg57vhvIZTPivvPFjIy6RKqvCJKz+UfIF9jTDAA4HAgYAwwAP7DG9+25+q6xMC6k/mK4JKEfUic+srSURZWhZXTIOXqyST8XIU6yzmr1ACC/7dQT15PL5YT728ZciVTkN1WU+rx5PpZWn14vcZIEo+j3IU2z4T1Gv7voOt2FXCVgprUX986jWhgk1pnmScVSRiLiSfDQRDHlO0ignE1/B1A4oolmVKbXlra56HvlqZDI3M0WJ/8ixt4+jlLE15I1+xBpp5NPa0/ozYF3mdDFeMl3qLXGph2avKFTDVQwVHefk8jukMlRn0TONzA+2/lM+R9SmfhhSgWStyIuwPH7xIVbgCKSmXm26TjI2Oaohy+sMDk4sPGWy130TycgxYBTTAK+NzkEfGK8HjXIaP/+Pl6gb2PcIADwQCBwL2tgFerUUFDmK0NDcrtYL0EzIZ5d9sdWppIVXmszim29ZCUjG9Jo55EzWBF1elWL8rc5NRka9TWb49QUSZf6Y0Ex5lZfZEH9RDWd4yoo5dGr+bKONZpDJMJ30q2j3QmGB9tVQPFfkYriEYKzBS1PDMyOKMkAk/Hs8t4OY6cUWzmN/KkLf7zbV8peWVv6fx5Gw7PdvDlVQsW06Vh6LlfHKelmd8bEzGCqQHgFEW/NE45KnqyourwFx15T8v6zRmfPSAsTrEfCxcLdt0YUWqRi/xKvL0eVacb0zjavZYagv9trrN1DQ/C385ENJ3yY24BzwNpdLoKL9tnvNxYtDzeBpl0H6Gy6jiNdHM+zjv56jD8ufpVrf5rZ3sw7wfnchU+xft0gpQZ0tLK+5vxlflDwQCgUDgcYz4nyyQgYa3Gt80rJMiVc+oM1THc+WDxnB1vOWvjisSy5nOl8JTUBmqee4uOc9GUV1+MgocrEhWyV5Bsa5k3FTFFWHpRXgZ81e6RFn5sriZw8vTpVfD6qY4plUTfpwcWZqGZg6Tx8gfOkwf9co439SuYgMAjUedto0ehrfnS2TgvYX/rRvxA1/N3O6NkPPj/Uf9zMr7Ee7X/jC1BsiWGfk0iFMcGFTcj8lDCf4cWoF5M7hsk0B5FHlaNBH3z8Dewpo1a8INN9z9xD0QEVvQA4FAIBAIBALTRmxBDwQCBwJiC3ogEAgEAoFAIBAIBAIHIMIADwQCgUAgEAgEAoFAYC8gDPBAIBAIBAKBQCAQCAT2AsIADwQCgUAgEAgEAoFAYC8gDPBAIBAIBAKBQCAQCAT2AsIADwQCgUAgEAgEAoFAYC8gPkM2Cfr7+5MvEAgEAoFAYO+iu7s7+fZPxGfIAoHAgYC9/RmyMMADgUAgEAgEAtNGGOCBQOBAQHwHPBAIBAKBQCAQCAQCgQMQYYAHAoFAIBAIBAKBQCCwFxAGeCAQCAQCgUAgEAgEAnsBYYAHAoFAIBAIBAJV2L59u3zlK19JoX2HwcFBufLKK1WeajCOacwTCAQeHwgDPBAIBAKBQCAQ2I+xdOlSueOOO1IoB+OYFggEHj8IAzwQCAQCgUAgENiPsWTJEl3lXrt2bYoR9TOOaYFA4PGDMMADgUAgEAgEAoFJQEP34osvljPOOEPppptuUgP4G9/4hlxwwQVy4YUX6nZwxnse5nej+TOf+YzGMS/zMD/DLE8wD9MY57yqwbTrr78+hUT9jCvC63cepOq66FbXUy33ddddp3EO5tsftuMHAgcCwgAPBAKBQCAQCAQmwXe/+135zne+k0Ki713v3LlT7rrrLvna174mn/vc5zT+vvvukxtvvFHpda97nXz5y1/WeIJxX/ziF+XrX/+6XHHFFRoeGBiQDRs2yL/8y7+oS3Bb+Re+8AX1F7FgwQJ5whOeoIYxiX7GOWjE33rrrcqX/Mnn0UcflUsuuUTjFi9erHX09PRU5KFxzfY42M5NmzbJtm3bsnfLme/8889XfyAQ2D2EAR4IBAKBQCAQCEwCGq3XXnutGq4kGtzz5s2T3/qt35LOzk7NQ4P11FNPVT9xyCGHSHd3twwNDclTn/pUjWPeZz/72ZnhfNhhh2k6jVvnTbrooos0vRonnXSSGtkk+otgfWvWrNFV7Oc+97myZcsWOfTQQ+XSSy/VuFtuuUVWrFghfX19Gv6DP/gDWblypcr9Z3/2ZxX1v/SlL5VjjjlG+dEIX7RoUYWxHwgEZo4wwAOBQCAQCAQCgSrcf//90tXVpX4arXfeeaf662HhwoVy2223pZDI+vXrpb+/Xzo6OlJMOZhO49i3g08GGvDnnnuuGvRu+Dv4gICr7jSgf/CDH+iKN41mPixg3Hnnnaer5DSuGebKPdtIuX/4wx9mq90OGvRcQacR7v0QCAR2H2GABwKBQCAQCAQCCdyOzRVibhV/wQteoHF0GWY8ie9Jc+W6CN8i7nm4rfz3fu/3Ump90JDm+99ckfay/r52GY4++mg58cQTUygHDemXv/zlWt5XwP19bxKNbObxd8J/53d+R1e5KffZZ58t55xzTpaXW9wpF1fQ+VCBdQYCgdlB03U33TaR/HsdT33yKckXCAQCgUAgEHg84Rc33558ex6hM+4b+EFsp59+urqBwIGIvXkvI2IFPBAIBAKBQCAQCFSAW+J5qFwY34HA7CIM8EAgEAgEAoFAIFABbk1/5StfmUKBQGC2EAZ4IBAIBAKBQCAQCAQCewFhgAcCgUAgEAgEAoFAILAXEAZ4IBAIBAKBQCAQCAQCewFhgAcCgUAgEAgEAoFAILAXEAZ4IBAIBAKBQCAQCAQCewFhgAcCgUAgEAgEAoFAILAXEAb4pLhdLj/jDDmjSJffLrL5GrnoomtkM3JsvuYa5Jo5br/88tryt18urGbvYYtc86lfynkfLNId8quUuvt4SK75/pbk359R3Q+z2QeBQCAQCAQCgUDgYEcY4FPhVZ+VG2+8Mad3nSKy5CVy5ZUvkSUpS+O4Xa65hmb77GJ3HwIo5s+TL737TPmh02va5J8POAMUBvb3H0r+Ojh6ed4H754nP/7qJPnvuEeu2ZT8m+C/I/kDgUAgEAgEAoFAoARhgAfKsex4+SiM8B8/LlauG0Wf/GZr8jaEI+TcRQOyIYWqsWH9SPIFAoFAIBA4ULBmzZpwww13P3EPRDRdd9NtE8m/1/HUJ5+SfPsrbpfLLxd5F1e9K8CV7EPkJS9ZoqvP61/yEmGO2y8/Q/7wasvxtEu+I1ciXbern3+pXKeRT5NXPf8SeRfjE7gFHRVo+Qzcgi7vknedshn1oOT3LpVLlcGr5LM3Wt6Kup52ibzhSsqA/Bedn/Jy8f7GGh6Me/73zpDvPZ9plk9Xhr+6Wc58xfGyIsUYuGLcJy953hHyq6/+Ut71sMWuPm2VfPSQ9fJhOVnecbLFcZv5h78q8o5zB+QtV+2UuzSuSy5/98nyRN2C3gM+i3WluDad9WwWWbtTrthZiOeq8o9H5IqHBxDXIm9/zRL5zVUb5ZsIqQz1+LHcrSLfvTXFH75cfviKHrnmU2sSf5ELzj+zILsjb6+CvH/cJC+QiYq+2fD9O+SXPSJX/JxyAfPmyZdeJvLLmjrJBzxL6v3V9++Rh7eivdqnbNuT5SXLNEsgEAgEAo8L/OLmvfe+3P6vMwYCgccr9ua9jIgV8Klw9R8W3gG/SOruIIfR7AYxcd2llyIvjN/Pi1zi29cveX5KnQa+9z0ysPLfOU6+RwFQFw1o3xb/hqPu1aybr3FD3XD1H6b3yws8aHSf8q6i8d0A7rgjM76Ju259UK5ZdrKcu/6ebHV4w/cH5Fwauf/uxjAxIO+q2MINY/THIhcXt3h/KvFY2yfyshTP7e+p3HdlXspL43unnJvKvn7revkV+dWp77tr83q+tGinXLNpsbzkDcvlAhrGiKs1vhPWbszfAf938HjFcfKSc2FcZ9vLH5JfyiHykrNPli+d1gXDGXW8wYzz2jrZL+vzdoHOvfNm27YO4/s3J3k82vbjKbbGBwKBQCAQCAQCgcc9wgCfChXvgF8phcXrCmx+4Dj5bJbP88L4Ou5p+bviS46S45LXcchx1THEcXLcIcn7/DfkdabyrOv5BQPaeayX58t3KmRIK+tFHtPBps3yG+mRDevb5PJkQBrZau0TYYBu0Hegt8iGQ5bIEwVG9NGrCvlAugrsQPqiJYVV9iPk3PkjZoAfvSRfAV62RF6wyLwvOMnL98ixp81DHYYVi9rwW7++F5ydr1ivOIR5G0TxHfBkWHM7/uH+sAGG+OFceS9BWZ0bpE3OLKxsP/GkdvkN+2zRPHlV9hAAbUvtDQQCgUAgEAgEAgcuwgCfJSw56l75VM3yOKzoe6/T09IVmx8QW6vOseRpIp+qOPL8drn8UyJPm8RgZl3fKxRZf69xPUS+J5+frR0UurV7RM6FsbnikBH557J3wZf1yMO3PgSjdLM8vIxGaY/IWq5M1wPSt27OVs25mvzjHW0FgzwhGf5TY6r6Zg9PxFD+ctMWuWY9/CmuEayQEZRLAeBXdw7LsbHVPBAIBAKBQCAQOCgRBvhs4ZR3yRvuPb+wXZ3bv5fIS55/r5zvcZd+L2UugCeqP/97hXLfk+dPdcL6Ka+V4z7l+c+QTz1gK+BLXnJJRfwZ6VNp1eD74zWfOduxU34/+/wWCMb36/X9bODkk+X1W9fkadnp6IvlJYfslPPu7Eqr1wi/jKen53zeUmG4I/1ckfdl6TvlXF9lrtr6/ao6q8yVmKq+avTIsTusnrd8/z655qJJXimoxskYkR+vl8NPy1f0V8Aov+Iq1lv/tPgVz0Omf8/l+/FJ8a53IBAIBAKBQCBwsCIOYQvsB6g6/GyvgAfWXSpySf3XCioBGUsPqgsEAoFA4OBEHMIWCAQOBMQhbIHAXsESecmVjRrf6TC1c8P4DgQCgUAgEAgEAjNHGOCB/QCL9/Lq9/Sx4nknx9bxQCAQCAQCgUAgsFsIAzwQCAQCgUAgEAgEAoG9gDDAA4FAIBAIBAKBQCAQ2AsIAzwQCAQCgUAgEAgEAoG9gDDAA4FAIBAIBAKBhMHBQbn44ouzz7pecMEFsnbt2pS697B9+3a58MILZywHy1977bUpFAgE9g+I/H+wHMJotrqC7QAAAABJRU5ErkJggg==)\n",
        "### we want to scrape the headline, summary and youtube link for all the posts on this website"
      ],
      "metadata": {
        "id": "k_5FnRnxFUyK"
      }
    },
    {
      "cell_type": "code",
      "source": [
        "soup=BeautifulSoup(source,'lxml')\n",
        "print(soup.prettify())"
      ],
      "metadata": {
        "colab": {
          "base_uri": "https://localhost:8080/"
        },
        "id": "6tXN0NP91HXc",
        "outputId": "25d40d9f-4cd4-42dc-e4d8-761a0a1b64df"
      },
      "execution_count": null,
      "outputs": [
        {
          "output_type": "stream",
          "name": "stdout",
          "text": [
            "<!DOCTYPE html>\n",
            "<html lang=\"en-US\">\n",
            " <head>\n",
            "  <meta charset=\"utf-8\"/>\n",
            "  <meta content=\"width=device-width, initial-scale=1\" name=\"viewport\"/>\n",
            "  <!-- This site is optimized with the Yoast SEO plugin v15.4 - https://yoast.com/wordpress/plugins/seo/ -->\n",
            "  <title>\n",
            "   CoreyMS - Development, Design, DIY, and more\n",
            "  </title>\n",
            "  <meta content=\"Development, Design, DIY, and more\" name=\"description\"/>\n",
            "  <meta content=\"index, follow, max-snippet:-1, max-image-preview:large, max-video-preview:-1\" name=\"robots\"/>\n",
            "  <link href=\"https://coreyms.com/\" rel=\"canonical\"/>\n",
            "  <link href=\"https://coreyms.com/page/2\" rel=\"next\"/>\n",
            "  <meta content=\"en_US\" property=\"og:locale\"/>\n",
            "  <meta content=\"website\" property=\"og:type\"/>\n",
            "  <meta content=\"CoreyMS - Development, Design, DIY, and more\" property=\"og:title\"/>\n",
            "  <meta content=\"Development, Design, DIY, and more\" property=\"og:description\"/>\n",
            "  <meta content=\"https://coreyms.com/\" property=\"og:url\"/>\n",
            "  <meta content=\"CoreyMS\" property=\"og:site_name\"/>\n",
            "  <meta content=\"https://coreyms.com/wp-content/uploads/2014/11/SocialIcon.png\" property=\"og:image\"/>\n",
            "  <meta content=\"800\" property=\"og:image:width\"/>\n",
            "  <meta content=\"800\" property=\"og:image:height\"/>\n",
            "  <meta content=\"summary_large_image\" name=\"twitter:card\"/>\n",
            "  <meta content=\"@CoreyMSchafer\" name=\"twitter:site\"/>\n",
            "  <script class=\"yoast-schema-graph\" type=\"application/ld+json\">\n",
            "   {\"@context\":\"https://schema.org\",\"@graph\":[{\"@type\":\"WebSite\",\"@id\":\"https://coreyms.com/#website\",\"url\":\"https://coreyms.com/\",\"name\":\"CoreyMS\",\"description\":\"Development, Design, DIY, and more\",\"potentialAction\":[{\"@type\":\"SearchAction\",\"target\":\"https://coreyms.com/?s={search_term_string}\",\"query-input\":\"required name=search_term_string\"}],\"inLanguage\":\"en-US\"},{\"@type\":\"CollectionPage\",\"@id\":\"https://coreyms.com/#webpage\",\"url\":\"https://coreyms.com/\",\"name\":\"CoreyMS - Development, Design, DIY, and more\",\"isPartOf\":{\"@id\":\"https://coreyms.com/#website\"},\"description\":\"Development, Design, DIY, and more\",\"inLanguage\":\"en-US\",\"potentialAction\":[{\"@type\":\"ReadAction\",\"target\":[\"https://coreyms.com/\"]}]}]}\n",
            "  </script>\n",
            "  <meta content=\"69D01EB6520B2918B78685B21805C977\" name=\"msvalidate.01\"/>\n",
            "  <meta content=\"cWGcd5qKYyguo-9DC8wgwnOjN0_P9bBazUyRTtHohMU\" name=\"google-site-verification\"/>\n",
            "  <!-- / Yoast SEO plugin. -->\n",
            "  <link href=\"//fonts.googleapis.com\" rel=\"dns-prefetch\"/>\n",
            "  <link href=\"//s.w.org\" rel=\"dns-prefetch\"/>\n",
            "  <link href=\"//v0.wordpress.com\" rel=\"dns-prefetch\"/>\n",
            "  <link href=\"https://coreyms.com/feed\" rel=\"alternate\" title=\"CoreyMS » Feed\" type=\"application/rss+xml\"/>\n",
            "  <link href=\"https://coreyms.com/comments/feed\" rel=\"alternate\" title=\"CoreyMS » Comments Feed\" type=\"application/rss+xml\"/>\n",
            "  <script type=\"text/javascript\">\n",
            "   window._wpemojiSettings = {\"baseUrl\":\"https:\\/\\/s.w.org\\/images\\/core\\/emoji\\/12.0.0-1\\/72x72\\/\",\"ext\":\".png\",\"svgUrl\":\"https:\\/\\/s.w.org\\/images\\/core\\/emoji\\/12.0.0-1\\/svg\\/\",\"svgExt\":\".svg\",\"source\":{\"concatemoji\":\"https:\\/\\/coreyms.com\\/wp-includes\\/js\\/wp-emoji-release.min.js?ver=5.4.10\"}};\n",
            "\t\t\t/*! This file is auto-generated */\n",
            "\t\t\t!function(e,a,t){var n,r,o,i=a.createElement(\"canvas\"),p=i.getContext&&i.getContext(\"2d\");function s(e,t){var a=String.fromCharCode;p.clearRect(0,0,i.width,i.height),p.fillText(a.apply(this,e),0,0);e=i.toDataURL();return p.clearRect(0,0,i.width,i.height),p.fillText(a.apply(this,t),0,0),e===i.toDataURL()}function c(e){var t=a.createElement(\"script\");t.src=e,t.defer=t.type=\"text/javascript\",a.getElementsByTagName(\"head\")[0].appendChild(t)}for(o=Array(\"flag\",\"emoji\"),t.supports={everything:!0,everythingExceptFlag:!0},r=0;r<o.length;r++)t.supports[o[r]]=function(e){if(!p||!p.fillText)return!1;switch(p.textBaseline=\"top\",p.font=\"600 32px Arial\",e){case\"flag\":return s([127987,65039,8205,9895,65039],[127987,65039,8203,9895,65039])?!1:!s([55356,56826,55356,56819],[55356,56826,8203,55356,56819])&&!s([55356,57332,56128,56423,56128,56418,56128,56421,56128,56430,56128,56423,56128,56447],[55356,57332,8203,56128,56423,8203,56128,56418,8203,56128,56421,8203,56128,56430,8203,56128,56423,8203,56128,56447]);case\"emoji\":return!s([55357,56424,55356,57342,8205,55358,56605,8205,55357,56424,55356,57340],[55357,56424,55356,57342,8203,55358,56605,8203,55357,56424,55356,57340])}return!1}(o[r]),t.supports.everything=t.supports.everything&&t.supports[o[r]],\"flag\"!==o[r]&&(t.supports.everythingExceptFlag=t.supports.everythingExceptFlag&&t.supports[o[r]]);t.supports.everythingExceptFlag=t.supports.everythingExceptFlag&&!t.supports.flag,t.DOMReady=!1,t.readyCallback=function(){t.DOMReady=!0},t.supports.everything||(n=function(){t.readyCallback()},a.addEventListener?(a.addEventListener(\"DOMContentLoaded\",n,!1),e.addEventListener(\"load\",n,!1)):(e.attachEvent(\"onload\",n),a.attachEvent(\"onreadystatechange\",function(){\"complete\"===a.readyState&&t.readyCallback()})),(n=t.source||{}).concatemoji?c(n.concatemoji):n.wpemoji&&n.twemoji&&(c(n.twemoji),c(n.wpemoji)))}(window,document,window._wpemojiSettings);\n",
            "  </script>\n",
            "  <style type=\"text/css\">\n",
            "   img.wp-smiley,\n",
            "img.emoji {\n",
            "\tdisplay: inline !important;\n",
            "\tborder: none !important;\n",
            "\tbox-shadow: none !important;\n",
            "\theight: 1em !important;\n",
            "\twidth: 1em !important;\n",
            "\tmargin: 0 .07em !important;\n",
            "\tvertical-align: -0.1em !important;\n",
            "\tbackground: none !important;\n",
            "\tpadding: 0 !important;\n",
            "}\n",
            "  </style>\n",
            "  <link href=\"https://coreyms.com/wp-content/cache/minify/119a3.css\" media=\"all\" rel=\"stylesheet\"/>\n",
            "  <style id=\"wp-block-library-inline-css\" type=\"text/css\">\n",
            "   .has-text-align-justify{text-align:justify;}\n",
            "  </style>\n",
            "  <link href=\"https://coreyms.com/wp-content/cache/minify/4c431.css\" media=\"all\" rel=\"stylesheet\"/>\n",
            "  <link href=\"//fonts.googleapis.com/css?family=Lato%3A300%2C400%2C700%7CVarela+Round&amp;ver=2.1.2\" id=\"google-fonts-css\" media=\"all\" rel=\"stylesheet\" type=\"text/css\"/>\n",
            "  <link href=\"https://coreyms.com/wp-content/cache/minify/95173.css\" media=\"all\" rel=\"stylesheet\"/>\n",
            "  <script src=\"https://coreyms.com/wp-content/cache/minify/df983.js\">\n",
            "  </script>\n",
            "  <!--[if lt IE 9]>\n",
            "<script type='text/javascript' src='https://coreyms.com/wp-content/themes/genesis/lib/js/html5shiv.min.js?ver=3.7.3'></script>\n",
            "<![endif]-->\n",
            "  <link href=\"https://coreyms.com/wp-json/\" rel=\"https://api.w.org/\"/>\n",
            "  <link href=\"https://coreyms.com/xmlrpc.php?rsd\" rel=\"EditURI\" title=\"RSD\" type=\"application/rsd+xml\"/>\n",
            "  <link href=\"https://coreyms.com/wp-includes/wlwmanifest.xml\" rel=\"wlwmanifest\" type=\"application/wlwmanifest+xml\"/>\n",
            "  <meta content=\"WordPress 5.4.10\" name=\"generator\"/>\n",
            "  <link href=\"https://coreyms.com/xmlrpc.php\" rel=\"pingback\"/>\n",
            "  <link href=\"https://plus.google.com/+CoreySchafer44/posts\" rel=\"author\"/>\n",
            "  <link href=\"/apple-touch-icon-57x57.png\" rel=\"apple-touch-icon\" sizes=\"57x57\"/>\n",
            "  <link href=\"/apple-touch-icon-114x114.png\" rel=\"apple-touch-icon\" sizes=\"114x114\"/>\n",
            "  <link href=\"/apple-touch-icon-72x72.png\" rel=\"apple-touch-icon\" sizes=\"72x72\"/>\n",
            "  <link href=\"/apple-touch-icon-144x144.png\" rel=\"apple-touch-icon\" sizes=\"144x144\"/>\n",
            "  <link href=\"/apple-touch-icon-60x60.png\" rel=\"apple-touch-icon\" sizes=\"60x60\"/>\n",
            "  <link href=\"/apple-touch-icon-120x120.png\" rel=\"apple-touch-icon\" sizes=\"120x120\"/>\n",
            "  <link href=\"/apple-touch-icon-76x76.png\" rel=\"apple-touch-icon\" sizes=\"76x76\"/>\n",
            "  <link href=\"/apple-touch-icon-152x152.png\" rel=\"apple-touch-icon\" sizes=\"152x152\"/>\n",
            "  <link href=\"/apple-touch-icon-180x180.png\" rel=\"apple-touch-icon\" sizes=\"180x180\"/>\n",
            "  <link href=\"/favicon-192x192.png\" rel=\"icon\" sizes=\"192x192\" type=\"image/png\"/>\n",
            "  <link href=\"/favicon-160x160.png\" rel=\"icon\" sizes=\"160x160\" type=\"image/png\"/>\n",
            "  <link href=\"/favicon-96x96.png\" rel=\"icon\" sizes=\"96x96\" type=\"image/png\"/>\n",
            "  <link href=\"/favicon-16x16.png\" rel=\"icon\" sizes=\"16x16\" type=\"image/png\"/>\n",
            "  <link href=\"/favicon-32x32.png\" rel=\"icon\" sizes=\"32x32\" type=\"image/png\"/>\n",
            "  <meta content=\"#56616b\" name=\"msapplication-TileColor\"/>\n",
            "  <meta content=\"/mstile-144x144.png\" name=\"msapplication-TileImage\"/>\n",
            "  <script>\n",
            "   (function(i,s,o,g,r,a,m){i['GoogleAnalyticsObject']=r;i[r]=i[r]||function(){\r\n",
            "  (i[r].q=i[r].q||[]).push(arguments)},i[r].l=1*new Date();a=s.createElement(o),\r\n",
            "  m=s.getElementsByTagName(o)[0];a.async=1;a.src=g;m.parentNode.insertBefore(a,m)\r\n",
            "  })(window,document,'script','//www.google-analytics.com/analytics.js','ga');\r\n",
            "  ga('create', 'UA-53634311-1', 'auto');\r\n",
            "  ga('send', 'pageview');\n",
            "  </script>\n",
            " </head>\n",
            " <body class=\"home blog content-sidebar\" itemscope=\"\" itemtype=\"https://schema.org/WebPage\">\n",
            "  <div class=\"site-container\">\n",
            "   <header class=\"site-header\" itemscope=\"\" itemtype=\"https://schema.org/WPHeader\">\n",
            "    <div class=\"wrap\">\n",
            "     <div class=\"title-area\">\n",
            "      <div class=\"site-avatar\">\n",
            "       <a href=\"https://coreyms.com/\">\n",
            "        <svg class=\"site-avatar-svg\" enable-background=\"new 0 0 441.5 441.5\" height=\"150px\" id=\"Layer_1\" version=\"1.1\" viewbox=\"0 0 441.5 441.5\" width=\"150px\" x=\"0px\" xml:space=\"preserve\" xmlns=\"http://www.w3.org/2000/svg\" xmlns:xlink=\"http://www.w3.org/1999/xlink\" y=\"0px\">\n",
            "         <g class=\"site-avatar-background\">\n",
            "          <path d=\"M79.178 390.133C30.781 349.639 0 288.789 0 220.75C0 98.833 98.833 0 220.75 0S441.5 98.833 441.5 220.75 c0 63.558-26.86 120.842-69.848 161.12\" fill=\"#56616B\">\n",
            "          </path>\n",
            "         </g>\n",
            "         <g class=\"site-avatar-foreground\">\n",
            "          <path d=\"M254.602 182.291c0 1.992-0.097 4 0 6c0.057 0.88-0.093 1.952 0.194 2.78c0.22 0.631 0.69 1.12 1.704 1.273 c2.009 0.3 3.436-1.062 4.384-2.719c0.712-1.244 0.863-3.376 1.843-3.807c1.612-0.712 2.646-1.537 3.276-2.44 c1.903-2.732 0.09-6.185-0.723-9.42c-0.29-1.157-1.995-2.036-0.556-3.456c0.801-0.789 1.711-0.981 2.717-0.718 c0.164 0.043 0.33 0.095 0.5 0.162c0.262 0.104 0.505 0.185 0.732 0.249c3.521 0.99 3.182-2.499 3.459-4.337 c0.262-1.728 0.411-3.561-0.128-5.161c-0.413-1.229-1.231-2.321-2.721-3.124c-0.345-0.187-1.271 0.296-1.683 0.7 C260.971 165 252.55 170.8 254.65 182.291H254.602z\" fill=\"#E3E0DD\">\n",
            "          </path>\n",
            "          <path d=\"M121.076 185.062c-0.633 2.075-1.555 4.107-1.326 6.3c1.215 11.7 4.9 22.7 10.4 32.958 c1.692 3.201 3.6 6.4 6.3 8.931c6.878 6.299 15.1 11.5 18.3 21.101c0.697 2.1 2.7 3.799 4.1 5.616c0.797 1.101 7.7 7.5 9.9 9.06 c5.75 4 12.2 2.399 18.3 2.701c3.969 0.19 7.635-0.422 10.23-2.799c1.496-1.371 2.638-3.322 3.271-6.056 c0.378-1.636 1.506-3.308 2.812-4.621c0.372-0.374 0.756-0.724 1.144-1.028c0.236-0.187 0.452-0.393 0.683-0.584 c2.745-2.268 5.197-4.824 7.772-7.193c0.196-0.182 0.395-0.361 0.593-0.541c0.263-0.235 0.516-0.484 0.783-0.715 c2.067-1.778 3.228-4.668 5.456-6.357c0.991-0.751 2.192-1.268 3.781-1.339c4.19-0.188 7.815-1.231 10.56-3.522 c2.112-1.764 3.703-4.267 4.627-7.693c0.437-1.615 2.252-2.815 3.221-4.342c1.367-2.154 1.631-5.814-0.541-5.996 c-5.594-0.462-3.601-4.181-3.784-6.851c-0.224-3.178 0.817-6.237 1.688-9.293c2.23-7.859 2.068-15.447-2.718-22.497 c-1.593-2.346-2.862-4.882-3.588-7.658c-0.304-1.159-0.571-2.27 0.562-2.565c0.258-0.067 0.584-0.093 1.002-0.067 c0.979 0.081 2.138 1.205 2.97 0.79c0.196-0.099 0.377-0.282 0.53-0.589c0.812-1.632-0.619-3.176-1.769-4.355 c-1.974-2.029-2.121-3.545 0.03-5.829c4.014-4.26 2.55-9.908-3.036-11.764c-3.315-1.103-5.812-2.844-8.128-5.404 c-3.221-3.559-7.302-6.113-12.188-4.117c-0.077 0.031-0.152 0.054-0.229 0.087c-4.316 1.881-8.25 4.641-12.839 7.3 c5.969 2.5 11.4 4 17.4 3.326c4.219-0.484 7.9 0.8 10.7 4.1c1.021 1.2 1.1 2.8 0.1 4.197c-0.256 0.386-0.549 0.657-0.873 0.774 c-0.367 0.132-0.774 0.069-1.225-0.274c-4.875-3.503-10.354-1.259-15.552-1.665c-1.768-0.138-4.002 0.686-5.052-1.229 c-0.998-1.819-2.014-2.475-3.065-2.466c-1.199 0.009-2.443 0.886-3.757 1.931c-0.647 0.515-1.219 1.372-2.061 1.577 c-0.304 0.074-0.642 0.067-1.033-0.077c-0.107-2.153 2.641-2.457 2.183-4.465c-2.788-0.657-5.483-0.628-8.281 0.466 c-0.928 0.363-1.869 0.849-2.827 1.464c-0.095 0.061-0.188 0.107-0.283 0.17c0.945-3.138 5.419-5.098 0.606-7.558 c-0.949-0.485 0.189-1.66 1.02-2.292c1.043-0.794 2.321-1.519 2.936-2.594c1.521-2.665 3.594-4.347 5.997-5.363 c1.868-0.791 3.936-1.18 6.098-1.316c4.041-0.255 7.759-1.711 11.647-2.479c0.852-0.168 1.606-0.458 2.265-0.854 c1.858-1.119 2.911-3.136 2.915-6.033c0.009-6.685-2.918-12.743-3.582-19.266c-0.12-1.184-1.234-3.36-3.023-2.574 c-3.523 1.548-5.289-0.921-6.55-2.962c-1.631-2.64-3.149-2.745-4.879-1.815c-0.514 0.276-1.045 0.64-1.605 1.06 c-1.044 0.784-1.544 2.183-2.749 2.872c-0.285 0.163-0.596 0.298-0.977 0.362c-0.388-1.862 1.36-2.985 1.44-4.602 c0.051-1.008-0.054-2.516-1.327-1.745c-0.018 0.011-0.031 0.012-0.05 0.024c-0.144 0.092-0.273 0.166-0.403 0.24 c-2.564 1.457-2.537-0.535-2.866-2.284c-0.325-1.727-1.001-3.345-2.837-3.741c-0.406-0.087-0.729-0.082-0.991-0.007 c-1.147 0.325-1.128 1.968-1.773 2.907c-1.611 2.263-3.115 4.664-6.599 7.237c-0.113 0.083-0.21 0.166-0.328 0.25 c2.371-4.847 3.656-8.487 0.458-12.642c-0.07-0.09-0.129-0.18-0.203-0.271c-0.833 4.386-1.515 8.2-4.973 10.605 c-0.093 0.064-0.18 0.133-0.277 0.195c-1.097-1.5 0.22-3.408-1.72-4.438c-0.012-0.006-0.021-0.014-0.032-0.02 c-0.35 0.452-0.84 0.881-1.076 1.4c-1.153 2.642-1.673 3.754-2.146 4.263c-0.381 0.41-0.731 0.431-1.355 0.537 c-3.99 0.632-4.702-1.837-5.834-4.938c-2.642-7.239-9.918-10.402-14.395-6.815c-0.378 0.303-0.743 0.637-1.077 1.039 c-2.435 2.929-4.771 6.612-5.835 10c-1.345 4.336-3.751 6.76-7.148 8.956c-5.305 3.428-8.463 7.855-7.026 14.6 c0.539 2.542-0.675 4.875-1.846 7.1c-1.875 3.597-0.992 5.7 3.3 5.997c1.991 0.1 4 0.5 6 0.553c4.777 0.2 8.7 1.7 12.6 5 c3.784 3.3 6.8 7.3 10.6 10.378c3.999 3.3 5.2 6.9 4.6 11.811c-0.675 6.117-1.21 12.273-1.305 18.4 c-0.06 3.896-0.854 6.795-4.75 8.389c-1.934 0.791-3.424 2.349-2.862 4.699c0.609 2.5 2.7 3.2 5 3.1 c0.5-0.016 1.015-0.126 1.496-0.042c2.554 0.4 5.5 0.6 2.8 4.468c-0.756 1.058-0.791 2.3 0.8 2.8c1.242 0.4 3 0.2 2.5 2.2 c-0.369 1.521-2.162 1.237-3.3 1.809c-0.792 0.397-1.632 0.577-2.505 0.667c-1.329 0.138-2.731 0.069-4.149 0.233 c-1.444 0.167-2.903 0.575-4.315 1.699c0.827 0.264 1.74 0.504 2.708 0.726c8.333 1.914 20.87 2.433 20.086 3.987 c-0.007 0.015-0.021 0.03-0.031 0.045c-0.02 0.031-0.033 0.061-0.063 0.092h0.009v0.051c-4.351 0.46-8.029 1.064-12.392 1.2 c-1.847 0.066-3.692-0.031-4.682 1.264c-0.246 0.323-0.441 0.728-0.568 1.247c-0.572 2.399 1.2 4.101 2.9 5.399 c1.688 1.302 3.7 2.302 5.3 3.7c2.363 1.9 1.9 4.699 0.9 6.913c-0.278 0.625-0.608 0.995-0.969 1.202 c-1.229 0.705-2.845-0.562-4.213-0.901c-3.906-1.047-5.531-4.397-7.769-7.324c-4.868-6.364-7.044-12.982-16.966-15.704 c-0.459-0.125-0.913-0.253-1.406-0.362c-1.632-0.36-1.601-0.026-1.583-2c0.017-1.846 4.917-0.833 6.5-1.333 c5.514-1.741 5.65-2.834 10.5-4.167c3.46-0.951 2.169-6.663 1.322-10.273c-0.003-0.014-0.007-0.029-0.01-0.043 c-0.104-0.441-0.179-0.878-0.232-1.312c-0.361-2.919 0.352-5.695 1.408-8.45c6.845-10.339 3.558-20.753 4.884-23.425 c0.777-1.565 1.148-2.989 1.094-4.267c-0.092-2.177-1.423-3.929-4.123-5.227c-7.634-3.67-15.45-6.876-23.707-8.9 c-1.792-0.439-3.357-0.107-4.359 1.482c-0.006 0.009-0.013 0.016-0.019 0.025c-1.01 1.628-1.361 3.475-0.355 5.2 c0.944 1.6 2.6 1 4 1c5.133-0.093 10.274-0.174 15.4 0.045c3.086 0.1 3.9 1.8 2.4 4.722c-0.343 0.664-0.82 1.233-1.384 1.709 c-2.594 2.19-7.13 2.328-10.065-0.209c-0.722-0.629-1.141-1.751-2.391-1.317c-0.15 0.052-0.262 0.125-0.365 0.204 c-0.378 0.292-0.477 0.754-0.492 1.357c-0.035 1.376-0.479 2.212-1.139 2.757c-1.51 1.246-4.167 0.963-5.775 2.043 c-1.373 0.908-3.125-1.413-3.536-3.282c-0.312-1.417-0.514-2.734-2.291-2.62c-0.586 0.038-1.049 0.236-1.412 0.534 c-0.625 0.514-0.948 1.329-1.06 2.166c-0.39 2.976-0.977 6.3 0.9 8.741C123.411 174.752 122.676 179.853 121.076 185.062z M211.68 211.557c0.16-0.005 0.319-0.011 0.479-0.017c0.196-0.006 0.401-0.005 0.61 0c1.39 0.026 2.971 0.134 3.738-1.328 c0.028-0.053 0.064-0.089 0.09-0.146c0.049-0.119 0.086-0.232 0.113-0.341c0.398-1.586-1.396-2.169-2.316-3.113 c-0.159-0.163-0.322-0.34-0.462-0.523c-0.389-0.508-0.595-1.069 0.001-1.558c0.515-0.422 1.704-0.564 2.294-0.258 c3.199 1.7 4.7 0.5 5.533-2.735c0.286-1.132 1.02-1.809 1.979-1.574c0.325 0.079 0.677 0.262 1.047 0.568 c2.446 2 4.8 4.2 5.601 7.437c0.483 2 0.5 4.07-1.045 5.7c-1.617 1.698-3.396 0.774-5.011-0.143 c-2.403-1.37-4.178-0.281-5.707 1.436c-3.979 4.466-8.223 8.75-11.737 13.601c-3.714 5.086-8.537 5.843-14.104 5.198 c-0.648-0.075-1.368-0.171-1.786-0.653c-0.114-0.131-0.209-0.285-0.27-0.482c-0.37-1.215 0.587-1.834 1.458-2.285 c2.948-1.527 5.975-2.908 8.896-4.486c1.887-1.021 3.851-2.061 5.402-3.496c1.875-1.738 5.248-3.51 4.134-6.221 c-0.141-0.343-0.323-0.6-0.535-0.794c-1.383-1.272-4.106 0.29-6.09 0.26c-4.13-0.028-8.242-0.928-12.342-0.218h-0.023v-0.073 c0.004-0.002 0.008-0.003 0.012-0.005c0.007-0.003 0.014-0.006 0.021-0.009c0.814-0.378 1.633-0.717 2.458-1.021 c2.471-0.91 4.987-1.504 7.531-1.902c0.032-0.005 0.064-0.011 0.096-0.016c0.033-0.005 0.065-0.009 0.098-0.014 C205.084 211.85 208.374 211.669 211.68 211.557z M194.177 187.948c3.15 2.3 4 6 2.9 6.258h-0.062 c-2.208-0.583-2.876-3.92-5.816-4.751c-0.006-0.001-0.012-0.005-0.018-0.007c-3.767-1.083-9.077-8.666-9.81-13.188 c-0.011-0.066-0.031-0.139-0.04-0.204c-0.012-0.087-0.008-0.164-0.016-0.249c-0.02-0.205-0.042-0.413-0.039-0.601 c0-0.001 0-0.001 0-0.002c0.001-0.067 0.017-0.102 0.025-0.152c0.146-0.854 1.329 0.547 2.516 2.208 c1.004 1.406 2.003 2.98 2.358 3.487c0.982 1.393 1.82 2.389 2.686 3.229C190.297 185.367 191.808 186.328 194.177 187.948z\" fill=\"#E3E0DD\">\n",
            "          </path>\n",
            "          <path d=\"M397.368 309.241c-0.261-0.421-0.515-0.851-0.789-1.251c-0.119-0.172-0.252-0.329-0.374-0.498 c-0.355-0.493-0.713-0.985-1.097-1.449c-1.061-1.284-2.228-2.461-3.529-3.541c-9.653-8.013-20.562-14.354-29.925-22.777 c-5.18-4.66-11.315-8.287-16.289-13.133c-3.436-3.346-6.821-6.178-11.363-7.746c-12.746-4.402-25.297-9.318-37.806-14.363 c-5.212-2.104-8.992-6.655-14.148-8.286c-5.011-1.585-9.368-3.845-13.188-7.062c-1.195-1.008-2.342-2.103-3.436-3.309 c-0.236-0.263-0.504-0.511-0.797-0.736c-1.041-0.805-2.462-1.286-4.507-0.657c2.625 3 6.2 4.898 6.2 8.75 c0.029 10.375-1.518 20.563-4.211 30.575c-0.283 1.058-0.617 2.509-2.144 2.399c-0.126-0.014-0.231-0.047-0.34-0.078 c-1.058-0.322-1.254-1.564-1.737-2.489c-1.168-2.226 0.229-5.108-1.879-7.075c-4.517-4.214-4.992-10.279-7.05-15.604 c-0.729-1.892 0.104-4.437-2.731-5.277c-0.006-0.003-0.013-0.006-0.021-0.008c-2.953-0.86-3.546 1.873-5.052 3.187 c-8.374 7.295-12.026 18.521-21.318 25.2c-8.297 5.931-16.328 12.183-26.8 13.716c-2.79 0.407-5.649 0.323-8.459 0.627 c-1.733 0.188-3.997-0.093-4.459 2.299c-0.365 1.899 1.1 3.102 2.5 3.949c1.73 1 3.1 2.899 4.7 3.578 c3.386 1.398 2.6 2.698 0.7 4.5c-2.543 2.476-3.724 4.93-0.872 8.198c1.765 2.021-0.304 4.5-1.314 5.711 c-0.307 0.367-0.615 0.511-0.923 0.513c-1.023 0.006-2.039-1.625-2.944-2.394c-0.887-0.75-1.582-1.731-2.484-2.459 c-1.267-1.021-2.576-2.888-4.149-2.603c-0.405 0.072-0.826 0.281-1.27 0.691c-2.076 1.9 0 3.9 1.4 5.602 c4.511 5.563 8.05 11.524 8.194 19.838c0 0.056 0.005 0.106 0.006 0.162c-3.156-2.711-6.338-4.35-8.485-7.479 c-1.777-2.588-3.426-5.543-6.256-7.043c-7.64-4.051-12.329-9.996-14.186-18.574c-1.413-6.529-1.927-13.146-3.01-19.693 c-1.136-6.866-2.037-13.854-5.661-20.014c-2.048-3.479-4.663-4.494-8.15-1.59c-3.831 3.191-7.883 6.066-11.413 9.674 c-8.022 8.195-15.606 17.19-26.436 21.801c-11.449 4.848-17.431 13.926-21.416 24.898c-4.198 11.539-5.315 23.633-6.518 35.768 c-1.136 11.451-1.973 22.699 1.5 34c0.259 0.869 0.56 1.72 0.86 2.569c1.22 3.454 2.781 6.741 4.682 9.873 c0.035 0.03 0.07 0.062 0.105 0.09c0.259 0.216 0.513 0.438 0.773 0.653c38.203 31.621 87.228 50.627 140.694 50.627 c53.438 0 102.44-18.985 140.635-50.577c3.521-2.911 6.94-5.938 10.272-9.06c-2.618-3.158-5.301-6.254-8.485-8.67 c-7.959-6.028-17.794-8.264-27.218-11.09c-0.239-0.071-0.48-0.144-0.719-0.215c-0.01-0.004-0.019-0.006-0.026-0.009 c-0.019-0.006-0.035-0.012-0.054-0.019c-0.25-0.076-0.492-0.154-0.724-0.235c-0.029-0.011-0.058-0.021-0.087-0.032 c-0.207-0.074-0.405-0.148-0.598-0.228c-0.136-0.056-0.261-0.113-0.389-0.171c-0.07-0.031-0.144-0.062-0.21-0.094 c-2.793-1.33-3.677-3.312-2.927-7.151c0.733-3.767 2.284-6.832 4.471-9.828c5.71-7.841 12.521-14.705 19.023-21.845 c7.076-7.768 15.928-13.119 25.398-17.319c7.65-3.396 10.099-2.508 15.7 3.799c0.678 0.8 1.1 2.196 3.093 1.354 c0.002-0.002 0.004-0.002 0.007-0.002C397.742 309.809 397.549 309.533 397.368 309.241z\" fill=\"#E3E0DD\">\n",
            "          </path>\n",
            "         </g>\n",
            "        </svg>\n",
            "       </a>\n",
            "      </div>\n",
            "      <h1 class=\"site-title\" itemprop=\"headline\">\n",
            "       <a href=\"https://coreyms.com/\">\n",
            "        CoreyMS\n",
            "       </a>\n",
            "      </h1>\n",
            "      <p class=\"site-description\" itemprop=\"description\">\n",
            "       Development, Design, DIY, and more\n",
            "      </p>\n",
            "      <div class=\"social-links-div\">\n",
            "       <ul>\n",
            "        <li class=\"social-links-li\">\n",
            "         <a class=\"social-link social-youtube\" href=\"https://www.youtube.com/user/schafer5\">\n",
            "          <svg style=\"height: 40px; width: 40px;\" version=\"1.1\" viewbox=\"0 0 100 100\" xmlns=\"http://www.w3.org/2000/svg\" xmlns:xlink=\"http://www.w3.org/1999/xlink\">\n",
            "           <circle class=\"outer-shape\" cx=\"50\" cy=\"50\" r=\"48\">\n",
            "           </circle>\n",
            "           <path class=\"inner-shape\" d=\"M97.284,26.359c-1-5.352-5.456-9.346-10.574-9.839c-12.221-0.784-24.488-1.42-36.731-1.428 c-12.244-0.007-24.464,0.616-36.687,1.388c-5.137,0.497-9.592,4.47-10.589,9.842C1.567,34.058,1,41.869,1,49.678 s0.568,15.619,1.703,23.355c0.996,5.372,5.451,9.822,10.589,10.314c12.226,0.773,24.439,1.561,36.687,1.561 c12.239,0,24.515-0.688,36.731-1.479c5.118-0.497,9.574-5.079,10.574-10.428C98.43,65.278,99,57.477,99,49.676 C99,41.88,98.428,34.083,97.284,26.359z M38.89,63.747V35.272l26.52,14.238L38.89,63.747z\" style=\"opacity: 1; fill: rgb(255, 255, 255);\" transform=\"translate(25,25) scale(0.5)\">\n",
            "           </path>\n",
            "          </svg>\n",
            "         </a>\n",
            "        </li>\n",
            "        <li class=\"social-links-li\">\n",
            "         <a class=\"social-link social-github\" href=\"https://github.com/CoreyMSchafer\">\n",
            "          <svg style=\"height: 40px; width: 40px;\" version=\"1.1\" viewbox=\"0 0 100 100\" xmlns=\"http://www.w3.org/2000/svg\" xmlns:xlink=\"http://www.w3.org/1999/xlink\">\n",
            "           <circle class=\"outer-shape\" cx=\"50\" cy=\"50\" r=\"48\">\n",
            "           </circle>\n",
            "           <path class=\"inner-shape\" d=\"M50,1C22.938,1,1,22.938,1,50s21.938,49,49,49s49-21.938,49-49S77.062,1,50,1z M79.099,79.099 c-3.782,3.782-8.184,6.75-13.083,8.823c-1.245,0.526-2.509,0.989-3.79,1.387v-7.344c0-3.86-1.324-6.699-3.972-8.517 c1.659-0.16,3.182-0.383,4.57-0.67c1.388-0.287,2.855-0.702,4.402-1.245c1.547-0.543,2.935-1.189,4.163-1.938 c1.228-0.75,2.409-1.723,3.541-2.919s2.082-2.552,2.847-4.067s1.372-3.334,1.818-5.455c0.446-2.121,0.67-4.458,0.67-7.01 c0-4.945-1.611-9.155-4.833-12.633c1.467-3.828,1.308-7.991-0.478-12.489l-1.197-0.143c-0.829-0.096-2.321,0.255-4.474,1.053 c-2.153,0.798-4.57,2.105-7.249,3.924c-3.797-1.053-7.736-1.579-11.82-1.579c-4.115,0-8.039,0.526-11.772,1.579 c-1.69-1.149-3.294-2.097-4.809-2.847c-1.515-0.75-2.727-1.26-3.637-1.532c-0.909-0.271-1.754-0.439-2.536-0.503 c-0.782-0.064-1.284-0.079-1.507-0.048c-0.223,0.031-0.383,0.064-0.478,0.096c-1.787,4.53-1.946,8.694-0.478,12.489 c-3.222,3.477-4.833,7.688-4.833,12.633c0,2.552,0.223,4.889,0.67,7.01c0.447,2.121,1.053,3.94,1.818,5.455 c0.765,1.515,1.715,2.871,2.847,4.067s2.313,2.169,3.541,2.919c1.228,0.751,2.616,1.396,4.163,1.938 c1.547,0.543,3.014,0.957,4.402,1.245c1.388,0.287,2.911,0.511,4.57,0.67c-2.616,1.787-3.924,4.626-3.924,8.517v7.487 c-1.445-0.43-2.869-0.938-4.268-1.53c-4.899-2.073-9.301-5.041-13.083-8.823c-3.782-3.782-6.75-8.184-8.823-13.083 C9.934,60.948,8.847,55.56,8.847,50s1.087-10.948,3.231-16.016c2.073-4.899,5.041-9.301,8.823-13.083s8.184-6.75,13.083-8.823 C39.052,9.934,44.44,8.847,50,8.847s10.948,1.087,16.016,3.231c4.9,2.073,9.301,5.041,13.083,8.823 c3.782,3.782,6.75,8.184,8.823,13.083c2.143,5.069,3.23,10.457,3.23,16.016s-1.087,10.948-3.231,16.016 C85.848,70.915,82.88,75.317,79.099,79.099L79.099,79.099z\" style=\"opacity: 1; fill: rgb(255, 255, 255);\" transform=\"translate(25,25) scale(0.5)\">\n",
            "           </path>\n",
            "          </svg>\n",
            "         </a>\n",
            "        </li>\n",
            "        <li class=\"social-links-li\">\n",
            "         <a class=\"social-link social-gplus\" href=\"https://plus.google.com/+CoreySchafer44/posts\" title=\"YouTube\">\n",
            "          <svg style=\"height: 40px; width: 40px;\" version=\"1.1\" viewbox=\"0 0 100 100\" xmlns=\"http://www.w3.org/2000/svg\" xmlns:xlink=\"http://www.w3.org/1999/xlink\">\n",
            "           <circle class=\"outer-shape\" cx=\"50\" cy=\"50\" r=\"48\">\n",
            "           </circle>\n",
            "           <path class=\"inner-shape\" d=\"M1.079,84.227c-0.024-0.242-0.043-0.485-0.056-0.73C1.036,83.742,1.055,83.985,1.079,84.227z M23.578,55.086 c8.805,0.262,14.712-8.871,13.193-20.402c-1.521-11.53-9.895-20.783-18.701-21.046C9.264,13.376,3.357,22.2,4.878,33.734 C6.398,45.262,14.769,54.823,23.578,55.086z M98.999,25.501v-8.164c0-8.984-7.348-16.335-16.332-16.335H17.336 c-8.831,0-16.078,7.104-16.323,15.879c5.585-4.917,13.333-9.026,21.329-9.026c8.546,0,34.188,0,34.188,0l-7.651,6.471H38.039 c7.19,2.757,11.021,11.113,11.021,19.687c0,7.201-4.001,13.393-9.655,17.797c-5.516,4.297-6.562,6.096-6.562,9.749 c0,3.117,5.909,8.422,8.999,10.602c9.032,6.368,11.955,12.279,11.955,22.15c0,1.572-0.195,3.142-0.58,4.685h29.451 C91.652,98.996,99,91.651,99,82.661V31.625H80.626v18.374h-6.125V31.625H56.127V25.5h18.374V7.127h6.125V25.5H99L98.999,25.501z M18.791,74.301c2.069,0,3.964-0.057,5.927-0.057c-2.598-2.52-4.654-5.608-4.654-9.414c0-2.259,0.724-4.434,1.736-6.366 c-1.032,0.073-2.085,0.095-3.17,0.095c-7.116,0-13.159-2.304-17.629-6.111v6.435l0.001,19.305 C6.116,75.76,12.188,74.301,18.791,74.301L18.791,74.301z M1.329,85.911c-0.107-0.522-0.188-1.053-0.243-1.591 C1.141,84.858,1.223,85.389,1.329,85.911z M44.589,92.187c-1.442-5.628-6.551-8.418-13.675-13.357 c-2.591-0.836-5.445-1.328-8.507-1.36c-8.577-0.092-16.566,3.344-21.074,8.457c1.524,7.436,8.138,13.068,16.004,13.068h27.413 c0.173-1.065,0.258-2.166,0.258-3.295C45.007,94.502,44.86,93.329,44.589,92.187z\" style=\"opacity: 1; fill: rgb(255, 255, 255);\" transform=\"translate(25,25) scale(0.5)\">\n",
            "           </path>\n",
            "          </svg>\n",
            "         </a>\n",
            "        </li>\n",
            "        <li class=\"social-links-li\">\n",
            "         <a class=\"social-link social-twitter\" href=\"https://twitter.com/CoreyMSchafer\">\n",
            "          <svg style=\"height: 40px; width: 40px;\" version=\"1.1\" viewbox=\"0 0 100 100\" xmlns=\"http://www.w3.org/2000/svg\" xmlns:xlink=\"http://www.w3.org/1999/xlink\">\n",
            "           <circle class=\"outer-shape\" cx=\"50\" cy=\"50\" r=\"48\">\n",
            "           </circle>\n",
            "           <path class=\"inner-shape\" d=\"M99.001,19.428c-3.606,1.608-7.48,2.695-11.547,3.184c4.15-2.503,7.338-6.466,8.841-11.189 c-3.885,2.318-8.187,4-12.768,4.908c-3.667-3.931-8.893-6.387-14.676-6.387c-11.104,0-20.107,9.054-20.107,20.223 c0,1.585,0.177,3.128,0.52,4.609c-16.71-0.845-31.525-8.895-41.442-21.131C6.092,16.633,5.1,20.107,5.1,23.813 c0,7.017,3.55,13.208,8.945,16.834c-3.296-0.104-6.397-1.014-9.106-2.529c-0.002,0.085-0.002,0.17-0.002,0.255 c0,9.799,6.931,17.972,16.129,19.831c-1.688,0.463-3.463,0.71-5.297,0.71c-1.296,0-2.555-0.127-3.783-0.363 c2.559,8.034,9.984,13.882,18.782,14.045c-6.881,5.424-15.551,8.657-24.971,8.657c-1.623,0-3.223-0.096-4.796-0.282 c8.898,5.738,19.467,9.087,30.82,9.087c36.982,0,57.206-30.817,57.206-57.543c0-0.877-0.02-1.748-0.059-2.617 C92.896,27.045,96.305,23.482,99.001,19.428z\" style=\"opacity: 1; fill: rgb(255, 255, 255);\" transform=\"translate(25,25) scale(0.5)\">\n",
            "           </path>\n",
            "          </svg>\n",
            "         </a>\n",
            "        </li>\n",
            "        <li class=\"social-links-li\">\n",
            "         <a class=\"social-link social-linkedin\" href=\"https://www.instagram.com/coreymschafer/\">\n",
            "          <svg style=\"height: 40px; width: 40px;\" version=\"1.1\" viewbox=\"0 0 100 100\" xmlns=\"http://www.w3.org/2000/svg\" xmlns:xlink=\"http://www.w3.org/1999/xlink\">\n",
            "           <circle class=\"outer-shape\" cx=\"50\" cy=\"50\" r=\"48\">\n",
            "           </circle>\n",
            "           <path class=\"inner-shape\" d=\"M88.2,1H11.8C5.85,1,1.026,5.827,1.026,11.781V88.22C1.026,94.174,5.85,99,11.8,99H88.2c5.95,0,10.774-4.826,10.774-10.78 V11.781C98.973,5.827,94.149,1,88.2,1z M49.946,31.184c10.356,0,18.752,8.4,18.752,18.762c0,10.361-8.396,18.761-18.752,18.761 s-18.752-8.4-18.752-18.761S39.589,31.184,49.946,31.184z M87.513,83.615c0,2.165-1.753,3.919-3.917,3.919H16.341 c-2.164,0-3.917-1.755-3.917-3.919v-41.06h8.508c-0.589,2.35-0.904,4.807-0.904,7.34c0,16.612,13.459,30.079,30.063,30.079 s30.063-13.466,30.063-30.079c0-2.533-0.315-4.99-0.904-7.34h8.263L87.513,83.615L87.513,83.615z M87.764,27.124 c0,2.165-1.754,3.919-3.918,3.919H72.723c-2.164,0-3.917-1.755-3.917-3.919v-11.13c0-2.165,1.754-3.919,3.917-3.919h11.123 c2.165,0,3.918,1.755,3.918,3.919V27.124z\" style=\"opacity: 1; fill: rgb(255, 255, 255);\" transform=\"translate(25,25) scale(0.5)\">\n",
            "           </path>\n",
            "          </svg>\n",
            "         </a>\n",
            "        </li>\n",
            "        <li class=\"social-links-li\">\n",
            "         <a class=\"social-link social-rss\" href=\"http://coreyms.com/feed/\">\n",
            "          <svg style=\"height: 40px; width: 40px;\" version=\"1.1\" viewbox=\"0 0 100 100\" xmlns=\"http://www.w3.org/2000/svg\" xmlns:xlink=\"http://www.w3.org/1999/xlink\">\n",
            "           <circle class=\"outer-shape\" cx=\"50\" cy=\"50\" r=\"48\">\n",
            "           </circle>\n",
            "           <path class=\"inner-shape\" d=\"M14.044,72.866C6.848,72.866,1,78.736,1,85.889c0,7.192,5.848,12.997,13.044,12.997c7.223,0,13.062-5.804,13.062-12.997 C27.106,78.736,21.267,72.866,14.044,72.866z M1.015,34.299v18.782c12.229,0,23.73,4.782,32.392,13.447 C42.057,75.172,46.832,86.725,46.832,99h18.865C65.697,63.321,36.672,34.3,1.015,34.299L1.015,34.299z M1.038,1v18.791 C44.657,19.792,80.16,55.329,80.16,99H99C99,44.979,55.048,1,1.038,1z\" style=\"opacity: 1; fill: rgb(255, 255, 255);\" transform=\"translate(25,25) scale(0.5)\">\n",
            "           </path>\n",
            "          </svg>\n",
            "         </a>\n",
            "        </li>\n",
            "       </ul>\n",
            "      </div>\n",
            "     </div>\n",
            "     <div class=\"widget-area header-widget-area\">\n",
            "      <section class=\"widget widget_nav_menu\" id=\"nav_menu-2\">\n",
            "       <div class=\"widget-wrap\">\n",
            "        <nav class=\"nav-header\" itemscope=\"\" itemtype=\"https://schema.org/SiteNavigationElement\">\n",
            "         <ul class=\"menu genesis-nav-menu js-superfish\" id=\"menu-contact-menu\">\n",
            "          <li class=\"menu-item menu-item-type-post_type menu-item-object-page menu-item-984\" id=\"menu-item-984\">\n",
            "           <a href=\"https://coreyms.com/contact\" itemprop=\"url\">\n",
            "            <span itemprop=\"name\">\n",
            "             Contact\n",
            "            </span>\n",
            "           </a>\n",
            "          </li>\n",
            "          <li class=\"menu-item menu-item-type-custom menu-item-object-custom menu-item-153\" id=\"menu-item-153\">\n",
            "           <a href=\"http://coreyms.com/portfolio\" itemprop=\"url\" title=\"Portfolio\">\n",
            "            <span itemprop=\"name\">\n",
            "             Portfolio\n",
            "            </span>\n",
            "           </a>\n",
            "          </li>\n",
            "         </ul>\n",
            "        </nav>\n",
            "       </div>\n",
            "      </section>\n",
            "     </div>\n",
            "    </div>\n",
            "   </header>\n",
            "   <nav aria-label=\"Main\" class=\"nav-primary\" itemscope=\"\" itemtype=\"https://schema.org/SiteNavigationElement\">\n",
            "    <div class=\"wrap\">\n",
            "     <ul class=\"menu genesis-nav-menu menu-primary js-superfish\" id=\"menu-primary-navigation\">\n",
            "      <li class=\"menu-item menu-item-type-taxonomy menu-item-object-category menu-item-has-children menu-item-124\" id=\"menu-item-124\">\n",
            "       <a href=\"https://coreyms.com/category/development\" itemprop=\"url\" title=\"Development\">\n",
            "        <span itemprop=\"name\">\n",
            "         Development\n",
            "        </span>\n",
            "       </a>\n",
            "       <ul class=\"sub-menu\">\n",
            "        <li class=\"menu-item menu-item-type-taxonomy menu-item-object-category menu-item-1070\" id=\"menu-item-1070\">\n",
            "         <a href=\"https://coreyms.com/category/development/python\" itemprop=\"url\">\n",
            "          <span itemprop=\"name\">\n",
            "           Python\n",
            "          </span>\n",
            "         </a>\n",
            "        </li>\n",
            "        <li class=\"menu-item menu-item-type-taxonomy menu-item-object-category menu-item-1105\" id=\"menu-item-1105\">\n",
            "         <a href=\"https://coreyms.com/category/development/git\" itemprop=\"url\">\n",
            "          <span itemprop=\"name\">\n",
            "           Git\n",
            "          </span>\n",
            "         </a>\n",
            "        </li>\n",
            "        <li class=\"menu-item menu-item-type-taxonomy menu-item-object-category menu-item-1106\" id=\"menu-item-1106\">\n",
            "         <a href=\"https://coreyms.com/category/development/terminal\" itemprop=\"url\">\n",
            "          <span itemprop=\"name\">\n",
            "           Terminal\n",
            "          </span>\n",
            "         </a>\n",
            "        </li>\n",
            "        <li class=\"menu-item menu-item-type-taxonomy menu-item-object-category menu-item-803\" id=\"menu-item-803\">\n",
            "         <a href=\"https://coreyms.com/category/development/javascript\" itemprop=\"url\" title=\"JavaScript\">\n",
            "          <span itemprop=\"name\">\n",
            "           JavaScript\n",
            "          </span>\n",
            "         </a>\n",
            "        </li>\n",
            "        <li class=\"menu-item menu-item-type-taxonomy menu-item-object-category menu-item-1072\" id=\"menu-item-1072\">\n",
            "         <a href=\"https://coreyms.com/category/development/wordpress\" itemprop=\"url\">\n",
            "          <span itemprop=\"name\">\n",
            "           WordPress\n",
            "          </span>\n",
            "         </a>\n",
            "        </li>\n",
            "       </ul>\n",
            "      </li>\n",
            "      <li class=\"menu-item menu-item-type-taxonomy menu-item-object-category menu-item-has-children menu-item-125\" id=\"menu-item-125\">\n",
            "       <a href=\"https://coreyms.com/category/web-design\" itemprop=\"url\" title=\"Design\">\n",
            "        <span itemprop=\"name\">\n",
            "         Design\n",
            "        </span>\n",
            "       </a>\n",
            "       <ul class=\"sub-menu\">\n",
            "        <li class=\"menu-item menu-item-type-taxonomy menu-item-object-category menu-item-801\" id=\"menu-item-801\">\n",
            "         <a href=\"https://coreyms.com/category/web-design/css\" itemprop=\"url\" title=\"CSS\">\n",
            "          <span itemprop=\"name\">\n",
            "           CSS\n",
            "          </span>\n",
            "         </a>\n",
            "        </li>\n",
            "       </ul>\n",
            "      </li>\n",
            "      <li class=\"menu-item menu-item-type-taxonomy menu-item-object-category menu-item-has-children menu-item-804\" id=\"menu-item-804\">\n",
            "       <a href=\"https://coreyms.com/category/diy\" itemprop=\"url\" title=\"DIY\">\n",
            "        <span itemprop=\"name\">\n",
            "         DIY\n",
            "        </span>\n",
            "       </a>\n",
            "       <ul class=\"sub-menu\">\n",
            "        <li class=\"menu-item menu-item-type-taxonomy menu-item-object-category menu-item-805\" id=\"menu-item-805\">\n",
            "         <a href=\"https://coreyms.com/category/diy/woodworking\" itemprop=\"url\" title=\"Woodworking\">\n",
            "          <span itemprop=\"name\">\n",
            "           Woodworking\n",
            "          </span>\n",
            "         </a>\n",
            "        </li>\n",
            "        <li class=\"menu-item menu-item-type-taxonomy menu-item-object-category menu-item-806\" id=\"menu-item-806\">\n",
            "         <a href=\"https://coreyms.com/category/diy/home-improvement\" itemprop=\"url\" title=\"Home Improvement\">\n",
            "          <span itemprop=\"name\">\n",
            "           Home Improvement\n",
            "          </span>\n",
            "         </a>\n",
            "        </li>\n",
            "       </ul>\n",
            "      </li>\n",
            "      <li class=\"right menu-item menu-item-type-post_type menu-item-object-page menu-item-1154\" id=\"menu-item-1154\">\n",
            "       <a href=\"https://coreyms.com/contributors\" itemprop=\"url\" title=\"Contributors\">\n",
            "        <span itemprop=\"name\">\n",
            "         Contributors\n",
            "        </span>\n",
            "       </a>\n",
            "      </li>\n",
            "      <li class=\"right menu-item menu-item-type-post_type menu-item-object-page menu-item-898\" id=\"menu-item-898\">\n",
            "       <a href=\"https://coreyms.com/support\" itemprop=\"url\" title=\"Support\">\n",
            "        <span itemprop=\"name\">\n",
            "         Support\n",
            "        </span>\n",
            "       </a>\n",
            "      </li>\n",
            "      <li class=\"right menu-item menu-item-type-post_type menu-item-object-page menu-item-1260\" id=\"menu-item-1260\">\n",
            "       <a href=\"https://coreyms.com/giveaway\" itemprop=\"url\">\n",
            "        <span itemprop=\"name\">\n",
            "         Giveaway\n",
            "        </span>\n",
            "       </a>\n",
            "      </li>\n",
            "     </ul>\n",
            "    </div>\n",
            "   </nav>\n",
            "   <div class=\"site-inner\">\n",
            "    <div class=\"content-sidebar-wrap\">\n",
            "     <main class=\"content\">\n",
            "      <article class=\"post-1670 post type-post status-publish format-standard has-post-thumbnail category-development category-python tag-gzip tag-shutil tag-zip tag-zipfile entry\" itemscope=\"\" itemtype=\"https://schema.org/CreativeWork\">\n",
            "       <header class=\"entry-header\">\n",
            "        <h2 class=\"entry-title\" itemprop=\"headline\">\n",
            "         <a class=\"entry-title-link\" href=\"https://coreyms.com/development/python/python-tutorial-zip-files-creating-and-extracting-zip-archives\" rel=\"bookmark\">\n",
            "          Python Tutorial: Zip Files – Creating and Extracting Zip Archives\n",
            "         </a>\n",
            "        </h2>\n",
            "        <p class=\"entry-meta\">\n",
            "         <time class=\"entry-time\" datetime=\"2019-11-19T13:02:37-05:00\" itemprop=\"datePublished\">\n",
            "          November 19, 2019\n",
            "         </time>\n",
            "         by\n",
            "         <span class=\"entry-author\" itemprop=\"author\" itemscope=\"\" itemtype=\"https://schema.org/Person\">\n",
            "          <a class=\"entry-author-link\" href=\"https://coreyms.com/author/coreymschafer\" itemprop=\"url\" rel=\"author\">\n",
            "           <span class=\"entry-author-name\" itemprop=\"name\">\n",
            "            Corey Schafer\n",
            "           </span>\n",
            "          </a>\n",
            "         </span>\n",
            "         <span class=\"entry-comments-link\">\n",
            "          <a href=\"https://coreyms.com/development/python/python-tutorial-zip-files-creating-and-extracting-zip-archives#respond\">\n",
            "           <span class=\"dsq-postid\" data-dsqidentifier=\"1670 http://coreyms.com/?p=1670\">\n",
            "            Leave a Comment\n",
            "           </span>\n",
            "          </a>\n",
            "         </span>\n",
            "        </p>\n",
            "       </header>\n",
            "       <div class=\"entry-content\" itemprop=\"text\">\n",
            "        <p>\n",
            "         In this video, we will be learning how to create and extract zip archives. We will start by using the zipfile module, and then we will see how to do this using the shutil module. We will learn how to do this with single files and directories, as well as learning how to use gzip as well. Let’s get started…\n",
            "         <br/>\n",
            "        </p>\n",
            "        <span class=\"embed-youtube\" style=\"text-align:center; display: block;\">\n",
            "         <iframe allowfullscreen=\"true\" class=\"youtube-player\" height=\"360\" sandbox=\"allow-scripts allow-same-origin allow-popups allow-presentation\" src=\"https://www.youtube.com/embed/z0gguhEmWiY?version=3&amp;rel=1&amp;showsearch=0&amp;showinfo=1&amp;iv_load_policy=1&amp;fs=1&amp;hl=en-US&amp;autohide=2&amp;wmode=transparent\" style=\"border:0;\" width=\"640\">\n",
            "         </iframe>\n",
            "        </span>\n",
            "       </div>\n",
            "       <footer class=\"entry-footer\">\n",
            "        <p class=\"entry-meta\">\n",
            "         <span class=\"entry-categories\">\n",
            "          Filed Under:\n",
            "          <a href=\"https://coreyms.com/category/development\" rel=\"category tag\">\n",
            "           Development\n",
            "          </a>\n",
            "          ,\n",
            "          <a href=\"https://coreyms.com/category/development/python\" rel=\"category tag\">\n",
            "           Python\n",
            "          </a>\n",
            "         </span>\n",
            "         <span class=\"entry-tags\">\n",
            "          Tagged With:\n",
            "          <a href=\"https://coreyms.com/tag/gzip\" rel=\"tag\">\n",
            "           gzip\n",
            "          </a>\n",
            "          ,\n",
            "          <a href=\"https://coreyms.com/tag/shutil\" rel=\"tag\">\n",
            "           shutil\n",
            "          </a>\n",
            "          ,\n",
            "          <a href=\"https://coreyms.com/tag/zip\" rel=\"tag\">\n",
            "           zip\n",
            "          </a>\n",
            "          ,\n",
            "          <a href=\"https://coreyms.com/tag/zipfile\" rel=\"tag\">\n",
            "           zipfile\n",
            "          </a>\n",
            "         </span>\n",
            "        </p>\n",
            "       </footer>\n",
            "      </article>\n",
            "      <article class=\"post-1665 post type-post status-publish format-standard has-post-thumbnail category-development category-python tag-data-analysis tag-data-science tag-stack-overflow entry\" itemscope=\"\" itemtype=\"https://schema.org/CreativeWork\">\n",
            "       <header class=\"entry-header\">\n",
            "        <h2 class=\"entry-title\" itemprop=\"headline\">\n",
            "         <a class=\"entry-title-link\" href=\"https://coreyms.com/development/python/python-data-science-tutorial-analyzing-the-2019-stack-overflow-developer-survey\" rel=\"bookmark\">\n",
            "          Python Data Science Tutorial: Analyzing the 2019 Stack Overflow Developer Survey\n",
            "         </a>\n",
            "        </h2>\n",
            "        <p class=\"entry-meta\">\n",
            "         <time class=\"entry-time\" datetime=\"2019-10-17T12:35:51-04:00\" itemprop=\"datePublished\">\n",
            "          October 17, 2019\n",
            "         </time>\n",
            "         by\n",
            "         <span class=\"entry-author\" itemprop=\"author\" itemscope=\"\" itemtype=\"https://schema.org/Person\">\n",
            "          <a class=\"entry-author-link\" href=\"https://coreyms.com/author/coreymschafer\" itemprop=\"url\" rel=\"author\">\n",
            "           <span class=\"entry-author-name\" itemprop=\"name\">\n",
            "            Corey Schafer\n",
            "           </span>\n",
            "          </a>\n",
            "         </span>\n",
            "         <span class=\"entry-comments-link\">\n",
            "          <a href=\"https://coreyms.com/development/python/python-data-science-tutorial-analyzing-the-2019-stack-overflow-developer-survey#respond\">\n",
            "           <span class=\"dsq-postid\" data-dsqidentifier=\"1665 http://coreyms.com/?p=1665\">\n",
            "            Leave a Comment\n",
            "           </span>\n",
            "          </a>\n",
            "         </span>\n",
            "        </p>\n",
            "       </header>\n",
            "       <div class=\"entry-content\" itemprop=\"text\">\n",
            "        <p>\n",
            "         In this Python Programming video, we will be learning how to download and analyze real-world data from the 2019 Stack Overflow Developer Survey. This is terrific practice for anyone getting into the data science field. We will learn different ways to analyze this data and also some best practices. Let’s get started…\n",
            "        </p>\n",
            "        <figure class=\"wp-block-embed-youtube wp-block-embed is-type-video is-provider-youtube wp-embed-aspect-16-9 wp-has-aspect-ratio\">\n",
            "         <div class=\"wp-block-embed__wrapper\">\n",
            "          <span class=\"embed-youtube\" style=\"text-align:center; display: block;\">\n",
            "           <iframe allowfullscreen=\"true\" class=\"youtube-player\" height=\"360\" sandbox=\"allow-scripts allow-same-origin allow-popups allow-presentation\" src=\"https://www.youtube.com/embed/_P7X8tMplsw?version=3&amp;rel=1&amp;showsearch=0&amp;showinfo=1&amp;iv_load_policy=1&amp;fs=1&amp;hl=en-US&amp;autohide=2&amp;wmode=transparent\" style=\"border:0;\" width=\"640\">\n",
            "           </iframe>\n",
            "          </span>\n",
            "         </div>\n",
            "        </figure>\n",
            "       </div>\n",
            "       <footer class=\"entry-footer\">\n",
            "        <p class=\"entry-meta\">\n",
            "         <span class=\"entry-categories\">\n",
            "          Filed Under:\n",
            "          <a href=\"https://coreyms.com/category/development\" rel=\"category tag\">\n",
            "           Development\n",
            "          </a>\n",
            "          ,\n",
            "          <a href=\"https://coreyms.com/category/development/python\" rel=\"category tag\">\n",
            "           Python\n",
            "          </a>\n",
            "         </span>\n",
            "         <span class=\"entry-tags\">\n",
            "          Tagged With:\n",
            "          <a href=\"https://coreyms.com/tag/data-analysis\" rel=\"tag\">\n",
            "           data analysis\n",
            "          </a>\n",
            "          ,\n",
            "          <a href=\"https://coreyms.com/tag/data-science\" rel=\"tag\">\n",
            "           Data Science\n",
            "          </a>\n",
            "          ,\n",
            "          <a href=\"https://coreyms.com/tag/stack-overflow\" rel=\"tag\">\n",
            "           stack overflow\n",
            "          </a>\n",
            "         </span>\n",
            "        </p>\n",
            "       </footer>\n",
            "      </article>\n",
            "      <article class=\"post-1661 post type-post status-publish format-standard has-post-thumbnail category-development category-python tag-asynchronous tag-concurrent-futures tag-multiprocessing tag-parallel tag-threading entry\" itemscope=\"\" itemtype=\"https://schema.org/CreativeWork\">\n",
            "       <header class=\"entry-header\">\n",
            "        <h2 class=\"entry-title\" itemprop=\"headline\">\n",
            "         <a class=\"entry-title-link\" href=\"https://coreyms.com/development/python/python-multiprocessing-tutorial-run-code-in-parallel-using-the-multiprocessing-module\" rel=\"bookmark\">\n",
            "          Python Multiprocessing Tutorial: Run Code in Parallel Using the Multiprocessing Module\n",
            "         </a>\n",
            "        </h2>\n",
            "        <p class=\"entry-meta\">\n",
            "         <time class=\"entry-time\" datetime=\"2019-09-21T10:59:18-04:00\" itemprop=\"datePublished\">\n",
            "          September 21, 2019\n",
            "         </time>\n",
            "         by\n",
            "         <span class=\"entry-author\" itemprop=\"author\" itemscope=\"\" itemtype=\"https://schema.org/Person\">\n",
            "          <a class=\"entry-author-link\" href=\"https://coreyms.com/author/coreymschafer\" itemprop=\"url\" rel=\"author\">\n",
            "           <span class=\"entry-author-name\" itemprop=\"name\">\n",
            "            Corey Schafer\n",
            "           </span>\n",
            "          </a>\n",
            "         </span>\n",
            "         <span class=\"entry-comments-link\">\n",
            "          <a href=\"https://coreyms.com/development/python/python-multiprocessing-tutorial-run-code-in-parallel-using-the-multiprocessing-module#respond\">\n",
            "           <span class=\"dsq-postid\" data-dsqidentifier=\"1661 http://coreyms.com/?p=1661\">\n",
            "            Leave a Comment\n",
            "           </span>\n",
            "          </a>\n",
            "         </span>\n",
            "        </p>\n",
            "       </header>\n",
            "       <div class=\"entry-content\" itemprop=\"text\">\n",
            "        <p>\n",
            "         In this Python Programming video, we will be learning how to run code in parallel using the multiprocessing module. We will also look at how to process multiple high-resolution images at the same time using a ProcessPoolExecutor from the concurrent.futures module. Let’s get started…\n",
            "        </p>\n",
            "        <figure class=\"wp-block-embed-youtube wp-block-embed is-type-video is-provider-youtube wp-embed-aspect-16-9 wp-has-aspect-ratio\">\n",
            "         <div class=\"wp-block-embed__wrapper\">\n",
            "          <span class=\"embed-youtube\" style=\"text-align:center; display: block;\">\n",
            "           <iframe allowfullscreen=\"true\" class=\"youtube-player\" height=\"360\" sandbox=\"allow-scripts allow-same-origin allow-popups allow-presentation\" src=\"https://www.youtube.com/embed/fKl2JW_qrso?version=3&amp;rel=1&amp;showsearch=0&amp;showinfo=1&amp;iv_load_policy=1&amp;fs=1&amp;hl=en-US&amp;autohide=2&amp;wmode=transparent\" style=\"border:0;\" width=\"640\">\n",
            "           </iframe>\n",
            "          </span>\n",
            "         </div>\n",
            "        </figure>\n",
            "       </div>\n",
            "       <footer class=\"entry-footer\">\n",
            "        <p class=\"entry-meta\">\n",
            "         <span class=\"entry-categories\">\n",
            "          Filed Under:\n",
            "          <a href=\"https://coreyms.com/category/development\" rel=\"category tag\">\n",
            "           Development\n",
            "          </a>\n",
            "          ,\n",
            "          <a href=\"https://coreyms.com/category/development/python\" rel=\"category tag\">\n",
            "           Python\n",
            "          </a>\n",
            "         </span>\n",
            "         <span class=\"entry-tags\">\n",
            "          Tagged With:\n",
            "          <a href=\"https://coreyms.com/tag/asynchronous\" rel=\"tag\">\n",
            "           asynchronous\n",
            "          </a>\n",
            "          ,\n",
            "          <a href=\"https://coreyms.com/tag/concurrent-futures\" rel=\"tag\">\n",
            "           concurrent.futures\n",
            "          </a>\n",
            "          ,\n",
            "          <a href=\"https://coreyms.com/tag/multiprocessing\" rel=\"tag\">\n",
            "           multiprocessing\n",
            "          </a>\n",
            "          ,\n",
            "          <a href=\"https://coreyms.com/tag/parallel\" rel=\"tag\">\n",
            "           parallel\n",
            "          </a>\n",
            "          ,\n",
            "          <a href=\"https://coreyms.com/tag/threading\" rel=\"tag\">\n",
            "           threading\n",
            "          </a>\n",
            "         </span>\n",
            "        </p>\n",
            "       </footer>\n",
            "      </article>\n",
            "      <article class=\"post-1658 post type-post status-publish format-standard has-post-thumbnail category-development category-python tag-asynchronous tag-concurrency tag-multiprocessing tag-threading entry\" itemscope=\"\" itemtype=\"https://schema.org/CreativeWork\">\n",
            "       <header class=\"entry-header\">\n",
            "        <h2 class=\"entry-title\" itemprop=\"headline\">\n",
            "         <a class=\"entry-title-link\" href=\"https://coreyms.com/development/python/python-threading-tutorial-run-code-concurrently-using-the-threading-module\" rel=\"bookmark\">\n",
            "          Python Threading Tutorial: Run Code Concurrently Using the Threading Module\n",
            "         </a>\n",
            "        </h2>\n",
            "        <p class=\"entry-meta\">\n",
            "         <time class=\"entry-time\" datetime=\"2019-09-12T10:49:54-04:00\" itemprop=\"datePublished\">\n",
            "          September 12, 2019\n",
            "         </time>\n",
            "         by\n",
            "         <span class=\"entry-author\" itemprop=\"author\" itemscope=\"\" itemtype=\"https://schema.org/Person\">\n",
            "          <a class=\"entry-author-link\" href=\"https://coreyms.com/author/coreymschafer\" itemprop=\"url\" rel=\"author\">\n",
            "           <span class=\"entry-author-name\" itemprop=\"name\">\n",
            "            Corey Schafer\n",
            "           </span>\n",
            "          </a>\n",
            "         </span>\n",
            "         <span class=\"entry-comments-link\">\n",
            "          <a href=\"https://coreyms.com/development/python/python-threading-tutorial-run-code-concurrently-using-the-threading-module#respond\">\n",
            "           <span class=\"dsq-postid\" data-dsqidentifier=\"1658 http://coreyms.com/?p=1658\">\n",
            "            Leave a Comment\n",
            "           </span>\n",
            "          </a>\n",
            "         </span>\n",
            "        </p>\n",
            "       </header>\n",
            "       <div class=\"entry-content\" itemprop=\"text\">\n",
            "        <p>\n",
            "         In this Python Programming video, we will be learning how to run threads concurrently using the threading module. We will also look at how to download multiple high-resolution images online using a ThreadPoolExecutor from the concurrent.futures module. Let’s get started…\n",
            "        </p>\n",
            "        <figure class=\"wp-block-embed-youtube wp-block-embed is-type-video is-provider-youtube wp-embed-aspect-16-9 wp-has-aspect-ratio\">\n",
            "         <div class=\"wp-block-embed__wrapper\">\n",
            "          <span class=\"embed-youtube\" style=\"text-align:center; display: block;\">\n",
            "           <iframe allowfullscreen=\"true\" class=\"youtube-player\" height=\"360\" sandbox=\"allow-scripts allow-same-origin allow-popups allow-presentation\" src=\"https://www.youtube.com/embed/IEEhzQoKtQU?version=3&amp;rel=1&amp;showsearch=0&amp;showinfo=1&amp;iv_load_policy=1&amp;fs=1&amp;hl=en-US&amp;autohide=2&amp;wmode=transparent\" style=\"border:0;\" width=\"640\">\n",
            "           </iframe>\n",
            "          </span>\n",
            "         </div>\n",
            "        </figure>\n",
            "       </div>\n",
            "       <footer class=\"entry-footer\">\n",
            "        <p class=\"entry-meta\">\n",
            "         <span class=\"entry-categories\">\n",
            "          Filed Under:\n",
            "          <a href=\"https://coreyms.com/category/development\" rel=\"category tag\">\n",
            "           Development\n",
            "          </a>\n",
            "          ,\n",
            "          <a href=\"https://coreyms.com/category/development/python\" rel=\"category tag\">\n",
            "           Python\n",
            "          </a>\n",
            "         </span>\n",
            "         <span class=\"entry-tags\">\n",
            "          Tagged With:\n",
            "          <a href=\"https://coreyms.com/tag/asynchronous\" rel=\"tag\">\n",
            "           asynchronous\n",
            "          </a>\n",
            "          ,\n",
            "          <a href=\"https://coreyms.com/tag/concurrency\" rel=\"tag\">\n",
            "           concurrency\n",
            "          </a>\n",
            "          ,\n",
            "          <a href=\"https://coreyms.com/tag/multiprocessing\" rel=\"tag\">\n",
            "           multiprocessing\n",
            "          </a>\n",
            "          ,\n",
            "          <a href=\"https://coreyms.com/tag/threading\" rel=\"tag\">\n",
            "           threading\n",
            "          </a>\n",
            "         </span>\n",
            "        </p>\n",
            "       </footer>\n",
            "      </article>\n",
            "      <article class=\"post-1655 post type-post status-publish format-standard category-general entry\" itemscope=\"\" itemtype=\"https://schema.org/CreativeWork\">\n",
            "       <header class=\"entry-header\">\n",
            "        <h2 class=\"entry-title\" itemprop=\"headline\">\n",
            "         <a class=\"entry-title-link\" href=\"https://coreyms.com/general/update-2019-09-03\" rel=\"bookmark\">\n",
            "          Update (2019-09-03)\n",
            "         </a>\n",
            "        </h2>\n",
            "        <p class=\"entry-meta\">\n",
            "         <time class=\"entry-time\" datetime=\"2019-09-03T16:42:01-04:00\" itemprop=\"datePublished\">\n",
            "          September 3, 2019\n",
            "         </time>\n",
            "         by\n",
            "         <span class=\"entry-author\" itemprop=\"author\" itemscope=\"\" itemtype=\"https://schema.org/Person\">\n",
            "          <a class=\"entry-author-link\" href=\"https://coreyms.com/author/coreymschafer\" itemprop=\"url\" rel=\"author\">\n",
            "           <span class=\"entry-author-name\" itemprop=\"name\">\n",
            "            Corey Schafer\n",
            "           </span>\n",
            "          </a>\n",
            "         </span>\n",
            "         <span class=\"entry-comments-link\">\n",
            "          <a href=\"https://coreyms.com/general/update-2019-09-03#respond\">\n",
            "           <span class=\"dsq-postid\" data-dsqidentifier=\"1655 http://coreyms.com/?p=1655\">\n",
            "            Leave a Comment\n",
            "           </span>\n",
            "          </a>\n",
            "         </span>\n",
            "        </p>\n",
            "       </header>\n",
            "       <div class=\"entry-content\" itemprop=\"text\">\n",
            "        <p>\n",
            "         Hey everyone. I wanted to give you an update on my videos. I will be releasing videos on threading and multiprocessing within the next week. Thanks so much for your patience. I currently have a temporary recording studio setup at my Airbnb that will allow me to record and edit the threading/multiprocessing videos. I am going to be moving into my new house in 10 days and once I have my recording studio setup then you can expect much faster video releases. I really appreciate how patient everyone has been while I go through this move, especially those of you who are contributing monthly through YouTube\n",
            "        </p>\n",
            "       </div>\n",
            "       <footer class=\"entry-footer\">\n",
            "        <p class=\"entry-meta\">\n",
            "         <span class=\"entry-categories\">\n",
            "          Filed Under:\n",
            "          <a href=\"https://coreyms.com/category/general\" rel=\"category tag\">\n",
            "           General\n",
            "          </a>\n",
            "         </span>\n",
            "        </p>\n",
            "       </footer>\n",
            "      </article>\n",
            "      <article class=\"post-1651 post type-post status-publish format-standard has-post-thumbnail category-development category-python tag-vs-is tag-equality tag-identity entry\" itemscope=\"\" itemtype=\"https://schema.org/CreativeWork\">\n",
            "       <header class=\"entry-header\">\n",
            "        <h2 class=\"entry-title\" itemprop=\"headline\">\n",
            "         <a class=\"entry-title-link\" href=\"https://coreyms.com/development/python/python-quick-tip-the-difference-between-and-is-equality-vs-identity\" rel=\"bookmark\">\n",
            "          Python Quick Tip: The Difference Between “==” and “is” (Equality vs Identity)\n",
            "         </a>\n",
            "        </h2>\n",
            "        <p class=\"entry-meta\">\n",
            "         <time class=\"entry-time\" datetime=\"2019-08-06T12:17:28-04:00\" itemprop=\"datePublished\">\n",
            "          August 6, 2019\n",
            "         </time>\n",
            "         by\n",
            "         <span class=\"entry-author\" itemprop=\"author\" itemscope=\"\" itemtype=\"https://schema.org/Person\">\n",
            "          <a class=\"entry-author-link\" href=\"https://coreyms.com/author/coreymschafer\" itemprop=\"url\" rel=\"author\">\n",
            "           <span class=\"entry-author-name\" itemprop=\"name\">\n",
            "            Corey Schafer\n",
            "           </span>\n",
            "          </a>\n",
            "         </span>\n",
            "         <span class=\"entry-comments-link\">\n",
            "          <a href=\"https://coreyms.com/development/python/python-quick-tip-the-difference-between-and-is-equality-vs-identity#respond\">\n",
            "           <span class=\"dsq-postid\" data-dsqidentifier=\"1651 http://coreyms.com/?p=1651\">\n",
            "            Leave a Comment\n",
            "           </span>\n",
            "          </a>\n",
            "         </span>\n",
            "        </p>\n",
            "       </header>\n",
            "       <div class=\"entry-content\" itemprop=\"text\">\n",
            "        <p>\n",
            "         In this Python Programming Tutorial, we will be learning the difference between using “==” and the “is” keyword when doing comparisons. The difference between these is that “==” checks to see if values are equal, and the “is” keyword checks their identity, which means it’s going to check if the values are identical in terms of being the same object in memory. We’ll learn more in the video. Let’s get started…\n",
            "        </p>\n",
            "        <figure class=\"wp-block-embed-youtube wp-block-embed is-type-video is-provider-youtube wp-embed-aspect-16-9 wp-has-aspect-ratio\">\n",
            "         <div class=\"wp-block-embed__wrapper\">\n",
            "          <span class=\"embed-youtube\" style=\"text-align:center; display: block;\">\n",
            "           <iframe allowfullscreen=\"true\" class=\"youtube-player\" height=\"360\" sandbox=\"allow-scripts allow-same-origin allow-popups allow-presentation\" src=\"https://www.youtube.com/embed/mO_dS3rXDIs?version=3&amp;rel=1&amp;showsearch=0&amp;showinfo=1&amp;iv_load_policy=1&amp;fs=1&amp;hl=en-US&amp;autohide=2&amp;wmode=transparent\" style=\"border:0;\" width=\"640\">\n",
            "           </iframe>\n",
            "          </span>\n",
            "         </div>\n",
            "        </figure>\n",
            "       </div>\n",
            "       <footer class=\"entry-footer\">\n",
            "        <p class=\"entry-meta\">\n",
            "         <span class=\"entry-categories\">\n",
            "          Filed Under:\n",
            "          <a href=\"https://coreyms.com/category/development\" rel=\"category tag\">\n",
            "           Development\n",
            "          </a>\n",
            "          ,\n",
            "          <a href=\"https://coreyms.com/category/development/python\" rel=\"category tag\">\n",
            "           Python\n",
            "          </a>\n",
            "         </span>\n",
            "         <span class=\"entry-tags\">\n",
            "          Tagged With:\n",
            "          <a href=\"https://coreyms.com/tag/vs-is\" rel=\"tag\">\n",
            "           == vs is\n",
            "          </a>\n",
            "          ,\n",
            "          <a href=\"https://coreyms.com/tag/equality\" rel=\"tag\">\n",
            "           equality\n",
            "          </a>\n",
            "          ,\n",
            "          <a href=\"https://coreyms.com/tag/identity\" rel=\"tag\">\n",
            "           identity\n",
            "          </a>\n",
            "         </span>\n",
            "        </p>\n",
            "       </footer>\n",
            "      </article>\n",
            "      <article class=\"post-1647 post type-post status-publish format-standard has-post-thumbnail category-development category-python tag-standard-library tag-subprocess entry\" itemscope=\"\" itemtype=\"https://schema.org/CreativeWork\">\n",
            "       <header class=\"entry-header\">\n",
            "        <h2 class=\"entry-title\" itemprop=\"headline\">\n",
            "         <a class=\"entry-title-link\" href=\"https://coreyms.com/development/python/python-tutorial-calling-external-commands-using-the-subprocess-module\" rel=\"bookmark\">\n",
            "          Python Tutorial: Calling External Commands Using the Subprocess Module\n",
            "         </a>\n",
            "        </h2>\n",
            "        <p class=\"entry-meta\">\n",
            "         <time class=\"entry-time\" datetime=\"2019-07-24T15:26:19-04:00\" itemprop=\"datePublished\">\n",
            "          July 24, 2019\n",
            "         </time>\n",
            "         by\n",
            "         <span class=\"entry-author\" itemprop=\"author\" itemscope=\"\" itemtype=\"https://schema.org/Person\">\n",
            "          <a class=\"entry-author-link\" href=\"https://coreyms.com/author/coreymschafer\" itemprop=\"url\" rel=\"author\">\n",
            "           <span class=\"entry-author-name\" itemprop=\"name\">\n",
            "            Corey Schafer\n",
            "           </span>\n",
            "          </a>\n",
            "         </span>\n",
            "         <span class=\"entry-comments-link\">\n",
            "          <a href=\"https://coreyms.com/development/python/python-tutorial-calling-external-commands-using-the-subprocess-module#respond\">\n",
            "           <span class=\"dsq-postid\" data-dsqidentifier=\"1647 http://coreyms.com/?p=1647\">\n",
            "            Leave a Comment\n",
            "           </span>\n",
            "          </a>\n",
            "         </span>\n",
            "        </p>\n",
            "       </header>\n",
            "       <div class=\"entry-content\" itemprop=\"text\">\n",
            "        <p>\n",
            "         In this Python Programming Tutorial, we will be learning how to run external commands using the subprocess module from the standard library. We will learn how to run commands, capture the output, handle errors, and also how to pipe output into other commands. Let’s get started…\n",
            "        </p>\n",
            "        <figure class=\"wp-block-embed-youtube wp-block-embed is-type-video is-provider-youtube wp-embed-aspect-16-9 wp-has-aspect-ratio\">\n",
            "         <div class=\"wp-block-embed__wrapper\">\n",
            "          <span class=\"embed-youtube\" style=\"text-align:center; display: block;\">\n",
            "           <iframe allowfullscreen=\"true\" class=\"youtube-player\" height=\"360\" sandbox=\"allow-scripts allow-same-origin allow-popups allow-presentation\" src=\"https://www.youtube.com/embed/2Fp1N6dof0Y?version=3&amp;rel=1&amp;showsearch=0&amp;showinfo=1&amp;iv_load_policy=1&amp;fs=1&amp;hl=en-US&amp;autohide=2&amp;wmode=transparent\" style=\"border:0;\" width=\"640\">\n",
            "           </iframe>\n",
            "          </span>\n",
            "         </div>\n",
            "        </figure>\n",
            "       </div>\n",
            "       <footer class=\"entry-footer\">\n",
            "        <p class=\"entry-meta\">\n",
            "         <span class=\"entry-categories\">\n",
            "          Filed Under:\n",
            "          <a href=\"https://coreyms.com/category/development\" rel=\"category tag\">\n",
            "           Development\n",
            "          </a>\n",
            "          ,\n",
            "          <a href=\"https://coreyms.com/category/development/python\" rel=\"category tag\">\n",
            "           Python\n",
            "          </a>\n",
            "         </span>\n",
            "         <span class=\"entry-tags\">\n",
            "          Tagged With:\n",
            "          <a href=\"https://coreyms.com/tag/standard-library\" rel=\"tag\">\n",
            "           standard library\n",
            "          </a>\n",
            "          ,\n",
            "          <a href=\"https://coreyms.com/tag/subprocess\" rel=\"tag\">\n",
            "           subprocess\n",
            "          </a>\n",
            "         </span>\n",
            "        </p>\n",
            "       </footer>\n",
            "      </article>\n",
            "      <article class=\"post-1642 post type-post status-publish format-standard has-post-thumbnail category-development category-python tag-development-environment tag-visual-studio-code tag-visual-studios tag-vs-code tag-vscode entry\" itemscope=\"\" itemtype=\"https://schema.org/CreativeWork\">\n",
            "       <header class=\"entry-header\">\n",
            "        <h2 class=\"entry-title\" itemprop=\"headline\">\n",
            "         <a class=\"entry-title-link\" href=\"https://coreyms.com/development/python/visual-studio-code-windows-setting-up-a-python-development-environment-and-complete-overview\" rel=\"bookmark\">\n",
            "          Visual Studio Code (Windows) – Setting up a Python Development Environment and Complete Overview\n",
            "         </a>\n",
            "        </h2>\n",
            "        <p class=\"entry-meta\">\n",
            "         <time class=\"entry-time\" datetime=\"2019-05-01T14:03:24-04:00\" itemprop=\"datePublished\">\n",
            "          May 1, 2019\n",
            "         </time>\n",
            "         by\n",
            "         <span class=\"entry-author\" itemprop=\"author\" itemscope=\"\" itemtype=\"https://schema.org/Person\">\n",
            "          <a class=\"entry-author-link\" href=\"https://coreyms.com/author/coreymschafer\" itemprop=\"url\" rel=\"author\">\n",
            "           <span class=\"entry-author-name\" itemprop=\"name\">\n",
            "            Corey Schafer\n",
            "           </span>\n",
            "          </a>\n",
            "         </span>\n",
            "         <span class=\"entry-comments-link\">\n",
            "          <a href=\"https://coreyms.com/development/python/visual-studio-code-windows-setting-up-a-python-development-environment-and-complete-overview#respond\">\n",
            "           <span class=\"dsq-postid\" data-dsqidentifier=\"1642 http://coreyms.com/?p=1642\">\n",
            "            Leave a Comment\n",
            "           </span>\n",
            "          </a>\n",
            "         </span>\n",
            "        </p>\n",
            "       </header>\n",
            "       <div class=\"entry-content\" itemprop=\"text\">\n",
            "        <p>\n",
            "         In this Python Programming Tutorial, we will be learning how to set up a Python development environment in VSCode on Windows. VSCode is a very nice free editor for writing Python applications and many developers are now switching over to this editor. In this video, we will learn how to install VSCode, get the Python extension installed, how to change Python interpreters, create virtual environments, format/lint our code, how to use Git within VSCode, how to debug our programs, how unit testing works, and more. We have a lot to cover, so let’s go ahead and get started…\n",
            "        </p>\n",
            "        <p>\n",
            "         VSCode on MacOS – https://youtu.be/06I63_p-2A4\n",
            "        </p>\n",
            "        <p>\n",
            "         Timestamps for topics in this tutorial:\n",
            "         <br/>\n",
            "         Installation – 1:13\n",
            "         <br/>\n",
            "         Python Extension – 5:48\n",
            "         <br/>\n",
            "         Switching Interpreters – 10:04\n",
            "         <br/>\n",
            "         Changing Color Themes – 12:35\n",
            "         <br/>\n",
            "         VSCode Settings – 16:16\n",
            "         <br/>\n",
            "         Set Default Python – 21:33\n",
            "         <br/>\n",
            "         Using Virtual Environments – 25:10\n",
            "         <br/>\n",
            "         IntelliSense – 29:45\n",
            "         <br/>\n",
            "         Code Formatting – 32:13\n",
            "         <br/>\n",
            "         Code Linting – 37:06\n",
            "         <br/>\n",
            "         Code Runner Extension – 39:42\n",
            "         <br/>\n",
            "         Git Integration – 47:44\n",
            "         <br/>\n",
            "         Use Different Terminal – 51:07\n",
            "         <br/>\n",
            "         Debugging – 58:45\n",
            "         <br/>\n",
            "         Unit Testing – 1:03:25\n",
            "         <br/>\n",
            "         Zen Mode – 1:09:55\n",
            "        </p>\n",
            "        <figure class=\"wp-block-embed-youtube wp-block-embed is-type-video is-provider-youtube wp-embed-aspect-16-9 wp-has-aspect-ratio\">\n",
            "         <div class=\"wp-block-embed__wrapper\">\n",
            "          <span class=\"embed-youtube\" style=\"text-align:center; display: block;\">\n",
            "           <iframe allowfullscreen=\"true\" class=\"youtube-player\" height=\"360\" sandbox=\"allow-scripts allow-same-origin allow-popups allow-presentation\" src=\"https://www.youtube.com/embed/-nh9rCzPJ20?version=3&amp;rel=1&amp;showsearch=0&amp;showinfo=1&amp;iv_load_policy=1&amp;fs=1&amp;hl=en-US&amp;autohide=2&amp;wmode=transparent\" style=\"border:0;\" width=\"640\">\n",
            "           </iframe>\n",
            "          </span>\n",
            "         </div>\n",
            "        </figure>\n",
            "       </div>\n",
            "       <footer class=\"entry-footer\">\n",
            "        <p class=\"entry-meta\">\n",
            "         <span class=\"entry-categories\">\n",
            "          Filed Under:\n",
            "          <a href=\"https://coreyms.com/category/development\" rel=\"category tag\">\n",
            "           Development\n",
            "          </a>\n",
            "          ,\n",
            "          <a href=\"https://coreyms.com/category/development/python\" rel=\"category tag\">\n",
            "           Python\n",
            "          </a>\n",
            "         </span>\n",
            "         <span class=\"entry-tags\">\n",
            "          Tagged With:\n",
            "          <a href=\"https://coreyms.com/tag/development-environment\" rel=\"tag\">\n",
            "           Development Environment\n",
            "          </a>\n",
            "          ,\n",
            "          <a href=\"https://coreyms.com/tag/visual-studio-code\" rel=\"tag\">\n",
            "           visual studio code\n",
            "          </a>\n",
            "          ,\n",
            "          <a href=\"https://coreyms.com/tag/visual-studios\" rel=\"tag\">\n",
            "           visual studios\n",
            "          </a>\n",
            "          ,\n",
            "          <a href=\"https://coreyms.com/tag/vs-code\" rel=\"tag\">\n",
            "           vs code\n",
            "          </a>\n",
            "          ,\n",
            "          <a href=\"https://coreyms.com/tag/vscode\" rel=\"tag\">\n",
            "           vscode\n",
            "          </a>\n",
            "         </span>\n",
            "        </p>\n",
            "       </footer>\n",
            "      </article>\n",
            "      <article class=\"post-1639 post type-post status-publish format-standard has-post-thumbnail category-development category-python tag-development-environment tag-visual-studio-code tag-visual-studios tag-vs-code tag-vscode entry\" itemscope=\"\" itemtype=\"https://schema.org/CreativeWork\">\n",
            "       <header class=\"entry-header\">\n",
            "        <h2 class=\"entry-title\" itemprop=\"headline\">\n",
            "         <a class=\"entry-title-link\" href=\"https://coreyms.com/development/python/visual-studio-code-mac-setting-up-a-python-development-environment-and-complete-overview\" rel=\"bookmark\">\n",
            "          Visual Studio Code (Mac) – Setting up a Python Development Environment and Complete Overview\n",
            "         </a>\n",
            "        </h2>\n",
            "        <p class=\"entry-meta\">\n",
            "         <time class=\"entry-time\" datetime=\"2019-05-01T14:01:45-04:00\" itemprop=\"datePublished\">\n",
            "          May 1, 2019\n",
            "         </time>\n",
            "         by\n",
            "         <span class=\"entry-author\" itemprop=\"author\" itemscope=\"\" itemtype=\"https://schema.org/Person\">\n",
            "          <a class=\"entry-author-link\" href=\"https://coreyms.com/author/coreymschafer\" itemprop=\"url\" rel=\"author\">\n",
            "           <span class=\"entry-author-name\" itemprop=\"name\">\n",
            "            Corey Schafer\n",
            "           </span>\n",
            "          </a>\n",
            "         </span>\n",
            "         <span class=\"entry-comments-link\">\n",
            "          <a href=\"https://coreyms.com/development/python/visual-studio-code-mac-setting-up-a-python-development-environment-and-complete-overview#respond\">\n",
            "           <span class=\"dsq-postid\" data-dsqidentifier=\"1639 http://coreyms.com/?p=1639\">\n",
            "            Leave a Comment\n",
            "           </span>\n",
            "          </a>\n",
            "         </span>\n",
            "        </p>\n",
            "       </header>\n",
            "       <div class=\"entry-content\" itemprop=\"text\">\n",
            "        <p>\n",
            "         In this Python Programming Tutorial, we will be learning how to set up a Python development environment in VSCode on MacOS. VSCode is a very nice free editor for writing Python applications and many developers are now switching over to this editor. In this video, we will learn how to install VSCode, get the Python extension installed, how to change Python interpreters, create virtual environments, format/lint our code, how to use Git within VSCode, how to debug our programs, how unit testing works, and more. We have a lot to cover, so let’s go ahead and get started…\n",
            "        </p>\n",
            "        <p>\n",
            "         VSCode on Windows – https://youtu.be/-nh9rCzPJ20\n",
            "        </p>\n",
            "        <p>\n",
            "         Timestamps for topics in this tutorial:\n",
            "         <br/>\n",
            "         Installation – 1:11\n",
            "         <br/>\n",
            "         Python Extension – 6:21\n",
            "         <br/>\n",
            "         Switching Interpreters – 10:16\n",
            "         <br/>\n",
            "         Changing Color Themes – 13:08\n",
            "         <br/>\n",
            "         VSCode Settings – 17:12\n",
            "         <br/>\n",
            "         Set Default Python – 22:24\n",
            "         <br/>\n",
            "         Using Virtual Environments – 25:52\n",
            "         <br/>\n",
            "         IntelliSense – 30:28\n",
            "         <br/>\n",
            "         Code Formatting – 33:08\n",
            "         <br/>\n",
            "         Code Linting – 38:01\n",
            "         <br/>\n",
            "         Code Runner Extension – 40:45\n",
            "         <br/>\n",
            "         Git Integration – 49:05\n",
            "         <br/>\n",
            "         Debugging – 58:15\n",
            "         <br/>\n",
            "         Unit Testing – 1:02:38\n",
            "         <br/>\n",
            "         Zen Mode – 1:10:42\n",
            "        </p>\n",
            "        <figure class=\"wp-block-embed-youtube wp-block-embed is-type-video is-provider-youtube wp-embed-aspect-16-9 wp-has-aspect-ratio\">\n",
            "         <div class=\"wp-block-embed__wrapper\">\n",
            "          <span class=\"embed-youtube\" style=\"text-align:center; display: block;\">\n",
            "           <iframe allowfullscreen=\"true\" class=\"youtube-player\" height=\"360\" sandbox=\"allow-scripts allow-same-origin allow-popups allow-presentation\" src=\"https://www.youtube.com/embed/06I63_p-2A4?version=3&amp;rel=1&amp;showsearch=0&amp;showinfo=1&amp;iv_load_policy=1&amp;fs=1&amp;hl=en-US&amp;autohide=2&amp;wmode=transparent\" style=\"border:0;\" width=\"640\">\n",
            "           </iframe>\n",
            "          </span>\n",
            "         </div>\n",
            "        </figure>\n",
            "       </div>\n",
            "       <footer class=\"entry-footer\">\n",
            "        <p class=\"entry-meta\">\n",
            "         <span class=\"entry-categories\">\n",
            "          Filed Under:\n",
            "          <a href=\"https://coreyms.com/category/development\" rel=\"category tag\">\n",
            "           Development\n",
            "          </a>\n",
            "          ,\n",
            "          <a href=\"https://coreyms.com/category/development/python\" rel=\"category tag\">\n",
            "           Python\n",
            "          </a>\n",
            "         </span>\n",
            "         <span class=\"entry-tags\">\n",
            "          Tagged With:\n",
            "          <a href=\"https://coreyms.com/tag/development-environment\" rel=\"tag\">\n",
            "           Development Environment\n",
            "          </a>\n",
            "          ,\n",
            "          <a href=\"https://coreyms.com/tag/visual-studio-code\" rel=\"tag\">\n",
            "           visual studio code\n",
            "          </a>\n",
            "          ,\n",
            "          <a href=\"https://coreyms.com/tag/visual-studios\" rel=\"tag\">\n",
            "           visual studios\n",
            "          </a>\n",
            "          ,\n",
            "          <a href=\"https://coreyms.com/tag/vs-code\" rel=\"tag\">\n",
            "           vs code\n",
            "          </a>\n",
            "          ,\n",
            "          <a href=\"https://coreyms.com/tag/vscode\" rel=\"tag\">\n",
            "           vscode\n",
            "          </a>\n",
            "         </span>\n",
            "        </p>\n",
            "       </footer>\n",
            "      </article>\n",
            "      <article class=\"post-1634 post type-post status-publish format-standard has-post-thumbnail category-development category-python tag-common-errors tag-common-mistakes tag-functions tag-mutable-default-arguments entry\" itemscope=\"\" itemtype=\"https://schema.org/CreativeWork\">\n",
            "       <header class=\"entry-header\">\n",
            "        <h2 class=\"entry-title\" itemprop=\"headline\">\n",
            "         <a class=\"entry-title-link\" href=\"https://coreyms.com/development/python/clarifying-the-issues-with-mutable-default-arguments\" rel=\"bookmark\">\n",
            "          Clarifying the Issues with Mutable Default Arguments\n",
            "         </a>\n",
            "        </h2>\n",
            "        <p class=\"entry-meta\">\n",
            "         <time class=\"entry-time\" datetime=\"2019-04-24T11:46:42-04:00\" itemprop=\"datePublished\">\n",
            "          April 24, 2019\n",
            "         </time>\n",
            "         by\n",
            "         <span class=\"entry-author\" itemprop=\"author\" itemscope=\"\" itemtype=\"https://schema.org/Person\">\n",
            "          <a class=\"entry-author-link\" href=\"https://coreyms.com/author/coreymschafer\" itemprop=\"url\" rel=\"author\">\n",
            "           <span class=\"entry-author-name\" itemprop=\"name\">\n",
            "            Corey Schafer\n",
            "           </span>\n",
            "          </a>\n",
            "         </span>\n",
            "         <span class=\"entry-comments-link\">\n",
            "          <a href=\"https://coreyms.com/development/python/clarifying-the-issues-with-mutable-default-arguments#respond\">\n",
            "           <span class=\"dsq-postid\" data-dsqidentifier=\"1634 http://coreyms.com/?p=1634\">\n",
            "            Leave a Comment\n",
            "           </span>\n",
            "          </a>\n",
            "         </span>\n",
            "        </p>\n",
            "       </header>\n",
            "       <div class=\"entry-content\" itemprop=\"text\">\n",
            "        <p>\n",
            "         In this Python Programming Tutorial, we will be clarifying the issues with mutable default arguments. We discussed this in my last video titled “5 Common Python Mistakes and How to Fix Them”, but I received many comments from people who were still confused. So we will be doing a deeper dive to explain exactly what is going on here. Let’s get started…\n",
            "        </p>\n",
            "        <figure class=\"wp-block-embed-youtube wp-block-embed is-type-video is-provider-youtube wp-embed-aspect-16-9 wp-has-aspect-ratio\">\n",
            "         <div class=\"wp-block-embed__wrapper\">\n",
            "          <span class=\"embed-youtube\" style=\"text-align:center; display: block;\">\n",
            "           <iframe allowfullscreen=\"true\" class=\"youtube-player\" height=\"360\" sandbox=\"allow-scripts allow-same-origin allow-popups allow-presentation\" src=\"https://www.youtube.com/embed/_JGmemuINww?version=3&amp;rel=1&amp;showsearch=0&amp;showinfo=1&amp;iv_load_policy=1&amp;fs=1&amp;hl=en-US&amp;autohide=2&amp;wmode=transparent\" style=\"border:0;\" width=\"640\">\n",
            "           </iframe>\n",
            "          </span>\n",
            "         </div>\n",
            "        </figure>\n",
            "       </div>\n",
            "       <footer class=\"entry-footer\">\n",
            "        <p class=\"entry-meta\">\n",
            "         <span class=\"entry-categories\">\n",
            "          Filed Under:\n",
            "          <a href=\"https://coreyms.com/category/development\" rel=\"category tag\">\n",
            "           Development\n",
            "          </a>\n",
            "          ,\n",
            "          <a href=\"https://coreyms.com/category/development/python\" rel=\"category tag\">\n",
            "           Python\n",
            "          </a>\n",
            "         </span>\n",
            "         <span class=\"entry-tags\">\n",
            "          Tagged With:\n",
            "          <a href=\"https://coreyms.com/tag/common-errors\" rel=\"tag\">\n",
            "           common errors\n",
            "          </a>\n",
            "          ,\n",
            "          <a href=\"https://coreyms.com/tag/common-mistakes\" rel=\"tag\">\n",
            "           common mistakes\n",
            "          </a>\n",
            "          ,\n",
            "          <a href=\"https://coreyms.com/tag/functions\" rel=\"tag\">\n",
            "           functions\n",
            "          </a>\n",
            "          ,\n",
            "          <a href=\"https://coreyms.com/tag/mutable-default-arguments\" rel=\"tag\">\n",
            "           mutable default arguments\n",
            "          </a>\n",
            "         </span>\n",
            "        </p>\n",
            "       </footer>\n",
            "      </article>\n",
            "      <div class=\"archive-pagination pagination\">\n",
            "       <ul>\n",
            "        <li class=\"active\">\n",
            "         <a aria-current=\"page\" aria-label=\"Current page\" href=\"https://coreyms.com/\">\n",
            "          1\n",
            "         </a>\n",
            "        </li>\n",
            "        <li>\n",
            "         <a href=\"https://coreyms.com/page/2\">\n",
            "          2\n",
            "         </a>\n",
            "        </li>\n",
            "        <li>\n",
            "         <a href=\"https://coreyms.com/page/3\">\n",
            "          3\n",
            "         </a>\n",
            "        </li>\n",
            "        <li class=\"pagination-omission\">\n",
            "         …\n",
            "        </li>\n",
            "        <li>\n",
            "         <a href=\"https://coreyms.com/page/17\">\n",
            "          17\n",
            "         </a>\n",
            "        </li>\n",
            "        <li class=\"pagination-next\">\n",
            "         <a href=\"https://coreyms.com/page/2\">\n",
            "          Next Page »\n",
            "         </a>\n",
            "        </li>\n",
            "       </ul>\n",
            "      </div>\n",
            "     </main>\n",
            "     <aside aria-label=\"Primary Sidebar\" class=\"sidebar sidebar-primary widget-area\" itemscope=\"\" itemtype=\"https://schema.org/WPSideBar\" role=\"complementary\">\n",
            "      <section class=\"widget widget_text\" id=\"text-5\">\n",
            "       <div class=\"widget-wrap\">\n",
            "        <h4 class=\"widget-title widgettitle\">\n",
            "         Main Contributor\n",
            "        </h4>\n",
            "        <div class=\"textwidget\">\n",
            "         <ul>\n",
            "          <li>\n",
            "           <b>\n",
            "            Andre Nevares\n",
            "           </b>\n",
            "          </li>\n",
            "         </ul>\n",
            "         <h4 style=\"margin-top: 25px; font-size: 17px;\">\n",
            "          Top Contributors (17)\n",
            "         </h4>\n",
            "         <ul>\n",
            "          <li>\n",
            "           Andre Nevares\n",
            "          </li>\n",
            "          <li>\n",
            "           Cyril Hediger\n",
            "          </li>\n",
            "          <li>\n",
            "           Abhilash Rajan\n",
            "          </li>\n",
            "          <li>\n",
            "           Hien Nguyen\n",
            "          </li>\n",
            "          <li>\n",
            "           Alan Hawse – iotexpert.com\n",
            "          </li>\n",
            "          <li>\n",
            "           Just a Guy\n",
            "          </li>\n",
            "          <li>\n",
            "           Alex Canady\n",
            "          </li>\n",
            "          <li>\n",
            "           Sergey Trubin\n",
            "          </li>\n",
            "          <li>\n",
            "           Justin Presley\n",
            "          </li>\n",
            "          <li>\n",
            "           Sirake\n",
            "          </li>\n",
            "          <li>\n",
            "           chris\n",
            "          </li>\n",
            "          <li>\n",
            "           Jerome Massey\n",
            "          </li>\n",
            "          <li>\n",
            "           Robert Butler\n",
            "          </li>\n",
            "          <li>\n",
            "           Jonathan Llovet\n",
            "          </li>\n",
            "          <li>\n",
            "           David Myers\n",
            "          </li>\n",
            "          <li>\n",
            "           Karthik\n",
            "          </li>\n",
            "          <li>\n",
            "           Michael Zoitas\n",
            "          </li>\n",
            "         </ul>\n",
            "         <hr style=\"border: 0; border-bottom: 1px dotted #ddd;\"/>\n",
            "         <p>\n",
            "          <b>\n",
            "           Thank You!\n",
            "          </b>\n",
            "          If you would like to have your name listed as a contributor and support the website, you can do so through\n",
            "          <a href=\"https://www.patreon.com/coreyms\" rel=\"noopener noreferrer\" target=\"_blank\">\n",
            "           my Patreon Page\n",
            "          </a>\n",
            "          . I am extremely grateful for any support.\n",
            "         </p>\n",
            "        </div>\n",
            "       </div>\n",
            "      </section>\n",
            "      <section class=\"widget widget_search\" id=\"search-3\">\n",
            "       <div class=\"widget-wrap\">\n",
            "        <h4 class=\"widget-title widgettitle\">\n",
            "         Search CoreyMS.com\n",
            "        </h4>\n",
            "        <form action=\"https://coreyms.com/\" class=\"search-form\" itemprop=\"potentialAction\" itemscope=\"\" itemtype=\"https://schema.org/SearchAction\" method=\"get\" role=\"search\">\n",
            "         <input class=\"search-form-input\" id=\"searchform-63008a6e8e8000.54639845\" itemprop=\"query-input\" name=\"s\" placeholder=\"Search this website\" type=\"search\"/>\n",
            "         <input class=\"search-form-submit\" type=\"submit\" value=\"Search\"/>\n",
            "         <meta content=\"https://coreyms.com/?s={s}\" itemprop=\"target\"/>\n",
            "        </form>\n",
            "       </div>\n",
            "      </section>\n",
            "      <section class=\"widget enews-widget\" id=\"enews-ext-4\">\n",
            "       <div class=\"widget-wrap\">\n",
            "        <div class=\"enews\">\n",
            "         <h4 class=\"widget-title widgettitle\">\n",
            "          Subscribe to Future Posts\n",
            "         </h4>\n",
            "         <form action=\"//coreyms.us9.list-manage.com/subscribe/post?u=f4df8a0f0be5d3754ed52b1ef&amp;id=5b06358625\" class=\"enews-form\" id=\"subscribeenews-ext-4\" method=\"post\" name=\"enews-ext-4\" target=\"_blank\">\n",
            "          <input aria-label=\"First Name\" class=\"enews-subbox enews-fname\" id=\"subbox1\" name=\"FNAME\" placeholder=\"First Name\" type=\"text\" value=\"\"/>\n",
            "          <input aria-label=\"E-Mail Address\" class=\"enews-email\" id=\"subbox\" name=\"EMAIL\" placeholder=\"E-Mail Address\" required=\"required\" type=\"email\" value=\"\"/>\n",
            "          <input class=\"enews-submit\" id=\"subbutton\" type=\"submit\" value=\"Subscribe\"/>\n",
            "         </form>\n",
            "        </div>\n",
            "       </div>\n",
            "      </section>\n",
            "      <section class=\"widget widget_text\" id=\"text-2\">\n",
            "       <div class=\"widget-wrap\">\n",
            "        <h4 class=\"widget-title widgettitle\">\n",
            "         Recommended Books\n",
            "        </h4>\n",
            "        <div class=\"textwidget\">\n",
            "         <a href=\"https://www.amazon.com/gp/product/1449355730/ref=as_li_tl?ie=UTF8&amp;camp=1789&amp;creative=9325&amp;creativeASIN=1449355730&amp;linkCode=as2&amp;tag=coreyms-20&amp;linkId=2f9ceaf471d7d35f2c2657051780fc6f\" rel=\"noopener noreferrer\" target=\"_blank\">\n",
            "          <img border=\"0\" class=\"widget_book\" src=\"//ws-na.amazon-adsystem.com/widgets/q?_encoding=UTF8&amp;MarketPlace=US&amp;ASIN=1449355730&amp;ServiceVersion=20070822&amp;ID=AsinImage&amp;WS=1&amp;Format=_SL250_&amp;tag=coreyms-20\"/>\n",
            "         </a>\n",
            "         <img alt=\"\" border=\"0\" height=\"1\" src=\"//ir-na.amazon-adsystem.com/e/ir?t=coreyms-20&amp;l=am2&amp;o=1&amp;a=1449355730\" style=\"border:none !important; margin:0px !important;\" width=\"1\"/>\n",
            "         <a href=\"https://www.amazon.com/gp/product/1491946008/ref=as_li_tl?ie=UTF8&amp;camp=1789&amp;creative=9325&amp;creativeASIN=1491946008&amp;linkCode=as2&amp;tag=coreyms-20&amp;linkId=39335cdc340fb7ce5bd51d59c57e7e54\" rel=\"noopener noreferrer\" target=\"_blank\">\n",
            "          <img border=\"0\" class=\"widget_book\" src=\"//ws-na.amazon-adsystem.com/widgets/q?_encoding=UTF8&amp;MarketPlace=US&amp;ASIN=1491946008&amp;ServiceVersion=20070822&amp;ID=AsinImage&amp;WS=1&amp;Format=_SL250_&amp;tag=coreyms-20\"/>\n",
            "         </a>\n",
            "         <img alt=\"\" border=\"0\" height=\"1\" src=\"//ir-na.amazon-adsystem.com/e/ir?t=coreyms-20&amp;l=am2&amp;o=1&amp;a=1491946008\" style=\"border:none !important; margin:0px !important;\" width=\"1\"/>\n",
            "         <a href=\"https://www.amazon.com/gp/product/1593276036/ref=as_li_tl?ie=UTF8&amp;camp=1789&amp;creative=9325&amp;creativeASIN=1593276036&amp;linkCode=as2&amp;tag=coreyms-20&amp;linkId=75ff844a147bc8cb5fb325608b286158\" rel=\"noopener noreferrer\" target=\"_blank\">\n",
            "          <img border=\"0\" class=\"widget_book\" src=\"//ws-na.amazon-adsystem.com/widgets/q?_encoding=UTF8&amp;MarketPlace=US&amp;ASIN=1593276036&amp;ServiceVersion=20070822&amp;ID=AsinImage&amp;WS=1&amp;Format=_SL250_&amp;tag=coreyms-20\"/>\n",
            "         </a>\n",
            "         <img alt=\"\" border=\"0\" height=\"1\" src=\"//ir-na.amazon-adsystem.com/e/ir?t=coreyms-20&amp;l=am2&amp;o=1&amp;a=1593276036\" style=\"border:none !important; margin:0px !important;\" width=\"1\"/>\n",
            "         <a href=\"https://www.amazon.com/gp/product/0984782850/ref=as_li_tl?ie=UTF8&amp;camp=1789&amp;creative=9325&amp;creativeASIN=0984782850&amp;linkCode=as2&amp;tag=coreyms-20&amp;linkId=e2f7c21906426f17958a1d04718e7d02\" rel=\"noopener noreferrer\" target=\"_blank\">\n",
            "          <img border=\"0\" class=\"widget_book\" src=\"//ws-na.amazon-adsystem.com/widgets/q?_encoding=UTF8&amp;MarketPlace=US&amp;ASIN=0984782850&amp;ServiceVersion=20070822&amp;ID=AsinImage&amp;WS=1&amp;Format=_SL250_&amp;tag=coreyms-20\"/>\n",
            "         </a>\n",
            "         <img alt=\"\" border=\"0\" height=\"1\" src=\"//ir-na.amazon-adsystem.com/e/ir?t=coreyms-20&amp;l=am2&amp;o=1&amp;a=0984782850\" style=\"border:none !important; margin:0px !important;\" width=\"1\"/>\n",
            "         <a href=\"https://www.amazon.com/gp/product/020161622X/ref=as_li_tl?ie=UTF8&amp;camp=1789&amp;creative=9325&amp;creativeASIN=020161622X&amp;linkCode=as2&amp;tag=coreyms-20&amp;linkId=a2699f6b6cb5814da54f71140c52f2ca\" rel=\"noopener noreferrer\" target=\"_blank\">\n",
            "          <img border=\"0\" class=\"widget_book\" src=\"//ws-na.amazon-adsystem.com/widgets/q?_encoding=UTF8&amp;MarketPlace=US&amp;ASIN=020161622X&amp;ServiceVersion=20070822&amp;ID=AsinImage&amp;WS=1&amp;Format=_SL250_&amp;tag=coreyms-20\"/>\n",
            "         </a>\n",
            "         <img alt=\"\" border=\"0\" height=\"1\" src=\"//ir-na.amazon-adsystem.com/e/ir?t=coreyms-20&amp;l=am2&amp;o=1&amp;a=020161622X\" style=\"border:none !important; margin:0px !important;\" width=\"1\"/>\n",
            "         <a href=\"https://www.amazon.com/gp/product/0201835959/ref=as_li_tl?ie=UTF8&amp;camp=1789&amp;creative=9325&amp;creativeASIN=0201835959&amp;linkCode=as2&amp;tag=coreyms-20&amp;linkId=c3de80ab4a4761f7634751cf323af13f\" rel=\"noopener noreferrer\" target=\"_blank\">\n",
            "          <img border=\"0\" class=\"widget_book\" src=\"//ws-na.amazon-adsystem.com/widgets/q?_encoding=UTF8&amp;MarketPlace=US&amp;ASIN=0201835959&amp;ServiceVersion=20070822&amp;ID=AsinImage&amp;WS=1&amp;Format=_SL250_&amp;tag=coreyms-20\"/>\n",
            "         </a>\n",
            "         <img alt=\"\" border=\"0\" height=\"1\" src=\"//ir-na.amazon-adsystem.com/e/ir?t=coreyms-20&amp;l=am2&amp;o=1&amp;a=0201835959\" style=\"border:none !important; margin:0px !important;\" width=\"1\"/>\n",
            "        </div>\n",
            "       </div>\n",
            "      </section>\n",
            "      <section class=\"widget widget_text\" id=\"text-3\">\n",
            "       <div class=\"widget-wrap\">\n",
            "        <h4 class=\"widget-title widgettitle\">\n",
            "         Podcasts I Listen To\n",
            "        </h4>\n",
            "        <div class=\"textwidget\">\n",
            "         <u>\n",
            "          Tech Related\n",
            "         </u>\n",
            "         :\n",
            "         <br/>\n",
            "         <a href=\"http://talkpython.fm/\">\n",
            "          Talk Python To Me\n",
            "         </a>\n",
            "         <br/>\n",
            "         <a href=\"http://shoptalkshow.com/\">\n",
            "          Shoptalk Show\n",
            "         </a>\n",
            "         <br/>\n",
            "         <a href=\"http://www.se-radio.net/\">\n",
            "          Software Engineering Radio\n",
            "         </a>\n",
            "         <br/>\n",
            "         <a href=\"http://hanselminutes.com/\">\n",
            "          HanselMinutes\n",
            "         </a>\n",
            "         <br/>\n",
            "         <a href=\"https://blog.codepen.io/radio/\">\n",
            "          CodePen Radio\n",
            "         </a>\n",
            "         <br/>\n",
            "         <br/>\n",
            "         <u>\n",
            "          Non-Tech Related\n",
            "         </u>\n",
            "         :\n",
            "         <br/>\n",
            "         <a href=\"http://www.dancarlin.com/hardcore-history-series/\">\n",
            "          Dan Carlin's Hardcore History\n",
            "         </a>\n",
            "         <br/>\n",
            "         <a href=\"http://www.billburr.com/podcast\">\n",
            "          Bill Burr's Monday Morning Podcast\n",
            "         </a>\n",
            "         <br/>\n",
            "         <a href=\"http://www.samharris.org/podcast\">\n",
            "          Waking Up with Sam Harris\n",
            "         </a>\n",
            "         <br/>\n",
            "         <a href=\"http://www.startalkradio.net/shows-archive/\">\n",
            "          StarTalk Radio\n",
            "         </a>\n",
            "         <br/>\n",
            "         <a href=\"http://carasantamaria.com/podcast/\">\n",
            "          Talk Nerdy with Cara Santa Maria\n",
            "         </a>\n",
            "        </div>\n",
            "       </div>\n",
            "      </section>\n",
            "     </aside>\n",
            "    </div>\n",
            "   </div>\n",
            "   <footer class=\"site-footer\" itemscope=\"\" itemtype=\"https://schema.org/WPFooter\">\n",
            "    <div class=\"wrap\">\n",
            "     <p>\n",
            "      © 2022 ·\n",
            "      <a href=\"http://coreyms.com\">\n",
            "       CoreyMS\n",
            "      </a>\n",
            "      · Corey Schafer\n",
            "     </p>\n",
            "    </div>\n",
            "   </footer>\n",
            "  </div>\n",
            "  <link href=\"//cdnjs.cloudflare.com/ajax/libs/highlight.js/8.4/styles/zenburn.min.css\" rel=\"stylesheet\"/>\n",
            "  <script src=\"//cdnjs.cloudflare.com/ajax/libs/highlight.js/8.4/highlight.min.js\">\n",
            "  </script>\n",
            "  <script>\n",
            "   hljs.initHighlightingOnLoad();\n",
            "  </script>\n",
            "  <script type=\"text/javascript\">\n",
            "   /* <![CDATA[ */\n",
            "var wpcf7 = {\"apiSettings\":{\"root\":\"https:\\/\\/coreyms.com\\/wp-json\\/contact-form-7\\/v1\",\"namespace\":\"contact-form-7\\/v1\"},\"cached\":\"1\"};\n",
            "/* ]]> */\n",
            "  </script>\n",
            "  <script src=\"https://coreyms.com/wp-content/cache/minify/0fef6.js\">\n",
            "  </script>\n",
            "  <script type=\"text/javascript\">\n",
            "   /* <![CDATA[ */\n",
            "var countVars = {\"disqusShortname\":\"coreyms\"};\n",
            "/* ]]> */\n",
            "  </script>\n",
            "  <script src=\"https://coreyms.com/wp-content/cache/minify/9b739.js\">\n",
            "  </script>\n",
            "  <script async=\"async\" defer=\"defer\" src=\"https://stats.wp.com/e-202233.js\" type=\"text/javascript\">\n",
            "  </script>\n",
            "  <script type=\"text/javascript\">\n",
            "   _stq = window._stq || [];\n",
            "\t_stq.push([ 'view', {v:'ext',j:'1:9.1.1',blog:'70676981',post:'0',tz:'-4',srv:'coreyms.com'} ]);\n",
            "\t_stq.push([ 'clickTrackerInit', '70676981', '0' ]);\n",
            "  </script>\n",
            " </body>\n",
            "</html>\n",
            "<!--\r\n",
            "Performance optimized by W3 Total Cache. Learn more: https://www.w3-edge.com/products/\r\n",
            "\r\n",
            "Page Caching using disk: enhanced (SSL caching disabled) \r\n",
            "Minified using disk\r\n",
            "\r\n",
            "Served from: coreyms.com @ 2022-08-20 03:17:02 by W3 Total Cache\r\n",
            "-->\n",
            "\n"
          ]
        }
      ]
    },
    {
      "cell_type": "code",
      "source": [
        "soup.find('h2', class_='entry-title').text"
      ],
      "metadata": {
        "id": "m9c-TRXg1HaD",
        "colab": {
          "base_uri": "https://localhost:8080/",
          "height": 35
        },
        "outputId": "cee5c889-baf8-4f1f-a8a0-51b3368c6b53"
      },
      "execution_count": 25,
      "outputs": [
        {
          "output_type": "execute_result",
          "data": {
            "text/plain": [
              "'Python Tutorial: Zip Files – Creating and Extracting Zip Archives'"
            ],
            "application/vnd.google.colaboratory.intrinsic+json": {
              "type": "string"
            }
          },
          "metadata": {},
          "execution_count": 25
        }
      ]
    },
    {
      "cell_type": "code",
      "source": [
        "for title in soup.find_all('h2', class_='entry-title'):\n",
        "  print(title.text)\n",
        "  print(\"-------------------------------------------------\")\n",
        "  print()\n"
      ],
      "metadata": {
        "id": "wREbx2qF1Hc_",
        "colab": {
          "base_uri": "https://localhost:8080/"
        },
        "outputId": "a38dd349-ecd7-4b8c-94c0-20e88477ae3e"
      },
      "execution_count": 27,
      "outputs": [
        {
          "output_type": "stream",
          "name": "stdout",
          "text": [
            "Python Tutorial: Zip Files – Creating and Extracting Zip Archives\n",
            "-------------------------------------------------\n",
            "\n",
            "Python Data Science Tutorial: Analyzing the 2019 Stack Overflow Developer Survey\n",
            "-------------------------------------------------\n",
            "\n",
            "Python Multiprocessing Tutorial: Run Code in Parallel Using the Multiprocessing Module\n",
            "-------------------------------------------------\n",
            "\n",
            "Python Threading Tutorial: Run Code Concurrently Using the Threading Module\n",
            "-------------------------------------------------\n",
            "\n",
            "Update (2019-09-03)\n",
            "-------------------------------------------------\n",
            "\n",
            "Python Quick Tip: The Difference Between “==” and “is” (Equality vs Identity)\n",
            "-------------------------------------------------\n",
            "\n",
            "Python Tutorial: Calling External Commands Using the Subprocess Module\n",
            "-------------------------------------------------\n",
            "\n",
            "Visual Studio Code (Windows) – Setting up a Python Development Environment and Complete Overview\n",
            "-------------------------------------------------\n",
            "\n",
            "Visual Studio Code (Mac) – Setting up a Python Development Environment and Complete Overview\n",
            "-------------------------------------------------\n",
            "\n",
            "Clarifying the Issues with Mutable Default Arguments\n",
            "-------------------------------------------------\n",
            "\n"
          ]
        }
      ]
    },
    {
      "cell_type": "code",
      "source": [
        "for summary in soup.find_all('div', class_='entry-content'):\n",
        "  print(summary.p.text)\n",
        "  print(\"-------------------------------------------------\")\n",
        "  print()"
      ],
      "metadata": {
        "id": "3Nm8UKuE1Hf5",
        "colab": {
          "base_uri": "https://localhost:8080/"
        },
        "outputId": "beabc591-4988-46e3-c7aa-d91d74e106dc"
      },
      "execution_count": 28,
      "outputs": [
        {
          "output_type": "stream",
          "name": "stdout",
          "text": [
            "In this video, we will be learning how to create and extract zip archives. We will start by using the zipfile module, and then we will see how to do this using the shutil module. We will learn how to do this with single files and directories, as well as learning how to use gzip as well. Let’s get started…\n",
            "-------------------------------------------------\n",
            "\n",
            "In this Python Programming video, we will be learning how to download and analyze real-world data from the 2019 Stack Overflow Developer Survey. This is terrific practice for anyone getting into the data science field. We will learn different ways to analyze this data and also some best practices. Let’s get started…\n",
            "-------------------------------------------------\n",
            "\n",
            "In this Python Programming video, we will be learning how to run code in parallel using the multiprocessing module. We will also look at how to process multiple high-resolution images at the same time using a ProcessPoolExecutor from the concurrent.futures module. Let’s get started…\n",
            "-------------------------------------------------\n",
            "\n",
            "In this Python Programming video, we will be learning how to run threads concurrently using the threading module. We will also look at how to download multiple high-resolution images online using a ThreadPoolExecutor from the concurrent.futures module. Let’s get started…\n",
            "-------------------------------------------------\n",
            "\n",
            "Hey everyone. I wanted to give you an update on my videos. I will be releasing videos on threading and multiprocessing within the next week. Thanks so much for your patience. I currently have a temporary recording studio setup at my Airbnb that will allow me to record and edit the threading/multiprocessing videos. I am going to be moving into my new house in 10 days and once I have my recording studio setup then you can expect much faster video releases. I really appreciate how patient everyone has been while I go through this move, especially those of you who are contributing monthly through YouTube \n",
            "-------------------------------------------------\n",
            "\n",
            "In this Python Programming Tutorial, we will be learning the difference between using “==” and the “is” keyword when doing comparisons. The difference between these is that “==” checks to see if values are equal, and the “is” keyword checks their identity, which means it’s going to check if the values are identical in terms of being the same object in memory. We’ll learn more in the video. Let’s get started…\n",
            "-------------------------------------------------\n",
            "\n",
            "In this Python Programming Tutorial, we will be learning how to run external commands using the subprocess module from the standard library. We will learn how to run commands, capture the output, handle errors, and also how to pipe output into other commands. Let’s get started…\n",
            "-------------------------------------------------\n",
            "\n",
            "In this Python Programming Tutorial, we will be learning how to set up a Python development environment in VSCode on Windows. VSCode is a very nice free editor for writing Python applications and many developers are now switching over to this editor. In this video, we will learn how to install VSCode, get the Python extension installed, how to change Python interpreters, create virtual environments, format/lint our code, how to use Git within VSCode, how to debug our programs, how unit testing works, and more. We have a lot to cover, so let’s go ahead and get started…\n",
            "-------------------------------------------------\n",
            "\n",
            "In this Python Programming Tutorial, we will be learning how to set up a Python development environment in VSCode on MacOS. VSCode is a very nice free editor for writing Python applications and many developers are now switching over to this editor. In this video, we will learn how to install VSCode, get the Python extension installed, how to change Python interpreters, create virtual environments, format/lint our code, how to use Git within VSCode, how to debug our programs, how unit testing works, and more. We have a lot to cover, so let’s go ahead and get started…\n",
            "-------------------------------------------------\n",
            "\n",
            "In this Python Programming Tutorial, we will be clarifying the issues with mutable default arguments. We discussed this in my last video titled “5 Common Python Mistakes and How to Fix Them”, but I received many comments from people who were still confused. So we will be doing a deeper dive to explain exactly what is going on here. Let’s get started…\n",
            "-------------------------------------------------\n",
            "\n"
          ]
        }
      ]
    },
    {
      "cell_type": "code",
      "source": [
        "for video_link in soup.find_all('iframe', class_='youtube-player'):\n",
        "  print(video_link['src'])\n",
        "  print()"
      ],
      "metadata": {
        "id": "3QenjhyN1Hir",
        "colab": {
          "base_uri": "https://localhost:8080/"
        },
        "outputId": "a45a25d0-6647-4e38-b29e-e4f6c71b061f"
      },
      "execution_count": 37,
      "outputs": [
        {
          "output_type": "stream",
          "name": "stdout",
          "text": [
            "https://www.youtube.com/embed/z0gguhEmWiY?version=3&rel=1&showsearch=0&showinfo=1&iv_load_policy=1&fs=1&hl=en-US&autohide=2&wmode=transparent\n",
            "\n",
            "https://www.youtube.com/embed/_P7X8tMplsw?version=3&rel=1&showsearch=0&showinfo=1&iv_load_policy=1&fs=1&hl=en-US&autohide=2&wmode=transparent\n",
            "\n",
            "https://www.youtube.com/embed/fKl2JW_qrso?version=3&rel=1&showsearch=0&showinfo=1&iv_load_policy=1&fs=1&hl=en-US&autohide=2&wmode=transparent\n",
            "\n",
            "https://www.youtube.com/embed/IEEhzQoKtQU?version=3&rel=1&showsearch=0&showinfo=1&iv_load_policy=1&fs=1&hl=en-US&autohide=2&wmode=transparent\n",
            "\n",
            "https://www.youtube.com/embed/mO_dS3rXDIs?version=3&rel=1&showsearch=0&showinfo=1&iv_load_policy=1&fs=1&hl=en-US&autohide=2&wmode=transparent\n",
            "\n",
            "https://www.youtube.com/embed/2Fp1N6dof0Y?version=3&rel=1&showsearch=0&showinfo=1&iv_load_policy=1&fs=1&hl=en-US&autohide=2&wmode=transparent\n",
            "\n",
            "https://www.youtube.com/embed/-nh9rCzPJ20?version=3&rel=1&showsearch=0&showinfo=1&iv_load_policy=1&fs=1&hl=en-US&autohide=2&wmode=transparent\n",
            "\n",
            "https://www.youtube.com/embed/06I63_p-2A4?version=3&rel=1&showsearch=0&showinfo=1&iv_load_policy=1&fs=1&hl=en-US&autohide=2&wmode=transparent\n",
            "\n",
            "https://www.youtube.com/embed/_JGmemuINww?version=3&rel=1&showsearch=0&showinfo=1&iv_load_policy=1&fs=1&hl=en-US&autohide=2&wmode=transparent\n",
            "\n"
          ]
        }
      ]
    },
    {
      "cell_type": "markdown",
      "source": [
        "> ### Note: this is the link to the embedded video and not youtube video itself\n",
        "\n",
        "---\n",
        "\n",
        "\n"
      ],
      "metadata": {
        "id": "nH4r5Ew7o1nJ"
      }
    },
    {
      "cell_type": "markdown",
      "source": [
        "\n",
        "\n",
        "*    we now have to parse the url string to grab the ` id` of that video\n",
        "*    example: in the following url string\n",
        "> https://www.youtube.com/embed/_JGmemuINww?version=3&rel=1&showsearch=0&showinfo=1&iv_load_policy=1&fs=1&hl=en-US&autohide=2&wmode=transparent\n",
        "\n",
        " #### the video id is `_JGmemuINww`\n",
        "\n"
      ],
      "metadata": {
        "id": "5FRe0EKSpPEi"
      }
    },
    {
      "cell_type": "markdown",
      "source": [
        "### sometimes the websites dont have information in the most accessible way so we need to look through other ways to get our work done"
      ],
      "metadata": {
        "id": "4s2NO4mmruIG"
      }
    },
    {
      "cell_type": "code",
      "source": [
        "id=[]\n",
        "for video_link in soup.find_all('iframe', class_='youtube-player'):\n",
        "  src=str(video_link['src'])\n",
        "  id_list=src.split('/')[-1]\n",
        "  id_list=id_list.split(\"?\")[0]\n",
        "  id.append(id_list)\n",
        "\n",
        "print(id)"
      ],
      "metadata": {
        "colab": {
          "base_uri": "https://localhost:8080/"
        },
        "id": "sAD7rVWqpLcr",
        "outputId": "c41acb49-c924-4766-bcfd-689e22a88cf0"
      },
      "execution_count": 43,
      "outputs": [
        {
          "output_type": "stream",
          "name": "stdout",
          "text": [
            "['z0gguhEmWiY', '_P7X8tMplsw', 'fKl2JW_qrso', 'IEEhzQoKtQU', 'mO_dS3rXDIs', '2Fp1N6dof0Y', '-nh9rCzPJ20', '06I63_p-2A4', '_JGmemuINww']\n"
          ]
        }
      ]
    },
    {
      "cell_type": "markdown",
      "source": [
        "### now we need to create youtube links using the `ids`"
      ],
      "metadata": {
        "id": "1MgCT1cEs4OA"
      }
    },
    {
      "cell_type": "code",
      "source": [
        "youtube_links=[]\n",
        "for i in id:\n",
        "  string=f'https://www.youtube.com/watch?v={i}'\n",
        "  youtube_links.append(string)\n",
        "\n",
        "print(youtube_links)"
      ],
      "metadata": {
        "colab": {
          "base_uri": "https://localhost:8080/"
        },
        "id": "2EwUyZgGqjJR",
        "outputId": "b0124138-c0b9-4d6b-a9b7-7408f1d7b654"
      },
      "execution_count": 46,
      "outputs": [
        {
          "output_type": "stream",
          "name": "stdout",
          "text": [
            "['https://www.youtube.com/watch?v=z0gguhEmWiY', 'https://www.youtube.com/watch?v=_P7X8tMplsw', 'https://www.youtube.com/watch?v=fKl2JW_qrso', 'https://www.youtube.com/watch?v=IEEhzQoKtQU', 'https://www.youtube.com/watch?v=mO_dS3rXDIs', 'https://www.youtube.com/watch?v=2Fp1N6dof0Y', 'https://www.youtube.com/watch?v=-nh9rCzPJ20', 'https://www.youtube.com/watch?v=06I63_p-2A4', 'https://www.youtube.com/watch?v=_JGmemuINww']\n"
          ]
        }
      ]
    },
    {
      "cell_type": "markdown",
      "source": [
        "## Alternatively, we could have done using the article tag"
      ],
      "metadata": {
        "id": "ZapDRsvkvORy"
      }
    },
    {
      "cell_type": "code",
      "source": [
        "for article in soup.find('article'):\n",
        "  print(article.prettify())"
      ],
      "metadata": {
        "colab": {
          "base_uri": "https://localhost:8080/"
        },
        "id": "N-dzMaQMkDSQ",
        "outputId": "18f4887c-c4ca-4170-d329-ddfe282483ee"
      },
      "execution_count": 31,
      "outputs": [
        {
          "output_type": "stream",
          "name": "stdout",
          "text": [
            "<header class=\"entry-header\">\n",
            " <h2 class=\"entry-title\" itemprop=\"headline\">\n",
            "  <a class=\"entry-title-link\" href=\"https://coreyms.com/development/python/python-tutorial-zip-files-creating-and-extracting-zip-archives\" rel=\"bookmark\">\n",
            "   Python Tutorial: Zip Files – Creating and Extracting Zip Archives\n",
            "  </a>\n",
            " </h2>\n",
            " <p class=\"entry-meta\">\n",
            "  <time class=\"entry-time\" datetime=\"2019-11-19T13:02:37-05:00\" itemprop=\"datePublished\">\n",
            "   November 19, 2019\n",
            "  </time>\n",
            "  by\n",
            "  <span class=\"entry-author\" itemprop=\"author\" itemscope=\"\" itemtype=\"https://schema.org/Person\">\n",
            "   <a class=\"entry-author-link\" href=\"https://coreyms.com/author/coreymschafer\" itemprop=\"url\" rel=\"author\">\n",
            "    <span class=\"entry-author-name\" itemprop=\"name\">\n",
            "     Corey Schafer\n",
            "    </span>\n",
            "   </a>\n",
            "  </span>\n",
            "  <span class=\"entry-comments-link\">\n",
            "   <a href=\"https://coreyms.com/development/python/python-tutorial-zip-files-creating-and-extracting-zip-archives#respond\">\n",
            "    <span class=\"dsq-postid\" data-dsqidentifier=\"1670 http://coreyms.com/?p=1670\">\n",
            "     Leave a Comment\n",
            "    </span>\n",
            "   </a>\n",
            "  </span>\n",
            " </p>\n",
            "</header>\n",
            "\n",
            "<div class=\"entry-content\" itemprop=\"text\">\n",
            " <p>\n",
            "  In this video, we will be learning how to create and extract zip archives. We will start by using the zipfile module, and then we will see how to do this using the shutil module. We will learn how to do this with single files and directories, as well as learning how to use gzip as well. Let’s get started…\n",
            "  <br/>\n",
            " </p>\n",
            " <span class=\"embed-youtube\" style=\"text-align:center; display: block;\">\n",
            "  <iframe allowfullscreen=\"true\" class=\"youtube-player\" height=\"360\" sandbox=\"allow-scripts allow-same-origin allow-popups allow-presentation\" src=\"https://www.youtube.com/embed/z0gguhEmWiY?version=3&amp;rel=1&amp;showsearch=0&amp;showinfo=1&amp;iv_load_policy=1&amp;fs=1&amp;hl=en-US&amp;autohide=2&amp;wmode=transparent\" style=\"border:0;\" width=\"640\">\n",
            "  </iframe>\n",
            " </span>\n",
            "</div>\n",
            "\n",
            "<footer class=\"entry-footer\">\n",
            " <p class=\"entry-meta\">\n",
            "  <span class=\"entry-categories\">\n",
            "   Filed Under:\n",
            "   <a href=\"https://coreyms.com/category/development\" rel=\"category tag\">\n",
            "    Development\n",
            "   </a>\n",
            "   ,\n",
            "   <a href=\"https://coreyms.com/category/development/python\" rel=\"category tag\">\n",
            "    Python\n",
            "   </a>\n",
            "  </span>\n",
            "  <span class=\"entry-tags\">\n",
            "   Tagged With:\n",
            "   <a href=\"https://coreyms.com/tag/gzip\" rel=\"tag\">\n",
            "    gzip\n",
            "   </a>\n",
            "   ,\n",
            "   <a href=\"https://coreyms.com/tag/shutil\" rel=\"tag\">\n",
            "    shutil\n",
            "   </a>\n",
            "   ,\n",
            "   <a href=\"https://coreyms.com/tag/zip\" rel=\"tag\">\n",
            "    zip\n",
            "   </a>\n",
            "   ,\n",
            "   <a href=\"https://coreyms.com/tag/zipfile\" rel=\"tag\">\n",
            "    zipfile\n",
            "   </a>\n",
            "  </span>\n",
            " </p>\n",
            "</footer>\n"
          ]
        }
      ]
    },
    {
      "cell_type": "code",
      "source": [
        "import textwrap"
      ],
      "metadata": {
        "id": "EeUSPhkXyn7v"
      },
      "execution_count": 49,
      "outputs": []
    },
    {
      "cell_type": "code",
      "source": [
        "for article in soup.find_all(\"article\"):\n",
        "  headline=article.h2.a.text\n",
        "  print(headline)\n",
        "  print()\n",
        "\n",
        "  summary=article.find('div',class_='entry-content')\n",
        "  my_wrap = textwrap.TextWrapper(width = 60)\n",
        "  wrap_list = my_wrap.wrap(text=summary.p.text)\n",
        "  for line in wrap_list:\n",
        "   print(line)\n",
        "\n",
        "  video_link=article.find('iframe', class_='youtube-player')\n",
        "  src=str(video_link['src'])\n",
        "  src=src.split('/')[-1]\n",
        "  src=src.split(\"?\")[0]\n",
        "  print(src)\n",
        "  print(f'https://www.youtube.com/watch?v={src}')\n",
        "  print()\n",
        "  print()\n",
        "\n",
        "\n"
      ],
      "metadata": {
        "colab": {
          "base_uri": "https://localhost:8080/",
          "height": 1000
        },
        "id": "VwR8ZJe3qjFa",
        "outputId": "b816a246-5219-4e3a-f2c7-beb706e3150b"
      },
      "execution_count": 67,
      "outputs": [
        {
          "output_type": "stream",
          "name": "stdout",
          "text": [
            "Python Tutorial: Zip Files – Creating and Extracting Zip Archives\n",
            "\n",
            "In this video, we will be learning how to create and extract\n",
            "zip archives. We will start by using the zipfile module, and\n",
            "then we will see how to do this using the shutil module. We\n",
            "will learn how to do this with single files and directories,\n",
            "as well as learning how to use gzip as well. Let’s get\n",
            "started…\n",
            "z0gguhEmWiY\n",
            "https://www.youtube.com/watch?v=z0gguhEmWiY\n",
            "\n",
            "\n",
            "Python Data Science Tutorial: Analyzing the 2019 Stack Overflow Developer Survey\n",
            "\n",
            "In this Python Programming video, we will be learning how to\n",
            "download and analyze real-world data from the 2019 Stack\n",
            "Overflow Developer Survey. This is terrific practice for\n",
            "anyone getting into the data science field. We will learn\n",
            "different ways to analyze this data and also some best\n",
            "practices. Let’s get started…\n",
            "_P7X8tMplsw\n",
            "https://www.youtube.com/watch?v=_P7X8tMplsw\n",
            "\n",
            "\n",
            "Python Multiprocessing Tutorial: Run Code in Parallel Using the Multiprocessing Module\n",
            "\n",
            "In this Python Programming video, we will be learning how to\n",
            "run code in parallel using the multiprocessing module. We\n",
            "will also look at how to process multiple high-resolution\n",
            "images at the same time using a ProcessPoolExecutor from the\n",
            "concurrent.futures module. Let’s get started…\n",
            "fKl2JW_qrso\n",
            "https://www.youtube.com/watch?v=fKl2JW_qrso\n",
            "\n",
            "\n",
            "Python Threading Tutorial: Run Code Concurrently Using the Threading Module\n",
            "\n",
            "In this Python Programming video, we will be learning how to\n",
            "run threads concurrently using the threading module. We will\n",
            "also look at how to download multiple high-resolution images\n",
            "online using a ThreadPoolExecutor from the\n",
            "concurrent.futures module. Let’s get started…\n",
            "IEEhzQoKtQU\n",
            "https://www.youtube.com/watch?v=IEEhzQoKtQU\n",
            "\n",
            "\n",
            "Update (2019-09-03)\n",
            "\n",
            "Hey everyone. I wanted to give you an update on my videos. I\n",
            "will be releasing videos on threading and multiprocessing\n",
            "within the next week. Thanks so much for your patience. I\n",
            "currently have a temporary recording studio setup at my\n",
            "Airbnb that will allow me to record and edit the\n",
            "threading/multiprocessing videos. I am going to be moving\n",
            "into my new house in 10 days and once I have my recording\n",
            "studio setup then you can expect much faster video releases.\n",
            "I really appreciate how patient everyone has been while I go\n",
            "through this move, especially those of you who are\n",
            "contributing monthly through YouTube\n"
          ]
        },
        {
          "output_type": "error",
          "ename": "TypeError",
          "evalue": "ignored",
          "traceback": [
            "\u001b[0;31m---------------------------------------------------------------------------\u001b[0m",
            "\u001b[0;31mTypeError\u001b[0m                                 Traceback (most recent call last)",
            "\u001b[0;32m<ipython-input-67-ade7322b52b6>\u001b[0m in \u001b[0;36m<module>\u001b[0;34m\u001b[0m\n\u001b[1;32m     11\u001b[0m \u001b[0;34m\u001b[0m\u001b[0m\n\u001b[1;32m     12\u001b[0m   \u001b[0mvideo_link\u001b[0m\u001b[0;34m=\u001b[0m\u001b[0marticle\u001b[0m\u001b[0;34m.\u001b[0m\u001b[0mfind\u001b[0m\u001b[0;34m(\u001b[0m\u001b[0;34m'iframe'\u001b[0m\u001b[0;34m,\u001b[0m \u001b[0mclass_\u001b[0m\u001b[0;34m=\u001b[0m\u001b[0;34m'youtube-player'\u001b[0m\u001b[0;34m)\u001b[0m\u001b[0;34m\u001b[0m\u001b[0;34m\u001b[0m\u001b[0m\n\u001b[0;32m---> 13\u001b[0;31m   \u001b[0msrc\u001b[0m\u001b[0;34m=\u001b[0m\u001b[0mstr\u001b[0m\u001b[0;34m(\u001b[0m\u001b[0mvideo_link\u001b[0m\u001b[0;34m[\u001b[0m\u001b[0;34m'src'\u001b[0m\u001b[0;34m]\u001b[0m\u001b[0;34m)\u001b[0m\u001b[0;34m\u001b[0m\u001b[0;34m\u001b[0m\u001b[0m\n\u001b[0m\u001b[1;32m     14\u001b[0m   \u001b[0msrc\u001b[0m\u001b[0;34m=\u001b[0m\u001b[0msrc\u001b[0m\u001b[0;34m.\u001b[0m\u001b[0msplit\u001b[0m\u001b[0;34m(\u001b[0m\u001b[0;34m'/'\u001b[0m\u001b[0;34m)\u001b[0m\u001b[0;34m[\u001b[0m\u001b[0;34m-\u001b[0m\u001b[0;36m1\u001b[0m\u001b[0;34m]\u001b[0m\u001b[0;34m\u001b[0m\u001b[0;34m\u001b[0m\u001b[0m\n\u001b[1;32m     15\u001b[0m   \u001b[0msrc\u001b[0m\u001b[0;34m=\u001b[0m\u001b[0msrc\u001b[0m\u001b[0;34m.\u001b[0m\u001b[0msplit\u001b[0m\u001b[0;34m(\u001b[0m\u001b[0;34m\"?\"\u001b[0m\u001b[0;34m)\u001b[0m\u001b[0;34m[\u001b[0m\u001b[0;36m0\u001b[0m\u001b[0;34m]\u001b[0m\u001b[0;34m\u001b[0m\u001b[0;34m\u001b[0m\u001b[0m\n",
            "\u001b[0;31mTypeError\u001b[0m: 'NoneType' object is not subscriptable"
          ]
        }
      ]
    },
    {
      "cell_type": "markdown",
      "source": [
        "### for first few post our code worked fine, but when it came to a post which did not have any youtube video, it printed the headline and summary but when it gets to youtube link, it breaks our script because for that post we do not have any youtube video link."
      ],
      "metadata": {
        "id": "nMM9rZkD21Pf"
      }
    },
    {
      "cell_type": "markdown",
      "source": [
        "---\n",
        "## here's how to fix it\n",
        "> ### using try and except block"
      ],
      "metadata": {
        "id": "iOFS-BtE3lEN"
      }
    },
    {
      "cell_type": "markdown",
      "source": [
        "## and finally saving the information in the csv file"
      ],
      "metadata": {
        "id": "SGS-vTjZGWKC"
      }
    },
    {
      "cell_type": "code",
      "source": [
        "csv_file=open('scrapper.csv','w')\n",
        "csv_writer=csv.writer(csv_file)\n",
        "csv_writer.writerow(['Title','Summary','Youtube_Link'])      #passing a list of headers)\n",
        "\n",
        "for article in soup.find_all(\"article\"):\n",
        "  headline=article.h2.a.text\n",
        "  print(headline)\n",
        "  print()\n",
        "\n",
        "  summary=article.find('div',class_='entry-content')\n",
        "  summary=summary.p.text\n",
        "  my_wrap = textwrap.TextWrapper(width = 60)\n",
        "  wrap_list = my_wrap.wrap(text=summary)\n",
        "  for line in wrap_list:\n",
        "   print(line)\n",
        "\n",
        "  try:\n",
        "    video_link=article.find('iframe', class_='youtube-player')\n",
        "    src=str(video_link['src'])\n",
        "    src=src.split('/')[-1]\n",
        "    src=src.split(\"?\")[0]\n",
        "    link=f'https://www.youtube.com/watch?v={src}'\n",
        "    \n",
        "  except Exception as e:\n",
        "    link=None\n",
        "    \n",
        "  print(link)\n",
        "\n",
        "  csv_writer.writerow([headline,summary,link])\n",
        "\n",
        "\n",
        "  print()\n",
        "  print()\n",
        "\n",
        "csv_file.close()\n",
        "\n",
        "\n"
      ],
      "metadata": {
        "colab": {
          "base_uri": "https://localhost:8080/"
        },
        "id": "K3qCU_vc3aky",
        "outputId": "d0ce2672-d889-40d5-8ac9-8901b07e79b7"
      },
      "execution_count": 72,
      "outputs": [
        {
          "output_type": "stream",
          "name": "stdout",
          "text": [
            "Python Tutorial: Zip Files – Creating and Extracting Zip Archives\n",
            "\n",
            "In this video, we will be learning how to create and extract\n",
            "zip archives. We will start by using the zipfile module, and\n",
            "then we will see how to do this using the shutil module. We\n",
            "will learn how to do this with single files and directories,\n",
            "as well as learning how to use gzip as well. Let’s get\n",
            "started…\n",
            "https://www.youtube.com/watch?v=z0gguhEmWiY\n",
            "\n",
            "\n",
            "Python Data Science Tutorial: Analyzing the 2019 Stack Overflow Developer Survey\n",
            "\n",
            "In this Python Programming video, we will be learning how to\n",
            "download and analyze real-world data from the 2019 Stack\n",
            "Overflow Developer Survey. This is terrific practice for\n",
            "anyone getting into the data science field. We will learn\n",
            "different ways to analyze this data and also some best\n",
            "practices. Let’s get started…\n",
            "https://www.youtube.com/watch?v=_P7X8tMplsw\n",
            "\n",
            "\n",
            "Python Multiprocessing Tutorial: Run Code in Parallel Using the Multiprocessing Module\n",
            "\n",
            "In this Python Programming video, we will be learning how to\n",
            "run code in parallel using the multiprocessing module. We\n",
            "will also look at how to process multiple high-resolution\n",
            "images at the same time using a ProcessPoolExecutor from the\n",
            "concurrent.futures module. Let’s get started…\n",
            "https://www.youtube.com/watch?v=fKl2JW_qrso\n",
            "\n",
            "\n",
            "Python Threading Tutorial: Run Code Concurrently Using the Threading Module\n",
            "\n",
            "In this Python Programming video, we will be learning how to\n",
            "run threads concurrently using the threading module. We will\n",
            "also look at how to download multiple high-resolution images\n",
            "online using a ThreadPoolExecutor from the\n",
            "concurrent.futures module. Let’s get started…\n",
            "https://www.youtube.com/watch?v=IEEhzQoKtQU\n",
            "\n",
            "\n",
            "Update (2019-09-03)\n",
            "\n",
            "Hey everyone. I wanted to give you an update on my videos. I\n",
            "will be releasing videos on threading and multiprocessing\n",
            "within the next week. Thanks so much for your patience. I\n",
            "currently have a temporary recording studio setup at my\n",
            "Airbnb that will allow me to record and edit the\n",
            "threading/multiprocessing videos. I am going to be moving\n",
            "into my new house in 10 days and once I have my recording\n",
            "studio setup then you can expect much faster video releases.\n",
            "I really appreciate how patient everyone has been while I go\n",
            "through this move, especially those of you who are\n",
            "contributing monthly through YouTube\n",
            "None\n",
            "\n",
            "\n",
            "Python Quick Tip: The Difference Between “==” and “is” (Equality vs Identity)\n",
            "\n",
            "In this Python Programming Tutorial, we will be learning the\n",
            "difference between using “==” and the “is” keyword when\n",
            "doing comparisons. The difference between these is that “==”\n",
            "checks to see if values are equal, and the “is” keyword\n",
            "checks their identity, which means it’s going to check if\n",
            "the values are identical in terms of being the same object\n",
            "in memory. We’ll learn more in the video. Let’s get started…\n",
            "https://www.youtube.com/watch?v=mO_dS3rXDIs\n",
            "\n",
            "\n",
            "Python Tutorial: Calling External Commands Using the Subprocess Module\n",
            "\n",
            "In this Python Programming Tutorial, we will be learning how\n",
            "to run external commands using the subprocess module from\n",
            "the standard library. We will learn how to run commands,\n",
            "capture the output, handle errors, and also how to pipe\n",
            "output into other commands. Let’s get started…\n",
            "https://www.youtube.com/watch?v=2Fp1N6dof0Y\n",
            "\n",
            "\n",
            "Visual Studio Code (Windows) – Setting up a Python Development Environment and Complete Overview\n",
            "\n",
            "In this Python Programming Tutorial, we will be learning how\n",
            "to set up a Python development environment in VSCode on\n",
            "Windows. VSCode is a very nice free editor for writing\n",
            "Python applications and many developers are now switching\n",
            "over to this editor. In this video, we will learn how to\n",
            "install VSCode, get the Python extension installed, how to\n",
            "change Python interpreters, create virtual environments,\n",
            "format/lint our code, how to use Git within VSCode, how to\n",
            "debug our programs, how unit testing works, and more. We\n",
            "have a lot to cover, so let’s go ahead and get started…\n",
            "https://www.youtube.com/watch?v=-nh9rCzPJ20\n",
            "\n",
            "\n",
            "Visual Studio Code (Mac) – Setting up a Python Development Environment and Complete Overview\n",
            "\n",
            "In this Python Programming Tutorial, we will be learning how\n",
            "to set up a Python development environment in VSCode on\n",
            "MacOS. VSCode is a very nice free editor for writing Python\n",
            "applications and many developers are now switching over to\n",
            "this editor. In this video, we will learn how to install\n",
            "VSCode, get the Python extension installed, how to change\n",
            "Python interpreters, create virtual environments,\n",
            "format/lint our code, how to use Git within VSCode, how to\n",
            "debug our programs, how unit testing works, and more. We\n",
            "have a lot to cover, so let’s go ahead and get started…\n",
            "https://www.youtube.com/watch?v=06I63_p-2A4\n",
            "\n",
            "\n",
            "Clarifying the Issues with Mutable Default Arguments\n",
            "\n",
            "In this Python Programming Tutorial, we will be clarifying\n",
            "the issues with mutable default arguments. We discussed this\n",
            "in my last video titled “5 Common Python Mistakes and How to\n",
            "Fix Them”, but I received many comments from people who were\n",
            "still confused. So we will be doing a deeper dive to explain\n",
            "exactly what is going on here. Let’s get started…\n",
            "https://www.youtube.com/watch?v=_JGmemuINww\n",
            "\n",
            "\n"
          ]
        }
      ]
    },
    {
      "cell_type": "code",
      "source": [
        ""
      ],
      "metadata": {
        "id": "bgdAuYPnpLVp"
      },
      "execution_count": null,
      "outputs": []
    },
    {
      "cell_type": "code",
      "source": [
        ""
      ],
      "metadata": {
        "id": "MkBoKGFA1Hln"
      },
      "execution_count": null,
      "outputs": []
    },
    {
      "cell_type": "code",
      "source": [
        ""
      ],
      "metadata": {
        "id": "5jIlou2o1Ho6"
      },
      "execution_count": null,
      "outputs": []
    },
    {
      "cell_type": "code",
      "source": [
        ""
      ],
      "metadata": {
        "id": "_KjlASDS1HsU"
      },
      "execution_count": null,
      "outputs": []
    },
    {
      "cell_type": "code",
      "source": [
        ""
      ],
      "metadata": {
        "id": "6WTb7G5I1Hvo"
      },
      "execution_count": null,
      "outputs": []
    },
    {
      "cell_type": "code",
      "source": [
        ""
      ],
      "metadata": {
        "id": "57dSrpVm1Hyk"
      },
      "execution_count": null,
      "outputs": []
    },
    {
      "cell_type": "code",
      "source": [
        ""
      ],
      "metadata": {
        "id": "39ItQkiT1H1m"
      },
      "execution_count": null,
      "outputs": []
    },
    {
      "cell_type": "code",
      "source": [
        ""
      ],
      "metadata": {
        "id": "sYQpC1-m1H4s"
      },
      "execution_count": null,
      "outputs": []
    },
    {
      "cell_type": "code",
      "source": [
        ""
      ],
      "metadata": {
        "id": "MsLWbr6r1H9b"
      },
      "execution_count": null,
      "outputs": []
    },
    {
      "cell_type": "code",
      "source": [
        ""
      ],
      "metadata": {
        "id": "lvLSuZwh1IBU"
      },
      "execution_count": null,
      "outputs": []
    },
    {
      "cell_type": "code",
      "source": [
        ""
      ],
      "metadata": {
        "id": "XEHhraEP1IEJ"
      },
      "execution_count": null,
      "outputs": []
    },
    {
      "cell_type": "code",
      "source": [
        ""
      ],
      "metadata": {
        "id": "lyT3DkkJ1IHv"
      },
      "execution_count": null,
      "outputs": []
    },
    {
      "cell_type": "code",
      "source": [
        ""
      ],
      "metadata": {
        "id": "iNFdlucg1IKs"
      },
      "execution_count": null,
      "outputs": []
    },
    {
      "cell_type": "code",
      "source": [
        ""
      ],
      "metadata": {
        "id": "TEF2bcvu1INX"
      },
      "execution_count": null,
      "outputs": []
    },
    {
      "cell_type": "code",
      "source": [
        ""
      ],
      "metadata": {
        "id": "DMLgk6Fj1IRJ"
      },
      "execution_count": null,
      "outputs": []
    },
    {
      "cell_type": "code",
      "source": [
        ""
      ],
      "metadata": {
        "id": "CSRmWCOW1IUm"
      },
      "execution_count": null,
      "outputs": []
    },
    {
      "cell_type": "code",
      "source": [
        ""
      ],
      "metadata": {
        "id": "oq0ElBU_1IXt"
      },
      "execution_count": null,
      "outputs": []
    },
    {
      "cell_type": "code",
      "source": [
        ""
      ],
      "metadata": {
        "id": "DOvmIPf81Iag"
      },
      "execution_count": null,
      "outputs": []
    },
    {
      "cell_type": "code",
      "source": [
        ""
      ],
      "metadata": {
        "id": "TyDZUPPU1Idb"
      },
      "execution_count": null,
      "outputs": []
    },
    {
      "cell_type": "code",
      "source": [
        ""
      ],
      "metadata": {
        "id": "j2Mv4rPJ1Ihr"
      },
      "execution_count": null,
      "outputs": []
    },
    {
      "cell_type": "code",
      "source": [
        ""
      ],
      "metadata": {
        "id": "JSjt5X-01ImT"
      },
      "execution_count": null,
      "outputs": []
    },
    {
      "cell_type": "code",
      "source": [
        ""
      ],
      "metadata": {
        "id": "vUE1U42C1IpW"
      },
      "execution_count": null,
      "outputs": []
    },
    {
      "cell_type": "code",
      "source": [
        ""
      ],
      "metadata": {
        "id": "TMrHEe7L1IuJ"
      },
      "execution_count": null,
      "outputs": []
    },
    {
      "cell_type": "code",
      "source": [
        ""
      ],
      "metadata": {
        "id": "SijNVugZ1IzC"
      },
      "execution_count": null,
      "outputs": []
    },
    {
      "cell_type": "code",
      "source": [
        ""
      ],
      "metadata": {
        "id": "H4e8ukcM1I1-"
      },
      "execution_count": null,
      "outputs": []
    },
    {
      "cell_type": "code",
      "source": [
        ""
      ],
      "metadata": {
        "id": "C77OK2R61I46"
      },
      "execution_count": null,
      "outputs": []
    },
    {
      "cell_type": "code",
      "source": [
        ""
      ],
      "metadata": {
        "id": "59hIayRJ1I70"
      },
      "execution_count": null,
      "outputs": []
    },
    {
      "cell_type": "code",
      "source": [
        ""
      ],
      "metadata": {
        "id": "WVJR02cr1I-o"
      },
      "execution_count": null,
      "outputs": []
    },
    {
      "cell_type": "code",
      "source": [
        ""
      ],
      "metadata": {
        "id": "hPzE3xNO1JBl"
      },
      "execution_count": null,
      "outputs": []
    },
    {
      "cell_type": "code",
      "source": [
        ""
      ],
      "metadata": {
        "id": "sZSLUoVI1JEw"
      },
      "execution_count": null,
      "outputs": []
    },
    {
      "cell_type": "code",
      "source": [
        ""
      ],
      "metadata": {
        "id": "X3-qp32A1JHr"
      },
      "execution_count": null,
      "outputs": []
    },
    {
      "cell_type": "code",
      "source": [
        ""
      ],
      "metadata": {
        "id": "LWZx3Xyl1JKs"
      },
      "execution_count": null,
      "outputs": []
    },
    {
      "cell_type": "code",
      "source": [
        ""
      ],
      "metadata": {
        "id": "OVK9GAfP1JNh"
      },
      "execution_count": null,
      "outputs": []
    },
    {
      "cell_type": "code",
      "source": [
        ""
      ],
      "metadata": {
        "id": "yngTPUjo1JQp"
      },
      "execution_count": null,
      "outputs": []
    }
  ]
}